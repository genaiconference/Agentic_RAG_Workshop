{
  "nbformat": 4,
  "nbformat_minor": 0,
  "metadata": {
    "colab": {
      "provenance": [],
      "include_colab_link": true
    },
    "kernelspec": {
      "name": "python3",
      "display_name": "Python 3"
    },
    "language_info": {
      "name": "python"
    }
  },
  "cells": [
    {
      "cell_type": "markdown",
      "metadata": {
        "id": "view-in-github",
        "colab_type": "text"
      },
      "source": [
        "<a href=\"https://colab.research.google.com/github/genaiconference/Agentic_RAG_Workshop/blob/main/05_traditional_rag.ipynb\" target=\"_parent\"><img src=\"https://colab.research.google.com/assets/colab-badge.svg\" alt=\"Open In Colab\"/></a>"
      ]
    },
    {
      "cell_type": "markdown",
      "source": [
        "## Traditional RAG"
      ],
      "metadata": {
        "id": "Qkvwji2L2i07"
      }
    },
    {
      "cell_type": "code",
      "execution_count": null,
      "metadata": {
        "colab": {
          "base_uri": "https://localhost:8080/"
        },
        "id": "G46NbZU72Q0Z",
        "outputId": "eea447dd-fbf1-4684-d45f-e8538599a4ec"
      },
      "outputs": [
        {
          "output_type": "stream",
          "name": "stdout",
          "text": [
            "Cloning into 'Agentic_RAG_Workshop'...\n",
            "remote: Enumerating objects: 339, done.\u001b[K\n",
            "remote: Counting objects: 100% (110/110), done.\u001b[K\n",
            "remote: Compressing objects: 100% (49/49), done.\u001b[K\n",
            "remote: Total 339 (delta 90), reused 61 (delta 61), pack-reused 229 (from 2)\u001b[K\n",
            "Receiving objects: 100% (339/339), 39.91 MiB | 12.76 MiB/s, done.\n",
            "Resolving deltas: 100% (156/156), done.\n",
            "Updating files: 100% (51/51), done.\n"
          ]
        }
      ],
      "source": [
        "!git clone https://github.com/genaiconference/Agentic_RAG_Workshop.git"
      ]
    },
    {
      "cell_type": "markdown",
      "source": [
        "## Setup and Installations\n",
        "Install necessary libraries for document processing, data handling, and interacting with Azure Document Intelligence and OpenAI."
      ],
      "metadata": {
        "id": "8bymfx0hi31o"
      }
    },
    {
      "cell_type": "code",
      "metadata": {
        "colab": {
          "base_uri": "https://localhost:8080/",
          "height": 1000
        },
        "id": "a60f0b0e",
        "outputId": "0cc7cde3-e903-4ad3-8c14-636035b6e2b0",
        "collapsed": true
      },
      "source": [
        "!pip install -r /content/Agentic_RAG_Workshop/requirements.txt"
      ],
      "execution_count": null,
      "outputs": [
        {
          "output_type": "stream",
          "name": "stdout",
          "text": [
            "Collecting azure-ai-documentintelligence==1.0.2 (from -r /content/Agentic_RAG_Workshop/requirements.txt (line 1))\n",
            "  Downloading azure_ai_documentintelligence-1.0.2-py3-none-any.whl.metadata (53 kB)\n",
            "\u001b[?25l     \u001b[90m━━━━━━━━━━━━━━━━━━━━━━━━━━━━━━━━━━━━━━━━\u001b[0m \u001b[32m0.0/53.0 kB\u001b[0m \u001b[31m?\u001b[0m eta \u001b[36m-:--:--\u001b[0m\r\u001b[2K     \u001b[90m━━━━━━━━━━━━━━━━━━━━━━━━━━━━━━━━━━━━━━━━\u001b[0m \u001b[32m53.0/53.0 kB\u001b[0m \u001b[31m2.1 MB/s\u001b[0m eta \u001b[36m0:00:00\u001b[0m\n",
            "\u001b[?25hRequirement already satisfied: pandas==2.2.2 in /usr/local/lib/python3.11/dist-packages (from -r /content/Agentic_RAG_Workshop/requirements.txt (line 2)) (2.2.2)\n",
            "Collecting pathlib==1.0.1 (from -r /content/Agentic_RAG_Workshop/requirements.txt (line 3))\n",
            "  Downloading pathlib-1.0.1-py3-none-any.whl.metadata (5.1 kB)\n",
            "Collecting pymupdf==1.26.3 (from -r /content/Agentic_RAG_Workshop/requirements.txt (line 4))\n",
            "  Downloading pymupdf-1.26.3-cp39-abi3-manylinux_2_28_x86_64.whl.metadata (3.4 kB)\n",
            "Collecting tools==1.0.2 (from -r /content/Agentic_RAG_Workshop/requirements.txt (line 5))\n",
            "  Downloading tools-1.0.2-py3-none-any.whl.metadata (1.4 kB)\n",
            "Collecting python-dotenv==1.1.1 (from -r /content/Agentic_RAG_Workshop/requirements.txt (line 6))\n",
            "  Downloading python_dotenv-1.1.1-py3-none-any.whl.metadata (24 kB)\n",
            "Collecting langchain_openai==0.3.28 (from -r /content/Agentic_RAG_Workshop/requirements.txt (line 7))\n",
            "  Downloading langchain_openai-0.3.28-py3-none-any.whl.metadata (2.3 kB)\n",
            "Collecting rapidfuzz (from -r /content/Agentic_RAG_Workshop/requirements.txt (line 8))\n",
            "  Downloading rapidfuzz-3.13.0-cp311-cp311-manylinux_2_17_x86_64.manylinux2014_x86_64.whl.metadata (12 kB)\n",
            "Collecting langchain_community==0.3.27 (from -r /content/Agentic_RAG_Workshop/requirements.txt (line 9))\n",
            "  Downloading langchain_community-0.3.27-py3-none-any.whl.metadata (2.9 kB)\n",
            "Collecting chromadb==1.0.16 (from -r /content/Agentic_RAG_Workshop/requirements.txt (line 10))\n",
            "  Downloading chromadb-1.0.16-cp39-abi3-manylinux_2_17_x86_64.manylinux2014_x86_64.whl.metadata (7.4 kB)\n",
            "Collecting azure-identity==1.24.0 (from -r /content/Agentic_RAG_Workshop/requirements.txt (line 11))\n",
            "  Downloading azure_identity-1.24.0-py3-none-any.whl.metadata (86 kB)\n",
            "\u001b[2K     \u001b[90m━━━━━━━━━━━━━━━━━━━━━━━━━━━━━━━━━━━━━━━━\u001b[0m \u001b[32m86.0/86.0 kB\u001b[0m \u001b[31m3.7 MB/s\u001b[0m eta \u001b[36m0:00:00\u001b[0m\n",
            "\u001b[?25hCollecting azure-search-documents==11.5.3 (from -r /content/Agentic_RAG_Workshop/requirements.txt (line 12))\n",
            "  Downloading azure_search_documents-11.5.3-py3-none-any.whl.metadata (23 kB)\n",
            "Collecting dotenv (from -r /content/Agentic_RAG_Workshop/requirements.txt (line 13))\n",
            "  Downloading dotenv-0.9.9-py2.py3-none-any.whl.metadata (279 bytes)\n",
            "Collecting langchain_tavily==0.2.11 (from -r /content/Agentic_RAG_Workshop/requirements.txt (line 14))\n",
            "  Downloading langchain_tavily-0.2.11-py3-none-any.whl.metadata (22 kB)\n",
            "Collecting langgraph==0.6.4 (from -r /content/Agentic_RAG_Workshop/requirements.txt (line 15))\n",
            "  Downloading langgraph-0.6.4-py3-none-any.whl.metadata (6.8 kB)\n",
            "Collecting langgraph-checkpoint-sqlite==2.0.11 (from -r /content/Agentic_RAG_Workshop/requirements.txt (line 16))\n",
            "  Downloading langgraph_checkpoint_sqlite-2.0.11-py3-none-any.whl.metadata (2.6 kB)\n",
            "Collecting simple-colors==0.1.5 (from -r /content/Agentic_RAG_Workshop/requirements.txt (line 17))\n",
            "  Downloading simple_colors-0.1.5-py3-none-any.whl.metadata (1.5 kB)\n",
            "Collecting langchain_chroma==0.2.5 (from -r /content/Agentic_RAG_Workshop/requirements.txt (line 18))\n",
            "  Downloading langchain_chroma-0.2.5-py3-none-any.whl.metadata (1.1 kB)\n",
            "Collecting rank_bm25==0.2.2 (from -r /content/Agentic_RAG_Workshop/requirements.txt (line 19))\n",
            "  Downloading rank_bm25-0.2.2-py3-none-any.whl.metadata (3.2 kB)\n",
            "Collecting langfuse==3.2.4 (from -r /content/Agentic_RAG_Workshop/requirements.txt (line 20))\n",
            "  Downloading langfuse-3.2.4-py3-none-any.whl.metadata (2.6 kB)\n",
            "Collecting isodate>=0.6.1 (from azure-ai-documentintelligence==1.0.2->-r /content/Agentic_RAG_Workshop/requirements.txt (line 1))\n",
            "  Downloading isodate-0.7.2-py3-none-any.whl.metadata (11 kB)\n",
            "Collecting azure-core>=1.30.0 (from azure-ai-documentintelligence==1.0.2->-r /content/Agentic_RAG_Workshop/requirements.txt (line 1))\n",
            "  Downloading azure_core-1.35.0-py3-none-any.whl.metadata (44 kB)\n",
            "\u001b[2K     \u001b[90m━━━━━━━━━━━━━━━━━━━━━━━━━━━━━━━━━━━━━━━━\u001b[0m \u001b[32m44.4/44.4 kB\u001b[0m \u001b[31m2.7 MB/s\u001b[0m eta \u001b[36m0:00:00\u001b[0m\n",
            "\u001b[?25hRequirement already satisfied: typing-extensions>=4.6.0 in /usr/local/lib/python3.11/dist-packages (from azure-ai-documentintelligence==1.0.2->-r /content/Agentic_RAG_Workshop/requirements.txt (line 1)) (4.14.1)\n",
            "Requirement already satisfied: numpy>=1.23.2 in /usr/local/lib/python3.11/dist-packages (from pandas==2.2.2->-r /content/Agentic_RAG_Workshop/requirements.txt (line 2)) (2.0.2)\n",
            "Requirement already satisfied: python-dateutil>=2.8.2 in /usr/local/lib/python3.11/dist-packages (from pandas==2.2.2->-r /content/Agentic_RAG_Workshop/requirements.txt (line 2)) (2.9.0.post0)\n",
            "Requirement already satisfied: pytz>=2020.1 in /usr/local/lib/python3.11/dist-packages (from pandas==2.2.2->-r /content/Agentic_RAG_Workshop/requirements.txt (line 2)) (2025.2)\n",
            "Requirement already satisfied: tzdata>=2022.7 in /usr/local/lib/python3.11/dist-packages (from pandas==2.2.2->-r /content/Agentic_RAG_Workshop/requirements.txt (line 2)) (2025.2)\n",
            "Requirement already satisfied: langchain-core<1.0.0,>=0.3.68 in /usr/local/lib/python3.11/dist-packages (from langchain_openai==0.3.28->-r /content/Agentic_RAG_Workshop/requirements.txt (line 7)) (0.3.74)\n",
            "Requirement already satisfied: openai<2.0.0,>=1.86.0 in /usr/local/lib/python3.11/dist-packages (from langchain_openai==0.3.28->-r /content/Agentic_RAG_Workshop/requirements.txt (line 7)) (1.99.9)\n",
            "Requirement already satisfied: tiktoken<1,>=0.7 in /usr/local/lib/python3.11/dist-packages (from langchain_openai==0.3.28->-r /content/Agentic_RAG_Workshop/requirements.txt (line 7)) (0.11.0)\n",
            "Requirement already satisfied: langchain<1.0.0,>=0.3.26 in /usr/local/lib/python3.11/dist-packages (from langchain_community==0.3.27->-r /content/Agentic_RAG_Workshop/requirements.txt (line 9)) (0.3.27)\n",
            "Requirement already satisfied: SQLAlchemy<3,>=1.4 in /usr/local/lib/python3.11/dist-packages (from langchain_community==0.3.27->-r /content/Agentic_RAG_Workshop/requirements.txt (line 9)) (2.0.43)\n",
            "Requirement already satisfied: requests<3,>=2 in /usr/local/lib/python3.11/dist-packages (from langchain_community==0.3.27->-r /content/Agentic_RAG_Workshop/requirements.txt (line 9)) (2.32.3)\n",
            "Requirement already satisfied: PyYAML>=5.3 in /usr/local/lib/python3.11/dist-packages (from langchain_community==0.3.27->-r /content/Agentic_RAG_Workshop/requirements.txt (line 9)) (6.0.2)\n",
            "Requirement already satisfied: aiohttp<4.0.0,>=3.8.3 in /usr/local/lib/python3.11/dist-packages (from langchain_community==0.3.27->-r /content/Agentic_RAG_Workshop/requirements.txt (line 9)) (3.12.15)\n",
            "Requirement already satisfied: tenacity!=8.4.0,<10,>=8.1.0 in /usr/local/lib/python3.11/dist-packages (from langchain_community==0.3.27->-r /content/Agentic_RAG_Workshop/requirements.txt (line 9)) (9.1.2)\n",
            "Collecting dataclasses-json<0.7,>=0.5.7 (from langchain_community==0.3.27->-r /content/Agentic_RAG_Workshop/requirements.txt (line 9))\n",
            "  Downloading dataclasses_json-0.6.7-py3-none-any.whl.metadata (25 kB)\n",
            "Collecting pydantic-settings<3.0.0,>=2.4.0 (from langchain_community==0.3.27->-r /content/Agentic_RAG_Workshop/requirements.txt (line 9))\n",
            "  Downloading pydantic_settings-2.10.1-py3-none-any.whl.metadata (3.4 kB)\n",
            "Requirement already satisfied: langsmith>=0.1.125 in /usr/local/lib/python3.11/dist-packages (from langchain_community==0.3.27->-r /content/Agentic_RAG_Workshop/requirements.txt (line 9)) (0.4.14)\n",
            "Collecting httpx-sse<1.0.0,>=0.4.0 (from langchain_community==0.3.27->-r /content/Agentic_RAG_Workshop/requirements.txt (line 9))\n",
            "  Downloading httpx_sse-0.4.1-py3-none-any.whl.metadata (9.4 kB)\n",
            "Requirement already satisfied: build>=1.0.3 in /usr/local/lib/python3.11/dist-packages (from chromadb==1.0.16->-r /content/Agentic_RAG_Workshop/requirements.txt (line 10)) (1.3.0)\n",
            "Requirement already satisfied: pydantic>=1.9 in /usr/local/lib/python3.11/dist-packages (from chromadb==1.0.16->-r /content/Agentic_RAG_Workshop/requirements.txt (line 10)) (2.11.7)\n",
            "Collecting pybase64>=1.4.1 (from chromadb==1.0.16->-r /content/Agentic_RAG_Workshop/requirements.txt (line 10))\n",
            "  Downloading pybase64-1.4.2-cp311-cp311-manylinux1_x86_64.manylinux2014_x86_64.manylinux_2_17_x86_64.manylinux_2_5_x86_64.whl.metadata (8.7 kB)\n",
            "Requirement already satisfied: uvicorn>=0.18.3 in /usr/local/lib/python3.11/dist-packages (from uvicorn[standard]>=0.18.3->chromadb==1.0.16->-r /content/Agentic_RAG_Workshop/requirements.txt (line 10)) (0.35.0)\n",
            "Collecting posthog<6.0.0,>=2.4.0 (from chromadb==1.0.16->-r /content/Agentic_RAG_Workshop/requirements.txt (line 10))\n",
            "  Downloading posthog-5.4.0-py3-none-any.whl.metadata (5.7 kB)\n",
            "Collecting onnxruntime>=1.14.1 (from chromadb==1.0.16->-r /content/Agentic_RAG_Workshop/requirements.txt (line 10))\n",
            "  Downloading onnxruntime-1.22.1-cp311-cp311-manylinux_2_27_x86_64.manylinux_2_28_x86_64.whl.metadata (4.6 kB)\n",
            "Collecting opentelemetry-api>=1.2.0 (from chromadb==1.0.16->-r /content/Agentic_RAG_Workshop/requirements.txt (line 10))\n",
            "  Downloading opentelemetry_api-1.36.0-py3-none-any.whl.metadata (1.5 kB)\n",
            "Collecting opentelemetry-exporter-otlp-proto-grpc>=1.2.0 (from chromadb==1.0.16->-r /content/Agentic_RAG_Workshop/requirements.txt (line 10))\n",
            "  Downloading opentelemetry_exporter_otlp_proto_grpc-1.36.0-py3-none-any.whl.metadata (2.4 kB)\n",
            "Collecting opentelemetry-sdk>=1.2.0 (from chromadb==1.0.16->-r /content/Agentic_RAG_Workshop/requirements.txt (line 10))\n",
            "  Downloading opentelemetry_sdk-1.36.0-py3-none-any.whl.metadata (1.5 kB)\n",
            "Requirement already satisfied: tokenizers>=0.13.2 in /usr/local/lib/python3.11/dist-packages (from chromadb==1.0.16->-r /content/Agentic_RAG_Workshop/requirements.txt (line 10)) (0.21.4)\n",
            "Collecting pypika>=0.48.9 (from chromadb==1.0.16->-r /content/Agentic_RAG_Workshop/requirements.txt (line 10))\n",
            "  Downloading PyPika-0.48.9.tar.gz (67 kB)\n",
            "\u001b[2K     \u001b[90m━━━━━━━━━━━━━━━━━━━━━━━━━━━━━━━━━━━━━━━━\u001b[0m \u001b[32m67.3/67.3 kB\u001b[0m \u001b[31m5.2 MB/s\u001b[0m eta \u001b[36m0:00:00\u001b[0m\n",
            "\u001b[?25h  Installing build dependencies ... \u001b[?25l\u001b[?25hdone\n",
            "  Getting requirements to build wheel ... \u001b[?25l\u001b[?25hdone\n",
            "  Preparing metadata (pyproject.toml) ... \u001b[?25l\u001b[?25hdone\n",
            "Requirement already satisfied: tqdm>=4.65.0 in /usr/local/lib/python3.11/dist-packages (from chromadb==1.0.16->-r /content/Agentic_RAG_Workshop/requirements.txt (line 10)) (4.67.1)\n",
            "Collecting overrides>=7.3.1 (from chromadb==1.0.16->-r /content/Agentic_RAG_Workshop/requirements.txt (line 10))\n",
            "  Downloading overrides-7.7.0-py3-none-any.whl.metadata (5.8 kB)\n",
            "Requirement already satisfied: importlib-resources in /usr/local/lib/python3.11/dist-packages (from chromadb==1.0.16->-r /content/Agentic_RAG_Workshop/requirements.txt (line 10)) (6.5.2)\n",
            "Requirement already satisfied: grpcio>=1.58.0 in /usr/local/lib/python3.11/dist-packages (from chromadb==1.0.16->-r /content/Agentic_RAG_Workshop/requirements.txt (line 10)) (1.74.0)\n",
            "Collecting bcrypt>=4.0.1 (from chromadb==1.0.16->-r /content/Agentic_RAG_Workshop/requirements.txt (line 10))\n",
            "  Downloading bcrypt-4.3.0-cp39-abi3-manylinux_2_34_x86_64.whl.metadata (10 kB)\n",
            "Requirement already satisfied: typer>=0.9.0 in /usr/local/lib/python3.11/dist-packages (from chromadb==1.0.16->-r /content/Agentic_RAG_Workshop/requirements.txt (line 10)) (0.16.0)\n",
            "Collecting kubernetes>=28.1.0 (from chromadb==1.0.16->-r /content/Agentic_RAG_Workshop/requirements.txt (line 10))\n",
            "  Downloading kubernetes-33.1.0-py2.py3-none-any.whl.metadata (1.7 kB)\n",
            "Collecting mmh3>=4.0.1 (from chromadb==1.0.16->-r /content/Agentic_RAG_Workshop/requirements.txt (line 10))\n",
            "  Downloading mmh3-5.2.0-cp311-cp311-manylinux1_x86_64.manylinux_2_28_x86_64.manylinux_2_5_x86_64.whl.metadata (14 kB)\n",
            "Requirement already satisfied: orjson>=3.9.12 in /usr/local/lib/python3.11/dist-packages (from chromadb==1.0.16->-r /content/Agentic_RAG_Workshop/requirements.txt (line 10)) (3.11.2)\n",
            "Requirement already satisfied: httpx>=0.27.0 in /usr/local/lib/python3.11/dist-packages (from chromadb==1.0.16->-r /content/Agentic_RAG_Workshop/requirements.txt (line 10)) (0.28.1)\n",
            "Requirement already satisfied: rich>=10.11.0 in /usr/local/lib/python3.11/dist-packages (from chromadb==1.0.16->-r /content/Agentic_RAG_Workshop/requirements.txt (line 10)) (13.9.4)\n",
            "Requirement already satisfied: jsonschema>=4.19.0 in /usr/local/lib/python3.11/dist-packages (from chromadb==1.0.16->-r /content/Agentic_RAG_Workshop/requirements.txt (line 10)) (4.25.0)\n",
            "Requirement already satisfied: cryptography>=2.5 in /usr/local/lib/python3.11/dist-packages (from azure-identity==1.24.0->-r /content/Agentic_RAG_Workshop/requirements.txt (line 11)) (43.0.3)\n",
            "Collecting msal>=1.30.0 (from azure-identity==1.24.0->-r /content/Agentic_RAG_Workshop/requirements.txt (line 11))\n",
            "  Downloading msal-1.33.0-py3-none-any.whl.metadata (11 kB)\n",
            "Collecting msal-extensions>=1.2.0 (from azure-identity==1.24.0->-r /content/Agentic_RAG_Workshop/requirements.txt (line 11))\n",
            "  Downloading msal_extensions-1.3.1-py3-none-any.whl.metadata (7.8 kB)\n",
            "Collecting azure-common>=1.1 (from azure-search-documents==11.5.3->-r /content/Agentic_RAG_Workshop/requirements.txt (line 12))\n",
            "  Downloading azure_common-1.1.28-py2.py3-none-any.whl.metadata (5.0 kB)\n",
            "Collecting langgraph-checkpoint<3.0.0,>=2.1.0 (from langgraph==0.6.4->-r /content/Agentic_RAG_Workshop/requirements.txt (line 15))\n",
            "  Downloading langgraph_checkpoint-2.1.1-py3-none-any.whl.metadata (4.2 kB)\n",
            "Collecting langgraph-prebuilt<0.7.0,>=0.6.0 (from langgraph==0.6.4->-r /content/Agentic_RAG_Workshop/requirements.txt (line 15))\n",
            "  Downloading langgraph_prebuilt-0.6.4-py3-none-any.whl.metadata (4.5 kB)\n",
            "Collecting langgraph-sdk<0.3.0,>=0.2.0 (from langgraph==0.6.4->-r /content/Agentic_RAG_Workshop/requirements.txt (line 15))\n",
            "  Downloading langgraph_sdk-0.2.0-py3-none-any.whl.metadata (1.5 kB)\n",
            "Requirement already satisfied: xxhash>=3.5.0 in /usr/local/lib/python3.11/dist-packages (from langgraph==0.6.4->-r /content/Agentic_RAG_Workshop/requirements.txt (line 15)) (3.5.0)\n",
            "Collecting aiosqlite>=0.20 (from langgraph-checkpoint-sqlite==2.0.11->-r /content/Agentic_RAG_Workshop/requirements.txt (line 16))\n",
            "  Downloading aiosqlite-0.21.0-py3-none-any.whl.metadata (4.3 kB)\n",
            "Collecting sqlite-vec>=0.1.6 (from langgraph-checkpoint-sqlite==2.0.11->-r /content/Agentic_RAG_Workshop/requirements.txt (line 16))\n",
            "  Downloading sqlite_vec-0.1.6-py3-none-manylinux_2_17_x86_64.manylinux2014_x86_64.manylinux1_x86_64.whl.metadata (198 bytes)\n",
            "Collecting backoff>=1.10.0 (from langfuse==3.2.4->-r /content/Agentic_RAG_Workshop/requirements.txt (line 20))\n",
            "  Downloading backoff-2.2.1-py3-none-any.whl.metadata (14 kB)\n",
            "Collecting opentelemetry-exporter-otlp<2.0.0,>=1.33.1 (from langfuse==3.2.4->-r /content/Agentic_RAG_Workshop/requirements.txt (line 20))\n",
            "  Downloading opentelemetry_exporter_otlp-1.36.0-py3-none-any.whl.metadata (2.4 kB)\n",
            "Requirement already satisfied: packaging<26.0,>=23.2 in /usr/local/lib/python3.11/dist-packages (from langfuse==3.2.4->-r /content/Agentic_RAG_Workshop/requirements.txt (line 20)) (25.0)\n",
            "Requirement already satisfied: wrapt<2.0,>=1.14 in /usr/local/lib/python3.11/dist-packages (from langfuse==3.2.4->-r /content/Agentic_RAG_Workshop/requirements.txt (line 20)) (1.17.3)\n",
            "Requirement already satisfied: aiohappyeyeballs>=2.5.0 in /usr/local/lib/python3.11/dist-packages (from aiohttp<4.0.0,>=3.8.3->langchain_community==0.3.27->-r /content/Agentic_RAG_Workshop/requirements.txt (line 9)) (2.6.1)\n",
            "Requirement already satisfied: aiosignal>=1.4.0 in /usr/local/lib/python3.11/dist-packages (from aiohttp<4.0.0,>=3.8.3->langchain_community==0.3.27->-r /content/Agentic_RAG_Workshop/requirements.txt (line 9)) (1.4.0)\n",
            "Requirement already satisfied: attrs>=17.3.0 in /usr/local/lib/python3.11/dist-packages (from aiohttp<4.0.0,>=3.8.3->langchain_community==0.3.27->-r /content/Agentic_RAG_Workshop/requirements.txt (line 9)) (25.3.0)\n",
            "Requirement already satisfied: frozenlist>=1.1.1 in /usr/local/lib/python3.11/dist-packages (from aiohttp<4.0.0,>=3.8.3->langchain_community==0.3.27->-r /content/Agentic_RAG_Workshop/requirements.txt (line 9)) (1.7.0)\n",
            "Requirement already satisfied: multidict<7.0,>=4.5 in /usr/local/lib/python3.11/dist-packages (from aiohttp<4.0.0,>=3.8.3->langchain_community==0.3.27->-r /content/Agentic_RAG_Workshop/requirements.txt (line 9)) (6.6.4)\n",
            "Requirement already satisfied: propcache>=0.2.0 in /usr/local/lib/python3.11/dist-packages (from aiohttp<4.0.0,>=3.8.3->langchain_community==0.3.27->-r /content/Agentic_RAG_Workshop/requirements.txt (line 9)) (0.3.2)\n",
            "Requirement already satisfied: yarl<2.0,>=1.17.0 in /usr/local/lib/python3.11/dist-packages (from aiohttp<4.0.0,>=3.8.3->langchain_community==0.3.27->-r /content/Agentic_RAG_Workshop/requirements.txt (line 9)) (1.20.1)\n",
            "Requirement already satisfied: six>=1.11.0 in /usr/local/lib/python3.11/dist-packages (from azure-core>=1.30.0->azure-ai-documentintelligence==1.0.2->-r /content/Agentic_RAG_Workshop/requirements.txt (line 1)) (1.17.0)\n",
            "Requirement already satisfied: pyproject_hooks in /usr/local/lib/python3.11/dist-packages (from build>=1.0.3->chromadb==1.0.16->-r /content/Agentic_RAG_Workshop/requirements.txt (line 10)) (1.2.0)\n",
            "Requirement already satisfied: cffi>=1.12 in /usr/local/lib/python3.11/dist-packages (from cryptography>=2.5->azure-identity==1.24.0->-r /content/Agentic_RAG_Workshop/requirements.txt (line 11)) (1.17.1)\n",
            "Collecting marshmallow<4.0.0,>=3.18.0 (from dataclasses-json<0.7,>=0.5.7->langchain_community==0.3.27->-r /content/Agentic_RAG_Workshop/requirements.txt (line 9))\n",
            "  Downloading marshmallow-3.26.1-py3-none-any.whl.metadata (7.3 kB)\n",
            "Collecting typing-inspect<1,>=0.4.0 (from dataclasses-json<0.7,>=0.5.7->langchain_community==0.3.27->-r /content/Agentic_RAG_Workshop/requirements.txt (line 9))\n",
            "  Downloading typing_inspect-0.9.0-py3-none-any.whl.metadata (1.5 kB)\n",
            "Requirement already satisfied: anyio in /usr/local/lib/python3.11/dist-packages (from httpx>=0.27.0->chromadb==1.0.16->-r /content/Agentic_RAG_Workshop/requirements.txt (line 10)) (4.10.0)\n",
            "Requirement already satisfied: certifi in /usr/local/lib/python3.11/dist-packages (from httpx>=0.27.0->chromadb==1.0.16->-r /content/Agentic_RAG_Workshop/requirements.txt (line 10)) (2025.8.3)\n",
            "Requirement already satisfied: httpcore==1.* in /usr/local/lib/python3.11/dist-packages (from httpx>=0.27.0->chromadb==1.0.16->-r /content/Agentic_RAG_Workshop/requirements.txt (line 10)) (1.0.9)\n",
            "Requirement already satisfied: idna in /usr/local/lib/python3.11/dist-packages (from httpx>=0.27.0->chromadb==1.0.16->-r /content/Agentic_RAG_Workshop/requirements.txt (line 10)) (3.10)\n",
            "Requirement already satisfied: h11>=0.16 in /usr/local/lib/python3.11/dist-packages (from httpcore==1.*->httpx>=0.27.0->chromadb==1.0.16->-r /content/Agentic_RAG_Workshop/requirements.txt (line 10)) (0.16.0)\n",
            "Requirement already satisfied: jsonschema-specifications>=2023.03.6 in /usr/local/lib/python3.11/dist-packages (from jsonschema>=4.19.0->chromadb==1.0.16->-r /content/Agentic_RAG_Workshop/requirements.txt (line 10)) (2025.4.1)\n",
            "Requirement already satisfied: referencing>=0.28.4 in /usr/local/lib/python3.11/dist-packages (from jsonschema>=4.19.0->chromadb==1.0.16->-r /content/Agentic_RAG_Workshop/requirements.txt (line 10)) (0.36.2)\n",
            "Requirement already satisfied: rpds-py>=0.7.1 in /usr/local/lib/python3.11/dist-packages (from jsonschema>=4.19.0->chromadb==1.0.16->-r /content/Agentic_RAG_Workshop/requirements.txt (line 10)) (0.27.0)\n",
            "Requirement already satisfied: google-auth>=1.0.1 in /usr/local/lib/python3.11/dist-packages (from kubernetes>=28.1.0->chromadb==1.0.16->-r /content/Agentic_RAG_Workshop/requirements.txt (line 10)) (2.38.0)\n",
            "Requirement already satisfied: websocket-client!=0.40.0,!=0.41.*,!=0.42.*,>=0.32.0 in /usr/local/lib/python3.11/dist-packages (from kubernetes>=28.1.0->chromadb==1.0.16->-r /content/Agentic_RAG_Workshop/requirements.txt (line 10)) (1.8.0)\n",
            "Requirement already satisfied: requests-oauthlib in /usr/local/lib/python3.11/dist-packages (from kubernetes>=28.1.0->chromadb==1.0.16->-r /content/Agentic_RAG_Workshop/requirements.txt (line 10)) (2.0.0)\n",
            "Requirement already satisfied: oauthlib>=3.2.2 in /usr/local/lib/python3.11/dist-packages (from kubernetes>=28.1.0->chromadb==1.0.16->-r /content/Agentic_RAG_Workshop/requirements.txt (line 10)) (3.3.1)\n",
            "Requirement already satisfied: urllib3>=1.24.2 in /usr/local/lib/python3.11/dist-packages (from kubernetes>=28.1.0->chromadb==1.0.16->-r /content/Agentic_RAG_Workshop/requirements.txt (line 10)) (2.5.0)\n",
            "Collecting durationpy>=0.7 (from kubernetes>=28.1.0->chromadb==1.0.16->-r /content/Agentic_RAG_Workshop/requirements.txt (line 10))\n",
            "  Downloading durationpy-0.10-py3-none-any.whl.metadata (340 bytes)\n",
            "Requirement already satisfied: langchain-text-splitters<1.0.0,>=0.3.9 in /usr/local/lib/python3.11/dist-packages (from langchain<1.0.0,>=0.3.26->langchain_community==0.3.27->-r /content/Agentic_RAG_Workshop/requirements.txt (line 9)) (0.3.9)\n",
            "Requirement already satisfied: jsonpatch<2.0,>=1.33 in /usr/local/lib/python3.11/dist-packages (from langchain-core<1.0.0,>=0.3.68->langchain_openai==0.3.28->-r /content/Agentic_RAG_Workshop/requirements.txt (line 7)) (1.33)\n",
            "Collecting ormsgpack>=1.10.0 (from langgraph-checkpoint<3.0.0,>=2.1.0->langgraph==0.6.4->-r /content/Agentic_RAG_Workshop/requirements.txt (line 15))\n",
            "  Downloading ormsgpack-1.10.0-cp311-cp311-manylinux_2_17_x86_64.manylinux2014_x86_64.whl.metadata (43 kB)\n",
            "\u001b[2K     \u001b[90m━━━━━━━━━━━━━━━━━━━━━━━━━━━━━━━━━━━━━━━━\u001b[0m \u001b[32m43.7/43.7 kB\u001b[0m \u001b[31m2.9 MB/s\u001b[0m eta \u001b[36m0:00:00\u001b[0m\n",
            "\u001b[?25hRequirement already satisfied: requests-toolbelt>=1.0.0 in /usr/local/lib/python3.11/dist-packages (from langsmith>=0.1.125->langchain_community==0.3.27->-r /content/Agentic_RAG_Workshop/requirements.txt (line 9)) (1.0.0)\n",
            "Requirement already satisfied: zstandard>=0.23.0 in /usr/local/lib/python3.11/dist-packages (from langsmith>=0.1.125->langchain_community==0.3.27->-r /content/Agentic_RAG_Workshop/requirements.txt (line 9)) (0.23.0)\n",
            "Requirement already satisfied: PyJWT<3,>=1.0.0 in /usr/local/lib/python3.11/dist-packages (from PyJWT[crypto]<3,>=1.0.0->msal>=1.30.0->azure-identity==1.24.0->-r /content/Agentic_RAG_Workshop/requirements.txt (line 11)) (2.10.1)\n",
            "Collecting coloredlogs (from onnxruntime>=1.14.1->chromadb==1.0.16->-r /content/Agentic_RAG_Workshop/requirements.txt (line 10))\n",
            "  Downloading coloredlogs-15.0.1-py2.py3-none-any.whl.metadata (12 kB)\n",
            "Requirement already satisfied: flatbuffers in /usr/local/lib/python3.11/dist-packages (from onnxruntime>=1.14.1->chromadb==1.0.16->-r /content/Agentic_RAG_Workshop/requirements.txt (line 10)) (25.2.10)\n",
            "Requirement already satisfied: protobuf in /usr/local/lib/python3.11/dist-packages (from onnxruntime>=1.14.1->chromadb==1.0.16->-r /content/Agentic_RAG_Workshop/requirements.txt (line 10)) (5.29.5)\n",
            "Requirement already satisfied: sympy in /usr/local/lib/python3.11/dist-packages (from onnxruntime>=1.14.1->chromadb==1.0.16->-r /content/Agentic_RAG_Workshop/requirements.txt (line 10)) (1.13.1)\n",
            "Requirement already satisfied: distro<2,>=1.7.0 in /usr/local/lib/python3.11/dist-packages (from openai<2.0.0,>=1.86.0->langchain_openai==0.3.28->-r /content/Agentic_RAG_Workshop/requirements.txt (line 7)) (1.9.0)\n",
            "Requirement already satisfied: jiter<1,>=0.4.0 in /usr/local/lib/python3.11/dist-packages (from openai<2.0.0,>=1.86.0->langchain_openai==0.3.28->-r /content/Agentic_RAG_Workshop/requirements.txt (line 7)) (0.10.0)\n",
            "Requirement already satisfied: sniffio in /usr/local/lib/python3.11/dist-packages (from openai<2.0.0,>=1.86.0->langchain_openai==0.3.28->-r /content/Agentic_RAG_Workshop/requirements.txt (line 7)) (1.3.1)\n",
            "Requirement already satisfied: importlib-metadata<8.8.0,>=6.0 in /usr/local/lib/python3.11/dist-packages (from opentelemetry-api>=1.2.0->chromadb==1.0.16->-r /content/Agentic_RAG_Workshop/requirements.txt (line 10)) (8.7.0)\n",
            "Collecting opentelemetry-exporter-otlp-proto-http==1.36.0 (from opentelemetry-exporter-otlp<2.0.0,>=1.33.1->langfuse==3.2.4->-r /content/Agentic_RAG_Workshop/requirements.txt (line 20))\n",
            "  Downloading opentelemetry_exporter_otlp_proto_http-1.36.0-py3-none-any.whl.metadata (2.3 kB)\n",
            "Requirement already satisfied: googleapis-common-protos~=1.57 in /usr/local/lib/python3.11/dist-packages (from opentelemetry-exporter-otlp-proto-grpc>=1.2.0->chromadb==1.0.16->-r /content/Agentic_RAG_Workshop/requirements.txt (line 10)) (1.70.0)\n",
            "Collecting opentelemetry-exporter-otlp-proto-common==1.36.0 (from opentelemetry-exporter-otlp-proto-grpc>=1.2.0->chromadb==1.0.16->-r /content/Agentic_RAG_Workshop/requirements.txt (line 10))\n",
            "  Downloading opentelemetry_exporter_otlp_proto_common-1.36.0-py3-none-any.whl.metadata (1.8 kB)\n",
            "Collecting opentelemetry-proto==1.36.0 (from opentelemetry-exporter-otlp-proto-grpc>=1.2.0->chromadb==1.0.16->-r /content/Agentic_RAG_Workshop/requirements.txt (line 10))\n",
            "  Downloading opentelemetry_proto-1.36.0-py3-none-any.whl.metadata (2.3 kB)\n",
            "Collecting opentelemetry-semantic-conventions==0.57b0 (from opentelemetry-sdk>=1.2.0->chromadb==1.0.16->-r /content/Agentic_RAG_Workshop/requirements.txt (line 10))\n",
            "  Downloading opentelemetry_semantic_conventions-0.57b0-py3-none-any.whl.metadata (2.4 kB)\n",
            "Requirement already satisfied: annotated-types>=0.6.0 in /usr/local/lib/python3.11/dist-packages (from pydantic>=1.9->chromadb==1.0.16->-r /content/Agentic_RAG_Workshop/requirements.txt (line 10)) (0.7.0)\n",
            "Requirement already satisfied: pydantic-core==2.33.2 in /usr/local/lib/python3.11/dist-packages (from pydantic>=1.9->chromadb==1.0.16->-r /content/Agentic_RAG_Workshop/requirements.txt (line 10)) (2.33.2)\n",
            "Requirement already satisfied: typing-inspection>=0.4.0 in /usr/local/lib/python3.11/dist-packages (from pydantic>=1.9->chromadb==1.0.16->-r /content/Agentic_RAG_Workshop/requirements.txt (line 10)) (0.4.1)\n",
            "Requirement already satisfied: charset-normalizer<4,>=2 in /usr/local/lib/python3.11/dist-packages (from requests<3,>=2->langchain_community==0.3.27->-r /content/Agentic_RAG_Workshop/requirements.txt (line 9)) (3.4.3)\n",
            "Requirement already satisfied: markdown-it-py>=2.2.0 in /usr/local/lib/python3.11/dist-packages (from rich>=10.11.0->chromadb==1.0.16->-r /content/Agentic_RAG_Workshop/requirements.txt (line 10)) (4.0.0)\n",
            "Requirement already satisfied: pygments<3.0.0,>=2.13.0 in /usr/local/lib/python3.11/dist-packages (from rich>=10.11.0->chromadb==1.0.16->-r /content/Agentic_RAG_Workshop/requirements.txt (line 10)) (2.19.2)\n",
            "Requirement already satisfied: greenlet>=1 in /usr/local/lib/python3.11/dist-packages (from SQLAlchemy<3,>=1.4->langchain_community==0.3.27->-r /content/Agentic_RAG_Workshop/requirements.txt (line 9)) (3.2.4)\n",
            "Requirement already satisfied: regex>=2022.1.18 in /usr/local/lib/python3.11/dist-packages (from tiktoken<1,>=0.7->langchain_openai==0.3.28->-r /content/Agentic_RAG_Workshop/requirements.txt (line 7)) (2024.11.6)\n",
            "Requirement already satisfied: huggingface-hub<1.0,>=0.16.4 in /usr/local/lib/python3.11/dist-packages (from tokenizers>=0.13.2->chromadb==1.0.16->-r /content/Agentic_RAG_Workshop/requirements.txt (line 10)) (0.34.4)\n",
            "Requirement already satisfied: click>=8.0.0 in /usr/local/lib/python3.11/dist-packages (from typer>=0.9.0->chromadb==1.0.16->-r /content/Agentic_RAG_Workshop/requirements.txt (line 10)) (8.2.1)\n",
            "Requirement already satisfied: shellingham>=1.3.0 in /usr/local/lib/python3.11/dist-packages (from typer>=0.9.0->chromadb==1.0.16->-r /content/Agentic_RAG_Workshop/requirements.txt (line 10)) (1.5.4)\n",
            "Collecting httptools>=0.6.3 (from uvicorn[standard]>=0.18.3->chromadb==1.0.16->-r /content/Agentic_RAG_Workshop/requirements.txt (line 10))\n",
            "  Downloading httptools-0.6.4-cp311-cp311-manylinux_2_5_x86_64.manylinux1_x86_64.manylinux_2_17_x86_64.manylinux2014_x86_64.whl.metadata (3.6 kB)\n",
            "Collecting uvloop>=0.15.1 (from uvicorn[standard]>=0.18.3->chromadb==1.0.16->-r /content/Agentic_RAG_Workshop/requirements.txt (line 10))\n",
            "  Downloading uvloop-0.21.0-cp311-cp311-manylinux_2_17_x86_64.manylinux2014_x86_64.whl.metadata (4.9 kB)\n",
            "Collecting watchfiles>=0.13 (from uvicorn[standard]>=0.18.3->chromadb==1.0.16->-r /content/Agentic_RAG_Workshop/requirements.txt (line 10))\n",
            "  Downloading watchfiles-1.1.0-cp311-cp311-manylinux_2_17_x86_64.manylinux2014_x86_64.whl.metadata (4.9 kB)\n",
            "Requirement already satisfied: websockets>=10.4 in /usr/local/lib/python3.11/dist-packages (from uvicorn[standard]>=0.18.3->chromadb==1.0.16->-r /content/Agentic_RAG_Workshop/requirements.txt (line 10)) (15.0.1)\n",
            "Requirement already satisfied: pycparser in /usr/local/lib/python3.11/dist-packages (from cffi>=1.12->cryptography>=2.5->azure-identity==1.24.0->-r /content/Agentic_RAG_Workshop/requirements.txt (line 11)) (2.22)\n",
            "Requirement already satisfied: cachetools<6.0,>=2.0.0 in /usr/local/lib/python3.11/dist-packages (from google-auth>=1.0.1->kubernetes>=28.1.0->chromadb==1.0.16->-r /content/Agentic_RAG_Workshop/requirements.txt (line 10)) (5.5.2)\n",
            "Requirement already satisfied: pyasn1-modules>=0.2.1 in /usr/local/lib/python3.11/dist-packages (from google-auth>=1.0.1->kubernetes>=28.1.0->chromadb==1.0.16->-r /content/Agentic_RAG_Workshop/requirements.txt (line 10)) (0.4.2)\n",
            "Requirement already satisfied: rsa<5,>=3.1.4 in /usr/local/lib/python3.11/dist-packages (from google-auth>=1.0.1->kubernetes>=28.1.0->chromadb==1.0.16->-r /content/Agentic_RAG_Workshop/requirements.txt (line 10)) (4.9.1)\n",
            "Requirement already satisfied: filelock in /usr/local/lib/python3.11/dist-packages (from huggingface-hub<1.0,>=0.16.4->tokenizers>=0.13.2->chromadb==1.0.16->-r /content/Agentic_RAG_Workshop/requirements.txt (line 10)) (3.18.0)\n",
            "Requirement already satisfied: fsspec>=2023.5.0 in /usr/local/lib/python3.11/dist-packages (from huggingface-hub<1.0,>=0.16.4->tokenizers>=0.13.2->chromadb==1.0.16->-r /content/Agentic_RAG_Workshop/requirements.txt (line 10)) (2025.3.0)\n",
            "Requirement already satisfied: hf-xet<2.0.0,>=1.1.3 in /usr/local/lib/python3.11/dist-packages (from huggingface-hub<1.0,>=0.16.4->tokenizers>=0.13.2->chromadb==1.0.16->-r /content/Agentic_RAG_Workshop/requirements.txt (line 10)) (1.1.7)\n",
            "Requirement already satisfied: zipp>=3.20 in /usr/local/lib/python3.11/dist-packages (from importlib-metadata<8.8.0,>=6.0->opentelemetry-api>=1.2.0->chromadb==1.0.16->-r /content/Agentic_RAG_Workshop/requirements.txt (line 10)) (3.23.0)\n",
            "Requirement already satisfied: jsonpointer>=1.9 in /usr/local/lib/python3.11/dist-packages (from jsonpatch<2.0,>=1.33->langchain-core<1.0.0,>=0.3.68->langchain_openai==0.3.28->-r /content/Agentic_RAG_Workshop/requirements.txt (line 7)) (3.0.0)\n",
            "Requirement already satisfied: mdurl~=0.1 in /usr/local/lib/python3.11/dist-packages (from markdown-it-py>=2.2.0->rich>=10.11.0->chromadb==1.0.16->-r /content/Agentic_RAG_Workshop/requirements.txt (line 10)) (0.1.2)\n",
            "Collecting mypy-extensions>=0.3.0 (from typing-inspect<1,>=0.4.0->dataclasses-json<0.7,>=0.5.7->langchain_community==0.3.27->-r /content/Agentic_RAG_Workshop/requirements.txt (line 9))\n",
            "  Downloading mypy_extensions-1.1.0-py3-none-any.whl.metadata (1.1 kB)\n",
            "Collecting humanfriendly>=9.1 (from coloredlogs->onnxruntime>=1.14.1->chromadb==1.0.16->-r /content/Agentic_RAG_Workshop/requirements.txt (line 10))\n",
            "  Downloading humanfriendly-10.0-py2.py3-none-any.whl.metadata (9.2 kB)\n",
            "Requirement already satisfied: mpmath<1.4,>=1.1.0 in /usr/local/lib/python3.11/dist-packages (from sympy->onnxruntime>=1.14.1->chromadb==1.0.16->-r /content/Agentic_RAG_Workshop/requirements.txt (line 10)) (1.3.0)\n",
            "Requirement already satisfied: pyasn1<0.7.0,>=0.6.1 in /usr/local/lib/python3.11/dist-packages (from pyasn1-modules>=0.2.1->google-auth>=1.0.1->kubernetes>=28.1.0->chromadb==1.0.16->-r /content/Agentic_RAG_Workshop/requirements.txt (line 10)) (0.6.1)\n",
            "Downloading azure_ai_documentintelligence-1.0.2-py3-none-any.whl (106 kB)\n",
            "\u001b[2K   \u001b[90m━━━━━━━━━━━━━━━━━━━━━━━━━━━━━━━━━━━━━━━━\u001b[0m \u001b[32m106.0/106.0 kB\u001b[0m \u001b[31m8.6 MB/s\u001b[0m eta \u001b[36m0:00:00\u001b[0m\n",
            "\u001b[?25hDownloading pathlib-1.0.1-py3-none-any.whl (14 kB)\n",
            "Downloading pymupdf-1.26.3-cp39-abi3-manylinux_2_28_x86_64.whl (24.1 MB)\n",
            "\u001b[2K   \u001b[90m━━━━━━━━━━━━━━━━━━━━━━━━━━━━━━━━━━━━━━━━\u001b[0m \u001b[32m24.1/24.1 MB\u001b[0m \u001b[31m75.6 MB/s\u001b[0m eta \u001b[36m0:00:00\u001b[0m\n",
            "\u001b[?25hDownloading tools-1.0.2-py3-none-any.whl (37 kB)\n",
            "Downloading python_dotenv-1.1.1-py3-none-any.whl (20 kB)\n",
            "Downloading langchain_openai-0.3.28-py3-none-any.whl (70 kB)\n",
            "\u001b[2K   \u001b[90m━━━━━━━━━━━━━━━━━━━━━━━━━━━━━━━━━━━━━━━━\u001b[0m \u001b[32m70.6/70.6 kB\u001b[0m \u001b[31m5.3 MB/s\u001b[0m eta \u001b[36m0:00:00\u001b[0m\n",
            "\u001b[?25hDownloading langchain_community-0.3.27-py3-none-any.whl (2.5 MB)\n",
            "\u001b[2K   \u001b[90m━━━━━━━━━━━━━━━━━━━━━━━━━━━━━━━━━━━━━━━━\u001b[0m \u001b[32m2.5/2.5 MB\u001b[0m \u001b[31m76.3 MB/s\u001b[0m eta \u001b[36m0:00:00\u001b[0m\n",
            "\u001b[?25hDownloading chromadb-1.0.16-cp39-abi3-manylinux_2_17_x86_64.manylinux2014_x86_64.whl (19.6 MB)\n",
            "\u001b[2K   \u001b[90m━━━━━━━━━━━━━━━━━━━━━━━━━━━━━━━━━━━━━━━━\u001b[0m \u001b[32m19.6/19.6 MB\u001b[0m \u001b[31m80.4 MB/s\u001b[0m eta \u001b[36m0:00:00\u001b[0m\n",
            "\u001b[?25hDownloading azure_identity-1.24.0-py3-none-any.whl (187 kB)\n",
            "\u001b[2K   \u001b[90m━━━━━━━━━━━━━━━━━━━━━━━━━━━━━━━━━━━━━━━━\u001b[0m \u001b[32m187.9/187.9 kB\u001b[0m \u001b[31m13.5 MB/s\u001b[0m eta \u001b[36m0:00:00\u001b[0m\n",
            "\u001b[?25hDownloading azure_search_documents-11.5.3-py3-none-any.whl (298 kB)\n",
            "\u001b[2K   \u001b[90m━━━━━━━━━━━━━━━━━━━━━━━━━━━━━━━━━━━━━━━━\u001b[0m \u001b[32m298.8/298.8 kB\u001b[0m \u001b[31m18.4 MB/s\u001b[0m eta \u001b[36m0:00:00\u001b[0m\n",
            "\u001b[?25hDownloading langchain_tavily-0.2.11-py3-none-any.whl (26 kB)\n",
            "Downloading langgraph-0.6.4-py3-none-any.whl (153 kB)\n",
            "\u001b[2K   \u001b[90m━━━━━━━━━━━━━━━━━━━━━━━━━━━━━━━━━━━━━━━━\u001b[0m \u001b[32m153.2/153.2 kB\u001b[0m \u001b[31m11.8 MB/s\u001b[0m eta \u001b[36m0:00:00\u001b[0m\n",
            "\u001b[?25hDownloading langgraph_checkpoint_sqlite-2.0.11-py3-none-any.whl (31 kB)\n",
            "Downloading simple_colors-0.1.5-py3-none-any.whl (2.8 kB)\n",
            "Downloading langchain_chroma-0.2.5-py3-none-any.whl (12 kB)\n",
            "Downloading rank_bm25-0.2.2-py3-none-any.whl (8.6 kB)\n",
            "Downloading langfuse-3.2.4-py3-none-any.whl (299 kB)\n",
            "\u001b[2K   \u001b[90m━━━━━━━━━━━━━━━━━━━━━━━━━━━━━━━━━━━━━━━━\u001b[0m \u001b[32m300.0/300.0 kB\u001b[0m \u001b[31m20.7 MB/s\u001b[0m eta \u001b[36m0:00:00\u001b[0m\n",
            "\u001b[?25hDownloading rapidfuzz-3.13.0-cp311-cp311-manylinux_2_17_x86_64.manylinux2014_x86_64.whl (3.1 MB)\n",
            "\u001b[2K   \u001b[90m━━━━━━━━━━━━━━━━━━━━━━━━━━━━━━━━━━━━━━━━\u001b[0m \u001b[32m3.1/3.1 MB\u001b[0m \u001b[31m84.5 MB/s\u001b[0m eta \u001b[36m0:00:00\u001b[0m\n",
            "\u001b[?25hDownloading dotenv-0.9.9-py2.py3-none-any.whl (1.9 kB)\n",
            "Downloading aiosqlite-0.21.0-py3-none-any.whl (15 kB)\n",
            "Downloading azure_common-1.1.28-py2.py3-none-any.whl (14 kB)\n",
            "Downloading azure_core-1.35.0-py3-none-any.whl (210 kB)\n",
            "\u001b[2K   \u001b[90m━━━━━━━━━━━━━━━━━━━━━━━━━━━━━━━━━━━━━━━━\u001b[0m \u001b[32m210.7/210.7 kB\u001b[0m \u001b[31m15.8 MB/s\u001b[0m eta \u001b[36m0:00:00\u001b[0m\n",
            "\u001b[?25hDownloading backoff-2.2.1-py3-none-any.whl (15 kB)\n",
            "Downloading bcrypt-4.3.0-cp39-abi3-manylinux_2_34_x86_64.whl (284 kB)\n",
            "\u001b[2K   \u001b[90m━━━━━━━━━━━━━━━━━━━━━━━━━━━━━━━━━━━━━━━━\u001b[0m \u001b[32m284.2/284.2 kB\u001b[0m \u001b[31m21.5 MB/s\u001b[0m eta \u001b[36m0:00:00\u001b[0m\n",
            "\u001b[?25hDownloading dataclasses_json-0.6.7-py3-none-any.whl (28 kB)\n",
            "Downloading httpx_sse-0.4.1-py3-none-any.whl (8.1 kB)\n",
            "Downloading isodate-0.7.2-py3-none-any.whl (22 kB)\n",
            "Downloading kubernetes-33.1.0-py2.py3-none-any.whl (1.9 MB)\n",
            "\u001b[2K   \u001b[90m━━━━━━━━━━━━━━━━━━━━━━━━━━━━━━━━━━━━━━━━\u001b[0m \u001b[32m1.9/1.9 MB\u001b[0m \u001b[31m71.7 MB/s\u001b[0m eta \u001b[36m0:00:00\u001b[0m\n",
            "\u001b[?25hDownloading langgraph_checkpoint-2.1.1-py3-none-any.whl (43 kB)\n",
            "\u001b[2K   \u001b[90m━━━━━━━━━━━━━━━━━━━━━━━━━━━━━━━━━━━━━━━━\u001b[0m \u001b[32m43.9/43.9 kB\u001b[0m \u001b[31m3.1 MB/s\u001b[0m eta \u001b[36m0:00:00\u001b[0m\n",
            "\u001b[?25hDownloading langgraph_prebuilt-0.6.4-py3-none-any.whl (28 kB)\n",
            "Downloading langgraph_sdk-0.2.0-py3-none-any.whl (50 kB)\n",
            "\u001b[2K   \u001b[90m━━━━━━━━━━━━━━━━━━━━━━━━━━━━━━━━━━━━━━━━\u001b[0m \u001b[32m50.6/50.6 kB\u001b[0m \u001b[31m3.6 MB/s\u001b[0m eta \u001b[36m0:00:00\u001b[0m\n",
            "\u001b[?25hDownloading mmh3-5.2.0-cp311-cp311-manylinux1_x86_64.manylinux_2_28_x86_64.manylinux_2_5_x86_64.whl (103 kB)\n",
            "\u001b[2K   \u001b[90m━━━━━━━━━━━━━━━━━━━━━━━━━━━━━━━━━━━━━━━━\u001b[0m \u001b[32m103.1/103.1 kB\u001b[0m \u001b[31m6.7 MB/s\u001b[0m eta \u001b[36m0:00:00\u001b[0m\n",
            "\u001b[?25hDownloading msal-1.33.0-py3-none-any.whl (116 kB)\n",
            "\u001b[2K   \u001b[90m━━━━━━━━━━━━━━━━━━━━━━━━━━━━━━━━━━━━━━━━\u001b[0m \u001b[32m116.9/116.9 kB\u001b[0m \u001b[31m6.8 MB/s\u001b[0m eta \u001b[36m0:00:00\u001b[0m\n",
            "\u001b[?25hDownloading msal_extensions-1.3.1-py3-none-any.whl (20 kB)\n",
            "Downloading onnxruntime-1.22.1-cp311-cp311-manylinux_2_27_x86_64.manylinux_2_28_x86_64.whl (16.5 MB)\n",
            "\u001b[2K   \u001b[90m━━━━━━━━━━━━━━━━━━━━━━━━━━━━━━━━━━━━━━━━\u001b[0m \u001b[32m16.5/16.5 MB\u001b[0m \u001b[31m87.2 MB/s\u001b[0m eta \u001b[36m0:00:00\u001b[0m\n",
            "\u001b[?25hDownloading opentelemetry_api-1.36.0-py3-none-any.whl (65 kB)\n",
            "\u001b[2K   \u001b[90m━━━━━━━━━━━━━━━━━━━━━━━━━━━━━━━━━━━━━━━━\u001b[0m \u001b[32m65.6/65.6 kB\u001b[0m \u001b[31m4.8 MB/s\u001b[0m eta \u001b[36m0:00:00\u001b[0m\n",
            "\u001b[?25hDownloading opentelemetry_exporter_otlp-1.36.0-py3-none-any.whl (7.0 kB)\n",
            "Downloading opentelemetry_exporter_otlp_proto_grpc-1.36.0-py3-none-any.whl (18 kB)\n",
            "Downloading opentelemetry_exporter_otlp_proto_common-1.36.0-py3-none-any.whl (18 kB)\n",
            "Downloading opentelemetry_exporter_otlp_proto_http-1.36.0-py3-none-any.whl (18 kB)\n",
            "Downloading opentelemetry_proto-1.36.0-py3-none-any.whl (72 kB)\n",
            "\u001b[2K   \u001b[90m━━━━━━━━━━━━━━━━━━━━━━━━━━━━━━━━━━━━━━━━\u001b[0m \u001b[32m72.5/72.5 kB\u001b[0m \u001b[31m4.6 MB/s\u001b[0m eta \u001b[36m0:00:00\u001b[0m\n",
            "\u001b[?25hDownloading opentelemetry_sdk-1.36.0-py3-none-any.whl (119 kB)\n",
            "\u001b[2K   \u001b[90m━━━━━━━━━━━━━━━━━━━━━━━━━━━━━━━━━━━━━━━━\u001b[0m \u001b[32m120.0/120.0 kB\u001b[0m \u001b[31m8.6 MB/s\u001b[0m eta \u001b[36m0:00:00\u001b[0m\n",
            "\u001b[?25hDownloading opentelemetry_semantic_conventions-0.57b0-py3-none-any.whl (201 kB)\n",
            "\u001b[2K   \u001b[90m━━━━━━━━━━━━━━━━━━━━━━━━━━━━━━━━━━━━━━━━\u001b[0m \u001b[32m201.6/201.6 kB\u001b[0m \u001b[31m14.5 MB/s\u001b[0m eta \u001b[36m0:00:00\u001b[0m\n",
            "\u001b[?25hDownloading overrides-7.7.0-py3-none-any.whl (17 kB)\n",
            "Downloading posthog-5.4.0-py3-none-any.whl (105 kB)\n",
            "\u001b[2K   \u001b[90m━━━━━━━━━━━━━━━━━━━━━━━━━━━━━━━━━━━━━━━━\u001b[0m \u001b[32m105.4/105.4 kB\u001b[0m \u001b[31m8.2 MB/s\u001b[0m eta \u001b[36m0:00:00\u001b[0m\n",
            "\u001b[?25hDownloading pybase64-1.4.2-cp311-cp311-manylinux1_x86_64.manylinux2014_x86_64.manylinux_2_17_x86_64.manylinux_2_5_x86_64.whl (71 kB)\n",
            "\u001b[2K   \u001b[90m━━━━━━━━━━━━━━━━━━━━━━━━━━━━━━━━━━━━━━━━\u001b[0m \u001b[32m71.4/71.4 kB\u001b[0m \u001b[31m5.8 MB/s\u001b[0m eta \u001b[36m0:00:00\u001b[0m\n",
            "\u001b[?25hDownloading pydantic_settings-2.10.1-py3-none-any.whl (45 kB)\n",
            "\u001b[2K   \u001b[90m━━━━━━━━━━━━━━━━━━━━━━━━━━━━━━━━━━━━━━━━\u001b[0m \u001b[32m45.2/45.2 kB\u001b[0m \u001b[31m3.3 MB/s\u001b[0m eta \u001b[36m0:00:00\u001b[0m\n",
            "\u001b[?25hDownloading sqlite_vec-0.1.6-py3-none-manylinux_2_17_x86_64.manylinux2014_x86_64.manylinux1_x86_64.whl (151 kB)\n",
            "\u001b[2K   \u001b[90m━━━━━━━━━━━━━━━━━━━━━━━━━━━━━━━━━━━━━━━━\u001b[0m \u001b[32m151.6/151.6 kB\u001b[0m \u001b[31m9.0 MB/s\u001b[0m eta \u001b[36m0:00:00\u001b[0m\n",
            "\u001b[?25hDownloading durationpy-0.10-py3-none-any.whl (3.9 kB)\n",
            "Downloading httptools-0.6.4-cp311-cp311-manylinux_2_5_x86_64.manylinux1_x86_64.manylinux_2_17_x86_64.manylinux2014_x86_64.whl (459 kB)\n",
            "\u001b[2K   \u001b[90m━━━━━━━━━━━━━━━━━━━━━━━━━━━━━━━━━━━━━━━━\u001b[0m \u001b[32m459.8/459.8 kB\u001b[0m \u001b[31m3.7 MB/s\u001b[0m eta \u001b[36m0:00:00\u001b[0m\n",
            "\u001b[?25hDownloading marshmallow-3.26.1-py3-none-any.whl (50 kB)\n",
            "\u001b[2K   \u001b[90m━━━━━━━━━━━━━━━━━━━━━━━━━━━━━━━━━━━━━━━━\u001b[0m \u001b[32m50.9/50.9 kB\u001b[0m \u001b[31m3.4 MB/s\u001b[0m eta \u001b[36m0:00:00\u001b[0m\n",
            "\u001b[?25hDownloading ormsgpack-1.10.0-cp311-cp311-manylinux_2_17_x86_64.manylinux2014_x86_64.whl (216 kB)\n",
            "\u001b[2K   \u001b[90m━━━━━━━━━━━━━━━━━━━━━━━━━━━━━━━━━━━━━━━━\u001b[0m \u001b[32m216.5/216.5 kB\u001b[0m \u001b[31m15.7 MB/s\u001b[0m eta \u001b[36m0:00:00\u001b[0m\n",
            "\u001b[?25hDownloading typing_inspect-0.9.0-py3-none-any.whl (8.8 kB)\n",
            "Downloading uvloop-0.21.0-cp311-cp311-manylinux_2_17_x86_64.manylinux2014_x86_64.whl (4.0 MB)\n",
            "\u001b[2K   \u001b[90m━━━━━━━━━━━━━━━━━━━━━━━━━━━━━━━━━━━━━━━━\u001b[0m \u001b[32m4.0/4.0 MB\u001b[0m \u001b[31m89.6 MB/s\u001b[0m eta \u001b[36m0:00:00\u001b[0m\n",
            "\u001b[?25hDownloading watchfiles-1.1.0-cp311-cp311-manylinux_2_17_x86_64.manylinux2014_x86_64.whl (453 kB)\n",
            "\u001b[2K   \u001b[90m━━━━━━━━━━━━━━━━━━━━━━━━━━━━━━━━━━━━━━━━\u001b[0m \u001b[32m453.1/453.1 kB\u001b[0m \u001b[31m27.8 MB/s\u001b[0m eta \u001b[36m0:00:00\u001b[0m\n",
            "\u001b[?25hDownloading coloredlogs-15.0.1-py2.py3-none-any.whl (46 kB)\n",
            "\u001b[2K   \u001b[90m━━━━━━━━━━━━━━━━━━━━━━━━━━━━━━━━━━━━━━━━\u001b[0m \u001b[32m46.0/46.0 kB\u001b[0m \u001b[31m3.0 MB/s\u001b[0m eta \u001b[36m0:00:00\u001b[0m\n",
            "\u001b[?25hDownloading humanfriendly-10.0-py2.py3-none-any.whl (86 kB)\n",
            "\u001b[2K   \u001b[90m━━━━━━━━━━━━━━━━━━━━━━━━━━━━━━━━━━━━━━━━\u001b[0m \u001b[32m86.8/86.8 kB\u001b[0m \u001b[31m6.8 MB/s\u001b[0m eta \u001b[36m0:00:00\u001b[0m\n",
            "\u001b[?25hDownloading mypy_extensions-1.1.0-py3-none-any.whl (5.0 kB)\n",
            "Building wheels for collected packages: pypika\n",
            "  Building wheel for pypika (pyproject.toml) ... \u001b[?25l\u001b[?25hdone\n",
            "  Created wheel for pypika: filename=pypika-0.48.9-py2.py3-none-any.whl size=53803 sha256=f8b4cd6b53b32c15251d8625e339baf00d6663c8a3aca3371d946993e5b82536\n",
            "  Stored in directory: /root/.cache/pip/wheels/a3/01/bd/4c40ceb9d5354160cb186dcc153360f4ab7eb23e2b24daf96d\n",
            "Successfully built pypika\n",
            "Installing collected packages: sqlite-vec, simple-colors, pypika, pathlib, durationpy, azure-common, uvloop, tools, rapidfuzz, rank_bm25, python-dotenv, pymupdf, pybase64, overrides, ormsgpack, opentelemetry-proto, mypy-extensions, mmh3, marshmallow, isodate, humanfriendly, httpx-sse, httptools, bcrypt, backoff, aiosqlite, watchfiles, typing-inspect, posthog, opentelemetry-exporter-otlp-proto-common, opentelemetry-api, dotenv, coloredlogs, azure-core, pydantic-settings, opentelemetry-semantic-conventions, onnxruntime, langgraph-sdk, kubernetes, dataclasses-json, azure-search-documents, azure-ai-documentintelligence, opentelemetry-sdk, msal, opentelemetry-exporter-otlp-proto-http, opentelemetry-exporter-otlp-proto-grpc, msal-extensions, langgraph-checkpoint, langchain_openai, opentelemetry-exporter-otlp, langgraph-prebuilt, langgraph-checkpoint-sqlite, chromadb, azure-identity, langgraph, langfuse, langchain_tavily, langchain_community, langchain_chroma\n",
            "Successfully installed aiosqlite-0.21.0 azure-ai-documentintelligence-1.0.2 azure-common-1.1.28 azure-core-1.35.0 azure-identity-1.24.0 azure-search-documents-11.5.3 backoff-2.2.1 bcrypt-4.3.0 chromadb-1.0.16 coloredlogs-15.0.1 dataclasses-json-0.6.7 dotenv-0.9.9 durationpy-0.10 httptools-0.6.4 httpx-sse-0.4.1 humanfriendly-10.0 isodate-0.7.2 kubernetes-33.1.0 langchain_chroma-0.2.5 langchain_community-0.3.27 langchain_openai-0.3.28 langchain_tavily-0.2.11 langfuse-3.2.4 langgraph-0.6.4 langgraph-checkpoint-2.1.1 langgraph-checkpoint-sqlite-2.0.11 langgraph-prebuilt-0.6.4 langgraph-sdk-0.2.0 marshmallow-3.26.1 mmh3-5.2.0 msal-1.33.0 msal-extensions-1.3.1 mypy-extensions-1.1.0 onnxruntime-1.22.1 opentelemetry-api-1.36.0 opentelemetry-exporter-otlp-1.36.0 opentelemetry-exporter-otlp-proto-common-1.36.0 opentelemetry-exporter-otlp-proto-grpc-1.36.0 opentelemetry-exporter-otlp-proto-http-1.36.0 opentelemetry-proto-1.36.0 opentelemetry-sdk-1.36.0 opentelemetry-semantic-conventions-0.57b0 ormsgpack-1.10.0 overrides-7.7.0 pathlib-1.0.1 posthog-5.4.0 pybase64-1.4.2 pydantic-settings-2.10.1 pymupdf-1.26.3 pypika-0.48.9 python-dotenv-1.1.1 rank_bm25-0.2.2 rapidfuzz-3.13.0 simple-colors-0.1.5 sqlite-vec-0.1.6 tools-1.0.2 typing-inspect-0.9.0 uvloop-0.21.0 watchfiles-1.1.0\n"
          ]
        },
        {
          "output_type": "display_data",
          "data": {
            "application/vnd.colab-display-data+json": {
              "pip_warning": {
                "packages": [
                  "pathlib"
                ]
              },
              "id": "f5d4b7dfda1740ba9776ffaa41fd9835"
            }
          },
          "metadata": {}
        }
      ]
    },
    {
      "cell_type": "markdown",
      "source": [
        "## Load Environment Variables and Initialize Clients\n",
        "Load environment variables containing API keys and endpoint information, and initialize the Azure Document Intelligence and OpenAI clients."
      ],
      "metadata": {
        "id": "KoDf5tbMan4_"
      }
    },
    {
      "cell_type": "code",
      "source": [
        "import os\n",
        "\n",
        "os.chdir(\"/content/Agentic_RAG_Workshop/\")\n",
        "\n",
        "from dotenv import load_dotenv\n",
        "from langchain_openai import ChatOpenAI, OpenAIEmbeddings\n",
        "\n",
        "load_dotenv()\n",
        "\n",
        "llm = ChatOpenAI(\n",
        "    api_key=os.getenv(\"OPENAI_API_KEY\"),\n",
        "    model=\"gpt-4.1\",\n",
        "    temperature=0,\n",
        ")\n",
        "\n",
        "embeddings = OpenAIEmbeddings(\n",
        "    api_key=os.getenv(\"OPENAI_API_KEY\"),\n",
        "    model=\"text-embedding-3-small\"\n",
        ")"
      ],
      "metadata": {
        "id": "pJjZ9dlCqHql"
      },
      "execution_count": null,
      "outputs": []
    },
    {
      "cell_type": "markdown",
      "source": [
        "## Initialize Langfuse Handler for Tracing"
      ],
      "metadata": {
        "id": "3_Xk06m2i0d7"
      }
    },
    {
      "cell_type": "code",
      "source": [
        "from langfuse.langchain import CallbackHandler\n",
        "from langfuse import get_client\n",
        "\n",
        "os.environ[\"LANGFUSE_PUBLIC_KEY\"] = os.getenv(\"LANGFUSE_PUBLIC_KEY\")\n",
        "os.environ[\"LANGFUSE_SECRET_KEY\"] = os.getenv(\"LANGFUSE_SECRET_KEY\")\n",
        "os.environ[\"LANGFUSE_HOST\"] = \"https://cloud.langfuse.com\"\n",
        "\n",
        "langfuse = get_client()\n",
        "\n",
        "# Verify connection\n",
        "if langfuse.auth_check():\n",
        "    print(\"Langfuse client is authenticated and ready!\")\n",
        "else:\n",
        "    print(\"Authentication failed. Please check your credentials and host.\")\n",
        "\n",
        "langfuse_handler = CallbackHandler()"
      ],
      "metadata": {
        "id": "TOnVnH1Ni04k",
        "colab": {
          "base_uri": "https://localhost:8080/"
        },
        "outputId": "7eb20e02-e661-490b-ed1a-d10f4158dcc8"
      },
      "execution_count": null,
      "outputs": [
        {
          "output_type": "stream",
          "name": "stdout",
          "text": [
            "Langfuse client is authenticated and ready!\n"
          ]
        }
      ]
    },
    {
      "cell_type": "markdown",
      "source": [
        "## Create Retrievers for all data sources\n",
        "\n",
        "Use the Retriever Pipeline which does the following:\n",
        "\n",
        "- Load DI Output\n",
        "- Generate Parent docs\n",
        "- Create Child docs\n",
        "- Generate Summaries\n",
        "- Generate Question docs\n",
        "- Create Chroma DB\n",
        "- Create Ensemble Retriever"
      ],
      "metadata": {
        "id": "bLmnCY-W5i7K"
      }
    },
    {
      "cell_type": "code",
      "source": [
        "from multivector_utils import create_retriever_pipeline"
      ],
      "metadata": {
        "id": "b_RD9kBJIeAy"
      },
      "execution_count": null,
      "outputs": []
    },
    {
      "cell_type": "markdown",
      "source": [
        "### Retriever for Insurance Policy Document"
      ],
      "metadata": {
        "id": "ZFjGGL5s5X7y"
      }
    },
    {
      "cell_type": "code",
      "source": [
        "insurance_policy_retriever = create_retriever_pipeline(\n",
        "    di_results_filename=\"Insurance_Policy_results.pkl\",\n",
        "    source_file_name=\"Insurance_Policy\",\n",
        "    vector_db_name=\"chroma-insurance-policy\",\n",
        "    embeddings_model=embeddings,\n",
        "    llm_model=llm,\n",
        "    vectorstore_exists=True\n",
        ")"
      ],
      "metadata": {
        "id": "V0c143G943OP",
        "collapsed": true
      },
      "execution_count": null,
      "outputs": []
    },
    {
      "cell_type": "markdown",
      "source": [
        "### Retriever for Leave Policy Document"
      ],
      "metadata": {
        "id": "YKh2FU-k5mxP"
      }
    },
    {
      "cell_type": "code",
      "source": [
        "leave_policy_retriever = create_retriever_pipeline(\n",
        "    di_results_filename=\"Leave_Policy_results.pkl\",\n",
        "    source_file_name=\"Leave_Policy\",\n",
        "    vector_db_name=\"chroma-leave-policy\",\n",
        "    embeddings_model=embeddings,\n",
        "    llm_model=llm,\n",
        "    vectorstore_exists=True\n",
        ")"
      ],
      "metadata": {
        "collapsed": true,
        "id": "HKDWJ-d_ZxyX"
      },
      "execution_count": null,
      "outputs": []
    },
    {
      "cell_type": "markdown",
      "source": [
        "### Retriever for Microsoft 2023 & 2024 Documents"
      ],
      "metadata": {
        "id": "lMURab_25oNO"
      }
    },
    {
      "cell_type": "code",
      "source": [
        "MS23_retriever = create_retriever_pipeline(\n",
        "    di_results_filename=\"Microsoft_2023_results.pkl\",\n",
        "    source_file_name=\"Microsoft_2023\",\n",
        "    vector_db_name=\"chroma-microsoft-2023\",\n",
        "    embeddings_model=embeddings,\n",
        "    llm_model=llm,\n",
        "    vectorstore_exists=True\n",
        ")"
      ],
      "metadata": {
        "collapsed": true,
        "id": "mQsY7v-TgVNW"
      },
      "execution_count": null,
      "outputs": []
    },
    {
      "cell_type": "code",
      "source": [
        "MS24_retriever = create_retriever_pipeline(\n",
        "    di_results_filename=\"Microsoft_2024_results.pkl\",\n",
        "    source_file_name=\"Microsoft_2024\",\n",
        "    vector_db_name=\"chroma-microsoft-2024\",\n",
        "    embeddings_model=embeddings,\n",
        "    llm_model=llm,\n",
        "    vectorstore_exists=True\n",
        ")"
      ],
      "metadata": {
        "collapsed": true,
        "id": "fDf-YzI8gVds"
      },
      "execution_count": null,
      "outputs": []
    },
    {
      "cell_type": "markdown",
      "source": [
        "### Retriever for Apple 2023 & 2024 Documents"
      ],
      "metadata": {
        "id": "qaiqoGeD5w8J"
      }
    },
    {
      "cell_type": "code",
      "source": [
        "AP23_retriever = create_retriever_pipeline(\n",
        "    di_results_filename=\"Apple_2023_results.pkl\",\n",
        "    source_file_name=\"Apple_2023\",\n",
        "    vector_db_name=\"chroma-apple-2023\",\n",
        "    embeddings_model=embeddings,\n",
        "    llm_model=llm,\n",
        "    vectorstore_exists=True\n",
        ")"
      ],
      "metadata": {
        "id": "Bd7W-w1YgVu2",
        "collapsed": true
      },
      "execution_count": null,
      "outputs": []
    },
    {
      "cell_type": "code",
      "source": [
        "AP24_retriever = create_retriever_pipeline(\n",
        "    di_results_filename=\"Apple_2024_results.pkl\",\n",
        "    source_file_name=\"Apple_2024\",\n",
        "    vector_db_name=\"chroma-apple-2024\",\n",
        "    embeddings_model=embeddings,\n",
        "    llm_model=llm,\n",
        "    vectorstore_exists=True\n",
        ")"
      ],
      "metadata": {
        "id": "7AW20WpWgV7F",
        "collapsed": true
      },
      "execution_count": null,
      "outputs": []
    },
    {
      "cell_type": "markdown",
      "source": [
        "## Traditional RAG\n",
        "\n",
        "to add a picture"
      ],
      "metadata": {
        "id": "lwX6L52K-Kno"
      }
    },
    {
      "cell_type": "markdown",
      "source": [
        "### Define Prompt"
      ],
      "metadata": {
        "id": "3yyge56K-Zdr"
      }
    },
    {
      "cell_type": "code",
      "source": [
        "from langchain.prompts import ChatPromptTemplate\n",
        "\n",
        "template = \"\"\"You are an assistant for question-answering tasks.\n",
        "Use the following pieces of retrieved context to answer the question.\n",
        "If you don't know the answer, just say that you don't know.\n",
        "Use three sentences maximum and keep the answer concise.\n",
        "Avoid using generic phrases like \"Provide context\" or \"as per context.\n",
        "\n",
        "Question: {input}\n",
        "\n",
        "Context: {context}\n",
        "\n",
        "Answer:\n",
        "\"\"\"\n",
        "prompt = ChatPromptTemplate.from_template(template)"
      ],
      "metadata": {
        "id": "DmVf3EUu-MXE"
      },
      "execution_count": null,
      "outputs": []
    },
    {
      "cell_type": "markdown",
      "source": [
        "## Combine all Retrievers using LOTR - MergerRetriever\n",
        "\n",
        "**Lord of the Retrievers (LOTR)**, also known as **MergerRetriever**, takes a list of retrievers as input and merges the results of their get_relevant_documents() methods into a single list. The merged results will be a list of documents that are relevant to the query and that have been ranked by the different retrievers.\n",
        "\n",
        "The MergerRetriever class can be used to improve the accuracy of document retrieval in a number of ways. First, it can combine the results of multiple retrievers, which can help to reduce the risk of bias in the results. Second, it can rank the results of the different retrievers, which can help to ensure that the most relevant documents are returned first."
      ],
      "metadata": {
        "id": "1WSc4K3v_jq7"
      }
    },
    {
      "cell_type": "code",
      "source": [
        "from langchain.retrievers import MergerRetriever\n",
        "\n",
        "# The Lord of the Retrievers will hold the output of all retrievers and can be used as any other retriever on different types of chains.\n",
        "lotr = MergerRetriever(retrievers=[insurance_policy_retriever,\n",
        "                                   leave_policy_retriever,\n",
        "                                   MS23_retriever,\n",
        "                                   MS24_retriever,\n",
        "                                   AP23_retriever,\n",
        "                                   AP24_retriever])"
      ],
      "metadata": {
        "id": "vi0YkZa2_kBa"
      },
      "execution_count": null,
      "outputs": []
    },
    {
      "cell_type": "markdown",
      "source": [
        "### Create Simple RAG Chain"
      ],
      "metadata": {
        "id": "yaE415bf-cjq"
      }
    },
    {
      "cell_type": "code",
      "source": [
        "from langchain.chains import create_retrieval_chain\n",
        "from langchain.chains.combine_documents import create_stuff_documents_chain\n",
        "\n",
        "# Create a chain to combine documents\n",
        "combine_docs_chain = create_stuff_documents_chain(llm, prompt)\n",
        "\n",
        "# Create a retrieval chain\n",
        "rag_chain = create_retrieval_chain(lotr, combine_docs_chain)"
      ],
      "metadata": {
        "id": "gITGfuvB-TcY"
      },
      "execution_count": null,
      "outputs": []
    },
    {
      "cell_type": "markdown",
      "source": [
        "### Test Q&A"
      ],
      "metadata": {
        "id": "-F8KBqgv-gnR"
      }
    },
    {
      "cell_type": "code",
      "source": [
        "from IPython.display import Markdown\n",
        "\n",
        "question = \"I am planning to adopt a kid. How many leaves can I avail and What are the Insurance benefits I can get? What are the latest adoption policies of Indian Government as of 2025?\"\n",
        "response = rag_chain.invoke({\"input\": question},config={\"callbacks\": [langfuse_handler]})\n",
        "\n",
        "display(Markdown(response[\"answer\"]))"
      ],
      "metadata": {
        "colab": {
          "base_uri": "https://localhost:8080/",
          "height": 116
        },
        "id": "bITz4yUS-XlH",
        "outputId": "a27d8c02-9b79-4e4f-c2d3-9912777eed24"
      },
      "execution_count": null,
      "outputs": [
        {
          "output_type": "display_data",
          "data": {
            "text/plain": [
              "<IPython.core.display.Markdown object>"
            ],
            "text/markdown": "If you are planning to adopt a child, you are eligible for 26 weeks of parental leave, which must be availed within one year of the child's adoption. Insurance benefits under your group medical plan include coverage for hospitalization, pre- and post-hospitalization expenses, and newborn coverage from day one (subject to intimation to HR within 15 days), but you should confirm with your HR or TPA for specific adoption-related inclusions. As of 2025, the latest Indian government adoption policies continue to allow adoption by eligible individuals and couples, with leave and insurance benefits as per organizational and statutory norms; for detailed legal procedures and eligibility, refer to the Central Adoption Resource Authority (CARA) guidelines."
          },
          "metadata": {}
        }
      ]
    },
    {
      "cell_type": "code",
      "source": [
        "question = \"Compare the profits of Microsoft & Apple in 2024\"\n",
        "response = rag_chain.invoke({\"input\": question}, config={\"callbacks\": [langfuse_handler]})\n",
        "\n",
        "display(Markdown(response[\"answer\"]))"
      ],
      "metadata": {
        "id": "uIyW7UWu-v1k",
        "colab": {
          "base_uri": "https://localhost:8080/",
          "height": 89
        },
        "outputId": "8017648e-44f7-4dcd-a556-a5566ed852af"
      },
      "execution_count": null,
      "outputs": [
        {
          "output_type": "display_data",
          "data": {
            "text/plain": [
              "<IPython.core.display.Markdown object>"
            ],
            "text/markdown": "In fiscal year 2024, Microsoft reported net income of $88.1 billion, while Apple reported net income of $93.7 billion. Despite Apple having higher net income, Microsoft's operating income was $109.4 billion compared to Apple's $123.2 billion. Both companies remained highly profitable, but Apple had a higher net profit for the year."
          },
          "metadata": {}
        }
      ]
    },
    {
      "cell_type": "code",
      "source": [],
      "metadata": {
        "id": "07QQ0TA4IGEL"
      },
      "execution_count": null,
      "outputs": []
    }
  ]
}
