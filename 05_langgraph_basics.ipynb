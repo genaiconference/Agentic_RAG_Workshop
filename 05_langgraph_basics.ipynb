{
  "cells": [
    {
      "cell_type": "markdown",
      "metadata": {
        "id": "view-in-github",
        "colab_type": "text"
      },
      "source": [
        "<a href=\"https://colab.research.google.com/github/genaiconference/Agentic_RAG_Workshop/blob/main/05_langgraph_basics.ipynb\" target=\"_parent\"><img src=\"https://colab.research.google.com/assets/colab-badge.svg\" alt=\"Open In Colab\"/></a>"
      ]
    },
    {
      "cell_type": "markdown",
      "metadata": {
        "id": "XfLeLYseAHdK"
      },
      "source": [
        "# **Contents**\n",
        "\n",
        "* Node\n",
        "* Edge\n",
        "* Stream\n",
        "* Build Simple Graph using LangGraph\n",
        "* Example: Sentiment Analysis\n",
        "* State\n",
        "* Example: Sentiment Analysis with Graph State\n",
        "* Conditional Edge\n",
        "* Example: Analyze the review further if the sentiment is Negative/Mixed\n",
        "* Branching\n",
        "* Example: Demo code to see the power of branching\n"
      ]
    },
    {
      "cell_type": "code",
      "execution_count": null,
      "metadata": {
        "collapsed": true,
        "id": "0hdKFzMf-86s",
        "jupyter": {
          "outputs_hidden": true
        }
      },
      "outputs": [],
      "source": [
        "# @title\n",
        "from IPython.display import HTML, display\n",
        "\n",
        "def set_css():\n",
        "  display(HTML('''\n",
        "  <style>\n",
        "    pre {\n",
        "        white-space: pre-wrap;\n",
        "    }\n",
        "  </style>\n",
        "  '''))\n",
        "get_ipython().events.register('pre_run_cell', set_css)"
      ]
    },
    {
      "cell_type": "code",
      "execution_count": null,
      "metadata": {
        "colab": {
          "base_uri": "https://localhost:8080/",
          "height": 17
        },
        "id": "Oyyy4vZZEULN",
        "outputId": "4b5b0bd2-d5ed-469c-aefe-aceb0266536b",
        "cellView": "form"
      },
      "outputs": [
        {
          "output_type": "display_data",
          "data": {
            "text/plain": [
              "<IPython.core.display.HTML object>"
            ],
            "text/html": [
              "\n",
              "  <style>\n",
              "    pre {\n",
              "        white-space: pre-wrap;\n",
              "    }\n",
              "  </style>\n",
              "  "
            ]
          },
          "metadata": {}
        }
      ],
      "source": [
        "# @title\n",
        "from google.colab.output import eval_js\n",
        "eval_js('google.colab.output.setIframeHeight(0, true, {maxHeight: 5000})')\n"
      ]
    },
    {
      "cell_type": "markdown",
      "source": [
        "## Setup and Installations"
      ],
      "metadata": {
        "id": "LpEQTermj9cs"
      }
    },
    {
      "cell_type": "code",
      "source": [
        "# !git clone https://github.com/genaiconference/Agentic_RAG_Workshop.git"
      ],
      "metadata": {
        "id": "EmZr2vQwOm8T"
      },
      "execution_count": null,
      "outputs": []
    },
    {
      "cell_type": "code",
      "source": [
        "!pip install -q langchain==0.2.9 langchain-openai==0.1.7 langgraph==0.0.55 tavily-python==0.3.5 python_dotenv==1.0.1 simple-colors==0.1.5"
      ],
      "metadata": {
        "id": "9935Ik97OkRB",
        "colab": {
          "base_uri": "https://localhost:8080/"
        },
        "outputId": "630355d5-151d-465c-fd11-57da9df5df57"
      },
      "execution_count": null,
      "outputs": [
        {
          "output_type": "stream",
          "name": "stdout",
          "text": [
            "\u001b[2K     \u001b[90m━━━━━━━━━━━━━━━━━━━━━━━━━━━━━━━━━━━━━━━━\u001b[0m \u001b[32m61.0/61.0 kB\u001b[0m \u001b[31m4.1 MB/s\u001b[0m eta \u001b[36m0:00:00\u001b[0m\n",
            "\u001b[2K   \u001b[90m━━━━━━━━━━━━━━━━━━━━━━━━━━━━━━━━━━━━━━━━\u001b[0m \u001b[32m987.7/987.7 kB\u001b[0m \u001b[31m46.3 MB/s\u001b[0m eta \u001b[36m0:00:00\u001b[0m\n",
            "\u001b[2K   \u001b[90m━━━━━━━━━━━━━━━━━━━━━━━━━━━━━━━━━━━━━━━━\u001b[0m \u001b[32m84.1/84.1 kB\u001b[0m \u001b[31m6.5 MB/s\u001b[0m eta \u001b[36m0:00:00\u001b[0m\n",
            "\u001b[2K   \u001b[90m━━━━━━━━━━━━━━━━━━━━━━━━━━━━━━━━━━━━━━━━\u001b[0m \u001b[32m397.1/397.1 kB\u001b[0m \u001b[31m17.7 MB/s\u001b[0m eta \u001b[36m0:00:00\u001b[0m\n",
            "\u001b[2K   \u001b[90m━━━━━━━━━━━━━━━━━━━━━━━━━━━━━━━━━━━━━━━━\u001b[0m \u001b[32m311.8/311.8 kB\u001b[0m \u001b[31m14.8 MB/s\u001b[0m eta \u001b[36m0:00:00\u001b[0m\n",
            "\u001b[2K   \u001b[90m━━━━━━━━━━━━━━━━━━━━━━━━━━━━━━━━━━━━━━━━\u001b[0m \u001b[32m18.0/18.0 MB\u001b[0m \u001b[31m65.3 MB/s\u001b[0m eta \u001b[36m0:00:00\u001b[0m\n",
            "\u001b[2K   \u001b[90m━━━━━━━━━━━━━━━━━━━━━━━━━━━━━━━━━━━━━━━━\u001b[0m \u001b[32m65.5/65.5 kB\u001b[0m \u001b[31m6.0 MB/s\u001b[0m eta \u001b[36m0:00:00\u001b[0m\n",
            "\u001b[?25h\u001b[31mERROR: pip's dependency resolver does not currently take into account all the packages that are installed. This behaviour is the source of the following dependency conflicts.\n",
            "opencv-python-headless 4.12.0.88 requires numpy<2.3.0,>=2; python_version >= \"3.9\", but you have numpy 1.26.4 which is incompatible.\n",
            "opencv-contrib-python 4.12.0.88 requires numpy<2.3.0,>=2; python_version >= \"3.9\", but you have numpy 1.26.4 which is incompatible.\n",
            "opencv-python 4.12.0.88 requires numpy<2.3.0,>=2; python_version >= \"3.9\", but you have numpy 1.26.4 which is incompatible.\n",
            "thinc 8.3.6 requires numpy<3.0.0,>=2.0.0, but you have numpy 1.26.4 which is incompatible.\u001b[0m\u001b[31m\n",
            "\u001b[0m"
          ]
        }
      ]
    },
    {
      "cell_type": "markdown",
      "source": [
        "## Load env and Define LLM"
      ],
      "metadata": {
        "id": "xTqKQykkkFhS"
      }
    },
    {
      "cell_type": "code",
      "source": [
        "import os\n",
        "from dotenv import load_dotenv\n",
        "from langchain_openai import ChatOpenAI\n",
        "\n",
        "load_dotenv(dotenv_path=\"/content/.env\")\n",
        "\n",
        "llm  = ChatOpenAI(model=\"gpt-4.1\")"
      ],
      "metadata": {
        "id": "bkwELqUn9-2M",
        "outputId": "bc5d47a7-a27f-4af5-c68f-b677b1bc4c6f",
        "colab": {
          "base_uri": "https://localhost:8080/",
          "height": 17
        }
      },
      "execution_count": null,
      "outputs": [
        {
          "output_type": "display_data",
          "data": {
            "text/plain": [
              "<IPython.core.display.HTML object>"
            ],
            "text/html": [
              "\n",
              "  <style>\n",
              "    pre {\n",
              "        white-space: pre-wrap;\n",
              "    }\n",
              "  </style>\n",
              "  "
            ]
          },
          "metadata": {}
        }
      ]
    },
    {
      "cell_type": "code",
      "execution_count": null,
      "metadata": {
        "colab": {
          "base_uri": "https://localhost:8080/",
          "height": 90
        },
        "id": "nSr8P0fKFIG-",
        "outputId": "b4c99ae1-942e-4046-9f45-67512f1f2e4a"
      },
      "outputs": [
        {
          "output_type": "display_data",
          "data": {
            "text/plain": [
              "<IPython.core.display.HTML object>"
            ],
            "text/html": [
              "\n",
              "  <style>\n",
              "    pre {\n",
              "        white-space: pre-wrap;\n",
              "    }\n",
              "  </style>\n",
              "  "
            ]
          },
          "metadata": {}
        },
        {
          "output_type": "execute_result",
          "data": {
            "text/plain": [
              "AIMessage(content='Ideas buzzing—  \\nCode and minds intertwine bright.  \\nTomorrow takes shape.', response_metadata={'token_usage': {'completion_tokens': 16, 'prompt_tokens': 12, 'total_tokens': 28, 'completion_tokens_details': {'accepted_prediction_tokens': 0, 'audio_tokens': 0, 'reasoning_tokens': 0, 'rejected_prediction_tokens': 0}, 'prompt_tokens_details': {'audio_tokens': 0, 'cached_tokens': 0}}, 'model_name': 'gpt-4.1', 'system_fingerprint': 'fp_3502f4eb73', 'finish_reason': 'stop', 'logprobs': None}, id='run-86320675-ced6-4d19-9711-e0ed4d2ff5f2-0')"
            ]
          },
          "metadata": {},
          "execution_count": 6
        }
      ],
      "source": [
        "llm.invoke(\"Haiku about AI conference\")"
      ]
    },
    {
      "cell_type": "markdown",
      "source": [
        "# **Now Let's understand the step by step creation of a Graph**"
      ],
      "metadata": {
        "id": "ovRRRzSpXHWH"
      }
    },
    {
      "cell_type": "markdown",
      "metadata": {
        "id": "pR84e87bNyU4"
      },
      "source": [
        "## Let's start building a simple Graph\n",
        "Two Nodes connected using an Edge\n"
      ]
    },
    {
      "cell_type": "markdown",
      "source": [
        "![image.png](data:image/png;base64,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)"
      ],
      "metadata": {
        "id": "nc6xdxzeJbGF"
      }
    },
    {
      "cell_type": "markdown",
      "metadata": {
        "id": "0VbTDPGPOGlJ"
      },
      "source": [
        "Step 1: Define two functions"
      ]
    },
    {
      "cell_type": "code",
      "execution_count": null,
      "metadata": {
        "id": "GUSU61hTK1C5",
        "outputId": "6e7508f0-725c-4c94-a962-a074b5e04d4f",
        "colab": {
          "base_uri": "https://localhost:8080/",
          "height": 17
        }
      },
      "outputs": [
        {
          "output_type": "display_data",
          "data": {
            "text/plain": [
              "<IPython.core.display.HTML object>"
            ],
            "text/html": [
              "\n",
              "  <style>\n",
              "    pre {\n",
              "        white-space: pre-wrap;\n",
              "    }\n",
              "  </style>\n",
              "  "
            ]
          },
          "metadata": {}
        }
      ],
      "source": [
        "def func_1(input_1):\n",
        "    return input_1 + \" First Function\"\n",
        "\n",
        "def func_2(input_2):\n",
        "    return input_2 + \" to Second Function\""
      ]
    },
    {
      "cell_type": "markdown",
      "source": [
        "Step 2: Define Graph and add functions as Nodes"
      ],
      "metadata": {
        "id": "zRFz_3W9l9aZ"
      }
    },
    {
      "cell_type": "code",
      "execution_count": null,
      "metadata": {
        "id": "VDnBA9-ZK254",
        "outputId": "8e8fcf43-75c2-44b7-b994-3603fcb027c5",
        "colab": {
          "base_uri": "https://localhost:8080/",
          "height": 17
        }
      },
      "outputs": [
        {
          "output_type": "display_data",
          "data": {
            "text/plain": [
              "<IPython.core.display.HTML object>"
            ],
            "text/html": [
              "\n",
              "  <style>\n",
              "    pre {\n",
              "        white-space: pre-wrap;\n",
              "    }\n",
              "  </style>\n",
              "  "
            ]
          },
          "metadata": {}
        }
      ],
      "source": [
        "from langgraph.graph import Graph\n",
        "\n",
        "# Define a graph\n",
        "workflow = Graph()"
      ]
    },
    {
      "cell_type": "markdown",
      "source": [
        "![image.png](data:image/png;base64,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)"
      ],
      "metadata": {
        "id": "ak5l6Rw56gzw"
      }
    },
    {
      "cell_type": "code",
      "source": [
        "# Add nodes to the graph\n",
        "workflow.add_node(\"node_1\",func_1)\n",
        "workflow.add_node(\"node_2\",func_2)"
      ],
      "metadata": {
        "id": "h-vyM3tX4hmh",
        "outputId": "833bf599-1fd6-4393-f943-9703303cf24c",
        "colab": {
          "base_uri": "https://localhost:8080/",
          "height": 17
        }
      },
      "execution_count": null,
      "outputs": [
        {
          "output_type": "display_data",
          "data": {
            "text/plain": [
              "<IPython.core.display.HTML object>"
            ],
            "text/html": [
              "\n",
              "  <style>\n",
              "    pre {\n",
              "        white-space: pre-wrap;\n",
              "    }\n",
              "  </style>\n",
              "  "
            ]
          },
          "metadata": {}
        }
      ]
    },
    {
      "cell_type": "markdown",
      "source": [
        "Step 3: Define a work flow and compile the Graph"
      ],
      "metadata": {
        "id": "O9jfoiG0npUH"
      }
    },
    {
      "cell_type": "code",
      "execution_count": null,
      "metadata": {
        "id": "ZYpBKBUeQiuW",
        "outputId": "ea2c1550-ece9-420d-d3a5-d2d717d5928f",
        "colab": {
          "base_uri": "https://localhost:8080/",
          "height": 17
        }
      },
      "outputs": [
        {
          "output_type": "display_data",
          "data": {
            "text/plain": [
              "<IPython.core.display.HTML object>"
            ],
            "text/html": [
              "\n",
              "  <style>\n",
              "    pre {\n",
              "        white-space: pre-wrap;\n",
              "    }\n",
              "  </style>\n",
              "  "
            ]
          },
          "metadata": {}
        }
      ],
      "source": [
        "#Set Entry and Exit points\n",
        "workflow.set_entry_point(\"node_1\")\n",
        "\n",
        "# Time to add edge\n",
        "workflow.add_edge(\"node_1\", \"node_2\")\n",
        "\n",
        "workflow.set_finish_point(\"node_2\")\n",
        "\n",
        "graph = workflow.compile()"
      ]
    },
    {
      "cell_type": "markdown",
      "source": [
        "# **Now your Graph is Ready!!**"
      ],
      "metadata": {
        "id": "zi9-7KVEn7Gc"
      }
    },
    {
      "cell_type": "markdown",
      "source": [
        "![image.png](data:image/png;base64,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)"
      ],
      "metadata": {
        "id": "CZVbYjIRTbWb"
      }
    },
    {
      "cell_type": "markdown",
      "source": [
        "**Question**: Can I visualize the Graph I build?\n",
        "\n",
        "**Answer**: YES!"
      ],
      "metadata": {
        "id": "c3t8KxlIoI0N"
      }
    },
    {
      "cell_type": "markdown",
      "source": [
        "Now Let's Visualize the Graph"
      ],
      "metadata": {
        "id": "J3uCl394odYu"
      }
    },
    {
      "cell_type": "code",
      "source": [
        "from IPython.display import Image, display\n",
        "\n",
        "display(Image(graph.get_graph().draw_mermaid_png()))"
      ],
      "metadata": {
        "colab": {
          "base_uri": "https://localhost:8080/",
          "height": 350
        },
        "id": "ovp4OWwQoSi7",
        "outputId": "ab4d6721-ce80-4788-cd11-fd4cbbd8e3e6"
      },
      "execution_count": null,
      "outputs": [
        {
          "output_type": "display_data",
          "data": {
            "text/plain": [
              "<IPython.core.display.HTML object>"
            ],
            "text/html": [
              "\n",
              "  <style>\n",
              "    pre {\n",
              "        white-space: pre-wrap;\n",
              "    }\n",
              "  </style>\n",
              "  "
            ]
          },
          "metadata": {}
        },
        {
          "output_type": "display_data",
          "data": {
            "image/jpeg": "[encoded data removed]",
            "text/plain": [
              "<IPython.core.display.Image object>"
            ]
          },
          "metadata": {}
        }
      ]
    },
    {
      "cell_type": "markdown",
      "source": [
        "Now Let's run the Graph"
      ],
      "metadata": {
        "id": "Nl65utkSn0dP"
      }
    },
    {
      "cell_type": "code",
      "execution_count": null,
      "metadata": {
        "colab": {
          "base_uri": "https://localhost:8080/",
          "height": 36
        },
        "id": "CHhPKaQyLnzH",
        "outputId": "52abfb72-f6a7-4c3e-8c93-ac74bc00f14b"
      },
      "outputs": [
        {
          "output_type": "display_data",
          "data": {
            "text/plain": [
              "<IPython.core.display.HTML object>"
            ],
            "text/html": [
              "\n",
              "  <style>\n",
              "    pre {\n",
              "        white-space: pre-wrap;\n",
              "    }\n",
              "  </style>\n",
              "  "
            ]
          },
          "metadata": {}
        },
        {
          "output_type": "execute_result",
          "data": {
            "text/plain": [
              "'I move from First Function to Second Function'"
            ],
            "application/vnd.google.colaboratory.intrinsic+json": {
              "type": "string"
            }
          },
          "metadata": {},
          "execution_count": 12
        }
      ],
      "source": [
        "graph.invoke(\"I move from\")"
      ]
    },
    {
      "cell_type": "markdown",
      "source": [
        "**Question**: Can I experience the happenings in the Graph as it executes?\n",
        "\n",
        "**Answer**: Yes, using the concept called **Streaming**"
      ],
      "metadata": {
        "id": "BKp-4KOspB-u"
      }
    },
    {
      "cell_type": "markdown",
      "metadata": {
        "id": "LOl__FZCM5DO"
      },
      "source": [
        "# **Streaming output from LangGraph**\n",
        "\n",
        "stream() method outputs dictionary of the format\n",
        "\n",
        "```\n",
        "{node_name : output_from_the_node}\n",
        "```\n",
        "\n"
      ]
    },
    {
      "cell_type": "markdown",
      "source": [
        "Lets travel through the Graph"
      ],
      "metadata": {
        "id": "mhsfJBytpqIj"
      }
    },
    {
      "cell_type": "code",
      "execution_count": null,
      "metadata": {
        "colab": {
          "base_uri": "https://localhost:8080/",
          "height": 163
        },
        "id": "b7sJiErTMAcp",
        "outputId": "b195b985-8537-4f8b-a548-0d045111b298"
      },
      "outputs": [
        {
          "output_type": "display_data",
          "data": {
            "text/plain": [
              "<IPython.core.display.HTML object>"
            ],
            "text/html": [
              "\n",
              "  <style>\n",
              "    pre {\n",
              "        white-space: pre-wrap;\n",
              "    }\n",
              "  </style>\n",
              "  "
            ]
          },
          "metadata": {}
        },
        {
          "output_type": "stream",
          "name": "stdout",
          "text": [
            "Output from 'node_1':\n",
            "I am moving from First Function\n",
            "---\n",
            "\n",
            "Output from 'node_2':\n",
            "I am moving from First Function to Second Function\n",
            "---\n",
            "\n"
          ]
        }
      ],
      "source": [
        "graph_input = 'I am moving from'\n",
        "for output in graph.stream(graph_input):\n",
        "    # stream() yields dictionaries with output keyed by node name\n",
        "    for key, value in output.items():\n",
        "        print(f\"Output from '{key}':\")\n",
        "        print(value)\n",
        "\n",
        "    print(\"---\\n\")"
      ]
    },
    {
      "cell_type": "markdown",
      "source": [
        "Let's formalize a typical Graph building"
      ],
      "metadata": {
        "id": "Bui6JW19Lajb"
      }
    },
    {
      "cell_type": "markdown",
      "source": [
        "# **Step-by-Step building of a Graph**"
      ],
      "metadata": {
        "id": "sLUBzj51LO56"
      }
    },
    {
      "cell_type": "markdown",
      "source": [
        "![image.png](data:image/png;base64,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)"
      ],
      "metadata": {
        "id": "gNv4aNh-LLAY"
      }
    },
    {
      "cell_type": "markdown",
      "source": [
        "# **Now Let's build something Intersting using LangGraph**"
      ],
      "metadata": {
        "id": "fRpJbrpTrSIZ"
      }
    },
    {
      "cell_type": "markdown",
      "metadata": {
        "id": "qRdINK1AVLNa"
      },
      "source": [
        "## Sentiment Analysis using LangGraph"
      ]
    },
    {
      "cell_type": "markdown",
      "source": [
        "Define functions for Nodes"
      ],
      "metadata": {
        "id": "LWuQUYJgricl"
      }
    },
    {
      "cell_type": "code",
      "execution_count": null,
      "metadata": {
        "id": "vOz4lSA2VRju",
        "outputId": "639a4ce9-4187-4c5b-e00e-0e03513fdb90",
        "colab": {
          "base_uri": "https://localhost:8080/",
          "height": 17
        }
      },
      "outputs": [
        {
          "output_type": "display_data",
          "data": {
            "text/plain": [
              "<IPython.core.display.HTML object>"
            ],
            "text/html": [
              "\n",
              "  <style>\n",
              "    pre {\n",
              "        white-space: pre-wrap;\n",
              "    }\n",
              "  </style>\n",
              "  "
            ]
          },
          "metadata": {}
        }
      ],
      "source": [
        "def sentiment_analysis(input_1):\n",
        "    SA_prompt = f\"\"\"You are an expert at performing sentiment analysis.\n",
        "    Your task is identify the sentiment of the provided input.\n",
        "    Provide only the sentiment based on the user input.\n",
        "    Don't include reasoning.\n",
        "\n",
        "    User input: {input_1}\"\"\"\n",
        "\n",
        "    response = llm.invoke(SA_prompt)\n",
        "    return response.content\n",
        "\n",
        "def convert_to_upper(input_2):\n",
        "    Sentiment_UPPER = input_2.upper()\n",
        "    response = f\"Here is the SENTIMENT in UPPER case: {Sentiment_UPPER}\"\n",
        "    return response"
      ]
    },
    {
      "cell_type": "markdown",
      "source": [
        "Construct the Graph Workflow"
      ],
      "metadata": {
        "id": "UUp-lTGcrmX0"
      }
    },
    {
      "cell_type": "code",
      "execution_count": null,
      "metadata": {
        "id": "BcdtZwc8XjZL",
        "outputId": "3bf5e269-59dd-4753-b544-5cf24ffd7248",
        "colab": {
          "base_uri": "https://localhost:8080/",
          "height": 17
        }
      },
      "outputs": [
        {
          "output_type": "display_data",
          "data": {
            "text/plain": [
              "<IPython.core.display.HTML object>"
            ],
            "text/html": [
              "\n",
              "  <style>\n",
              "    pre {\n",
              "        white-space: pre-wrap;\n",
              "    }\n",
              "  </style>\n",
              "  "
            ]
          },
          "metadata": {}
        }
      ],
      "source": [
        "# Define a Langchain graph\n",
        "workflow = Graph()\n",
        "\n",
        "workflow.add_node(\"sentiment_analysis\", sentiment_analysis)\n",
        "workflow.add_node(\"convert_to_upper\", convert_to_upper)\n",
        "\n",
        "workflow.set_entry_point(\"sentiment_analysis\")\n",
        "\n",
        "workflow.add_edge('sentiment_analysis', 'convert_to_upper')\n",
        "\n",
        "workflow.set_finish_point(\"convert_to_upper\")\n",
        "\n",
        "app = workflow.compile()"
      ]
    },
    {
      "cell_type": "markdown",
      "metadata": {
        "id": "mry4x6yuFIHI"
      },
      "source": [
        "### Visulize the Graph"
      ]
    },
    {
      "cell_type": "code",
      "execution_count": null,
      "metadata": {
        "colab": {
          "base_uri": "https://localhost:8080/",
          "height": 350
        },
        "id": "Ii-TlN2FFIHJ",
        "outputId": "debd3389-07f2-4fac-9474-ad1ad9e5d57b"
      },
      "outputs": [
        {
          "output_type": "display_data",
          "data": {
            "text/plain": [
              "<IPython.core.display.HTML object>"
            ],
            "text/html": [
              "\n",
              "  <style>\n",
              "    pre {\n",
              "        white-space: pre-wrap;\n",
              "    }\n",
              "  </style>\n",
              "  "
            ]
          },
          "metadata": {}
        },
        {
          "output_type": "display_data",
          "data": {
            "image/jpeg": "[encoded data removed]",
            "text/plain": [
              "<IPython.core.display.Image object>"
            ]
          },
          "metadata": {}
        }
      ],
      "source": [
        "from IPython.display import Image, display\n",
        "\n",
        "display(Image(app.get_graph().draw_mermaid_png()))"
      ]
    },
    {
      "cell_type": "markdown",
      "source": [
        "Now Let's run the Graph to identify the sentiments of Tweets"
      ],
      "metadata": {
        "id": "XZG_WJOyr5dA"
      }
    },
    {
      "cell_type": "code",
      "execution_count": null,
      "metadata": {
        "colab": {
          "base_uri": "https://localhost:8080/",
          "height": 36
        },
        "id": "3nBUCBkmXqkN",
        "outputId": "61555566-5d72-485e-b22f-25f7bd9b388e"
      },
      "outputs": [
        {
          "output_type": "display_data",
          "data": {
            "text/plain": [
              "<IPython.core.display.HTML object>"
            ],
            "text/html": [
              "\n",
              "  <style>\n",
              "    pre {\n",
              "        white-space: pre-wrap;\n",
              "    }\n",
              "  </style>\n",
              "  "
            ]
          },
          "metadata": {}
        },
        {
          "output_type": "execute_result",
          "data": {
            "text/plain": [
              "'Here is the SENTIMENT in UPPER case: NEGATIVE'"
            ],
            "application/vnd.google.colaboratory.intrinsic+json": {
              "type": "string"
            }
          },
          "metadata": {},
          "execution_count": 17
        }
      ],
      "source": [
        "tweet = \"The movie was so nice that I walked out in 2 min\"\n",
        "app.invoke(tweet)"
      ]
    },
    {
      "cell_type": "code",
      "execution_count": null,
      "metadata": {
        "colab": {
          "base_uri": "https://localhost:8080/",
          "height": 36
        },
        "id": "Os8LiDo0Xw5w",
        "outputId": "0ceec2fc-d50e-4b10-a3c1-6bb69e110627"
      },
      "outputs": [
        {
          "output_type": "display_data",
          "data": {
            "text/plain": [
              "<IPython.core.display.HTML object>"
            ],
            "text/html": [
              "\n",
              "  <style>\n",
              "    pre {\n",
              "        white-space: pre-wrap;\n",
              "    }\n",
              "  </style>\n",
              "  "
            ]
          },
          "metadata": {}
        },
        {
          "output_type": "execute_result",
          "data": {
            "text/plain": [
              "'Here is the SENTIMENT in UPPER case: POSITIVE'"
            ],
            "application/vnd.google.colaboratory.intrinsic+json": {
              "type": "string"
            }
          },
          "metadata": {},
          "execution_count": 18
        }
      ],
      "source": [
        "tweet = \"Wish the movie was nice. But it was extraordinary\"\n",
        "app.invoke(tweet)"
      ]
    },
    {
      "cell_type": "markdown",
      "metadata": {
        "id": "ZK9skW-jFIHO"
      },
      "source": [
        "Let's experience the step by step happenings as the Graph executes"
      ]
    },
    {
      "cell_type": "code",
      "execution_count": null,
      "metadata": {
        "colab": {
          "base_uri": "https://localhost:8080/",
          "height": 199
        },
        "id": "LOwwT5AQX0Ad",
        "outputId": "a5f8c602-2b04-4884-c5e2-059194593363"
      },
      "outputs": [
        {
          "output_type": "display_data",
          "data": {
            "text/plain": [
              "<IPython.core.display.HTML object>"
            ],
            "text/html": [
              "\n",
              "  <style>\n",
              "    pre {\n",
              "        white-space: pre-wrap;\n",
              "    }\n",
              "  </style>\n",
              "  "
            ]
          },
          "metadata": {}
        },
        {
          "output_type": "stream",
          "name": "stdout",
          "text": [
            "Output from node 'sentiment_analysis':\n",
            "---\n",
            "Positive\n",
            "---\n",
            "\n",
            "Output from node 'convert_to_upper':\n",
            "---\n",
            "Here is the SENTIMENT in UPPER case: POSITIVE\n",
            "---\n",
            "\n"
          ]
        }
      ],
      "source": [
        "for output in app.stream(tweet):\n",
        "    # stream() yields dictionaries with output keyed by node name\n",
        "    for key, value in output.items():\n",
        "        print(f\"Output from node '{key}':\")\n",
        "        print(\"---\")\n",
        "        print(value)\n",
        "    print(\"---\\n\")"
      ]
    },
    {
      "cell_type": "markdown",
      "source": [
        "**Question**: This is Interesting! But I want to save the intermediate results of nodes in a centralized repository to access it all over the Graph. Is it possible?\n",
        "\n",
        "**Answer**: Yes, this is possible using **State**"
      ],
      "metadata": {
        "id": "0_QlVO6JsNgQ"
      }
    },
    {
      "cell_type": "markdown",
      "source": [
        "![image.png](data:image/png;base64,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)"
      ],
      "metadata": {
        "id": "P71vxUrKX896"
      }
    },
    {
      "cell_type": "markdown",
      "metadata": {
        "id": "t38gbzRlfN77"
      },
      "source": [
        "# **State**\n",
        "\n",
        "One of the central concepts of LangGraph is state. Each graph execution creates a state that is passed between nodes in the graph as they execute, and each node updates this internal state with its return value after it executes.\n",
        "\n",
        "\n",
        "### Benefits\n",
        "\n",
        "-Enables stateful applications that can maintain context over multiple interactions\n",
        "\n",
        "-Allows for coordination between multiple agents or components\n",
        "\n",
        "-Facilitates error handling and recovery via checkpointing\n",
        "\n",
        "-Simplifies the development of complex workflows"
      ]
    },
    {
      "cell_type": "markdown",
      "source": [
        "\n",
        "Now let's introduce \"state\" to the above Graph."
      ],
      "metadata": {
        "id": "w-FMoK9h2N-q"
      }
    },
    {
      "cell_type": "markdown",
      "source": [
        "**Define Graph State**"
      ],
      "metadata": {
        "id": "6OV1U32d25VK"
      }
    },
    {
      "cell_type": "code",
      "source": [
        "from typing_extensions import TypedDict\n",
        "\n",
        "class State(TypedDict):\n",
        "    user_review: str\n",
        "    sentiment_label: str\n",
        "    sentiment_label_in_upper: str"
      ],
      "metadata": {
        "id": "rjAdhJlh27f6",
        "outputId": "cf0ad9ea-b0c6-483b-d38b-a4102b923558",
        "colab": {
          "base_uri": "https://localhost:8080/",
          "height": 17
        }
      },
      "execution_count": null,
      "outputs": [
        {
          "output_type": "display_data",
          "data": {
            "text/plain": [
              "<IPython.core.display.HTML object>"
            ],
            "text/html": [
              "\n",
              "  <style>\n",
              "    pre {\n",
              "        white-space: pre-wrap;\n",
              "    }\n",
              "  </style>\n",
              "  "
            ]
          },
          "metadata": {}
        }
      ]
    },
    {
      "cell_type": "markdown",
      "source": [
        "State, in here is defined as a class containing a bunch of key value value pairs"
      ],
      "metadata": {
        "id": "diMZsFl_9RMp"
      }
    },
    {
      "cell_type": "code",
      "execution_count": null,
      "metadata": {
        "id": "xG1q5OChFIHR",
        "outputId": "9a2fb311-05c3-417a-f38d-db9f57535c37",
        "colab": {
          "base_uri": "https://localhost:8080/",
          "height": 17
        }
      },
      "outputs": [
        {
          "output_type": "display_data",
          "data": {
            "text/plain": [
              "<IPython.core.display.HTML object>"
            ],
            "text/html": [
              "\n",
              "  <style>\n",
              "    pre {\n",
              "        white-space: pre-wrap;\n",
              "    }\n",
              "  </style>\n",
              "  "
            ]
          },
          "metadata": {}
        }
      ],
      "source": [
        "from IPython.display import Markdown\n",
        "\n",
        "def sentiment_analysis(state):\n",
        "    print(\"------ENTERING: SENTIMENT ANALYSIS NODE------\")\n",
        "    print(f\"State: {state}\")\n",
        "    SA_prompt = f\"\"\"You are an expert at performing sentiment analysis.\n",
        "    Your task is identify the sentiment of the provided input.\n",
        "    Provide only the sentiment based on the user input.\n",
        "    Don't include reasoning.\n",
        "\n",
        "    User input: {state['user_review']}\"\"\"\n",
        "\n",
        "    response = llm.invoke(SA_prompt)\n",
        "\n",
        "    return {\"sentiment_label\": response.content}\n",
        "\n",
        "\n",
        "def convert_to_upper(state):\n",
        "    print(\"------ENTERING: CONVERT_TO_UPPER NODE------\")\n",
        "    display(Markdown(\"**State**\"))\n",
        "    print(f\"State: {state}\")\n",
        "    Sentiment_UPPER = state['sentiment_label'].upper()\n",
        "    return {\"sentiment_label_in_upper\": Sentiment_UPPER}"
      ]
    },
    {
      "cell_type": "code",
      "source": [
        "# Define a graph\n",
        "from langgraph.graph import StateGraph\n",
        "\n",
        "workflow = StateGraph(State)\n",
        "\n",
        "workflow.add_node(\"sentiment_analysis\", sentiment_analysis)\n",
        "workflow.add_node(\"convert_to_upper\", convert_to_upper)\n",
        "\n",
        "workflow.set_entry_point(\"sentiment_analysis\")\n",
        "\n",
        "workflow.add_edge('sentiment_analysis', 'convert_to_upper')\n",
        "\n",
        "workflow.set_finish_point(\"convert_to_upper\")\n",
        "\n",
        "app = workflow.compile()"
      ],
      "metadata": {
        "id": "lBr8z_ab2vf6",
        "outputId": "325a0525-472e-40fd-f831-e7e02c955a73",
        "colab": {
          "base_uri": "https://localhost:8080/",
          "height": 17
        }
      },
      "execution_count": null,
      "outputs": [
        {
          "output_type": "display_data",
          "data": {
            "text/plain": [
              "<IPython.core.display.HTML object>"
            ],
            "text/html": [
              "\n",
              "  <style>\n",
              "    pre {\n",
              "        white-space: pre-wrap;\n",
              "    }\n",
              "  </style>\n",
              "  "
            ]
          },
          "metadata": {}
        }
      ]
    },
    {
      "cell_type": "markdown",
      "metadata": {
        "id": "ndyIcsBTFIHS"
      },
      "source": [
        "### Visualize the Graph"
      ]
    },
    {
      "cell_type": "code",
      "execution_count": null,
      "metadata": {
        "colab": {
          "base_uri": "https://localhost:8080/",
          "height": 350
        },
        "id": "4irrzKztFIHT",
        "outputId": "c75d6101-8b39-4664-f905-2e6327ed52de"
      },
      "outputs": [
        {
          "output_type": "display_data",
          "data": {
            "text/plain": [
              "<IPython.core.display.HTML object>"
            ],
            "text/html": [
              "\n",
              "  <style>\n",
              "    pre {\n",
              "        white-space: pre-wrap;\n",
              "    }\n",
              "  </style>\n",
              "  "
            ]
          },
          "metadata": {}
        },
        {
          "output_type": "display_data",
          "data": {
            "image/jpeg": "[encoded data removed]",
            "text/plain": [
              "<IPython.core.display.Image object>"
            ]
          },
          "metadata": {}
        }
      ],
      "source": [
        "from IPython.display import Image, display\n",
        "\n",
        "display(Image(app.get_graph().draw_mermaid_png()))"
      ]
    },
    {
      "cell_type": "code",
      "execution_count": null,
      "metadata": {
        "colab": {
          "base_uri": "https://localhost:8080/",
          "height": 174
        },
        "id": "rPaLnsvhFIHU",
        "outputId": "15282dd7-4f24-43bd-f311-971f09c6f674"
      },
      "outputs": [
        {
          "output_type": "display_data",
          "data": {
            "text/plain": [
              "<IPython.core.display.HTML object>"
            ],
            "text/html": [
              "\n",
              "  <style>\n",
              "    pre {\n",
              "        white-space: pre-wrap;\n",
              "    }\n",
              "  </style>\n",
              "  "
            ]
          },
          "metadata": {}
        },
        {
          "output_type": "stream",
          "name": "stdout",
          "text": [
            "\u001b[1;36m{'user_review': 'The movie was so nice that I walked out in 2 min'}\u001b[0m\n",
            "------ENTERING: SENTIMENT ANALYSIS NODE------\n",
            "State: {'user_review': 'The movie was so nice that I walked out in 2 min', 'sentiment_label': None, 'sentiment_label_in_upper': None}\n",
            "\u001b[1;36m{'user_review': 'The movie was so nice that I walked out in 2 min', 'sentiment_label': 'Negative'}\u001b[0m\n",
            "------ENTERING: CONVERT_TO_UPPER NODE------\n"
          ]
        },
        {
          "output_type": "display_data",
          "data": {
            "text/plain": [
              "<IPython.core.display.Markdown object>"
            ],
            "text/markdown": "**State**"
          },
          "metadata": {}
        },
        {
          "output_type": "stream",
          "name": "stdout",
          "text": [
            "State: {'user_review': 'The movie was so nice that I walked out in 2 min', 'sentiment_label': 'Negative', 'sentiment_label_in_upper': None}\n",
            "\u001b[1;36m{'user_review': 'The movie was so nice that I walked out in 2 min', 'sentiment_label': 'Negative', 'sentiment_label_in_upper': 'NEGATIVE'}\u001b[0m\n"
          ]
        }
      ],
      "source": [
        "from simple_colors import *\n",
        "\n",
        "review = \"The movie was so nice that I walked out in 2 min\"\n",
        "input_review = {\"user_review\": review}\n",
        "\n",
        "# Run the graph until the first interruption\n",
        "for output in app.stream(input_review, stream_mode=\"values\"):\n",
        "    print(cyan(output, ['bold']))"
      ]
    },
    {
      "cell_type": "code",
      "execution_count": null,
      "metadata": {
        "colab": {
          "base_uri": "https://localhost:8080/",
          "height": 174
        },
        "id": "JxgPsW6dFIHW",
        "outputId": "b59b025e-63ea-4efa-9df0-8b198e80e248"
      },
      "outputs": [
        {
          "output_type": "display_data",
          "data": {
            "text/plain": [
              "<IPython.core.display.HTML object>"
            ],
            "text/html": [
              "\n",
              "  <style>\n",
              "    pre {\n",
              "        white-space: pre-wrap;\n",
              "    }\n",
              "  </style>\n",
              "  "
            ]
          },
          "metadata": {}
        },
        {
          "output_type": "stream",
          "name": "stdout",
          "text": [
            "\u001b[1;36m{'user_review': 'Wish the movie was nice. But it was extraordinary'}\u001b[0m\n",
            "------ENTERING: SENTIMENT ANALYSIS NODE------\n",
            "State: {'user_review': 'Wish the movie was nice. But it was extraordinary', 'sentiment_label': None, 'sentiment_label_in_upper': None}\n",
            "\u001b[1;36m{'user_review': 'Wish the movie was nice. But it was extraordinary', 'sentiment_label': 'Positive'}\u001b[0m\n",
            "------ENTERING: CONVERT_TO_UPPER NODE------\n"
          ]
        },
        {
          "output_type": "display_data",
          "data": {
            "text/plain": [
              "<IPython.core.display.Markdown object>"
            ],
            "text/markdown": "**State**"
          },
          "metadata": {}
        },
        {
          "output_type": "stream",
          "name": "stdout",
          "text": [
            "State: {'user_review': 'Wish the movie was nice. But it was extraordinary', 'sentiment_label': 'Positive', 'sentiment_label_in_upper': None}\n",
            "\u001b[1;36m{'user_review': 'Wish the movie was nice. But it was extraordinary', 'sentiment_label': 'Positive', 'sentiment_label_in_upper': 'POSITIVE'}\u001b[0m\n"
          ]
        }
      ],
      "source": [
        "from simple_colors import *\n",
        "\n",
        "review = \"Wish the movie was nice. But it was extraordinary\"\n",
        "input_review = {\"user_review\": review}\n",
        "\n",
        "# Run the graph until the first interruption\n",
        "for output in app.stream(input_review, stream_mode=\"values\"):\n",
        "    print(cyan(output, ['bold']))"
      ]
    },
    {
      "cell_type": "markdown",
      "source": [
        "**Question**: Wow! I am loving this already. But is there a way I can check a condition to decide if I will have to take a path A or B?\n",
        "\n",
        "**Answer**: Yes, we can achieve this using **Conditional Edge**"
      ],
      "metadata": {
        "id": "L-YBTlse-Lra"
      }
    },
    {
      "cell_type": "markdown",
      "metadata": {
        "id": "rfGsnu68FIHe"
      },
      "source": [
        "## Conditional Edge"
      ]
    },
    {
      "cell_type": "markdown",
      "source": [
        "**Use Case**: Now I want my graph to further analyze the movie review and report what did not work for the user only if the sentiment is Negative/Mixed.\n",
        "\n",
        "Let's Build the workflow for the above use case."
      ],
      "metadata": {
        "id": "LyAXI4ca-uKT"
      }
    },
    {
      "cell_type": "markdown",
      "source": [
        "Define functions for Nodes"
      ],
      "metadata": {
        "id": "XpITLADFAFOw"
      }
    },
    {
      "cell_type": "code",
      "source": [
        "import functools, operator\n",
        "from typing import Annotated\n",
        "from IPython.display import Markdown\n",
        "from typing_extensions import TypedDict\n",
        "from langgraph.graph import StateGraph, START, END\n",
        "from langgraph.graph.message import add_messages\n",
        "\n",
        "\n",
        "# Notice that we have added \"feedback_analysis\" as an extra item\n",
        "class State(TypedDict):\n",
        "    user_review: str\n",
        "    sentiment_label: str\n",
        "    feedback_analysis: str\n",
        "    overall_status: Annotated[str, operator.add]\n",
        "\n",
        "def sentiment_analysis(state):\n",
        "    print(\"------ENTERING: SENTIMENT ANALYSIS NODE------\")\n",
        "    print(state)\n",
        "    SA_prompt = f\"\"\"You are an expert at performing sentiment analysis.\n",
        "    Your task is identify the sentiment of the provided input.\n",
        "    Provide only the sentiment based on the user input.\n",
        "    Don't include reasoning.\n",
        "\n",
        "    User input: {state['user_review']}\"\"\"\n",
        "\n",
        "    response = llm.invoke(SA_prompt)\n",
        "\n",
        "    print(\"--------\")\n",
        "    print(red(f\"Sentiment Identified: [{response.content}]\", ['bold']))\n",
        "    print(\"--------\")\n",
        "\n",
        "    return {\"sentiment_label\": response.content}\n",
        "\n",
        "\n",
        "\n",
        "def user_review_analysis(state):\n",
        "    \"\"\"\n",
        "    Analyzes the user review and gives top reasons of what did not work for the user.\n",
        "    \"\"\"\n",
        "    print(\"------ENTERING: USER REVIEW ANALYSIS NODE------\")\n",
        "    print(state)\n",
        "    feedback_analysis_prompt = f\"\"\"You are an expert at performing analysis on the user review. The review can be about a movie or a product.\n",
        "    Your task is to carefully analyze the user review and give top reasons of what did not work for the user.\n",
        "    Make the answer readable.\n",
        "    Note: Provide your analysis only using the user review and justify the sentiment\n",
        "\n",
        "    User review: {state['user_review']}\n",
        "    Sentiment Identified: {state['sentiment_label']}\"\"\"\n",
        "\n",
        "    response = llm.invoke(feedback_analysis_prompt)\n",
        "\n",
        "    display(Markdown(response.content))\n",
        "\n",
        "    return {\"feedback_analysis\": response.content}"
      ],
      "metadata": {
        "id": "5mLnuDhz_8vh",
        "outputId": "6f03311b-badd-4ea2-d0a3-f0f53ba61f25",
        "colab": {
          "base_uri": "https://localhost:8080/",
          "height": 17
        }
      },
      "execution_count": null,
      "outputs": [
        {
          "output_type": "display_data",
          "data": {
            "text/plain": [
              "<IPython.core.display.HTML object>"
            ],
            "text/html": [
              "\n",
              "  <style>\n",
              "    pre {\n",
              "        white-space: pre-wrap;\n",
              "    }\n",
              "  </style>\n",
              "  "
            ]
          },
          "metadata": {}
        }
      ]
    },
    {
      "cell_type": "markdown",
      "source": [
        "Define Graph and add Nodes"
      ],
      "metadata": {
        "id": "4BI73jbe_-iQ"
      }
    },
    {
      "cell_type": "code",
      "execution_count": null,
      "metadata": {
        "id": "Ew5BWVY_FIHe",
        "outputId": "95e2cdba-65fc-496b-eea6-6b7a5eff3568",
        "colab": {
          "base_uri": "https://localhost:8080/",
          "height": 17
        }
      },
      "outputs": [
        {
          "output_type": "display_data",
          "data": {
            "text/plain": [
              "<IPython.core.display.HTML object>"
            ],
            "text/html": [
              "\n",
              "  <style>\n",
              "    pre {\n",
              "        white-space: pre-wrap;\n",
              "    }\n",
              "  </style>\n",
              "  "
            ]
          },
          "metadata": {}
        }
      ],
      "source": [
        "# Define a graph\n",
        "workflow = StateGraph(State)\n",
        "\n",
        "workflow.add_node(\"sentiment_analysis\", sentiment_analysis)\n",
        "workflow.add_node(\"user_review_analysis\", user_review_analysis)"
      ]
    },
    {
      "cell_type": "markdown",
      "source": [
        "Define the workflow"
      ],
      "metadata": {
        "id": "WVsRQn5NADoA"
      }
    },
    {
      "cell_type": "code",
      "source": [
        "workflow.set_entry_point(\"sentiment_analysis\")\n",
        "\n",
        "def where_to_go(state):\n",
        "    if state[\"sentiment_label\"].lower() == \"positive\":\n",
        "        return END\n",
        "    else:\n",
        "        return \"user_review_analysis\"\n",
        "\n",
        "workflow.add_conditional_edges(\"sentiment_analysis\", where_to_go, [\"user_review_analysis\", END])\n",
        "\n",
        "workflow.add_edge('user_review_analysis', END)\n",
        "\n",
        "app = workflow.compile()"
      ],
      "metadata": {
        "id": "lVFy_tXIAM-i",
        "outputId": "42f267ed-a050-40ad-bb84-8ce06ab4a3f3",
        "colab": {
          "base_uri": "https://localhost:8080/",
          "height": 17
        }
      },
      "execution_count": null,
      "outputs": [
        {
          "output_type": "display_data",
          "data": {
            "text/plain": [
              "<IPython.core.display.HTML object>"
            ],
            "text/html": [
              "\n",
              "  <style>\n",
              "    pre {\n",
              "        white-space: pre-wrap;\n",
              "    }\n",
              "  </style>\n",
              "  "
            ]
          },
          "metadata": {}
        }
      ]
    },
    {
      "cell_type": "markdown",
      "source": [
        "Let's visualize the Graph"
      ],
      "metadata": {
        "id": "ClwiSPYFAZyj"
      }
    },
    {
      "cell_type": "code",
      "execution_count": null,
      "metadata": {
        "colab": {
          "base_uri": "https://localhost:8080/",
          "height": 350
        },
        "id": "QThexmuuFIHg",
        "outputId": "e89472e0-9850-4c09-db1d-7f2446d03e19"
      },
      "outputs": [
        {
          "output_type": "display_data",
          "data": {
            "text/plain": [
              "<IPython.core.display.HTML object>"
            ],
            "text/html": [
              "\n",
              "  <style>\n",
              "    pre {\n",
              "        white-space: pre-wrap;\n",
              "    }\n",
              "  </style>\n",
              "  "
            ]
          },
          "metadata": {}
        },
        {
          "output_type": "display_data",
          "data": {
            "image/jpeg": "[encoded data removed]",
            "text/plain": [
              "<IPython.core.display.Image object>"
            ]
          },
          "metadata": {}
        }
      ],
      "source": [
        "from IPython.display import Image, display\n",
        "\n",
        "display(Image(app.get_graph().draw_mermaid_png()))"
      ]
    },
    {
      "cell_type": "code",
      "execution_count": null,
      "metadata": {
        "colab": {
          "base_uri": "https://localhost:8080/",
          "height": 459
        },
        "id": "BSspZ6Jzcpsa",
        "outputId": "120944d0-5724-4427-fd59-0c55aecf030b"
      },
      "outputs": [
        {
          "output_type": "display_data",
          "data": {
            "text/plain": [
              "<IPython.core.display.HTML object>"
            ],
            "text/html": [
              "\n",
              "  <style>\n",
              "    pre {\n",
              "        white-space: pre-wrap;\n",
              "    }\n",
              "  </style>\n",
              "  "
            ]
          },
          "metadata": {}
        },
        {
          "output_type": "stream",
          "name": "stdout",
          "text": [
            "------ENTERING: SENTIMENT ANALYSIS NODE------\n",
            "{'user_review': 'The movie was nice that I walked out of the hall in 1 min. Then came back within 5 min and then slept off. Woke up and saw back 2 back shows. enjoyed with pain', 'sentiment_label': None, 'feedback_analysis': None, 'overall_status': ''}\n",
            "--------\n",
            "\u001b[1;31mSentiment Identified: [Mixed]\u001b[0m\n",
            "--------\n",
            "------ENTERING: USER REVIEW ANALYSIS NODE------\n",
            "{'user_review': 'The movie was nice that I walked out of the hall in 1 min. Then came back within 5 min and then slept off. Woke up and saw back 2 back shows. enjoyed with pain', 'sentiment_label': 'Mixed', 'feedback_analysis': None, 'overall_status': ''}\n"
          ]
        },
        {
          "output_type": "display_data",
          "data": {
            "text/plain": [
              "<IPython.core.display.Markdown object>"
            ],
            "text/markdown": "**Analysis of What Did Not Work for the User:**\n\n1. **Lack of Initial Engagement:**  \n   The user mentions walking out of the hall after just one minute. This suggests that the movie failed to capture their interest or attention right from the beginning, indicating a weak or unappealing start.\n\n2. **Inconsistent Experience:**  \n   The user returned within five minutes but then slept through part of the movie. Sleeping during the film signals that the pacing or content was not compelling enough to keep them awake or interested.\n\n3. **Ambiguous Enjoyment:**  \n   The phrase \"enjoyed with pain\" implies that although there were enjoyable aspects, they were overshadowed by discomfort or disappointment. This mixed feeling points to flaws in the movie that detracted from overall enjoyment.\n\n**Justification:**  \nThe user's behaviors—leaving the hall, sleeping during the film, and describing their enjoyment as painful—clearly indicate several aspects of the movie did not work for them, leading to a mixed sentiment."
          },
          "metadata": {}
        }
      ],
      "source": [
        "from simple_colors import *\n",
        "\n",
        "review = \"\"\"The movie was nice that I walked out of the hall in 1 min. Then came back within 5 min and then slept off. Woke up and saw back 2 back shows. enjoyed with pain\"\"\"\n",
        "\n",
        "user_input = {\"user_review\": review}\n",
        "\n",
        "# Thread\n",
        "thread = {\"configurable\": {\"thread_id\": \"1\"}}\n",
        "\n",
        "# Run the graph until the first interruption\n",
        "for output in app.stream(user_input, thread, stream_mode=\"values\"):\n",
        "    # print(cyan(output, ['bold']))\n",
        "    pass"
      ]
    },
    {
      "cell_type": "code",
      "execution_count": null,
      "metadata": {
        "colab": {
          "base_uri": "https://localhost:8080/",
          "height": 770
        },
        "id": "OxkZmEb2FIHh",
        "outputId": "82e56917-77aa-4a91-df30-d1f2b042202a"
      },
      "outputs": [
        {
          "output_type": "display_data",
          "data": {
            "text/plain": [
              "<IPython.core.display.HTML object>"
            ],
            "text/html": [
              "\n",
              "  <style>\n",
              "    pre {\n",
              "        white-space: pre-wrap;\n",
              "    }\n",
              "  </style>\n",
              "  "
            ]
          },
          "metadata": {}
        },
        {
          "output_type": "stream",
          "name": "stdout",
          "text": [
            "------ENTERING: SENTIMENT ANALYSIS NODE------\n",
            "{'user_review': \"To be portrayed as the biggest Indian spectacle till date is a heavy accolade to hold, let alone achieve. And baahubali is definitely not up to the mark.\\n\\nLet's look at the movie objectively:\\n\\n1) Starting with the most talked about aspect of the movie VFX/CGI. The CGI is so over the top that it felt like a badly edited video game at times. For instance, the scene in which Baahubali is running away from the guards in the fort.\\n\\nLoud and showy landscapes can not be termed as spectacular CGI. It should merge seamlessly with the movie and CGI stands out like a sore thumb in this one.\\n\\n2)Acting: Its loud and crass to say the least. The reactions of all characters after every dialogue reminds a bit of the daily soaps.\\n\\n3)StoryLine: Its old and repetitive from a 1000 other movies of the same genre. A messiah who comes to save the day. Yes, that's never been done before in Indian cinema.\\n\\nHowever, despite all the above points Baahubali puts in a valiant effort. But to compare it to the likes of Lord of the Rings and Hobbit with the sheer depth of Tolkien's work is sacrilege. No where near that league.\\n\\nOnly recommended for the faithful.\\n\", 'sentiment_label': None, 'feedback_analysis': None, 'overall_status': ''}\n",
            "--------\n",
            "\u001b[1;31mSentiment Identified: [Negative]\u001b[0m\n",
            "--------\n",
            "------ENTERING: USER REVIEW ANALYSIS NODE------\n",
            "{'user_review': \"To be portrayed as the biggest Indian spectacle till date is a heavy accolade to hold, let alone achieve. And baahubali is definitely not up to the mark.\\n\\nLet's look at the movie objectively:\\n\\n1) Starting with the most talked about aspect of the movie VFX/CGI. The CGI is so over the top that it felt like a badly edited video game at times. For instance, the scene in which Baahubali is running away from the guards in the fort.\\n\\nLoud and showy landscapes can not be termed as spectacular CGI. It should merge seamlessly with the movie and CGI stands out like a sore thumb in this one.\\n\\n2)Acting: Its loud and crass to say the least. The reactions of all characters after every dialogue reminds a bit of the daily soaps.\\n\\n3)StoryLine: Its old and repetitive from a 1000 other movies of the same genre. A messiah who comes to save the day. Yes, that's never been done before in Indian cinema.\\n\\nHowever, despite all the above points Baahubali puts in a valiant effort. But to compare it to the likes of Lord of the Rings and Hobbit with the sheer depth of Tolkien's work is sacrilege. No where near that league.\\n\\nOnly recommended for the faithful.\\n\", 'sentiment_label': 'Negative', 'feedback_analysis': None, 'overall_status': ''}\n"
          ]
        },
        {
          "output_type": "display_data",
          "data": {
            "text/plain": [
              "<IPython.core.display.Markdown object>"
            ],
            "text/markdown": "**Analysis: Top Reasons Why the Movie Did Not Work for the User**\n\n1. **Poor Quality of VFX/CGI:**  \n   The reviewer’s primary criticism is directed at the movie’s visual effects. They describe the CGI as “over the top,” comparing it to a “badly edited video game.” The user specifically mentions a scene where Baahubali escapes from the guards, highlighting how artificial and intrusive the effects felt. The reviewer expected seamless integration of CGI, but instead, it “stands out like a sore thumb,” detracting from the viewing experience.\n\n2. **Unimpressive Acting:**  \n   The acting was found to be “loud and crass.” The reviewer criticizes the exaggerated reactions of the characters, likening them to those seen in daily soap operas. This suggests that the performances lacked subtlety and depth, making the film feel melodramatic and less immersive.\n\n3. **Clichéd Storyline:**  \n   The storyline is described as “old and repetitive,” following the familiar trope of a messiah figure saving the day. The reviewer points out that this narrative has been done “a 1000 other movies of the same genre,” indicating a lack of originality or fresh perspective in the plot.\n\n4. **Unfair Comparisons to International Epics:**  \n   The reviewer feels that comparisons with legendary franchises like “Lord of the Rings” or “The Hobbit” are unfounded, stating that Baahubali does not achieve the same depth or quality. This further underscores their disappointment, especially given the high expectations set for the film.\n\n**Justification of Sentiment:**  \nThe sentiment is clearly negative, as the reviewer systematically points out significant shortcomings in the film’s visual effects, acting, and story. While they acknowledge the effort behind Baahubali, the overall tone remains critical, concluding that the film is only for die-hard fans and is otherwise unworthy of the grand comparisons it has received."
          },
          "metadata": {}
        }
      ],
      "source": [
        "from simple_colors import *\n",
        "\n",
        "review = \"\"\"To be portrayed as the biggest Indian spectacle till date is a heavy accolade to hold, let alone achieve. And baahubali is definitely not up to the mark.\n",
        "\n",
        "Let's look at the movie objectively:\n",
        "\n",
        "1) Starting with the most talked about aspect of the movie VFX/CGI. The CGI is so over the top that it felt like a badly edited video game at times. For instance, the scene in which Baahubali is running away from the guards in the fort.\n",
        "\n",
        "Loud and showy landscapes can not be termed as spectacular CGI. It should merge seamlessly with the movie and CGI stands out like a sore thumb in this one.\n",
        "\n",
        "2)Acting: Its loud and crass to say the least. The reactions of all characters after every dialogue reminds a bit of the daily soaps.\n",
        "\n",
        "3)StoryLine: Its old and repetitive from a 1000 other movies of the same genre. A messiah who comes to save the day. Yes, that's never been done before in Indian cinema.\n",
        "\n",
        "However, despite all the above points Baahubali puts in a valiant effort. But to compare it to the likes of Lord of the Rings and Hobbit with the sheer depth of Tolkien's work is sacrilege. No where near that league.\n",
        "\n",
        "Only recommended for the faithful.\n",
        "\"\"\"\n",
        "\n",
        "user_input = {\"user_review\": review}\n",
        "\n",
        "# Thread\n",
        "thread = {\"configurable\": {\"thread_id\": \"1\"}}\n",
        "\n",
        "# Run the graph until the first interruption\n",
        "for output in app.stream(user_input, thread, stream_mode=\"values\"):\n",
        "    # print(cyan(output, ['bold']))\n",
        "    pass"
      ]
    },
    {
      "cell_type": "markdown",
      "source": [
        "**Question**: This is really Cool! Now I want to run multiple nodes parallelly. Is that possible?\n",
        "\n",
        "**Answer**: Yes, this can be achieved using **Branching** Concept"
      ],
      "metadata": {
        "id": "tWhLNRFCApqw"
      }
    },
    {
      "cell_type": "markdown",
      "metadata": {
        "id": "4_i6bpylFIHi"
      },
      "source": [
        "# **Branching**\n",
        "\n",
        "Let's understand how can we run parallel nodes using Branching Concept"
      ]
    },
    {
      "cell_type": "code",
      "execution_count": null,
      "metadata": {
        "id": "hfpEWJSJFIHq",
        "outputId": "d0a25acc-7fe0-4c0f-bac1-288916466aac",
        "colab": {
          "base_uri": "https://localhost:8080/",
          "height": 17
        }
      },
      "outputs": [
        {
          "output_type": "display_data",
          "data": {
            "text/plain": [
              "<IPython.core.display.HTML object>"
            ],
            "text/html": [
              "\n",
              "  <style>\n",
              "    pre {\n",
              "        white-space: pre-wrap;\n",
              "    }\n",
              "  </style>\n",
              "  "
            ]
          },
          "metadata": {}
        }
      ],
      "source": [
        "import time\n",
        "import operator\n",
        "from typing import Annotated, Any\n",
        "from typing_extensions import TypedDict\n",
        "\n",
        "from langgraph.graph import StateGraph\n",
        "\n",
        "class State(TypedDict):\n",
        "    # The operator.add reducer function adds the value\n",
        "    sequential_execution_time: Annotated[int, operator.add]\n",
        "\n",
        "\n",
        "def start_node(state):\n",
        "    print(\"------ENTERING: START NODE------\")\n",
        "    return {\"sequential_execution_time\": 0}\n",
        "\n",
        "def parallel_node_A(state):\n",
        "    print(\"------ENTERING: NODE A------\")\n",
        "    time.sleep(5)\n",
        "    return {\"sequential_execution_time\": 5}\n",
        "\n",
        "def parallel_node_B(state):\n",
        "    print(\"------ENTERING: NODE B------\")\n",
        "    time.sleep(5)\n",
        "    return {\"sequential_execution_time\": 5}\n",
        "\n",
        "def parallel_node_C(state):\n",
        "    print(\"------ENTERING: NODE C------\")\n",
        "    time.sleep(5)\n",
        "    return {\"sequential_execution_time\": 5}\n",
        "\n",
        "def end_node(state):\n",
        "    print(\"------ENTERING: END NODE------\")\n",
        "    return {\"sequential_execution_time\": 0}\n",
        "\n",
        "workflow = StateGraph(State)\n",
        "\n",
        "workflow.add_node(\"start_node\", start_node)\n",
        "workflow.add_node(\"parallel_node_A\", parallel_node_A)\n",
        "workflow.add_node(\"parallel_node_B\", parallel_node_B)\n",
        "workflow.add_node(\"parallel_node_C\", parallel_node_C)\n",
        "workflow.add_node(\"end_node\", end_node)\n",
        "\n",
        "\n",
        "workflow.set_entry_point(\"start_node\")\n",
        "\n",
        "workflow.add_edge('start_node', 'parallel_node_A')\n",
        "workflow.add_edge('start_node', 'parallel_node_B')\n",
        "workflow.add_edge('start_node', 'parallel_node_C')\n",
        "\n",
        "workflow.add_edge('parallel_node_A', 'end_node')\n",
        "workflow.add_edge('parallel_node_B', 'end_node')\n",
        "workflow.add_edge('parallel_node_C', 'end_node')\n",
        "\n",
        "workflow.set_finish_point(\"end_node\")\n",
        "\n",
        "graph = workflow.compile()"
      ]
    },
    {
      "cell_type": "code",
      "source": [
        "\n",
        "from IPython.display import Image, display\n",
        "\n",
        "display(Image(graph.get_graph().draw_mermaid_png()))"
      ],
      "metadata": {
        "colab": {
          "base_uri": "https://localhost:8080/",
          "height": 404
        },
        "id": "893HtgH3jmQK",
        "outputId": "88bb2161-0f03-4faa-ce6b-bad874312590"
      },
      "execution_count": null,
      "outputs": [
        {
          "output_type": "display_data",
          "data": {
            "text/plain": [
              "<IPython.core.display.HTML object>"
            ],
            "text/html": [
              "\n",
              "  <style>\n",
              "    pre {\n",
              "        white-space: pre-wrap;\n",
              "    }\n",
              "  </style>\n",
              "  "
            ]
          },
          "metadata": {}
        },
        {
          "output_type": "display_data",
          "data": {
            "image/jpeg": "[encoded data removed]",
            "text/plain": [
              "<IPython.core.display.Image object>"
            ]
          },
          "metadata": {}
        }
      ]
    },
    {
      "cell_type": "markdown",
      "source": [
        "Let's see the power of Branching now"
      ],
      "metadata": {
        "id": "U4ONl7zrDig7"
      }
    },
    {
      "cell_type": "code",
      "source": [
        "inputs = {}\n",
        "start_time = time.time()\n",
        "\n",
        "for output in graph.stream(inputs, stream_mode=\"values\"):\n",
        "    print(cyan(output, ['bold']))\n",
        "    pass\n",
        "\n",
        "ex_time = time.time() - start_time\n",
        "\n",
        "print(\"--------------------------------------------------------\")\n",
        "print(red(f\"Original Time Taken - [{round(ex_time, 2)}]\", ['bold']))\n",
        "print(\"--------------------------------------------------------\")"
      ],
      "metadata": {
        "colab": {
          "base_uri": "https://localhost:8080/",
          "height": 208
        },
        "id": "BLhD18YqDlTe",
        "outputId": "6fe9fd98-1911-490f-9291-f5c7067367a0"
      },
      "execution_count": null,
      "outputs": [
        {
          "output_type": "display_data",
          "data": {
            "text/plain": [
              "<IPython.core.display.HTML object>"
            ],
            "text/html": [
              "\n",
              "  <style>\n",
              "    pre {\n",
              "        white-space: pre-wrap;\n",
              "    }\n",
              "  </style>\n",
              "  "
            ]
          },
          "metadata": {}
        },
        {
          "output_type": "stream",
          "name": "stdout",
          "text": [
            "------ENTERING: START NODE------\n",
            "\u001b[1;36m{'sequential_execution_time': 0}\u001b[0m\n",
            "------ENTERING: NODE A------\n",
            "------ENTERING: NODE B------\n",
            "------ENTERING: NODE C------\n",
            "\u001b[1;36m{'sequential_execution_time': 15}\u001b[0m\n",
            "------ENTERING: END NODE------\n",
            "\u001b[1;36m{'sequential_execution_time': 15}\u001b[0m\n",
            "--------------------------------------------------------\n",
            "\u001b[1;31mOriginal Time Taken - [5.07]\u001b[0m\n",
            "--------------------------------------------------------\n"
          ]
        }
      ]
    },
    {
      "cell_type": "code",
      "source": [],
      "metadata": {
        "id": "DY5OlAHlCxOj"
      },
      "execution_count": null,
      "outputs": []
    }
  ],
  "metadata": {
    "colab": {
      "provenance": [],
      "include_colab_link": true
    },
    "kernelspec": {
      "display_name": "gen.ai_venv_39",
      "language": "python",
      "name": "gen.ai_venv_39"
    },
    "language_info": {
      "codemirror_mode": {
        "name": "ipython",
        "version": 3
      },
      "file_extension": ".py",
      "mimetype": "text/x-python",
      "name": "python",
      "nbconvert_exporter": "python",
      "pygments_lexer": "ipython3",
      "version": "3.9.12"
    }
  },
  "nbformat": 4,
  "nbformat_minor": 0
}