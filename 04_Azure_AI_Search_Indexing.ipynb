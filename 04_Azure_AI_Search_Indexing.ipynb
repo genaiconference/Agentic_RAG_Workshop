{
  "nbformat": 4,
  "nbformat_minor": 0,
  "metadata": {
    "colab": {
      "provenance": [],
      "authorship_tag": "ABX9TyMT707U/lD+anEujIO84L2r",
      "include_colab_link": true
    },
    "kernelspec": {
      "name": "python3",
      "display_name": "Python 3"
    },
    "language_info": {
      "name": "python"
    }
  },
  "cells": [
    {
      "cell_type": "markdown",
      "metadata": {
        "id": "view-in-github",
        "colab_type": "text"
      },
      "source": [
        "<a href=\"https://colab.research.google.com/github/genaiconference/Agentic_RAG_Workshop/blob/main/04_Azure_AI_Search_Indexing.ipynb\" target=\"_parent\"><img src=\"https://colab.research.google.com/assets/colab-badge.svg\" alt=\"Open In Colab\"/></a>"
      ]
    },
    {
      "cell_type": "markdown",
      "source": [
        "# Create Azure AI Search Index\n",
        "\n",
        "This notebook demonstrates how to use Azure AI Search.  It walks you through the process of creating an index, setting up semantic configuration and loading documents"
      ],
      "metadata": {
        "id": "kA0_msGliNfq"
      }
    },
    {
      "cell_type": "code",
      "source": [
        "!git clone https://github.com/genaiconference/Agentic_RAG_Workshop.git"
      ],
      "metadata": {
        "colab": {
          "base_uri": "https://localhost:8080/"
        },
        "id": "L171QI46iLRW",
        "outputId": "3cdf2d2c-e9a9-4182-efbd-2e78d8d1d856"
      },
      "execution_count": null,
      "outputs": [
        {
          "output_type": "stream",
          "name": "stdout",
          "text": [
            "Cloning into 'Agentic_RAG_Workshop'...\n",
            "remote: Enumerating objects: 54, done.\u001b[K\n",
            "remote: Counting objects: 100% (54/54), done.\u001b[K\n",
            "remote: Compressing objects: 100% (51/51), done.\u001b[K\n",
            "remote: Total 54 (delta 19), reused 0 (delta 0), pack-reused 0 (from 0)\u001b[K\n",
            "Receiving objects: 100% (54/54), 2.21 MiB | 4.53 MiB/s, done.\n",
            "Resolving deltas: 100% (19/19), done.\n"
          ]
        }
      ]
    },
    {
      "cell_type": "markdown",
      "source": [
        "## Setup and Installations\n",
        "Install necessary libraries for document processing, data handling, and interacting with Azure Document Intelligence and OpenAI."
      ],
      "metadata": {
        "id": "8bymfx0hi31o"
      }
    },
    {
      "cell_type": "code",
      "metadata": {
        "colab": {
          "base_uri": "https://localhost:8080/"
        },
        "id": "a60f0b0e",
        "outputId": "b616e6fc-e0be-4e0f-a11e-360abf88ee79",
        "collapsed": true
      },
      "source": [
        "!pip install -r /content/Agentic_RAG_Workshop/requirements.txt"
      ],
      "execution_count": null,
      "outputs": [
        {
          "output_type": "stream",
          "name": "stdout",
          "text": [
            "Requirement already satisfied: azure-ai-documentintelligence==1.0.2 in /usr/local/lib/python3.11/dist-packages (from -r /content/Agentic_RAG_Workshop/requirements.txt (line 1)) (1.0.2)\n",
            "Requirement already satisfied: pandas==2.2.2 in /usr/local/lib/python3.11/dist-packages (from -r /content/Agentic_RAG_Workshop/requirements.txt (line 2)) (2.2.2)\n",
            "Requirement already satisfied: pathlib==1.0.1 in /usr/local/lib/python3.11/dist-packages (from -r /content/Agentic_RAG_Workshop/requirements.txt (line 3)) (1.0.1)\n",
            "Requirement already satisfied: pymupdf in /usr/local/lib/python3.11/dist-packages (from -r /content/Agentic_RAG_Workshop/requirements.txt (line 4)) (1.26.3)\n",
            "Requirement already satisfied: tools==1.0.2 in /usr/local/lib/python3.11/dist-packages (from -r /content/Agentic_RAG_Workshop/requirements.txt (line 5)) (1.0.2)\n",
            "Requirement already satisfied: python-dotenv==1.1.1 in /usr/local/lib/python3.11/dist-packages (from -r /content/Agentic_RAG_Workshop/requirements.txt (line 6)) (1.1.1)\n",
            "Requirement already satisfied: langchain_openai==0.3.28 in /usr/local/lib/python3.11/dist-packages (from -r /content/Agentic_RAG_Workshop/requirements.txt (line 7)) (0.3.28)\n",
            "Requirement already satisfied: rapidfuzz in /usr/local/lib/python3.11/dist-packages (from -r /content/Agentic_RAG_Workshop/requirements.txt (line 8)) (3.13.0)\n",
            "Requirement already satisfied: langchain_community==0.3.27 in /usr/local/lib/python3.11/dist-packages (from -r /content/Agentic_RAG_Workshop/requirements.txt (line 9)) (0.3.27)\n",
            "Requirement already satisfied: chromadb==1.0.16 in /usr/local/lib/python3.11/dist-packages (from -r /content/Agentic_RAG_Workshop/requirements.txt (line 10)) (1.0.16)\n",
            "Collecting azure-search-documents (from -r /content/Agentic_RAG_Workshop/requirements.txt (line 11))\n",
            "  Downloading azure_search_documents-11.5.3-py3-none-any.whl.metadata (23 kB)\n",
            "Collecting azure-identity (from -r /content/Agentic_RAG_Workshop/requirements.txt (line 12))\n",
            "  Downloading azure_identity-1.24.0-py3-none-any.whl.metadata (86 kB)\n",
            "\u001b[2K     \u001b[90m━━━━━━━━━━━━━━━━━━━━━━━━━━━━━━━━━━━━━━━━\u001b[0m \u001b[32m86.0/86.0 kB\u001b[0m \u001b[31m5.0 MB/s\u001b[0m eta \u001b[36m0:00:00\u001b[0m\n",
            "\u001b[?25hRequirement already satisfied: isodate>=0.6.1 in /usr/local/lib/python3.11/dist-packages (from azure-ai-documentintelligence==1.0.2->-r /content/Agentic_RAG_Workshop/requirements.txt (line 1)) (0.7.2)\n",
            "Requirement already satisfied: azure-core>=1.30.0 in /usr/local/lib/python3.11/dist-packages (from azure-ai-documentintelligence==1.0.2->-r /content/Agentic_RAG_Workshop/requirements.txt (line 1)) (1.35.0)\n",
            "Requirement already satisfied: typing-extensions>=4.6.0 in /usr/local/lib/python3.11/dist-packages (from azure-ai-documentintelligence==1.0.2->-r /content/Agentic_RAG_Workshop/requirements.txt (line 1)) (4.14.1)\n",
            "Requirement already satisfied: numpy>=1.23.2 in /usr/local/lib/python3.11/dist-packages (from pandas==2.2.2->-r /content/Agentic_RAG_Workshop/requirements.txt (line 2)) (2.0.2)\n",
            "Requirement already satisfied: python-dateutil>=2.8.2 in /usr/local/lib/python3.11/dist-packages (from pandas==2.2.2->-r /content/Agentic_RAG_Workshop/requirements.txt (line 2)) (2.9.0.post0)\n",
            "Requirement already satisfied: pytz>=2020.1 in /usr/local/lib/python3.11/dist-packages (from pandas==2.2.2->-r /content/Agentic_RAG_Workshop/requirements.txt (line 2)) (2025.2)\n",
            "Requirement already satisfied: tzdata>=2022.7 in /usr/local/lib/python3.11/dist-packages (from pandas==2.2.2->-r /content/Agentic_RAG_Workshop/requirements.txt (line 2)) (2025.2)\n",
            "Requirement already satisfied: langchain-core<1.0.0,>=0.3.68 in /usr/local/lib/python3.11/dist-packages (from langchain_openai==0.3.28->-r /content/Agentic_RAG_Workshop/requirements.txt (line 7)) (0.3.72)\n",
            "Requirement already satisfied: openai<2.0.0,>=1.86.0 in /usr/local/lib/python3.11/dist-packages (from langchain_openai==0.3.28->-r /content/Agentic_RAG_Workshop/requirements.txt (line 7)) (1.99.1)\n",
            "Requirement already satisfied: tiktoken<1,>=0.7 in /usr/local/lib/python3.11/dist-packages (from langchain_openai==0.3.28->-r /content/Agentic_RAG_Workshop/requirements.txt (line 7)) (0.10.0)\n",
            "Requirement already satisfied: langchain<1.0.0,>=0.3.26 in /usr/local/lib/python3.11/dist-packages (from langchain_community==0.3.27->-r /content/Agentic_RAG_Workshop/requirements.txt (line 9)) (0.3.27)\n",
            "Requirement already satisfied: SQLAlchemy<3,>=1.4 in /usr/local/lib/python3.11/dist-packages (from langchain_community==0.3.27->-r /content/Agentic_RAG_Workshop/requirements.txt (line 9)) (2.0.42)\n",
            "Requirement already satisfied: requests<3,>=2 in /usr/local/lib/python3.11/dist-packages (from langchain_community==0.3.27->-r /content/Agentic_RAG_Workshop/requirements.txt (line 9)) (2.32.3)\n",
            "Requirement already satisfied: PyYAML>=5.3 in /usr/local/lib/python3.11/dist-packages (from langchain_community==0.3.27->-r /content/Agentic_RAG_Workshop/requirements.txt (line 9)) (6.0.2)\n",
            "Requirement already satisfied: aiohttp<4.0.0,>=3.8.3 in /usr/local/lib/python3.11/dist-packages (from langchain_community==0.3.27->-r /content/Agentic_RAG_Workshop/requirements.txt (line 9)) (3.12.15)\n",
            "Requirement already satisfied: tenacity!=8.4.0,<10,>=8.1.0 in /usr/local/lib/python3.11/dist-packages (from langchain_community==0.3.27->-r /content/Agentic_RAG_Workshop/requirements.txt (line 9)) (8.5.0)\n",
            "Requirement already satisfied: dataclasses-json<0.7,>=0.5.7 in /usr/local/lib/python3.11/dist-packages (from langchain_community==0.3.27->-r /content/Agentic_RAG_Workshop/requirements.txt (line 9)) (0.6.7)\n",
            "Requirement already satisfied: pydantic-settings<3.0.0,>=2.4.0 in /usr/local/lib/python3.11/dist-packages (from langchain_community==0.3.27->-r /content/Agentic_RAG_Workshop/requirements.txt (line 9)) (2.10.1)\n",
            "Requirement already satisfied: langsmith>=0.1.125 in /usr/local/lib/python3.11/dist-packages (from langchain_community==0.3.27->-r /content/Agentic_RAG_Workshop/requirements.txt (line 9)) (0.4.12)\n",
            "Requirement already satisfied: httpx-sse<1.0.0,>=0.4.0 in /usr/local/lib/python3.11/dist-packages (from langchain_community==0.3.27->-r /content/Agentic_RAG_Workshop/requirements.txt (line 9)) (0.4.1)\n",
            "Requirement already satisfied: build>=1.0.3 in /usr/local/lib/python3.11/dist-packages (from chromadb==1.0.16->-r /content/Agentic_RAG_Workshop/requirements.txt (line 10)) (1.3.0)\n",
            "Requirement already satisfied: pydantic>=1.9 in /usr/local/lib/python3.11/dist-packages (from chromadb==1.0.16->-r /content/Agentic_RAG_Workshop/requirements.txt (line 10)) (2.11.7)\n",
            "Requirement already satisfied: pybase64>=1.4.1 in /usr/local/lib/python3.11/dist-packages (from chromadb==1.0.16->-r /content/Agentic_RAG_Workshop/requirements.txt (line 10)) (1.4.2)\n",
            "Requirement already satisfied: uvicorn>=0.18.3 in /usr/local/lib/python3.11/dist-packages (from uvicorn[standard]>=0.18.3->chromadb==1.0.16->-r /content/Agentic_RAG_Workshop/requirements.txt (line 10)) (0.35.0)\n",
            "Requirement already satisfied: posthog<6.0.0,>=2.4.0 in /usr/local/lib/python3.11/dist-packages (from chromadb==1.0.16->-r /content/Agentic_RAG_Workshop/requirements.txt (line 10)) (5.4.0)\n",
            "Requirement already satisfied: onnxruntime>=1.14.1 in /usr/local/lib/python3.11/dist-packages (from chromadb==1.0.16->-r /content/Agentic_RAG_Workshop/requirements.txt (line 10)) (1.22.1)\n",
            "Requirement already satisfied: opentelemetry-api>=1.2.0 in /usr/local/lib/python3.11/dist-packages (from chromadb==1.0.16->-r /content/Agentic_RAG_Workshop/requirements.txt (line 10)) (1.36.0)\n",
            "Requirement already satisfied: opentelemetry-exporter-otlp-proto-grpc>=1.2.0 in /usr/local/lib/python3.11/dist-packages (from chromadb==1.0.16->-r /content/Agentic_RAG_Workshop/requirements.txt (line 10)) (1.36.0)\n",
            "Requirement already satisfied: opentelemetry-sdk>=1.2.0 in /usr/local/lib/python3.11/dist-packages (from chromadb==1.0.16->-r /content/Agentic_RAG_Workshop/requirements.txt (line 10)) (1.36.0)\n",
            "Requirement already satisfied: tokenizers>=0.13.2 in /usr/local/lib/python3.11/dist-packages (from chromadb==1.0.16->-r /content/Agentic_RAG_Workshop/requirements.txt (line 10)) (0.21.4)\n",
            "Requirement already satisfied: pypika>=0.48.9 in /usr/local/lib/python3.11/dist-packages (from chromadb==1.0.16->-r /content/Agentic_RAG_Workshop/requirements.txt (line 10)) (0.48.9)\n",
            "Requirement already satisfied: tqdm>=4.65.0 in /usr/local/lib/python3.11/dist-packages (from chromadb==1.0.16->-r /content/Agentic_RAG_Workshop/requirements.txt (line 10)) (4.67.1)\n",
            "Requirement already satisfied: overrides>=7.3.1 in /usr/local/lib/python3.11/dist-packages (from chromadb==1.0.16->-r /content/Agentic_RAG_Workshop/requirements.txt (line 10)) (7.7.0)\n",
            "Requirement already satisfied: importlib-resources in /usr/local/lib/python3.11/dist-packages (from chromadb==1.0.16->-r /content/Agentic_RAG_Workshop/requirements.txt (line 10)) (6.5.2)\n",
            "Requirement already satisfied: grpcio>=1.58.0 in /usr/local/lib/python3.11/dist-packages (from chromadb==1.0.16->-r /content/Agentic_RAG_Workshop/requirements.txt (line 10)) (1.74.0)\n",
            "Requirement already satisfied: bcrypt>=4.0.1 in /usr/local/lib/python3.11/dist-packages (from chromadb==1.0.16->-r /content/Agentic_RAG_Workshop/requirements.txt (line 10)) (4.3.0)\n",
            "Requirement already satisfied: typer>=0.9.0 in /usr/local/lib/python3.11/dist-packages (from chromadb==1.0.16->-r /content/Agentic_RAG_Workshop/requirements.txt (line 10)) (0.16.0)\n",
            "Requirement already satisfied: kubernetes>=28.1.0 in /usr/local/lib/python3.11/dist-packages (from chromadb==1.0.16->-r /content/Agentic_RAG_Workshop/requirements.txt (line 10)) (33.1.0)\n",
            "Requirement already satisfied: mmh3>=4.0.1 in /usr/local/lib/python3.11/dist-packages (from chromadb==1.0.16->-r /content/Agentic_RAG_Workshop/requirements.txt (line 10)) (5.2.0)\n",
            "Requirement already satisfied: orjson>=3.9.12 in /usr/local/lib/python3.11/dist-packages (from chromadb==1.0.16->-r /content/Agentic_RAG_Workshop/requirements.txt (line 10)) (3.11.1)\n",
            "Requirement already satisfied: httpx>=0.27.0 in /usr/local/lib/python3.11/dist-packages (from chromadb==1.0.16->-r /content/Agentic_RAG_Workshop/requirements.txt (line 10)) (0.28.1)\n",
            "Requirement already satisfied: rich>=10.11.0 in /usr/local/lib/python3.11/dist-packages (from chromadb==1.0.16->-r /content/Agentic_RAG_Workshop/requirements.txt (line 10)) (13.9.4)\n",
            "Requirement already satisfied: jsonschema>=4.19.0 in /usr/local/lib/python3.11/dist-packages (from chromadb==1.0.16->-r /content/Agentic_RAG_Workshop/requirements.txt (line 10)) (4.25.0)\n",
            "Collecting azure-common>=1.1 (from azure-search-documents->-r /content/Agentic_RAG_Workshop/requirements.txt (line 11))\n",
            "  Downloading azure_common-1.1.28-py2.py3-none-any.whl.metadata (5.0 kB)\n",
            "Requirement already satisfied: cryptography>=2.5 in /usr/local/lib/python3.11/dist-packages (from azure-identity->-r /content/Agentic_RAG_Workshop/requirements.txt (line 12)) (43.0.3)\n",
            "Collecting msal>=1.30.0 (from azure-identity->-r /content/Agentic_RAG_Workshop/requirements.txt (line 12))\n",
            "  Downloading msal-1.33.0-py3-none-any.whl.metadata (11 kB)\n",
            "Collecting msal-extensions>=1.2.0 (from azure-identity->-r /content/Agentic_RAG_Workshop/requirements.txt (line 12))\n",
            "  Downloading msal_extensions-1.3.1-py3-none-any.whl.metadata (7.8 kB)\n",
            "Requirement already satisfied: aiohappyeyeballs>=2.5.0 in /usr/local/lib/python3.11/dist-packages (from aiohttp<4.0.0,>=3.8.3->langchain_community==0.3.27->-r /content/Agentic_RAG_Workshop/requirements.txt (line 9)) (2.6.1)\n",
            "Requirement already satisfied: aiosignal>=1.4.0 in /usr/local/lib/python3.11/dist-packages (from aiohttp<4.0.0,>=3.8.3->langchain_community==0.3.27->-r /content/Agentic_RAG_Workshop/requirements.txt (line 9)) (1.4.0)\n",
            "Requirement already satisfied: attrs>=17.3.0 in /usr/local/lib/python3.11/dist-packages (from aiohttp<4.0.0,>=3.8.3->langchain_community==0.3.27->-r /content/Agentic_RAG_Workshop/requirements.txt (line 9)) (25.3.0)\n",
            "Requirement already satisfied: frozenlist>=1.1.1 in /usr/local/lib/python3.11/dist-packages (from aiohttp<4.0.0,>=3.8.3->langchain_community==0.3.27->-r /content/Agentic_RAG_Workshop/requirements.txt (line 9)) (1.7.0)\n",
            "Requirement already satisfied: multidict<7.0,>=4.5 in /usr/local/lib/python3.11/dist-packages (from aiohttp<4.0.0,>=3.8.3->langchain_community==0.3.27->-r /content/Agentic_RAG_Workshop/requirements.txt (line 9)) (6.6.3)\n",
            "Requirement already satisfied: propcache>=0.2.0 in /usr/local/lib/python3.11/dist-packages (from aiohttp<4.0.0,>=3.8.3->langchain_community==0.3.27->-r /content/Agentic_RAG_Workshop/requirements.txt (line 9)) (0.3.2)\n",
            "Requirement already satisfied: yarl<2.0,>=1.17.0 in /usr/local/lib/python3.11/dist-packages (from aiohttp<4.0.0,>=3.8.3->langchain_community==0.3.27->-r /content/Agentic_RAG_Workshop/requirements.txt (line 9)) (1.20.1)\n",
            "Requirement already satisfied: six>=1.11.0 in /usr/local/lib/python3.11/dist-packages (from azure-core>=1.30.0->azure-ai-documentintelligence==1.0.2->-r /content/Agentic_RAG_Workshop/requirements.txt (line 1)) (1.17.0)\n",
            "Requirement already satisfied: packaging>=19.1 in /usr/local/lib/python3.11/dist-packages (from build>=1.0.3->chromadb==1.0.16->-r /content/Agentic_RAG_Workshop/requirements.txt (line 10)) (25.0)\n",
            "Requirement already satisfied: pyproject_hooks in /usr/local/lib/python3.11/dist-packages (from build>=1.0.3->chromadb==1.0.16->-r /content/Agentic_RAG_Workshop/requirements.txt (line 10)) (1.2.0)\n",
            "Requirement already satisfied: cffi>=1.12 in /usr/local/lib/python3.11/dist-packages (from cryptography>=2.5->azure-identity->-r /content/Agentic_RAG_Workshop/requirements.txt (line 12)) (1.17.1)\n",
            "Requirement already satisfied: marshmallow<4.0.0,>=3.18.0 in /usr/local/lib/python3.11/dist-packages (from dataclasses-json<0.7,>=0.5.7->langchain_community==0.3.27->-r /content/Agentic_RAG_Workshop/requirements.txt (line 9)) (3.26.1)\n",
            "Requirement already satisfied: typing-inspect<1,>=0.4.0 in /usr/local/lib/python3.11/dist-packages (from dataclasses-json<0.7,>=0.5.7->langchain_community==0.3.27->-r /content/Agentic_RAG_Workshop/requirements.txt (line 9)) (0.9.0)\n",
            "Requirement already satisfied: anyio in /usr/local/lib/python3.11/dist-packages (from httpx>=0.27.0->chromadb==1.0.16->-r /content/Agentic_RAG_Workshop/requirements.txt (line 10)) (4.10.0)\n",
            "Requirement already satisfied: certifi in /usr/local/lib/python3.11/dist-packages (from httpx>=0.27.0->chromadb==1.0.16->-r /content/Agentic_RAG_Workshop/requirements.txt (line 10)) (2025.8.3)\n",
            "Requirement already satisfied: httpcore==1.* in /usr/local/lib/python3.11/dist-packages (from httpx>=0.27.0->chromadb==1.0.16->-r /content/Agentic_RAG_Workshop/requirements.txt (line 10)) (1.0.9)\n",
            "Requirement already satisfied: idna in /usr/local/lib/python3.11/dist-packages (from httpx>=0.27.0->chromadb==1.0.16->-r /content/Agentic_RAG_Workshop/requirements.txt (line 10)) (3.10)\n",
            "Requirement already satisfied: h11>=0.16 in /usr/local/lib/python3.11/dist-packages (from httpcore==1.*->httpx>=0.27.0->chromadb==1.0.16->-r /content/Agentic_RAG_Workshop/requirements.txt (line 10)) (0.16.0)\n",
            "Requirement already satisfied: jsonschema-specifications>=2023.03.6 in /usr/local/lib/python3.11/dist-packages (from jsonschema>=4.19.0->chromadb==1.0.16->-r /content/Agentic_RAG_Workshop/requirements.txt (line 10)) (2025.4.1)\n",
            "Requirement already satisfied: referencing>=0.28.4 in /usr/local/lib/python3.11/dist-packages (from jsonschema>=4.19.0->chromadb==1.0.16->-r /content/Agentic_RAG_Workshop/requirements.txt (line 10)) (0.36.2)\n",
            "Requirement already satisfied: rpds-py>=0.7.1 in /usr/local/lib/python3.11/dist-packages (from jsonschema>=4.19.0->chromadb==1.0.16->-r /content/Agentic_RAG_Workshop/requirements.txt (line 10)) (0.26.0)\n",
            "Requirement already satisfied: google-auth>=1.0.1 in /usr/local/lib/python3.11/dist-packages (from kubernetes>=28.1.0->chromadb==1.0.16->-r /content/Agentic_RAG_Workshop/requirements.txt (line 10)) (2.38.0)\n",
            "Requirement already satisfied: websocket-client!=0.40.0,!=0.41.*,!=0.42.*,>=0.32.0 in /usr/local/lib/python3.11/dist-packages (from kubernetes>=28.1.0->chromadb==1.0.16->-r /content/Agentic_RAG_Workshop/requirements.txt (line 10)) (1.8.0)\n",
            "Requirement already satisfied: requests-oauthlib in /usr/local/lib/python3.11/dist-packages (from kubernetes>=28.1.0->chromadb==1.0.16->-r /content/Agentic_RAG_Workshop/requirements.txt (line 10)) (2.0.0)\n",
            "Requirement already satisfied: oauthlib>=3.2.2 in /usr/local/lib/python3.11/dist-packages (from kubernetes>=28.1.0->chromadb==1.0.16->-r /content/Agentic_RAG_Workshop/requirements.txt (line 10)) (3.3.1)\n",
            "Requirement already satisfied: urllib3>=1.24.2 in /usr/local/lib/python3.11/dist-packages (from kubernetes>=28.1.0->chromadb==1.0.16->-r /content/Agentic_RAG_Workshop/requirements.txt (line 10)) (2.5.0)\n",
            "Requirement already satisfied: durationpy>=0.7 in /usr/local/lib/python3.11/dist-packages (from kubernetes>=28.1.0->chromadb==1.0.16->-r /content/Agentic_RAG_Workshop/requirements.txt (line 10)) (0.10)\n",
            "Requirement already satisfied: langchain-text-splitters<1.0.0,>=0.3.9 in /usr/local/lib/python3.11/dist-packages (from langchain<1.0.0,>=0.3.26->langchain_community==0.3.27->-r /content/Agentic_RAG_Workshop/requirements.txt (line 9)) (0.3.9)\n",
            "Requirement already satisfied: jsonpatch<2.0,>=1.33 in /usr/local/lib/python3.11/dist-packages (from langchain-core<1.0.0,>=0.3.68->langchain_openai==0.3.28->-r /content/Agentic_RAG_Workshop/requirements.txt (line 7)) (1.33)\n",
            "Requirement already satisfied: requests-toolbelt>=1.0.0 in /usr/local/lib/python3.11/dist-packages (from langsmith>=0.1.125->langchain_community==0.3.27->-r /content/Agentic_RAG_Workshop/requirements.txt (line 9)) (1.0.0)\n",
            "Requirement already satisfied: zstandard>=0.23.0 in /usr/local/lib/python3.11/dist-packages (from langsmith>=0.1.125->langchain_community==0.3.27->-r /content/Agentic_RAG_Workshop/requirements.txt (line 9)) (0.23.0)\n",
            "Requirement already satisfied: PyJWT<3,>=1.0.0 in /usr/local/lib/python3.11/dist-packages (from PyJWT[crypto]<3,>=1.0.0->msal>=1.30.0->azure-identity->-r /content/Agentic_RAG_Workshop/requirements.txt (line 12)) (2.10.1)\n",
            "Requirement already satisfied: coloredlogs in /usr/local/lib/python3.11/dist-packages (from onnxruntime>=1.14.1->chromadb==1.0.16->-r /content/Agentic_RAG_Workshop/requirements.txt (line 10)) (15.0.1)\n",
            "Requirement already satisfied: flatbuffers in /usr/local/lib/python3.11/dist-packages (from onnxruntime>=1.14.1->chromadb==1.0.16->-r /content/Agentic_RAG_Workshop/requirements.txt (line 10)) (25.2.10)\n",
            "Requirement already satisfied: protobuf in /usr/local/lib/python3.11/dist-packages (from onnxruntime>=1.14.1->chromadb==1.0.16->-r /content/Agentic_RAG_Workshop/requirements.txt (line 10)) (5.29.5)\n",
            "Requirement already satisfied: sympy in /usr/local/lib/python3.11/dist-packages (from onnxruntime>=1.14.1->chromadb==1.0.16->-r /content/Agentic_RAG_Workshop/requirements.txt (line 10)) (1.13.1)\n",
            "Requirement already satisfied: distro<2,>=1.7.0 in /usr/local/lib/python3.11/dist-packages (from openai<2.0.0,>=1.86.0->langchain_openai==0.3.28->-r /content/Agentic_RAG_Workshop/requirements.txt (line 7)) (1.9.0)\n",
            "Requirement already satisfied: jiter<1,>=0.4.0 in /usr/local/lib/python3.11/dist-packages (from openai<2.0.0,>=1.86.0->langchain_openai==0.3.28->-r /content/Agentic_RAG_Workshop/requirements.txt (line 7)) (0.10.0)\n",
            "Requirement already satisfied: sniffio in /usr/local/lib/python3.11/dist-packages (from openai<2.0.0,>=1.86.0->langchain_openai==0.3.28->-r /content/Agentic_RAG_Workshop/requirements.txt (line 7)) (1.3.1)\n",
            "Requirement already satisfied: importlib-metadata<8.8.0,>=6.0 in /usr/local/lib/python3.11/dist-packages (from opentelemetry-api>=1.2.0->chromadb==1.0.16->-r /content/Agentic_RAG_Workshop/requirements.txt (line 10)) (8.7.0)\n",
            "Requirement already satisfied: googleapis-common-protos~=1.57 in /usr/local/lib/python3.11/dist-packages (from opentelemetry-exporter-otlp-proto-grpc>=1.2.0->chromadb==1.0.16->-r /content/Agentic_RAG_Workshop/requirements.txt (line 10)) (1.70.0)\n",
            "Requirement already satisfied: opentelemetry-exporter-otlp-proto-common==1.36.0 in /usr/local/lib/python3.11/dist-packages (from opentelemetry-exporter-otlp-proto-grpc>=1.2.0->chromadb==1.0.16->-r /content/Agentic_RAG_Workshop/requirements.txt (line 10)) (1.36.0)\n",
            "Requirement already satisfied: opentelemetry-proto==1.36.0 in /usr/local/lib/python3.11/dist-packages (from opentelemetry-exporter-otlp-proto-grpc>=1.2.0->chromadb==1.0.16->-r /content/Agentic_RAG_Workshop/requirements.txt (line 10)) (1.36.0)\n",
            "Requirement already satisfied: opentelemetry-semantic-conventions==0.57b0 in /usr/local/lib/python3.11/dist-packages (from opentelemetry-sdk>=1.2.0->chromadb==1.0.16->-r /content/Agentic_RAG_Workshop/requirements.txt (line 10)) (0.57b0)\n",
            "Requirement already satisfied: backoff>=1.10.0 in /usr/local/lib/python3.11/dist-packages (from posthog<6.0.0,>=2.4.0->chromadb==1.0.16->-r /content/Agentic_RAG_Workshop/requirements.txt (line 10)) (2.2.1)\n",
            "Requirement already satisfied: annotated-types>=0.6.0 in /usr/local/lib/python3.11/dist-packages (from pydantic>=1.9->chromadb==1.0.16->-r /content/Agentic_RAG_Workshop/requirements.txt (line 10)) (0.7.0)\n",
            "Requirement already satisfied: pydantic-core==2.33.2 in /usr/local/lib/python3.11/dist-packages (from pydantic>=1.9->chromadb==1.0.16->-r /content/Agentic_RAG_Workshop/requirements.txt (line 10)) (2.33.2)\n",
            "Requirement already satisfied: typing-inspection>=0.4.0 in /usr/local/lib/python3.11/dist-packages (from pydantic>=1.9->chromadb==1.0.16->-r /content/Agentic_RAG_Workshop/requirements.txt (line 10)) (0.4.1)\n",
            "Requirement already satisfied: charset-normalizer<4,>=2 in /usr/local/lib/python3.11/dist-packages (from requests<3,>=2->langchain_community==0.3.27->-r /content/Agentic_RAG_Workshop/requirements.txt (line 9)) (3.4.2)\n",
            "Requirement already satisfied: markdown-it-py>=2.2.0 in /usr/local/lib/python3.11/dist-packages (from rich>=10.11.0->chromadb==1.0.16->-r /content/Agentic_RAG_Workshop/requirements.txt (line 10)) (3.0.0)\n",
            "Requirement already satisfied: pygments<3.0.0,>=2.13.0 in /usr/local/lib/python3.11/dist-packages (from rich>=10.11.0->chromadb==1.0.16->-r /content/Agentic_RAG_Workshop/requirements.txt (line 10)) (2.19.2)\n",
            "Requirement already satisfied: greenlet>=1 in /usr/local/lib/python3.11/dist-packages (from SQLAlchemy<3,>=1.4->langchain_community==0.3.27->-r /content/Agentic_RAG_Workshop/requirements.txt (line 9)) (3.2.3)\n",
            "Requirement already satisfied: regex>=2022.1.18 in /usr/local/lib/python3.11/dist-packages (from tiktoken<1,>=0.7->langchain_openai==0.3.28->-r /content/Agentic_RAG_Workshop/requirements.txt (line 7)) (2024.11.6)\n",
            "Requirement already satisfied: huggingface-hub<1.0,>=0.16.4 in /usr/local/lib/python3.11/dist-packages (from tokenizers>=0.13.2->chromadb==1.0.16->-r /content/Agentic_RAG_Workshop/requirements.txt (line 10)) (0.34.3)\n",
            "Requirement already satisfied: click>=8.0.0 in /usr/local/lib/python3.11/dist-packages (from typer>=0.9.0->chromadb==1.0.16->-r /content/Agentic_RAG_Workshop/requirements.txt (line 10)) (8.2.1)\n",
            "Requirement already satisfied: shellingham>=1.3.0 in /usr/local/lib/python3.11/dist-packages (from typer>=0.9.0->chromadb==1.0.16->-r /content/Agentic_RAG_Workshop/requirements.txt (line 10)) (1.5.4)\n",
            "Requirement already satisfied: httptools>=0.6.3 in /usr/local/lib/python3.11/dist-packages (from uvicorn[standard]>=0.18.3->chromadb==1.0.16->-r /content/Agentic_RAG_Workshop/requirements.txt (line 10)) (0.6.4)\n",
            "Requirement already satisfied: uvloop>=0.15.1 in /usr/local/lib/python3.11/dist-packages (from uvicorn[standard]>=0.18.3->chromadb==1.0.16->-r /content/Agentic_RAG_Workshop/requirements.txt (line 10)) (0.21.0)\n",
            "Requirement already satisfied: watchfiles>=0.13 in /usr/local/lib/python3.11/dist-packages (from uvicorn[standard]>=0.18.3->chromadb==1.0.16->-r /content/Agentic_RAG_Workshop/requirements.txt (line 10)) (1.1.0)\n",
            "Requirement already satisfied: websockets>=10.4 in /usr/local/lib/python3.11/dist-packages (from uvicorn[standard]>=0.18.3->chromadb==1.0.16->-r /content/Agentic_RAG_Workshop/requirements.txt (line 10)) (15.0.1)\n",
            "Requirement already satisfied: pycparser in /usr/local/lib/python3.11/dist-packages (from cffi>=1.12->cryptography>=2.5->azure-identity->-r /content/Agentic_RAG_Workshop/requirements.txt (line 12)) (2.22)\n",
            "Requirement already satisfied: cachetools<6.0,>=2.0.0 in /usr/local/lib/python3.11/dist-packages (from google-auth>=1.0.1->kubernetes>=28.1.0->chromadb==1.0.16->-r /content/Agentic_RAG_Workshop/requirements.txt (line 10)) (5.5.2)\n",
            "Requirement already satisfied: pyasn1-modules>=0.2.1 in /usr/local/lib/python3.11/dist-packages (from google-auth>=1.0.1->kubernetes>=28.1.0->chromadb==1.0.16->-r /content/Agentic_RAG_Workshop/requirements.txt (line 10)) (0.4.2)\n",
            "Requirement already satisfied: rsa<5,>=3.1.4 in /usr/local/lib/python3.11/dist-packages (from google-auth>=1.0.1->kubernetes>=28.1.0->chromadb==1.0.16->-r /content/Agentic_RAG_Workshop/requirements.txt (line 10)) (4.9.1)\n",
            "Requirement already satisfied: filelock in /usr/local/lib/python3.11/dist-packages (from huggingface-hub<1.0,>=0.16.4->tokenizers>=0.13.2->chromadb==1.0.16->-r /content/Agentic_RAG_Workshop/requirements.txt (line 10)) (3.18.0)\n",
            "Requirement already satisfied: fsspec>=2023.5.0 in /usr/local/lib/python3.11/dist-packages (from huggingface-hub<1.0,>=0.16.4->tokenizers>=0.13.2->chromadb==1.0.16->-r /content/Agentic_RAG_Workshop/requirements.txt (line 10)) (2025.3.0)\n",
            "Requirement already satisfied: hf-xet<2.0.0,>=1.1.3 in /usr/local/lib/python3.11/dist-packages (from huggingface-hub<1.0,>=0.16.4->tokenizers>=0.13.2->chromadb==1.0.16->-r /content/Agentic_RAG_Workshop/requirements.txt (line 10)) (1.1.7)\n",
            "Requirement already satisfied: zipp>=3.20 in /usr/local/lib/python3.11/dist-packages (from importlib-metadata<8.8.0,>=6.0->opentelemetry-api>=1.2.0->chromadb==1.0.16->-r /content/Agentic_RAG_Workshop/requirements.txt (line 10)) (3.23.0)\n",
            "Requirement already satisfied: jsonpointer>=1.9 in /usr/local/lib/python3.11/dist-packages (from jsonpatch<2.0,>=1.33->langchain-core<1.0.0,>=0.3.68->langchain_openai==0.3.28->-r /content/Agentic_RAG_Workshop/requirements.txt (line 7)) (3.0.0)\n",
            "Requirement already satisfied: mdurl~=0.1 in /usr/local/lib/python3.11/dist-packages (from markdown-it-py>=2.2.0->rich>=10.11.0->chromadb==1.0.16->-r /content/Agentic_RAG_Workshop/requirements.txt (line 10)) (0.1.2)\n",
            "Requirement already satisfied: mypy-extensions>=0.3.0 in /usr/local/lib/python3.11/dist-packages (from typing-inspect<1,>=0.4.0->dataclasses-json<0.7,>=0.5.7->langchain_community==0.3.27->-r /content/Agentic_RAG_Workshop/requirements.txt (line 9)) (1.1.0)\n",
            "Requirement already satisfied: humanfriendly>=9.1 in /usr/local/lib/python3.11/dist-packages (from coloredlogs->onnxruntime>=1.14.1->chromadb==1.0.16->-r /content/Agentic_RAG_Workshop/requirements.txt (line 10)) (10.0)\n",
            "Requirement already satisfied: mpmath<1.4,>=1.1.0 in /usr/local/lib/python3.11/dist-packages (from sympy->onnxruntime>=1.14.1->chromadb==1.0.16->-r /content/Agentic_RAG_Workshop/requirements.txt (line 10)) (1.3.0)\n",
            "Requirement already satisfied: pyasn1<0.7.0,>=0.6.1 in /usr/local/lib/python3.11/dist-packages (from pyasn1-modules>=0.2.1->google-auth>=1.0.1->kubernetes>=28.1.0->chromadb==1.0.16->-r /content/Agentic_RAG_Workshop/requirements.txt (line 10)) (0.6.1)\n",
            "Downloading azure_search_documents-11.5.3-py3-none-any.whl (298 kB)\n",
            "\u001b[2K   \u001b[90m━━━━━━━━━━━━━━━━━━━━━━━━━━━━━━━━━━━━━━━━\u001b[0m \u001b[32m298.8/298.8 kB\u001b[0m \u001b[31m18.3 MB/s\u001b[0m eta \u001b[36m0:00:00\u001b[0m\n",
            "\u001b[?25hDownloading azure_identity-1.24.0-py3-none-any.whl (187 kB)\n",
            "\u001b[2K   \u001b[90m━━━━━━━━━━━━━━━━━━━━━━━━━━━━━━━━━━━━━━━━\u001b[0m \u001b[32m187.9/187.9 kB\u001b[0m \u001b[31m17.5 MB/s\u001b[0m eta \u001b[36m0:00:00\u001b[0m\n",
            "\u001b[?25hDownloading azure_common-1.1.28-py2.py3-none-any.whl (14 kB)\n",
            "Downloading msal-1.33.0-py3-none-any.whl (116 kB)\n",
            "\u001b[2K   \u001b[90m━━━━━━━━━━━━━━━━━━━━━━━━━━━━━━━━━━━━━━━━\u001b[0m \u001b[32m116.9/116.9 kB\u001b[0m \u001b[31m7.4 MB/s\u001b[0m eta \u001b[36m0:00:00\u001b[0m\n",
            "\u001b[?25hDownloading msal_extensions-1.3.1-py3-none-any.whl (20 kB)\n",
            "Installing collected packages: azure-common, azure-search-documents, msal, msal-extensions, azure-identity\n",
            "Successfully installed azure-common-1.1.28 azure-identity-1.24.0 azure-search-documents-11.5.3 msal-1.33.0 msal-extensions-1.3.1\n"
          ]
        }
      ]
    },
    {
      "cell_type": "markdown",
      "source": [
        "## Load Environment Variables and Initialize Clients\n",
        "Load environment variables containing API keys and endpoint information, and initialize the Azure Document Intelligence and OpenAI clients."
      ],
      "metadata": {
        "id": "KoDf5tbMan4_"
      }
    },
    {
      "cell_type": "code",
      "source": [
        "import os\n",
        "\n",
        "os.chdir(\"/content/Agentic_RAG_Workshop/\")\n",
        "\n",
        "from dotenv import load_dotenv\n",
        "from langchain_openai import ChatOpenAI, OpenAIEmbeddings\n",
        "\n",
        "load_dotenv()\n",
        "\n",
        "llm = ChatOpenAI(\n",
        "    api_key=os.getenv(\"OPENAI_API_KEY\"),\n",
        "    model=\"gpt-4.1\",\n",
        "    temperature=0,\n",
        ")\n",
        "\n",
        "embeddings = OpenAIEmbeddings(\n",
        "    api_key=os.getenv(\"OPENAI_API_KEY\"),\n",
        "    model=\"text-embedding-3-small\"\n",
        ")"
      ],
      "metadata": {
        "id": "pJjZ9dlCqHql"
      },
      "execution_count": null,
      "outputs": []
    },
    {
      "cell_type": "markdown",
      "source": [
        "## Load DI output"
      ],
      "metadata": {
        "id": "wRYnfMjgBmq1"
      }
    },
    {
      "cell_type": "code",
      "source": [
        "import pickle\n",
        "import os\n",
        "import chunking_utils\n",
        "\n",
        "DI_OUTPUT_DIR = os.path.join(os.getcwd(), \"DI_output\")\n",
        "\n",
        "leave_policy_results = pickle.load(open(os.path.join(DI_OUTPUT_DIR, \"leave_policy_results.pkl\"), \"rb\"))\n",
        "insurance_policy_results = pickle.load(open(os.path.join(DI_OUTPUT_DIR, \"insurance_policy_results.pkl\"), \"rb\"))\n",
        "\n",
        "# Create chunks for the leave policy document\n",
        "leave_policy_docs = chunking_utils.generate_parents(leave_policy_results['md_result'],\n",
        "                                           leave_policy_results['result_with_image_descp'],\n",
        "                                            \"Leave Policy\",\n",
        "                                           llm)\n",
        "\n",
        "# Create chunks for the insurance policy document\n",
        "insurance_policy_docs = chunking_utils.generate_parents(insurance_policy_results['md_result'],\n",
        "                                           insurance_policy_results['result_with_image_descp'],\n",
        "                                          \"Insurance Policy\",\n",
        "                                           llm)\n",
        "\n",
        "parent_docs = leave_policy_docs + insurance_policy_docs\n",
        "\n",
        "parent_docs = leave_policy_docs + insurance_policy_docs\n",
        "doc_ids = [str(i) for i in range(len(parent_docs))]\n",
        "id_key = \"doc_id\""
      ],
      "metadata": {
        "id": "l5DfU9h7Bn2w",
        "colab": {
          "base_uri": "https://localhost:8080/"
        },
        "outputId": "f34ee3fe-c086-461f-d601-2b5f99db6a35"
      },
      "execution_count": null,
      "outputs": [
        {
          "output_type": "stream",
          "name": "stdout",
          "text": [
            "\n",
            "\n",
            "\n",
            "\n",
            "\n",
            "\n",
            "\n",
            "\n",
            "\n",
            "\n",
            "\n",
            "\n",
            "\n",
            "\n",
            "[INFO] Created 14 parent documents.\n",
            "\n",
            "\n",
            "\n",
            "\n",
            "\n",
            "\n",
            "\n",
            "\n",
            "\n",
            "\n",
            "\n",
            "\n",
            "\n",
            "\n",
            "\n",
            "\n",
            "\n",
            "\n",
            "\n",
            "\n",
            "\n",
            "\n",
            "\n",
            "\n",
            "\n",
            "\n",
            "\n",
            "\n",
            "\n",
            "\n",
            "\n",
            "\n",
            "\n",
            "\n",
            "\n",
            "\n",
            "\n",
            "\n",
            "\n",
            "\n",
            "\n",
            "\n",
            "\n",
            "\n",
            "[INFO] Created 45 parent documents.\n"
          ]
        }
      ]
    },
    {
      "cell_type": "markdown",
      "source": [
        "### Save doc_ids & parent docs to pickle"
      ],
      "metadata": {
        "id": "qBMq936o3mE5"
      }
    },
    {
      "cell_type": "code",
      "source": [
        "import pickle\n",
        "import os\n",
        "\n",
        "# Save parent_docs and doc_ids to a pickle file\n",
        "parent_data = {\n",
        "    \"parent_docs\": parent_docs,\n",
        "    \"doc_ids\": doc_ids\n",
        "}\n",
        "with open(os.path.join(os.getcwd(), \"parent_docs_and_ids.pkl\"), \"wb\") as f:\n",
        "    pickle.dump(parent_data, f)"
      ],
      "metadata": {
        "id": "ZRxZvO6i3lIG"
      },
      "execution_count": null,
      "outputs": []
    },
    {
      "cell_type": "markdown",
      "source": [
        "## Create Child Docs, Summaries, Hypothetical Questions"
      ],
      "metadata": {
        "id": "yATR7UWpnJ4l"
      }
    },
    {
      "cell_type": "code",
      "source": [
        "from multivector_utils import create_child_documents, generate_summaries, generate_hypothetical_questions\n",
        "\n",
        "child_docs = create_child_documents(parent_docs, doc_ids, id_key)\n",
        "summaries = generate_summaries(parent_docs, llm, id_key, doc_ids)\n",
        "questions = generate_hypothetical_questions(parent_docs, id_key, doc_ids)"
      ],
      "metadata": {
        "id": "Qy_a-dYHnWT-"
      },
      "execution_count": null,
      "outputs": []
    },
    {
      "cell_type": "code",
      "source": [
        "def replace_header_keys(documents):\n",
        "    \"\"\"Replaces header keys in the metadata of Langchain documents.\"\"\"\n",
        "    for doc in documents:\n",
        "        new_metadata = {}\n",
        "        for key, value in doc.metadata.items():\n",
        "            if key == \"Header 1\":\n",
        "                new_metadata[\"Header_1\"] = value\n",
        "            elif key == \"Header 2\":\n",
        "                new_metadata[\"Header_2\"] = value\n",
        "            elif key == \"Header 3\":\n",
        "                new_metadata[\"Header_3\"] = value\n",
        "            elif key == \"Header 4\":\n",
        "                new_metadata[\"Header_4\"] = value\n",
        "            else:\n",
        "                new_metadata[key] = value\n",
        "        doc.metadata = new_metadata\n",
        "    return documents\n",
        "\n",
        "# Apply the function to your document lists\n",
        "parent_docs = replace_header_keys(parent_docs)\n",
        "child_docs = replace_header_keys(child_docs)\n",
        "summaries = replace_header_keys(summaries)\n",
        "questions = replace_header_keys(questions)"
      ],
      "metadata": {
        "id": "P8tWuw4M0SkS"
      },
      "execution_count": null,
      "outputs": []
    },
    {
      "cell_type": "code",
      "source": [
        "child_docs[45]"
      ],
      "metadata": {
        "colab": {
          "base_uri": "https://localhost:8080/"
        },
        "id": "WUXGwTVcwXbl",
        "outputId": "7d2387a3-ab7d-4981-88c8-7475c69c01a1"
      },
      "execution_count": null,
      "outputs": [
        {
          "output_type": "execute_result",
          "data": {
            "text/plain": [
              "Document(metadata={'doc_id': '35', 'Header_1': 'Employee Benefits Manual 2023-24 Novartis Group', 'Header_2': \"Voluntary Parent's Policy - Plan Details (2/2)\", 'page_number': 22, 'custom_metadata': \"Voluntary Parent's Policy - Plan Details (2/2)\", 'source': 'Insurance Policy', 'parent_id': '35', 'source_type': 'Children'}, page_content='##Voluntary Parent\\'s Policy - Plan Details (2/2)  \\n<table>\\n<tr>\\n<td>Special Conditions</td>\\n<td>Pandemic and Dental and Vision in cases of accidents covered, only in case of accidents. Refractive error or sight correction $\\\\left( + / - \\\\right) 7$ and macular degeneration of retina- on IPD and OPD basis, Final decision will be taken on receipt of complete set of documents. 50% Co-Pay for cyber-knife treatment, Gamma Knife treatment and Stem Cell Transplantation, Robotic Surgery, Femto laser treatment for eye. It will be applicable for each eye each event. Cochlear Implant treatment shall be restricted to 50% of the SI. Coverage under this benefit is subject to the procedure being authority-approved indication for the medical condition, and should not be experimental and unproven treatment as on date</td>\\n</tr>\\n<tr>\\n<td>Pre-Existing exclusions/1st year exclusions/30 days waiting period</td>\\n<td>Waived off</td>\\n</tr>\\n<tr>\\n<td>Claims Submission Timeframes</td>\\n<td>Submission within 30 days from Date of Discharge</td>\\n</tr>\\n<tr>\\n<td>Claims Intimation Timeframes</td>\\n<td>Waived off</td>\\n</tr>\\n<tr>\\n<td>Terrorism</td>\\n<td>Covered</td>\\n</tr>\\n</table>\\n<!-- PageFooter=\"AON\" -->\\n<!-- PageFooter=\"Novartis Group-Employee Benefits Manual 2023-24\" -->\\n<!-- PageNumber=\"22\" -->\\n<!-- PageBreak -->')"
            ]
          },
          "metadata": {},
          "execution_count": 10
        }
      ]
    },
    {
      "cell_type": "markdown",
      "source": [
        "## Create Azure AI Search Index"
      ],
      "metadata": {
        "id": "PDjeJYfJnshj"
      }
    },
    {
      "cell_type": "markdown",
      "source": [
        "### Configure vector store settings\n",
        "You need an Azure subscription and Azure AI Search service to use this vector store integration. No-cost versions are available for small and limited workloads.\n",
        "\n",
        "Set variables for your Azure AI Search URL and admin API key. You can get these variables from the Azure portal."
      ],
      "metadata": {
        "id": "hoTpKj3CrEfM"
      }
    },
    {
      "cell_type": "code",
      "source": [
        "vector_store_address: str = os.getenv(\"AZURE_SEARCH_ENDPOINT\")\n",
        "vector_store_password: str = os.getenv(\"AZURE_SEARCH_KEY\")"
      ],
      "metadata": {
        "id": "xnDmPwSWq_yv"
      },
      "execution_count": null,
      "outputs": []
    },
    {
      "cell_type": "markdown",
      "source": [
        "### Define custom filterable fields\n",
        "This schema shows field definitions. It's the default schema, plus several new fields attributed as filterable. Because it's using the default vector configuration, you won't see vector configuration or vector profile overrides here. The name of the default vector profile is \"myHnswProfile\" and it's using a vector configuration of Hierarchical Navigable Small World (HNSW) for indexing and queries against the content_vector field."
      ],
      "metadata": {
        "id": "ena74h8DuzQN"
      }
    },
    {
      "cell_type": "code",
      "source": [
        "from azure.search.documents.indexes.models import (\n",
        "    ScoringProfile,\n",
        "    SearchableField,\n",
        "    SearchField,\n",
        "    SearchFieldDataType,\n",
        "    SimpleField,\n",
        "    TextWeights,\n",
        "    SemanticConfiguration,\n",
        "    SemanticField,\n",
        "    SemanticPrioritizedFields,\n",
        ")\n",
        "\n",
        "embedding_function = embeddings.embed_query\n",
        "\n",
        "fields = [\n",
        "    SimpleField(\n",
        "        name=\"id\",\n",
        "        type=SearchFieldDataType.String,\n",
        "        key=True,\n",
        "        filterable=True,\n",
        "    ),\n",
        "    SearchableField(\n",
        "        name=\"content\",\n",
        "        type=SearchFieldDataType.String,\n",
        "        searchable=True,\n",
        "    ),\n",
        "    SearchField(\n",
        "        name=\"content_vector\",\n",
        "        type=SearchFieldDataType.Collection(SearchFieldDataType.Single),\n",
        "        searchable=True,\n",
        "        vector_search_dimensions=len(embedding_function(\"Text\")),\n",
        "        vector_search_profile_name=\"myHnswProfile\",\n",
        "    ),\n",
        "    SearchableField(\n",
        "        name=\"metadata\",\n",
        "        type=SearchFieldDataType.String,\n",
        "        searchable=True,\n",
        "    ),\n",
        "    # Additional field to store the Header\n",
        "    SearchableField(\n",
        "        name=\"Header_1\",\n",
        "        type=SearchFieldDataType.String,\n",
        "        searchable=True,\n",
        "    ),\n",
        "    # Additional field to store the Header\n",
        "    SearchableField(\n",
        "        name=\"Header_2\",\n",
        "        type=SearchFieldDataType.String,\n",
        "        searchable=True,\n",
        "    ),\n",
        "    # Additional field to store the Header\n",
        "    SearchableField(\n",
        "        name=\"Header_3\",\n",
        "        type=SearchFieldDataType.String,\n",
        "        searchable=True,\n",
        "    ),\n",
        "    # Additional field to store the Header\n",
        "    SearchableField(\n",
        "        name=\"Header_4\",\n",
        "        type=SearchFieldDataType.String,\n",
        "        searchable=True,\n",
        "    ),\n",
        "    # Additional field for filtering on document source\n",
        "    SimpleField(\n",
        "        name=\"source\",\n",
        "        type=SearchFieldDataType.String,\n",
        "        filterable=True,\n",
        "    ),\n",
        "]\n",
        "\n",
        "\n",
        "\n",
        "semantic_config = SemanticConfiguration(name='agentic-rag-semantic-config',\n",
        "                                        prioritized_fields=SemanticPrioritizedFields(\n",
        "                                            title_field=SemanticField(field_name=\"source\"),\n",
        "                                                    keywords_fields=[\n",
        "                                                        SemanticField(field_name=\"Header_1\"),\n",
        "                                                        SemanticField(field_name=\"Header_2\"),\n",
        "                                                        SemanticField(field_name=\"Header_3\"),\n",
        "                                                        SemanticField(field_name=\"Header_4\")\n",
        "                                                                    ],\n",
        "                                                    content_fields=[\n",
        "                                                        SemanticField(field_name=\"content\")\n",
        "                                                        ]\n",
        "                                                )\n",
        "                                            )"
      ],
      "metadata": {
        "id": "vYJlVjHguzdi"
      },
      "execution_count": null,
      "outputs": []
    },
    {
      "cell_type": "markdown",
      "source": [
        "### Create vector store instance\n",
        "Create instance of the AzureSearch class using the embeddings from above"
      ],
      "metadata": {
        "id": "co8X5dQhrHZa"
      }
    },
    {
      "cell_type": "code",
      "source": [
        "import os\n",
        "from langchain_community.vectorstores.azuresearch import AzureSearch\n",
        "\n",
        "index_name: str = \"agentic-rag-workshop\"\n",
        "search_type: str = \"semantic_hybrid\"\n",
        "\n",
        "vector_store: AzureSearch = AzureSearch(\n",
        "    azure_search_endpoint=vector_store_address,\n",
        "    azure_search_key=vector_store_password,\n",
        "    index_name=index_name,\n",
        "    embedding_function=embedding_function,\n",
        "    fields=fields,\n",
        "    search_type = search_type,\n",
        "    semantic_configurations = semantic_config,\n",
        ")"
      ],
      "metadata": {
        "id": "HJi69BDgrJo8"
      },
      "execution_count": null,
      "outputs": []
    },
    {
      "cell_type": "markdown",
      "source": [
        "### Add data to the vectorstore"
      ],
      "metadata": {
        "id": "R9VWEULBzNAF"
      }
    },
    {
      "cell_type": "code",
      "source": [
        "# Add child_docs, sumamries, questions to the vectorstore\n",
        "vector_store.add_documents(documents=child_docs)\n",
        "vector_store.add_documents(documents=summaries)\n",
        "vector_store.add_documents(documents=questions)"
      ],
      "metadata": {
        "colab": {
          "base_uri": "https://localhost:8080/"
        },
        "id": "PRri2rffzNQN",
        "outputId": "b7fd4027-e793-45aa-cb70-cbd7daf4edd0"
      },
      "execution_count": null,
      "outputs": [
        {
          "output_type": "execute_result",
          "data": {
            "text/plain": [
              "['MzAzZTAyOGEtMjQ3MS00MzdmLTk2OTktOGJiODMxYWRmMzQy',\n",
              " 'YTA3ZmJkZjItZWM3OS00NzEzLTk3NWEtMTdkMjAxMjM2MzQ3',\n",
              " 'MzA1OTliMGEtZWE1NS00ZWIwLWIzZDYtYTljMzYzZWY4Yzlh',\n",
              " 'NzY0ODZlNDYtMTBiMi00ODBkLWE0NjEtNmM0ZWE4YmFkMTI2',\n",
              " 'MWZkZmExNTYtOGQ1OC00ZWMyLWI4MDUtMDQ1MmYyYTRiZDVi',\n",
              " 'YjQ2YTkxNzctOTk5Yy00MzQ4LWJhZDMtNWUzZDJiNmU5MjE4',\n",
              " 'YjJhOGU1OTAtMDE2Yy00YjIxLTljZjEtNTI4YTI2YTg2ZTVk',\n",
              " 'OTJhOTEzMGEtOWJiNy00YWFiLWE2YjQtNjczOTNlNmY4NGQx',\n",
              " 'NDgzOTAxNGUtZWM1MC00ZGYzLWJmZmItMWIwZjgyNDZjY2Ex',\n",
              " 'ZDQyYTk4YTAtMjRmZC00ZmE5LWFhODYtYTY0MzJlMjRlMzVk',\n",
              " 'YmY1YjhiNWItOWJmZi00ZWVkLTg2NTktZDgwOWZjMTNhMTY3',\n",
              " 'OTQ1ZjdlOTEtMzk5ZS00MDhiLWFkMzQtOTU2NWQ5NWM4ZmQw',\n",
              " 'YmNkMDdhM2UtNzVjNi00NGYyLTliNmEtYmI2Njg1MmEzMzUz',\n",
              " 'ODYzOWRiODctNjQ4My00ZTQ0LWIyOTUtNDFkN2YxNmFlNTVi',\n",
              " 'YWZjZjdiN2ItYWM2NC00MGE5LThkZWYtZDE1ZGQxODU0N2Q2',\n",
              " 'ODY3MTRiMGMtYjk5Mi00YTcwLWEwYzItMjNkMzNhZWRlMGYx',\n",
              " 'YTg2ZjFkNTQtYTgyMy00ODJjLThlZWEtMWYzMTQxN2Y4Zjcx',\n",
              " 'OTNiZmIyNjQtMmM2NS00YTg0LWFmMDMtMWYyMzcyMTJjMzk5',\n",
              " 'ZGM4OGQzNGUtZWRjMS00YTVmLWE3ZmQtYmNiZTJjZDJjMTNl',\n",
              " 'YzQ5YjUxOTgtZWE1ZS00OWQ2LTk1MGItYTFhNmYwYzJlZWQ3',\n",
              " 'MmVkODY1ZTQtZWFlMi00NDIyLWJjZmUtZGMxMTg0YTM1NmZm',\n",
              " 'YjM2NzYwYmUtZmRlMS00MDcyLWJiZTUtZTYzZmQyOGU5NjUx',\n",
              " 'N2JhOTdjYjAtM2Y1MS00NmQzLWIwMGUtNGRkM2IyYjkyMWVk',\n",
              " 'ZDNhMzFiZmItMTA2Ny00YzY1LTkzMjktYmJhMzNiZTNhNzk0',\n",
              " 'M2QzODdkM2YtZjVhYy00MzZiLTllNGItZjY2NWFiZWM4Nzgx',\n",
              " 'Y2Q3ODAxODUtZGRiYy00NzI5LWIyMWUtNDc2ODM2ZDE4OTBk',\n",
              " 'YzUxYzJiZmQtY2Y1MS00ZWVhLTgxZmItNGRmZmIzZDNmNTBk',\n",
              " 'MmZiNTU2NDktMGNlMC00NDNlLWIzMmYtZjQwMWViMzQ2Yzk5',\n",
              " 'NDc1ZjljZDktMzU5Yi00Y2MwLWJhMDEtZGVmYTMzYWVhMmQ1',\n",
              " 'MzZjNDI3ZWYtMzkwZS00NzRmLTkwM2YtNWUwMjY5NjAxZGFh',\n",
              " 'NWQ3MTE0N2YtYmE2OS00Mzc3LThiZmItMDg4YTZkNjhmODFm',\n",
              " 'YmU0M2E5MDAtYmNkYS00NGE2LWFlMTQtYjYyMzc3MzkxNDVk',\n",
              " 'MDRmOThjNTktN2QwZC00MzMwLTkzYmYtOTNjMzY4MzVhZmQ0',\n",
              " 'NjE4ZDMxNmItYjUzMS00YzZjLThiYzMtZTA2ZWVjNmRlMDNk',\n",
              " 'NTVhMGFhNjEtMjM0MC00MzMyLTkwYjYtMTFkN2E2ZDE3ODcy',\n",
              " 'Njc0ZjhmZmItNTIxNy00ZjEwLTk0M2UtYTBhMGI1Yjc1NTQz',\n",
              " 'MTQ1MWFkYjAtODJmYy00MTZhLWIxYjctZGQ4MDNlMGZkMWQ2',\n",
              " 'YTRkNjI1NzAtZDkyYy00OGZiLWE5YzMtOGIyNzQzMjNmMzEw',\n",
              " 'YWE4N2U3NzMtNTJiMC00OWZiLTk5YWEtMDI4N2I0ZTIwMDlk',\n",
              " 'ODZjODAwMWUtMTc0Yi00ZDdiLTliMTQtMWFhNTExOGZmMGQz',\n",
              " 'ZWU0NDM1NTYtODVmMS00NjAzLWExOWMtMGQ3MTExMjU4NTM1',\n",
              " 'ZTM3MGZhYTEtMmYzNS00MWZkLTgwMmEtYWJhNzQ3NGNmYWZj',\n",
              " 'NjNkNjFmMjEtMzg0YS00YmVhLWJlYmQtNTBjMWM2ZTQ4YWMy',\n",
              " 'OTliMjMyMDgtMDAzYi00NjY2LWJkZDYtOTE5OWNkMWM4NTJj',\n",
              " 'MGU0ZTIyMjctY2IyNS00YWZhLWE3NGYtYTYxZWRiOTRlODdl',\n",
              " 'OWE1NjY4NTYtZTlkYS00OWNlLTg3YzItOWQzNTlhYmI3ZmMw',\n",
              " 'MzIxNzFjZDUtOTg4ZC00OTQzLTliYWYtMDU1YmZkYWIzMmM1',\n",
              " 'YzA5NjQzMDktMjJiZC00MjNlLWI4NDEtODkwZmU5Zjk1NzFl',\n",
              " 'MzE0NjM2ZDMtODg1Ny00YWRhLWI0MDctN2JhYjg3NTQ0NWQw',\n",
              " 'ODM0MzJhMjItYzUzMC00ZDIxLWFkYmQtMjc1MTk5MjcxMGNm',\n",
              " 'MDRmNjU0ZGMtZTNlNy00ZGFmLTg5M2UtNDI5MjU3M2ZkNjNi',\n",
              " 'YWFiY2JlNTMtZmY3Ni00MmZlLThiZDUtNzRiNmRiZDZlMTc3',\n",
              " 'NGE5YzkyNTAtZmQ4Ny00MzBlLWJhMDktOTEzOTI5NDhmM2Vl',\n",
              " 'Nzc3YjhjODgtYWQ4Yi00NTUxLTk3M2QtMDBlYTY2NzJjZDZm',\n",
              " 'Zjk1NDE0MzItNDUzNC00Mzk0LWJiYzEtY2QxNzc5YmQwYmQ2',\n",
              " 'Nzg0ZThmNjMtOWM3OS00NTM3LWJiMjctYTkxNWQyMTdmZGJi',\n",
              " 'YmNhNmExOWItZmJhNi00MGQwLTk0NTQtM2Q5Nzk2Y2JhYTFm',\n",
              " 'NWRiNGE2ZTAtOGM1NS00NDI5LThjYjItYTkxNTFkNjFlOTY4',\n",
              " 'YTE2ZjBhNTQtYTEyYy00MzZlLTk2NTQtZGM1Njg5NTIyOWQ0',\n",
              " 'NjdlNGYzNDEtNjAzZS00NjllLWJhYjEtOTg1NWVmNGY4ZDRh',\n",
              " 'ZTQ2ZGM3MGItMjRlMi00MDliLThkZGYtMmUwZDUxZDcwNzFk',\n",
              " 'NmMwZjc3YTgtZGUyYy00MjBhLWI0ZDgtYTU4NjcwNDlhMjRj',\n",
              " 'MzNkYTljNjQtMjU1MC00OWUzLTgxMmUtNDBiM2JjOTM4OTU3',\n",
              " 'MWIyMDRkNjktMTYxYy00YTFlLTlhOTAtNDkxM2NhZjRhYzcy',\n",
              " 'YzUxZjI4ZDEtODA3Zi00MGM1LTkxYTMtNzQyZGZlZWRkMTg2',\n",
              " 'Y2I4N2M2N2MtZGYxOC00MDA1LWI2MDktYmI1NmY1ZWMxNTAw',\n",
              " 'ZTg5M2MwZGMtNWJmNS00NWE3LWI2ODktYWQyOGVlZmQ5NDFj',\n",
              " 'MjY3ZDI1YzgtNTExNi00OTliLWI0NDQtYTExYmI0ZTZiMmQ5',\n",
              " 'MDIwYWZmZTAtNDA5OS00NThhLTg3OGMtY2UzNGYyY2FkODFj',\n",
              " 'MDkzMGI3MmMtYzc1MC00ZjNmLTgxZWItNjM3MGZmZmYxMWY5',\n",
              " 'YmI1OGMzNzktNDZmNy00ODgxLTkwOTktYjBiOGExYjcwNTE5',\n",
              " 'MWRjMjRkNGEtZjg0Yi00MWQyLWE1N2MtZTFmNDljMjdkYWEw',\n",
              " 'MTc2OTI4NGMtZmI0MC00MTI0LThlMzItYzhjMzYwNmU2YTQw',\n",
              " 'MjI5ODQwNjItZWNkMi00ODkzLWE5YWYtNmU0MDU4Mzc2NmUz',\n",
              " 'MmRjYzEyZjMtZmUwYy00Yjk3LTk3ODYtZGI4N2Y2ZjExZjJm',\n",
              " 'NTM3MjViNjItNmI2YS00MDExLWFiNmYtNjNiZjUzMDFhZmEw',\n",
              " 'OTUzOGVmMWYtODVlNS00YjYzLWFlNjQtZjMzM2M1N2QzNTdl',\n",
              " 'MjY0MWI2MWEtNGEwNC00ZmFjLWJhNjItNzQxYTE3NDAyMjMy',\n",
              " 'ZGI1MWUyNDUtNWMwMC00NDBhLWJjZjgtOTBhN2M4NzUxOTE1',\n",
              " 'ZjE1YTE2NDUtNTY5Yy00YzJhLTg2YzQtY2FkYjNkZDg5ZDhk',\n",
              " 'MzY0OTBkYzYtMjhiMS00MzQ3LTlkOTAtZmQwODY5YjdlMDhk',\n",
              " 'MGMyOWUzYjEtYzhiZS00MjU4LTkzZmEtNzA4MDgxZmVhYWJk',\n",
              " 'MGMzOTJmZjMtYjdhZi00N2ExLWIzMGUtYmI5NzEzMzk3MjA0',\n",
              " 'MzcxMGY3MTItNDE3Yi00NzEzLWI1MDktZGFlZWIzNjIxMDRl',\n",
              " 'ZDY2MzFhMDEtYjM4ZC00NTFkLWI3ODItYWI3ZDI1OGNjNTBi',\n",
              " 'ZDk0ODg0MTMtZTM4OC00MTIzLWJhYjMtNDBlOGEzODU0MjBk',\n",
              " 'NjA4ZDJjMGUtZTFiZS00ZWU3LWE1MDktN2VhZTA4MjZhYjNi',\n",
              " 'YWFlMGJkNzQtODEzMS00ZTI1LTlmNmEtMWJhNWI1OGI5MjQ5',\n",
              " 'Y2ZjZThlYWUtMWI3MC00NTE0LTk2NjYtZDIxNjdkZWZmYTBk',\n",
              " 'ZTZmMDI0MDYtZjhmZi00MDAyLWFmMjYtMDBhZTUzYTg1OWNj',\n",
              " 'MzBlMWMwNjAtODI5NS00YTQxLWI4MWUtNGJlMjAxZGU4Yjhl',\n",
              " 'ZWEyNGQ2MGEtYzQ1My00YWRiLTg2NWItNzM4YzBhY2ZlNmU3',\n",
              " 'ODZmYjcwNDktNWM0OC00MzQyLThhZmUtNzEwYjFlZGY5MWU1',\n",
              " 'ZjljMTg2ZDQtMGNmNi00ZjdhLTk0MmEtMTVlOWFjMzE2Yjk5',\n",
              " 'NTU5NjNlY2EtOTM3MS00MjYzLTg5N2QtNThhODBkNzUwNWIz',\n",
              " 'YTMzMDQ0ZDUtNjRjYi00YjY1LWIzZjgtMWQzODMyZWIwMmE0',\n",
              " 'MzcwYmRkODYtYjViMy00NTdiLTgxZjgtNzY1YzU1YWU4ZTdi',\n",
              " 'NGZlOTgzMzMtYWFmNS00Nzk2LTk4ZjctY2M4NWE3YmI3MWQ0',\n",
              " 'ODBlNDVkYmQtOWQyZC00Zjg0LThjZWUtNzYzMThlN2UyZTM2',\n",
              " 'OWMyZjMwNDEtMjkxNC00Y2QwLWE0ODctMGVjM2NiY2E5OGYz',\n",
              " 'YzExNzFjYTctNzJlYi00Zjk3LWFlN2ItZGIyYjkyZjU2MDBm',\n",
              " 'YThiNDVkMzItMzZkNC00YjUxLTkzNWUtYWJiODU3NTEzNTFh',\n",
              " 'NWE5Mjg0MTAtODA1Yy00YjA3LWJjNWUtZmVkYmYzODllZTkz',\n",
              " 'YzY2MzMxZTMtNDlhNi00YmZiLTg1MzctNjVkZDkxMjc0MjYz',\n",
              " 'OGVjODE5ZTEtZjY4YS00NGJjLTg0MzgtZWU4M2FlMDNkOGQw',\n",
              " 'NjRkN2RhYTMtN2IyYy00MTIxLThmZjktODhjYmNmN2RmOWZi',\n",
              " 'ZTdjMGM2Y2ItZDFiZS00NTNkLTkxOTItOThhZGE5ZTk1ODE2',\n",
              " 'OWI1MTYwNWMtNzlhMi00Mzg4LWEyNjEtZmY0M2Y2Yzc3NjJm',\n",
              " 'MjNmYTFmNTYtMmRiMy00YTIzLWEwMzItZTY0M2I0M2E3MTYx',\n",
              " 'MGM4YmEyYjMtNjYyOC00NmUyLTkwZTYtNTJhMTNjMDNmYjFl',\n",
              " 'ZmIxZmEzMTEtYmJjOC00OGM0LWE1NTEtOTliMDY1MTI4MDdi',\n",
              " 'NjhjOWFhMDItNjM4Yi00MTc3LWEwMDEtMDNlNDk1MjFmNGMw',\n",
              " 'MjIxYzAyM2ItMjQzZS00ZGVmLWE4OTItOGUxMjBmNDg4YmI3',\n",
              " 'N2NiMTljZGYtZDFiZC00OGE1LWI3NGQtNzAxNmQwYWY1MjE4',\n",
              " 'Y2U2NTcyMWItZDAxOS00NGE3LThhMTctMzJjYTVjYWRlMDNi',\n",
              " 'OWNlNTJhMGItODY5My00MWM4LTkxYWEtODBmOGI5MWZjMTk4',\n",
              " 'YTZlYmZkODUtOTVlNi00ODg2LWI2ZjYtYjM5ZmJmZGE2OGIx',\n",
              " 'YThkM2RlN2YtYjJkOS00MmY2LWJkNGMtYWRiNjkwNmVkN2Jl',\n",
              " 'NjgxMDM0MTktZjViMS00NGJjLWE2MjctNDg0MWI1OWNlZTg3',\n",
              " 'MzNmNTE1YzQtODQxYy00ZTJlLWE2NGUtY2IxOWVjODIwNDc2',\n",
              " 'Y2VhNTJiOTAtZjI2ZS00Y2Q3LWIzZDktYWE0MDliY2ZiNzQ5',\n",
              " 'MjhjZWJjZmItN2VmMC00MGMyLThhMDgtMTBkMTQ3M2UzYzFl',\n",
              " 'MjJhNGI5MjItZWRmZi00ODFjLWEyMGYtYzJjNzg3ZjZhZWQ3',\n",
              " 'NTQ4Y2Q2NGQtOWZiMy00NDk2LWI1MzYtNzUxYTViNWVhNjEw',\n",
              " 'OGJmY2NkZjAtOTFmNy00ZTMyLWJlMDQtOTNhNmU3YzQ4NzA3',\n",
              " 'YjlhNTM3NDgtOTEzYi00ZGU4LTljYzItZTE4ZTVlYTgzNTdm',\n",
              " 'NGUyMmNhOWMtMGE3Ny00MGE5LThlZmYtMGU4ZmNkMTZkYjU2',\n",
              " 'OTgwM2E3NGUtYmRjOC00MjU0LWI5MTgtMTJjY2YxMzU0ZDE2',\n",
              " 'N2I2MWMwZjItZmM0ZC00ZjAyLWIzMGItODU5ZWI4YzQwYjJl',\n",
              " 'ZjQ4ZWI2YzEtMDI1Mi00MTRkLWEyZWEtNzZjNjU4ZmRlYTEy',\n",
              " 'YjVmOTI5YWQtYjU0NS00NDY5LWI1MTYtY2FhMzg5MjkyM2Nm',\n",
              " 'OWI4MTk0NzMtNTliNy00MGI5LWI2NTQtODhjMzAxM2QwZmE1',\n",
              " 'OWVkYmYzZTUtMWM0NC00MzhjLWI0MDktZWEyZjZlNTA5Mjlh',\n",
              " 'YmFhODI0OWMtZmY2OS00ODY2LTljZDQtZTkzMjFlMjE2NzQy',\n",
              " 'ZTM0MTgwMzctZDljNi00M2Q3LTkzZjQtNTZjNzM5NzNlNmQ3',\n",
              " 'NGM3YmVmMjItNjQyMy00NTc1LTk2NGMtNTdlY2M0ZjA0NmIx',\n",
              " 'ZTI4YjY5NmEtMjZjNi00ZDFhLWIyYzEtYTgwNDI3NTYwZDll',\n",
              " 'NmQyYWMxZDMtYzY3YS00NGI0LWIzNjItMGVjZGY3MjM1YzQw',\n",
              " 'YjViYjk3YTktMWQwZi00NmQzLWJjOTgtMWU0M2M5NTU1ZjIy',\n",
              " 'ZTg2NTZjY2UtYmY1YS00MmU2LWI1YTMtODUzNzU5OGViZThm',\n",
              " 'OTM2OTE0ODMtYTQ0Ny00MTg4LThkMmQtMDljMDE1NmI3NDc1',\n",
              " 'YTgyODEzNjctNjYwOC00YjEzLThmYzAtNzQ4NzY4M2FlZjFm',\n",
              " 'ZTZhODQ0MTUtMGNiMi00NDdmLWJiMWEtZDU5ZDg0ODQwOTcw',\n",
              " 'OTA4OGJhNzctM2M4YS00NGM0LWI4M2UtYmYwZjAwN2JmODk2',\n",
              " 'ZTdjOGI3N2UtZDZlZi00NzY0LTgzZmMtNzIzZGUyMDllMzQ1',\n",
              " 'NjIwM2VkZGQtYzZlNC00Y2MzLWJhNDItNzdjMDkxZDlhN2Fm',\n",
              " 'NmI1YTcyMGMtNThhZC00ZmE4LTg5MzYtM2E4MDI5YmEyMDgz',\n",
              " 'OWE5ODk0NmEtNjE3Ni00N2IxLThmMzEtNGQ4OGM4ODY0ZGY3',\n",
              " 'NDc2ZGM1ZjEtODc1Ny00NjkxLWJlM2MtNTk2MjkxNmFiMmZi',\n",
              " 'YzhkYzRjNDktMjQ3MS00OWY1LWE5ZjktZWM2YzQyMzJkZGY0',\n",
              " 'NTA4OWNhMWUtMzYxMi00ODMwLTg3ZTktYjBmZWUwNDQ4OTZk',\n",
              " 'N2QyMWIzZDctMThlMy00ZWFjLWI4ZWMtYzAwMjQ0ZDA3MmE4',\n",
              " 'NzBjMDhlMDktMjc4Ny00Y2Y5LTg5OWYtYjY1YjcyODgzNGQ2',\n",
              " 'YjUzMTZhZWUtNDQ0MS00ODFkLTkyNTItYzcxMDY5Y2RmMDJj',\n",
              " 'NWRjOTg5ZTYtNWZjNi00YzQ0LWJlMjgtMDhmOWEwM2Y2M2Fk',\n",
              " 'ZWI1NGE0N2QtMTk5NC00ZTkzLTg2ZDctYjcyMjMzOWQwNjJi',\n",
              " 'MmIxZjk0ZDktMGQ1Ny00NzU2LWIwYTQtNGEwOTZiMjhkNDhi',\n",
              " 'OGZmNGQ0ZmYtMzYwMC00ZThhLTk5MGYtODBlNmZlODJhZTZi',\n",
              " 'NmFkZmQ1NTctNWE2NC00MjEyLTgwZWItYTg4Y2FmZDM3ZDM4',\n",
              " 'OWM1ZTgyMDItNzdlMi00NTM2LWJiZTQtNDhlZTUxYTQ4OTM1',\n",
              " 'ODA3Zjg0ZjAtZDlkYi00YjY1LWE3MDctMTM5OTUzMzY0ODQw',\n",
              " 'M2ZkNDE5ZTUtNjg1ZS00NjcxLWJjZTMtNWVkYWNiMDY0M2Jl',\n",
              " 'NmRlNWIyNmItMzVkMS00NGY0LTg5ZTMtNzQ0OTRmMTU1M2Yy',\n",
              " 'MzJmN2YzZjctNWYyOC00MzI4LTgzNzQtYmI4ZGZhMzNiMjY2',\n",
              " 'YTUzYTkxNTYtZDExYi00MmM2LTk3MzctNTllODJhMDdiZTY2',\n",
              " 'MTMzZjJkOTItZmUzYi00ZDZmLTgzOWMtMzBiYzJhMTQxYzIy',\n",
              " 'NmRlMjczNTYtN2NmOC00NGExLTk4MTYtNDAzZWE3NTYzZjZm',\n",
              " 'NmVmYWIwYmItMjk2Mi00Y2Y1LTkwYjMtYTg2YmFmOGVmNmE4',\n",
              " 'NTA3NjNkNTAtYmFhYi00NGRjLWI3OTYtNTMyYzE0ODAyOGQz',\n",
              " 'YWNmNDY3ZjItM2YxNS00NWQyLTg1OGMtNmNhZGZjMzkxOTNm',\n",
              " 'NGMzMGI0NGEtN2RiYS00ZWRlLTg0YmYtOGRjM2NkNTRlOGE4',\n",
              " 'ODk2OGYwYTItNjhjNi00NmI4LTk2ZWMtYmM3Zjc0OTBiZDU2',\n",
              " 'NDY0MWMwZDUtNWMzYS00YWIyLWI2MDAtMjE0MmZkODA4ZGZm',\n",
              " 'ZWRjNTcyOGItZTcwOS00MDExLTlkNDUtYzliZGVlN2ZmMTdh',\n",
              " 'NTliMDUwODgtZmU1MC00MTZiLWE5NWItMzIzMmJhOTZjYzcw']"
            ]
          },
          "metadata": {},
          "execution_count": 13
        }
      ]
    },
    {
      "cell_type": "markdown",
      "source": [
        "## Perform a hybrid search\n",
        "Execute hybrid search using the search_type or hybrid_search() method. Vector and nonvector text fields are queried in parallel, results are merged, and top matches of the unified result set are returned."
      ],
      "metadata": {
        "id": "jdDi6TeM0wbG"
      }
    },
    {
      "cell_type": "code",
      "source": [
        "# Perform a hybrid search using the search_type parameter\n",
        "docs = vector_store.similarity_search(\n",
        "    query=\"What are the benefits of maternity leave\",\n",
        "    k=3,\n",
        "    search_type=\"hybrid\",\n",
        ")\n",
        "print(docs[0].page_content)"
      ],
      "metadata": {
        "colab": {
          "base_uri": "https://localhost:8080/"
        },
        "id": "Ca89PZck0oc4",
        "outputId": "ebf3d09e-9197-400f-a4a6-32947bc862ce"
      },
      "execution_count": null,
      "outputs": [
        {
          "output_type": "stream",
          "name": "stdout",
          "text": [
            "##Your Plan Details Maternity Benefits  \n",
            "· Maternity benefits are admissible only if the expenses are incurred in Hospital / Nursing Home as in-patients in India.\n",
            "· Those Insured Persons who already have two or more living children will not be eligible for this benefit.\n",
            "· Expenses incurred in connection with voluntary medical termination of pregnancy during the first 12 weeks from the date\n",
            "of conception are not covered. Infertility Treatment and sterilization are excluded from the policy.\n"
          ]
        }
      ]
    },
    {
      "cell_type": "code",
      "source": [],
      "metadata": {
        "id": "LYLh4-I604Uh"
      },
      "execution_count": null,
      "outputs": []
    }
  ]
}