{
  "nbformat": 4,
  "nbformat_minor": 0,
  "metadata": {
    "colab": {
      "provenance": [],
      "mount_file_id": "1w9JvOnR7NRqjc3kdJVd_LLYOIKKnP6K3",
      "authorship_tag": "ABX9TyNXCJtxEDl1SNYva0W/UrdN",
      "include_colab_link": true
    },
    "kernelspec": {
      "name": "python3",
      "display_name": "Python 3"
    },
    "language_info": {
      "name": "python"
    }
  },
  "cells": [
    {
      "cell_type": "markdown",
      "metadata": {
        "id": "view-in-github",
        "colab_type": "text"
      },
      "source": [
        "<a href=\"https://colab.research.google.com/github/genaiconference/Agentic_RAG_Workshop/blob/main/04_Traditional_RAG.ipynb\" target=\"_parent\"><img src=\"https://colab.research.google.com/assets/colab-badge.svg\" alt=\"Open In Colab\"/></a>"
      ]
    },
    {
      "cell_type": "markdown",
      "source": [
        "## Traditional RAG"
      ],
      "metadata": {
        "id": "Qkvwji2L2i07"
      }
    },
    {
      "cell_type": "code",
      "execution_count": 1,
      "metadata": {
        "colab": {
          "base_uri": "https://localhost:8080/"
        },
        "id": "G46NbZU72Q0Z",
        "outputId": "7ad283e8-583f-4320-8765-93dbf5eca89e"
      },
      "outputs": [
        {
          "output_type": "stream",
          "name": "stdout",
          "text": [
            "Cloning into 'Agentic_RAG_Workshop'...\n",
            "remote: Enumerating objects: 206, done.\u001b[K\n",
            "remote: Counting objects: 100% (91/91), done.\u001b[K\n",
            "remote: Compressing objects: 100% (55/55), done.\u001b[K\n",
            "remote: Total 206 (delta 63), reused 36 (delta 36), pack-reused 115 (from 1)\u001b[K\n",
            "Receiving objects: 100% (206/206), 21.02 MiB | 9.12 MiB/s, done.\n",
            "Resolving deltas: 100% (96/96), done.\n"
          ]
        }
      ],
      "source": [
        "!git clone https://github.com/genaiconference/Agentic_RAG_Workshop.git"
      ]
    },
    {
      "cell_type": "markdown",
      "source": [
        "## Setup and Installations\n",
        "Install necessary libraries for document processing, data handling, and interacting with Azure Document Intelligence and OpenAI."
      ],
      "metadata": {
        "id": "8bymfx0hi31o"
      }
    },
    {
      "cell_type": "code",
      "metadata": {
        "colab": {
          "base_uri": "https://localhost:8080/"
        },
        "id": "a60f0b0e",
        "outputId": "bf81e961-056e-446f-94de-4dcad2c97795",
        "collapsed": true
      },
      "source": [
        "!pip install -r /content/Agentic_RAG_Workshop/requirements.txt"
      ],
      "execution_count": 2,
      "outputs": [
        {
          "output_type": "stream",
          "name": "stdout",
          "text": [
            "Requirement already satisfied: azure-ai-documentintelligence==1.0.2 in /usr/local/lib/python3.11/dist-packages (from -r /content/Agentic_RAG_Workshop/requirements.txt (line 1)) (1.0.2)\n",
            "Requirement already satisfied: pandas==2.2.2 in /usr/local/lib/python3.11/dist-packages (from -r /content/Agentic_RAG_Workshop/requirements.txt (line 2)) (2.2.2)\n",
            "Requirement already satisfied: pathlib==1.0.1 in /usr/local/lib/python3.11/dist-packages (from -r /content/Agentic_RAG_Workshop/requirements.txt (line 3)) (1.0.1)\n",
            "Requirement already satisfied: pymupdf==1.26.3 in /usr/local/lib/python3.11/dist-packages (from -r /content/Agentic_RAG_Workshop/requirements.txt (line 4)) (1.26.3)\n",
            "Requirement already satisfied: tools==1.0.2 in /usr/local/lib/python3.11/dist-packages (from -r /content/Agentic_RAG_Workshop/requirements.txt (line 5)) (1.0.2)\n",
            "Requirement already satisfied: python-dotenv==1.1.1 in /usr/local/lib/python3.11/dist-packages (from -r /content/Agentic_RAG_Workshop/requirements.txt (line 6)) (1.1.1)\n",
            "Requirement already satisfied: langchain_openai==0.3.28 in /usr/local/lib/python3.11/dist-packages (from -r /content/Agentic_RAG_Workshop/requirements.txt (line 7)) (0.3.28)\n",
            "Requirement already satisfied: rapidfuzz in /usr/local/lib/python3.11/dist-packages (from -r /content/Agentic_RAG_Workshop/requirements.txt (line 8)) (3.13.0)\n",
            "Requirement already satisfied: langchain_community==0.3.27 in /usr/local/lib/python3.11/dist-packages (from -r /content/Agentic_RAG_Workshop/requirements.txt (line 9)) (0.3.27)\n",
            "Requirement already satisfied: chromadb==1.0.16 in /usr/local/lib/python3.11/dist-packages (from -r /content/Agentic_RAG_Workshop/requirements.txt (line 10)) (1.0.16)\n",
            "Requirement already satisfied: azure-identity==1.24.0 in /usr/local/lib/python3.11/dist-packages (from -r /content/Agentic_RAG_Workshop/requirements.txt (line 11)) (1.24.0)\n",
            "Requirement already satisfied: azure-search-documents==11.5.3 in /usr/local/lib/python3.11/dist-packages (from -r /content/Agentic_RAG_Workshop/requirements.txt (line 12)) (11.5.3)\n",
            "Requirement already satisfied: dotenv in /usr/local/lib/python3.11/dist-packages (from -r /content/Agentic_RAG_Workshop/requirements.txt (line 13)) (0.9.9)\n",
            "Requirement already satisfied: langchain_tavily==0.2.11 in /usr/local/lib/python3.11/dist-packages (from -r /content/Agentic_RAG_Workshop/requirements.txt (line 14)) (0.2.11)\n",
            "Requirement already satisfied: langgraph==0.6.4 in /usr/local/lib/python3.11/dist-packages (from -r /content/Agentic_RAG_Workshop/requirements.txt (line 15)) (0.6.4)\n",
            "Requirement already satisfied: langgraph-checkpoint-sqlite==2.0.11 in /usr/local/lib/python3.11/dist-packages (from -r /content/Agentic_RAG_Workshop/requirements.txt (line 16)) (2.0.11)\n",
            "Requirement already satisfied: simple-colors==0.1.5 in /usr/local/lib/python3.11/dist-packages (from -r /content/Agentic_RAG_Workshop/requirements.txt (line 17)) (0.1.5)\n",
            "Requirement already satisfied: langchain_chroma==0.2.5 in /usr/local/lib/python3.11/dist-packages (from -r /content/Agentic_RAG_Workshop/requirements.txt (line 18)) (0.2.5)\n",
            "Collecting rank_bm25 (from -r /content/Agentic_RAG_Workshop/requirements.txt (line 19))\n",
            "  Downloading rank_bm25-0.2.2-py3-none-any.whl.metadata (3.2 kB)\n",
            "Requirement already satisfied: isodate>=0.6.1 in /usr/local/lib/python3.11/dist-packages (from azure-ai-documentintelligence==1.0.2->-r /content/Agentic_RAG_Workshop/requirements.txt (line 1)) (0.7.2)\n",
            "Requirement already satisfied: azure-core>=1.30.0 in /usr/local/lib/python3.11/dist-packages (from azure-ai-documentintelligence==1.0.2->-r /content/Agentic_RAG_Workshop/requirements.txt (line 1)) (1.35.0)\n",
            "Requirement already satisfied: typing-extensions>=4.6.0 in /usr/local/lib/python3.11/dist-packages (from azure-ai-documentintelligence==1.0.2->-r /content/Agentic_RAG_Workshop/requirements.txt (line 1)) (4.14.1)\n",
            "Requirement already satisfied: numpy>=1.23.2 in /usr/local/lib/python3.11/dist-packages (from pandas==2.2.2->-r /content/Agentic_RAG_Workshop/requirements.txt (line 2)) (2.0.2)\n",
            "Requirement already satisfied: python-dateutil>=2.8.2 in /usr/local/lib/python3.11/dist-packages (from pandas==2.2.2->-r /content/Agentic_RAG_Workshop/requirements.txt (line 2)) (2.9.0.post0)\n",
            "Requirement already satisfied: pytz>=2020.1 in /usr/local/lib/python3.11/dist-packages (from pandas==2.2.2->-r /content/Agentic_RAG_Workshop/requirements.txt (line 2)) (2025.2)\n",
            "Requirement already satisfied: tzdata>=2022.7 in /usr/local/lib/python3.11/dist-packages (from pandas==2.2.2->-r /content/Agentic_RAG_Workshop/requirements.txt (line 2)) (2025.2)\n",
            "Requirement already satisfied: langchain-core<1.0.0,>=0.3.68 in /usr/local/lib/python3.11/dist-packages (from langchain_openai==0.3.28->-r /content/Agentic_RAG_Workshop/requirements.txt (line 7)) (0.3.72)\n",
            "Requirement already satisfied: openai<2.0.0,>=1.86.0 in /usr/local/lib/python3.11/dist-packages (from langchain_openai==0.3.28->-r /content/Agentic_RAG_Workshop/requirements.txt (line 7)) (1.99.1)\n",
            "Requirement already satisfied: tiktoken<1,>=0.7 in /usr/local/lib/python3.11/dist-packages (from langchain_openai==0.3.28->-r /content/Agentic_RAG_Workshop/requirements.txt (line 7)) (0.10.0)\n",
            "Requirement already satisfied: langchain<1.0.0,>=0.3.26 in /usr/local/lib/python3.11/dist-packages (from langchain_community==0.3.27->-r /content/Agentic_RAG_Workshop/requirements.txt (line 9)) (0.3.27)\n",
            "Requirement already satisfied: SQLAlchemy<3,>=1.4 in /usr/local/lib/python3.11/dist-packages (from langchain_community==0.3.27->-r /content/Agentic_RAG_Workshop/requirements.txt (line 9)) (2.0.42)\n",
            "Requirement already satisfied: requests<3,>=2 in /usr/local/lib/python3.11/dist-packages (from langchain_community==0.3.27->-r /content/Agentic_RAG_Workshop/requirements.txt (line 9)) (2.32.3)\n",
            "Requirement already satisfied: PyYAML>=5.3 in /usr/local/lib/python3.11/dist-packages (from langchain_community==0.3.27->-r /content/Agentic_RAG_Workshop/requirements.txt (line 9)) (6.0.2)\n",
            "Requirement already satisfied: aiohttp<4.0.0,>=3.8.3 in /usr/local/lib/python3.11/dist-packages (from langchain_community==0.3.27->-r /content/Agentic_RAG_Workshop/requirements.txt (line 9)) (3.12.15)\n",
            "Requirement already satisfied: tenacity!=8.4.0,<10,>=8.1.0 in /usr/local/lib/python3.11/dist-packages (from langchain_community==0.3.27->-r /content/Agentic_RAG_Workshop/requirements.txt (line 9)) (8.5.0)\n",
            "Requirement already satisfied: dataclasses-json<0.7,>=0.5.7 in /usr/local/lib/python3.11/dist-packages (from langchain_community==0.3.27->-r /content/Agentic_RAG_Workshop/requirements.txt (line 9)) (0.6.7)\n",
            "Requirement already satisfied: pydantic-settings<3.0.0,>=2.4.0 in /usr/local/lib/python3.11/dist-packages (from langchain_community==0.3.27->-r /content/Agentic_RAG_Workshop/requirements.txt (line 9)) (2.10.1)\n",
            "Requirement already satisfied: langsmith>=0.1.125 in /usr/local/lib/python3.11/dist-packages (from langchain_community==0.3.27->-r /content/Agentic_RAG_Workshop/requirements.txt (line 9)) (0.4.12)\n",
            "Requirement already satisfied: httpx-sse<1.0.0,>=0.4.0 in /usr/local/lib/python3.11/dist-packages (from langchain_community==0.3.27->-r /content/Agentic_RAG_Workshop/requirements.txt (line 9)) (0.4.1)\n",
            "Requirement already satisfied: build>=1.0.3 in /usr/local/lib/python3.11/dist-packages (from chromadb==1.0.16->-r /content/Agentic_RAG_Workshop/requirements.txt (line 10)) (1.3.0)\n",
            "Requirement already satisfied: pydantic>=1.9 in /usr/local/lib/python3.11/dist-packages (from chromadb==1.0.16->-r /content/Agentic_RAG_Workshop/requirements.txt (line 10)) (2.11.7)\n",
            "Requirement already satisfied: pybase64>=1.4.1 in /usr/local/lib/python3.11/dist-packages (from chromadb==1.0.16->-r /content/Agentic_RAG_Workshop/requirements.txt (line 10)) (1.4.2)\n",
            "Requirement already satisfied: uvicorn>=0.18.3 in /usr/local/lib/python3.11/dist-packages (from uvicorn[standard]>=0.18.3->chromadb==1.0.16->-r /content/Agentic_RAG_Workshop/requirements.txt (line 10)) (0.35.0)\n",
            "Requirement already satisfied: posthog<6.0.0,>=2.4.0 in /usr/local/lib/python3.11/dist-packages (from chromadb==1.0.16->-r /content/Agentic_RAG_Workshop/requirements.txt (line 10)) (5.4.0)\n",
            "Requirement already satisfied: onnxruntime>=1.14.1 in /usr/local/lib/python3.11/dist-packages (from chromadb==1.0.16->-r /content/Agentic_RAG_Workshop/requirements.txt (line 10)) (1.22.1)\n",
            "Requirement already satisfied: opentelemetry-api>=1.2.0 in /usr/local/lib/python3.11/dist-packages (from chromadb==1.0.16->-r /content/Agentic_RAG_Workshop/requirements.txt (line 10)) (1.36.0)\n",
            "Requirement already satisfied: opentelemetry-exporter-otlp-proto-grpc>=1.2.0 in /usr/local/lib/python3.11/dist-packages (from chromadb==1.0.16->-r /content/Agentic_RAG_Workshop/requirements.txt (line 10)) (1.36.0)\n",
            "Requirement already satisfied: opentelemetry-sdk>=1.2.0 in /usr/local/lib/python3.11/dist-packages (from chromadb==1.0.16->-r /content/Agentic_RAG_Workshop/requirements.txt (line 10)) (1.36.0)\n",
            "Requirement already satisfied: tokenizers>=0.13.2 in /usr/local/lib/python3.11/dist-packages (from chromadb==1.0.16->-r /content/Agentic_RAG_Workshop/requirements.txt (line 10)) (0.21.4)\n",
            "Requirement already satisfied: pypika>=0.48.9 in /usr/local/lib/python3.11/dist-packages (from chromadb==1.0.16->-r /content/Agentic_RAG_Workshop/requirements.txt (line 10)) (0.48.9)\n",
            "Requirement already satisfied: tqdm>=4.65.0 in /usr/local/lib/python3.11/dist-packages (from chromadb==1.0.16->-r /content/Agentic_RAG_Workshop/requirements.txt (line 10)) (4.67.1)\n",
            "Requirement already satisfied: overrides>=7.3.1 in /usr/local/lib/python3.11/dist-packages (from chromadb==1.0.16->-r /content/Agentic_RAG_Workshop/requirements.txt (line 10)) (7.7.0)\n",
            "Requirement already satisfied: importlib-resources in /usr/local/lib/python3.11/dist-packages (from chromadb==1.0.16->-r /content/Agentic_RAG_Workshop/requirements.txt (line 10)) (6.5.2)\n",
            "Requirement already satisfied: grpcio>=1.58.0 in /usr/local/lib/python3.11/dist-packages (from chromadb==1.0.16->-r /content/Agentic_RAG_Workshop/requirements.txt (line 10)) (1.74.0)\n",
            "Requirement already satisfied: bcrypt>=4.0.1 in /usr/local/lib/python3.11/dist-packages (from chromadb==1.0.16->-r /content/Agentic_RAG_Workshop/requirements.txt (line 10)) (4.3.0)\n",
            "Requirement already satisfied: typer>=0.9.0 in /usr/local/lib/python3.11/dist-packages (from chromadb==1.0.16->-r /content/Agentic_RAG_Workshop/requirements.txt (line 10)) (0.16.0)\n",
            "Requirement already satisfied: kubernetes>=28.1.0 in /usr/local/lib/python3.11/dist-packages (from chromadb==1.0.16->-r /content/Agentic_RAG_Workshop/requirements.txt (line 10)) (33.1.0)\n",
            "Requirement already satisfied: mmh3>=4.0.1 in /usr/local/lib/python3.11/dist-packages (from chromadb==1.0.16->-r /content/Agentic_RAG_Workshop/requirements.txt (line 10)) (5.2.0)\n",
            "Requirement already satisfied: orjson>=3.9.12 in /usr/local/lib/python3.11/dist-packages (from chromadb==1.0.16->-r /content/Agentic_RAG_Workshop/requirements.txt (line 10)) (3.11.1)\n",
            "Requirement already satisfied: httpx>=0.27.0 in /usr/local/lib/python3.11/dist-packages (from chromadb==1.0.16->-r /content/Agentic_RAG_Workshop/requirements.txt (line 10)) (0.28.1)\n",
            "Requirement already satisfied: rich>=10.11.0 in /usr/local/lib/python3.11/dist-packages (from chromadb==1.0.16->-r /content/Agentic_RAG_Workshop/requirements.txt (line 10)) (13.9.4)\n",
            "Requirement already satisfied: jsonschema>=4.19.0 in /usr/local/lib/python3.11/dist-packages (from chromadb==1.0.16->-r /content/Agentic_RAG_Workshop/requirements.txt (line 10)) (4.25.0)\n",
            "Requirement already satisfied: cryptography>=2.5 in /usr/local/lib/python3.11/dist-packages (from azure-identity==1.24.0->-r /content/Agentic_RAG_Workshop/requirements.txt (line 11)) (43.0.3)\n",
            "Requirement already satisfied: msal>=1.30.0 in /usr/local/lib/python3.11/dist-packages (from azure-identity==1.24.0->-r /content/Agentic_RAG_Workshop/requirements.txt (line 11)) (1.33.0)\n",
            "Requirement already satisfied: msal-extensions>=1.2.0 in /usr/local/lib/python3.11/dist-packages (from azure-identity==1.24.0->-r /content/Agentic_RAG_Workshop/requirements.txt (line 11)) (1.3.1)\n",
            "Requirement already satisfied: azure-common>=1.1 in /usr/local/lib/python3.11/dist-packages (from azure-search-documents==11.5.3->-r /content/Agentic_RAG_Workshop/requirements.txt (line 12)) (1.1.28)\n",
            "Requirement already satisfied: langgraph-checkpoint<3.0.0,>=2.1.0 in /usr/local/lib/python3.11/dist-packages (from langgraph==0.6.4->-r /content/Agentic_RAG_Workshop/requirements.txt (line 15)) (2.1.1)\n",
            "Requirement already satisfied: langgraph-prebuilt<0.7.0,>=0.6.0 in /usr/local/lib/python3.11/dist-packages (from langgraph==0.6.4->-r /content/Agentic_RAG_Workshop/requirements.txt (line 15)) (0.6.4)\n",
            "Requirement already satisfied: langgraph-sdk<0.3.0,>=0.2.0 in /usr/local/lib/python3.11/dist-packages (from langgraph==0.6.4->-r /content/Agentic_RAG_Workshop/requirements.txt (line 15)) (0.2.0)\n",
            "Requirement already satisfied: xxhash>=3.5.0 in /usr/local/lib/python3.11/dist-packages (from langgraph==0.6.4->-r /content/Agentic_RAG_Workshop/requirements.txt (line 15)) (3.5.0)\n",
            "Requirement already satisfied: aiosqlite>=0.20 in /usr/local/lib/python3.11/dist-packages (from langgraph-checkpoint-sqlite==2.0.11->-r /content/Agentic_RAG_Workshop/requirements.txt (line 16)) (0.21.0)\n",
            "Requirement already satisfied: sqlite-vec>=0.1.6 in /usr/local/lib/python3.11/dist-packages (from langgraph-checkpoint-sqlite==2.0.11->-r /content/Agentic_RAG_Workshop/requirements.txt (line 16)) (0.1.6)\n",
            "Requirement already satisfied: aiohappyeyeballs>=2.5.0 in /usr/local/lib/python3.11/dist-packages (from aiohttp<4.0.0,>=3.8.3->langchain_community==0.3.27->-r /content/Agentic_RAG_Workshop/requirements.txt (line 9)) (2.6.1)\n",
            "Requirement already satisfied: aiosignal>=1.4.0 in /usr/local/lib/python3.11/dist-packages (from aiohttp<4.0.0,>=3.8.3->langchain_community==0.3.27->-r /content/Agentic_RAG_Workshop/requirements.txt (line 9)) (1.4.0)\n",
            "Requirement already satisfied: attrs>=17.3.0 in /usr/local/lib/python3.11/dist-packages (from aiohttp<4.0.0,>=3.8.3->langchain_community==0.3.27->-r /content/Agentic_RAG_Workshop/requirements.txt (line 9)) (25.3.0)\n",
            "Requirement already satisfied: frozenlist>=1.1.1 in /usr/local/lib/python3.11/dist-packages (from aiohttp<4.0.0,>=3.8.3->langchain_community==0.3.27->-r /content/Agentic_RAG_Workshop/requirements.txt (line 9)) (1.7.0)\n",
            "Requirement already satisfied: multidict<7.0,>=4.5 in /usr/local/lib/python3.11/dist-packages (from aiohttp<4.0.0,>=3.8.3->langchain_community==0.3.27->-r /content/Agentic_RAG_Workshop/requirements.txt (line 9)) (6.6.3)\n",
            "Requirement already satisfied: propcache>=0.2.0 in /usr/local/lib/python3.11/dist-packages (from aiohttp<4.0.0,>=3.8.3->langchain_community==0.3.27->-r /content/Agentic_RAG_Workshop/requirements.txt (line 9)) (0.3.2)\n",
            "Requirement already satisfied: yarl<2.0,>=1.17.0 in /usr/local/lib/python3.11/dist-packages (from aiohttp<4.0.0,>=3.8.3->langchain_community==0.3.27->-r /content/Agentic_RAG_Workshop/requirements.txt (line 9)) (1.20.1)\n",
            "Requirement already satisfied: six>=1.11.0 in /usr/local/lib/python3.11/dist-packages (from azure-core>=1.30.0->azure-ai-documentintelligence==1.0.2->-r /content/Agentic_RAG_Workshop/requirements.txt (line 1)) (1.17.0)\n",
            "Requirement already satisfied: packaging>=19.1 in /usr/local/lib/python3.11/dist-packages (from build>=1.0.3->chromadb==1.0.16->-r /content/Agentic_RAG_Workshop/requirements.txt (line 10)) (25.0)\n",
            "Requirement already satisfied: pyproject_hooks in /usr/local/lib/python3.11/dist-packages (from build>=1.0.3->chromadb==1.0.16->-r /content/Agentic_RAG_Workshop/requirements.txt (line 10)) (1.2.0)\n",
            "Requirement already satisfied: cffi>=1.12 in /usr/local/lib/python3.11/dist-packages (from cryptography>=2.5->azure-identity==1.24.0->-r /content/Agentic_RAG_Workshop/requirements.txt (line 11)) (1.17.1)\n",
            "Requirement already satisfied: marshmallow<4.0.0,>=3.18.0 in /usr/local/lib/python3.11/dist-packages (from dataclasses-json<0.7,>=0.5.7->langchain_community==0.3.27->-r /content/Agentic_RAG_Workshop/requirements.txt (line 9)) (3.26.1)\n",
            "Requirement already satisfied: typing-inspect<1,>=0.4.0 in /usr/local/lib/python3.11/dist-packages (from dataclasses-json<0.7,>=0.5.7->langchain_community==0.3.27->-r /content/Agentic_RAG_Workshop/requirements.txt (line 9)) (0.9.0)\n",
            "Requirement already satisfied: anyio in /usr/local/lib/python3.11/dist-packages (from httpx>=0.27.0->chromadb==1.0.16->-r /content/Agentic_RAG_Workshop/requirements.txt (line 10)) (4.10.0)\n",
            "Requirement already satisfied: certifi in /usr/local/lib/python3.11/dist-packages (from httpx>=0.27.0->chromadb==1.0.16->-r /content/Agentic_RAG_Workshop/requirements.txt (line 10)) (2025.8.3)\n",
            "Requirement already satisfied: httpcore==1.* in /usr/local/lib/python3.11/dist-packages (from httpx>=0.27.0->chromadb==1.0.16->-r /content/Agentic_RAG_Workshop/requirements.txt (line 10)) (1.0.9)\n",
            "Requirement already satisfied: idna in /usr/local/lib/python3.11/dist-packages (from httpx>=0.27.0->chromadb==1.0.16->-r /content/Agentic_RAG_Workshop/requirements.txt (line 10)) (3.10)\n",
            "Requirement already satisfied: h11>=0.16 in /usr/local/lib/python3.11/dist-packages (from httpcore==1.*->httpx>=0.27.0->chromadb==1.0.16->-r /content/Agentic_RAG_Workshop/requirements.txt (line 10)) (0.16.0)\n",
            "Requirement already satisfied: jsonschema-specifications>=2023.03.6 in /usr/local/lib/python3.11/dist-packages (from jsonschema>=4.19.0->chromadb==1.0.16->-r /content/Agentic_RAG_Workshop/requirements.txt (line 10)) (2025.4.1)\n",
            "Requirement already satisfied: referencing>=0.28.4 in /usr/local/lib/python3.11/dist-packages (from jsonschema>=4.19.0->chromadb==1.0.16->-r /content/Agentic_RAG_Workshop/requirements.txt (line 10)) (0.36.2)\n",
            "Requirement already satisfied: rpds-py>=0.7.1 in /usr/local/lib/python3.11/dist-packages (from jsonschema>=4.19.0->chromadb==1.0.16->-r /content/Agentic_RAG_Workshop/requirements.txt (line 10)) (0.26.0)\n",
            "Requirement already satisfied: google-auth>=1.0.1 in /usr/local/lib/python3.11/dist-packages (from kubernetes>=28.1.0->chromadb==1.0.16->-r /content/Agentic_RAG_Workshop/requirements.txt (line 10)) (2.38.0)\n",
            "Requirement already satisfied: websocket-client!=0.40.0,!=0.41.*,!=0.42.*,>=0.32.0 in /usr/local/lib/python3.11/dist-packages (from kubernetes>=28.1.0->chromadb==1.0.16->-r /content/Agentic_RAG_Workshop/requirements.txt (line 10)) (1.8.0)\n",
            "Requirement already satisfied: requests-oauthlib in /usr/local/lib/python3.11/dist-packages (from kubernetes>=28.1.0->chromadb==1.0.16->-r /content/Agentic_RAG_Workshop/requirements.txt (line 10)) (2.0.0)\n",
            "Requirement already satisfied: oauthlib>=3.2.2 in /usr/local/lib/python3.11/dist-packages (from kubernetes>=28.1.0->chromadb==1.0.16->-r /content/Agentic_RAG_Workshop/requirements.txt (line 10)) (3.3.1)\n",
            "Requirement already satisfied: urllib3>=1.24.2 in /usr/local/lib/python3.11/dist-packages (from kubernetes>=28.1.0->chromadb==1.0.16->-r /content/Agentic_RAG_Workshop/requirements.txt (line 10)) (2.5.0)\n",
            "Requirement already satisfied: durationpy>=0.7 in /usr/local/lib/python3.11/dist-packages (from kubernetes>=28.1.0->chromadb==1.0.16->-r /content/Agentic_RAG_Workshop/requirements.txt (line 10)) (0.10)\n",
            "Requirement already satisfied: langchain-text-splitters<1.0.0,>=0.3.9 in /usr/local/lib/python3.11/dist-packages (from langchain<1.0.0,>=0.3.26->langchain_community==0.3.27->-r /content/Agentic_RAG_Workshop/requirements.txt (line 9)) (0.3.9)\n",
            "Requirement already satisfied: jsonpatch<2.0,>=1.33 in /usr/local/lib/python3.11/dist-packages (from langchain-core<1.0.0,>=0.3.68->langchain_openai==0.3.28->-r /content/Agentic_RAG_Workshop/requirements.txt (line 7)) (1.33)\n",
            "Requirement already satisfied: ormsgpack>=1.10.0 in /usr/local/lib/python3.11/dist-packages (from langgraph-checkpoint<3.0.0,>=2.1.0->langgraph==0.6.4->-r /content/Agentic_RAG_Workshop/requirements.txt (line 15)) (1.10.0)\n",
            "Requirement already satisfied: requests-toolbelt>=1.0.0 in /usr/local/lib/python3.11/dist-packages (from langsmith>=0.1.125->langchain_community==0.3.27->-r /content/Agentic_RAG_Workshop/requirements.txt (line 9)) (1.0.0)\n",
            "Requirement already satisfied: zstandard>=0.23.0 in /usr/local/lib/python3.11/dist-packages (from langsmith>=0.1.125->langchain_community==0.3.27->-r /content/Agentic_RAG_Workshop/requirements.txt (line 9)) (0.23.0)\n",
            "Requirement already satisfied: PyJWT<3,>=1.0.0 in /usr/local/lib/python3.11/dist-packages (from PyJWT[crypto]<3,>=1.0.0->msal>=1.30.0->azure-identity==1.24.0->-r /content/Agentic_RAG_Workshop/requirements.txt (line 11)) (2.10.1)\n",
            "Requirement already satisfied: coloredlogs in /usr/local/lib/python3.11/dist-packages (from onnxruntime>=1.14.1->chromadb==1.0.16->-r /content/Agentic_RAG_Workshop/requirements.txt (line 10)) (15.0.1)\n",
            "Requirement already satisfied: flatbuffers in /usr/local/lib/python3.11/dist-packages (from onnxruntime>=1.14.1->chromadb==1.0.16->-r /content/Agentic_RAG_Workshop/requirements.txt (line 10)) (25.2.10)\n",
            "Requirement already satisfied: protobuf in /usr/local/lib/python3.11/dist-packages (from onnxruntime>=1.14.1->chromadb==1.0.16->-r /content/Agentic_RAG_Workshop/requirements.txt (line 10)) (5.29.5)\n",
            "Requirement already satisfied: sympy in /usr/local/lib/python3.11/dist-packages (from onnxruntime>=1.14.1->chromadb==1.0.16->-r /content/Agentic_RAG_Workshop/requirements.txt (line 10)) (1.13.1)\n",
            "Requirement already satisfied: distro<2,>=1.7.0 in /usr/local/lib/python3.11/dist-packages (from openai<2.0.0,>=1.86.0->langchain_openai==0.3.28->-r /content/Agentic_RAG_Workshop/requirements.txt (line 7)) (1.9.0)\n",
            "Requirement already satisfied: jiter<1,>=0.4.0 in /usr/local/lib/python3.11/dist-packages (from openai<2.0.0,>=1.86.0->langchain_openai==0.3.28->-r /content/Agentic_RAG_Workshop/requirements.txt (line 7)) (0.10.0)\n",
            "Requirement already satisfied: sniffio in /usr/local/lib/python3.11/dist-packages (from openai<2.0.0,>=1.86.0->langchain_openai==0.3.28->-r /content/Agentic_RAG_Workshop/requirements.txt (line 7)) (1.3.1)\n",
            "Requirement already satisfied: importlib-metadata<8.8.0,>=6.0 in /usr/local/lib/python3.11/dist-packages (from opentelemetry-api>=1.2.0->chromadb==1.0.16->-r /content/Agentic_RAG_Workshop/requirements.txt (line 10)) (8.7.0)\n",
            "Requirement already satisfied: googleapis-common-protos~=1.57 in /usr/local/lib/python3.11/dist-packages (from opentelemetry-exporter-otlp-proto-grpc>=1.2.0->chromadb==1.0.16->-r /content/Agentic_RAG_Workshop/requirements.txt (line 10)) (1.70.0)\n",
            "Requirement already satisfied: opentelemetry-exporter-otlp-proto-common==1.36.0 in /usr/local/lib/python3.11/dist-packages (from opentelemetry-exporter-otlp-proto-grpc>=1.2.0->chromadb==1.0.16->-r /content/Agentic_RAG_Workshop/requirements.txt (line 10)) (1.36.0)\n",
            "Requirement already satisfied: opentelemetry-proto==1.36.0 in /usr/local/lib/python3.11/dist-packages (from opentelemetry-exporter-otlp-proto-grpc>=1.2.0->chromadb==1.0.16->-r /content/Agentic_RAG_Workshop/requirements.txt (line 10)) (1.36.0)\n",
            "Requirement already satisfied: opentelemetry-semantic-conventions==0.57b0 in /usr/local/lib/python3.11/dist-packages (from opentelemetry-sdk>=1.2.0->chromadb==1.0.16->-r /content/Agentic_RAG_Workshop/requirements.txt (line 10)) (0.57b0)\n",
            "Requirement already satisfied: backoff>=1.10.0 in /usr/local/lib/python3.11/dist-packages (from posthog<6.0.0,>=2.4.0->chromadb==1.0.16->-r /content/Agentic_RAG_Workshop/requirements.txt (line 10)) (2.2.1)\n",
            "Requirement already satisfied: annotated-types>=0.6.0 in /usr/local/lib/python3.11/dist-packages (from pydantic>=1.9->chromadb==1.0.16->-r /content/Agentic_RAG_Workshop/requirements.txt (line 10)) (0.7.0)\n",
            "Requirement already satisfied: pydantic-core==2.33.2 in /usr/local/lib/python3.11/dist-packages (from pydantic>=1.9->chromadb==1.0.16->-r /content/Agentic_RAG_Workshop/requirements.txt (line 10)) (2.33.2)\n",
            "Requirement already satisfied: typing-inspection>=0.4.0 in /usr/local/lib/python3.11/dist-packages (from pydantic>=1.9->chromadb==1.0.16->-r /content/Agentic_RAG_Workshop/requirements.txt (line 10)) (0.4.1)\n",
            "Requirement already satisfied: charset-normalizer<4,>=2 in /usr/local/lib/python3.11/dist-packages (from requests<3,>=2->langchain_community==0.3.27->-r /content/Agentic_RAG_Workshop/requirements.txt (line 9)) (3.4.2)\n",
            "Requirement already satisfied: markdown-it-py>=2.2.0 in /usr/local/lib/python3.11/dist-packages (from rich>=10.11.0->chromadb==1.0.16->-r /content/Agentic_RAG_Workshop/requirements.txt (line 10)) (3.0.0)\n",
            "Requirement already satisfied: pygments<3.0.0,>=2.13.0 in /usr/local/lib/python3.11/dist-packages (from rich>=10.11.0->chromadb==1.0.16->-r /content/Agentic_RAG_Workshop/requirements.txt (line 10)) (2.19.2)\n",
            "Requirement already satisfied: greenlet>=1 in /usr/local/lib/python3.11/dist-packages (from SQLAlchemy<3,>=1.4->langchain_community==0.3.27->-r /content/Agentic_RAG_Workshop/requirements.txt (line 9)) (3.2.3)\n",
            "Requirement already satisfied: regex>=2022.1.18 in /usr/local/lib/python3.11/dist-packages (from tiktoken<1,>=0.7->langchain_openai==0.3.28->-r /content/Agentic_RAG_Workshop/requirements.txt (line 7)) (2024.11.6)\n",
            "Requirement already satisfied: huggingface-hub<1.0,>=0.16.4 in /usr/local/lib/python3.11/dist-packages (from tokenizers>=0.13.2->chromadb==1.0.16->-r /content/Agentic_RAG_Workshop/requirements.txt (line 10)) (0.34.3)\n",
            "Requirement already satisfied: click>=8.0.0 in /usr/local/lib/python3.11/dist-packages (from typer>=0.9.0->chromadb==1.0.16->-r /content/Agentic_RAG_Workshop/requirements.txt (line 10)) (8.2.1)\n",
            "Requirement already satisfied: shellingham>=1.3.0 in /usr/local/lib/python3.11/dist-packages (from typer>=0.9.0->chromadb==1.0.16->-r /content/Agentic_RAG_Workshop/requirements.txt (line 10)) (1.5.4)\n",
            "Requirement already satisfied: httptools>=0.6.3 in /usr/local/lib/python3.11/dist-packages (from uvicorn[standard]>=0.18.3->chromadb==1.0.16->-r /content/Agentic_RAG_Workshop/requirements.txt (line 10)) (0.6.4)\n",
            "Requirement already satisfied: uvloop>=0.15.1 in /usr/local/lib/python3.11/dist-packages (from uvicorn[standard]>=0.18.3->chromadb==1.0.16->-r /content/Agentic_RAG_Workshop/requirements.txt (line 10)) (0.21.0)\n",
            "Requirement already satisfied: watchfiles>=0.13 in /usr/local/lib/python3.11/dist-packages (from uvicorn[standard]>=0.18.3->chromadb==1.0.16->-r /content/Agentic_RAG_Workshop/requirements.txt (line 10)) (1.1.0)\n",
            "Requirement already satisfied: websockets>=10.4 in /usr/local/lib/python3.11/dist-packages (from uvicorn[standard]>=0.18.3->chromadb==1.0.16->-r /content/Agentic_RAG_Workshop/requirements.txt (line 10)) (15.0.1)\n",
            "Requirement already satisfied: pycparser in /usr/local/lib/python3.11/dist-packages (from cffi>=1.12->cryptography>=2.5->azure-identity==1.24.0->-r /content/Agentic_RAG_Workshop/requirements.txt (line 11)) (2.22)\n",
            "Requirement already satisfied: cachetools<6.0,>=2.0.0 in /usr/local/lib/python3.11/dist-packages (from google-auth>=1.0.1->kubernetes>=28.1.0->chromadb==1.0.16->-r /content/Agentic_RAG_Workshop/requirements.txt (line 10)) (5.5.2)\n",
            "Requirement already satisfied: pyasn1-modules>=0.2.1 in /usr/local/lib/python3.11/dist-packages (from google-auth>=1.0.1->kubernetes>=28.1.0->chromadb==1.0.16->-r /content/Agentic_RAG_Workshop/requirements.txt (line 10)) (0.4.2)\n",
            "Requirement already satisfied: rsa<5,>=3.1.4 in /usr/local/lib/python3.11/dist-packages (from google-auth>=1.0.1->kubernetes>=28.1.0->chromadb==1.0.16->-r /content/Agentic_RAG_Workshop/requirements.txt (line 10)) (4.9.1)\n",
            "Requirement already satisfied: filelock in /usr/local/lib/python3.11/dist-packages (from huggingface-hub<1.0,>=0.16.4->tokenizers>=0.13.2->chromadb==1.0.16->-r /content/Agentic_RAG_Workshop/requirements.txt (line 10)) (3.18.0)\n",
            "Requirement already satisfied: fsspec>=2023.5.0 in /usr/local/lib/python3.11/dist-packages (from huggingface-hub<1.0,>=0.16.4->tokenizers>=0.13.2->chromadb==1.0.16->-r /content/Agentic_RAG_Workshop/requirements.txt (line 10)) (2025.3.0)\n",
            "Requirement already satisfied: hf-xet<2.0.0,>=1.1.3 in /usr/local/lib/python3.11/dist-packages (from huggingface-hub<1.0,>=0.16.4->tokenizers>=0.13.2->chromadb==1.0.16->-r /content/Agentic_RAG_Workshop/requirements.txt (line 10)) (1.1.7)\n",
            "Requirement already satisfied: zipp>=3.20 in /usr/local/lib/python3.11/dist-packages (from importlib-metadata<8.8.0,>=6.0->opentelemetry-api>=1.2.0->chromadb==1.0.16->-r /content/Agentic_RAG_Workshop/requirements.txt (line 10)) (3.23.0)\n",
            "Requirement already satisfied: jsonpointer>=1.9 in /usr/local/lib/python3.11/dist-packages (from jsonpatch<2.0,>=1.33->langchain-core<1.0.0,>=0.3.68->langchain_openai==0.3.28->-r /content/Agentic_RAG_Workshop/requirements.txt (line 7)) (3.0.0)\n",
            "Requirement already satisfied: mdurl~=0.1 in /usr/local/lib/python3.11/dist-packages (from markdown-it-py>=2.2.0->rich>=10.11.0->chromadb==1.0.16->-r /content/Agentic_RAG_Workshop/requirements.txt (line 10)) (0.1.2)\n",
            "Requirement already satisfied: mypy-extensions>=0.3.0 in /usr/local/lib/python3.11/dist-packages (from typing-inspect<1,>=0.4.0->dataclasses-json<0.7,>=0.5.7->langchain_community==0.3.27->-r /content/Agentic_RAG_Workshop/requirements.txt (line 9)) (1.1.0)\n",
            "Requirement already satisfied: humanfriendly>=9.1 in /usr/local/lib/python3.11/dist-packages (from coloredlogs->onnxruntime>=1.14.1->chromadb==1.0.16->-r /content/Agentic_RAG_Workshop/requirements.txt (line 10)) (10.0)\n",
            "Requirement already satisfied: mpmath<1.4,>=1.1.0 in /usr/local/lib/python3.11/dist-packages (from sympy->onnxruntime>=1.14.1->chromadb==1.0.16->-r /content/Agentic_RAG_Workshop/requirements.txt (line 10)) (1.3.0)\n",
            "Requirement already satisfied: pyasn1<0.7.0,>=0.6.1 in /usr/local/lib/python3.11/dist-packages (from pyasn1-modules>=0.2.1->google-auth>=1.0.1->kubernetes>=28.1.0->chromadb==1.0.16->-r /content/Agentic_RAG_Workshop/requirements.txt (line 10)) (0.6.1)\n",
            "Downloading rank_bm25-0.2.2-py3-none-any.whl (8.6 kB)\n",
            "Installing collected packages: rank_bm25\n",
            "Successfully installed rank_bm25-0.2.2\n"
          ]
        }
      ]
    },
    {
      "cell_type": "markdown",
      "source": [
        "## Load Environment Variables and Initialize Clients\n",
        "Load environment variables containing API keys and endpoint information, and initialize the Azure Document Intelligence and OpenAI clients."
      ],
      "metadata": {
        "id": "KoDf5tbMan4_"
      }
    },
    {
      "cell_type": "code",
      "source": [
        "import os\n",
        "\n",
        "os.chdir(\"/content/Agentic_RAG_Workshop/\")\n",
        "\n",
        "from dotenv import load_dotenv\n",
        "from langchain_openai import ChatOpenAI, OpenAIEmbeddings\n",
        "\n",
        "load_dotenv()\n",
        "\n",
        "llm = ChatOpenAI(\n",
        "    api_key=os.getenv(\"OPENAI_API_KEY\"),\n",
        "    model=\"gpt-4.1\",\n",
        "    temperature=0,\n",
        ")\n",
        "\n",
        "embeddings = OpenAIEmbeddings(\n",
        "    api_key=os.getenv(\"OPENAI_API_KEY\"),\n",
        "    model=\"text-embedding-3-small\"\n",
        ")"
      ],
      "metadata": {
        "id": "pJjZ9dlCqHql"
      },
      "execution_count": 1,
      "outputs": []
    },
    {
      "cell_type": "markdown",
      "source": [
        "## Create Retrievers for all data sources\n",
        "\n",
        "Use the Retriever Pipeline which does the following:\n",
        "\n",
        "- Load DI Output\n",
        "- Generate Parent docs\n",
        "- Create Child docs\n",
        "- Generate Summaries\n",
        "- Generate Question docs\n",
        "- Create Chroma DB\n",
        "- Create Ensemble Retriever"
      ],
      "metadata": {
        "id": "bLmnCY-W5i7K"
      }
    },
    {
      "cell_type": "code",
      "source": [
        "from multivector_utils import create_retriever_pipeline"
      ],
      "metadata": {
        "id": "g06MELVOaEPJ"
      },
      "execution_count": 2,
      "outputs": []
    },
    {
      "cell_type": "markdown",
      "source": [
        "### Retriever for Insurance Policy Document"
      ],
      "metadata": {
        "id": "ZFjGGL5s5X7y"
      }
    },
    {
      "cell_type": "code",
      "source": [
        "insurance_policy_retriever = create_retriever_pipeline(\n",
        "    di_results_filename=\"Insurance_Policy_results.pkl\",\n",
        "    source_file_name=\"Insurance_Policy\",\n",
        "    vector_db_name=\"chroma-insurance-policy\",\n",
        "    embeddings_model=embeddings,\n",
        "    llm_model=llm,\n",
        "    vectorstore_exists=True\n",
        ")"
      ],
      "metadata": {
        "id": "V0c143G943OP",
        "collapsed": true
      },
      "execution_count": 4,
      "outputs": []
    },
    {
      "cell_type": "markdown",
      "source": [
        "### Retriever for Leave Policy Document"
      ],
      "metadata": {
        "id": "YKh2FU-k5mxP"
      }
    },
    {
      "cell_type": "code",
      "source": [
        "leave_policy_retriever = create_retriever_pipeline(\n",
        "    di_results_filename=\"Leave_Policy_results.pkl\",\n",
        "    source_file_name=\"Leave_Policy\",\n",
        "    vector_db_name=\"chroma-leave-policy\",\n",
        "    embeddings_model=embeddings,\n",
        "    llm_model=llm,\n",
        "    vectorstore_exists=True\n",
        ")"
      ],
      "metadata": {
        "collapsed": true,
        "id": "HKDWJ-d_ZxyX"
      },
      "execution_count": 5,
      "outputs": []
    },
    {
      "cell_type": "markdown",
      "source": [
        "### Retriever for Microsoft 2023 & 2024 Documents"
      ],
      "metadata": {
        "id": "lMURab_25oNO"
      }
    },
    {
      "cell_type": "code",
      "source": [
        "MS23_retriever = create_retriever_pipeline(\n",
        "    di_results_filename=\"Microsoft_2023_results.pkl\",\n",
        "    source_file_name=\"Microsoft_2023\",\n",
        "    vector_db_name=\"chroma-microsoft-2023\",\n",
        "    embeddings_model=embeddings,\n",
        "    llm_model=llm,\n",
        "    vectorstore_exists=True\n",
        ")"
      ],
      "metadata": {
        "collapsed": true,
        "id": "mQsY7v-TgVNW"
      },
      "execution_count": 6,
      "outputs": []
    },
    {
      "cell_type": "code",
      "source": [
        "MS24_retriever = create_retriever_pipeline(\n",
        "    di_results_filename=\"Microsoft_2024_results.pkl\",\n",
        "    source_file_name=\"Microsoft_2024\",\n",
        "    vector_db_name=\"chroma-microsoft-2024\",\n",
        "    embeddings_model=embeddings,\n",
        "    llm_model=llm,\n",
        "    vectorstore_exists=True\n",
        ")"
      ],
      "metadata": {
        "collapsed": true,
        "id": "fDf-YzI8gVds"
      },
      "execution_count": 7,
      "outputs": []
    },
    {
      "cell_type": "markdown",
      "source": [
        "### Retriever for Apple 2023 & 2024 Documents"
      ],
      "metadata": {
        "id": "qaiqoGeD5w8J"
      }
    },
    {
      "cell_type": "code",
      "source": [
        "AP23_retriever = create_retriever_pipeline(\n",
        "    di_results_filename=\"Apple_2023_results.pkl\",\n",
        "    source_file_name=\"Apple_2023\",\n",
        "    vector_db_name=\"chroma_apple-2023\",\n",
        "    embeddings_model=embeddings,\n",
        "    llm_model=llm,\n",
        "    vectorstore_exists=True\n",
        ")"
      ],
      "metadata": {
        "id": "Bd7W-w1YgVu2",
        "collapsed": true
      },
      "execution_count": 8,
      "outputs": []
    },
    {
      "cell_type": "code",
      "source": [
        "AP24_retriever = create_retriever_pipeline(\n",
        "    di_results_filename=\"Apple_2024_results.pkl\",\n",
        "    source_file_name=\"Apple_2024\",\n",
        "    vector_db_name=\"chroma_apple-2024\",\n",
        "    embeddings_model=embeddings,\n",
        "    llm_model=llm,\n",
        "    vectorstore_exists=True\n",
        ")"
      ],
      "metadata": {
        "id": "7AW20WpWgV7F",
        "collapsed": true
      },
      "execution_count": 9,
      "outputs": []
    },
    {
      "cell_type": "markdown",
      "source": [
        "## Traditional RAG\n",
        "\n",
        "add a picture"
      ],
      "metadata": {
        "id": "lwX6L52K-Kno"
      }
    },
    {
      "cell_type": "markdown",
      "source": [
        "### Define Prompt"
      ],
      "metadata": {
        "id": "3yyge56K-Zdr"
      }
    },
    {
      "cell_type": "code",
      "source": [
        "from langchain.prompts import ChatPromptTemplate\n",
        "\n",
        "template = \"\"\"You are an assistant for question-answering tasks.\n",
        "Use the following pieces of retrieved context to answer the question.\n",
        "If you don't know the answer, just say that you don't know.\n",
        "Use three sentences maximum and keep the answer concise.\n",
        "Avoid using generic phrases like \"Provide context\" or \"as per context.\n",
        "\n",
        "Question: {input}\n",
        "\n",
        "Context: {context}\n",
        "\n",
        "Answer:\n",
        "\"\"\"\n",
        "prompt = ChatPromptTemplate.from_template(template)"
      ],
      "metadata": {
        "id": "DmVf3EUu-MXE"
      },
      "execution_count": 10,
      "outputs": []
    },
    {
      "cell_type": "markdown",
      "source": [
        "## Combine all Retrievers using LOTR - MergerRetriever\n",
        "\n",
        "**Lord of the Retrievers (LOTR)**, also known as **MergerRetriever**, takes a list of retrievers as input and merges the results of their get_relevant_documents() methods into a single list. The merged results will be a list of documents that are relevant to the query and that have been ranked by the different retrievers.\n",
        "\n",
        "The MergerRetriever class can be used to improve the accuracy of document retrieval in a number of ways. First, it can combine the results of multiple retrievers, which can help to reduce the risk of bias in the results. Second, it can rank the results of the different retrievers, which can help to ensure that the most relevant documents are returned first."
      ],
      "metadata": {
        "id": "1WSc4K3v_jq7"
      }
    },
    {
      "cell_type": "code",
      "source": [
        "from langchain.retrievers import MergerRetriever\n",
        "\n",
        "# The Lord of the Retrievers will hold the output of all retrievers and can be used as any other retriever on different types of chains.\n",
        "lotr = MergerRetriever(retrievers=[insurance_policy_retriever,\n",
        "                                   leave_policy_retriever,\n",
        "                                   MS23_retriever,\n",
        "                                   MS24_retriever,\n",
        "                                   AP23_retriever,\n",
        "                                   AP24_retriever])"
      ],
      "metadata": {
        "id": "vi0YkZa2_kBa"
      },
      "execution_count": 11,
      "outputs": []
    },
    {
      "cell_type": "markdown",
      "source": [
        "### Create Simple RAG Chain"
      ],
      "metadata": {
        "id": "yaE415bf-cjq"
      }
    },
    {
      "cell_type": "code",
      "source": [
        "from langchain.chains import create_retrieval_chain\n",
        "from langchain.chains.combine_documents import create_stuff_documents_chain\n",
        "\n",
        "# Create a chain to combine documents\n",
        "combine_docs_chain = create_stuff_documents_chain(llm, prompt)\n",
        "\n",
        "# Create a retrieval chain\n",
        "rag_chain = create_retrieval_chain(lotr, combine_docs_chain)"
      ],
      "metadata": {
        "id": "gITGfuvB-TcY"
      },
      "execution_count": 12,
      "outputs": []
    },
    {
      "cell_type": "markdown",
      "source": [
        "### Test Q&A"
      ],
      "metadata": {
        "id": "-F8KBqgv-gnR"
      }
    },
    {
      "cell_type": "code",
      "source": [
        "from IPython.display import Markdown\n",
        "\n",
        "question = \"I am planning to adopt a kid. How many leaves can I avail and What are the Insurance benefits I can get? What are the latest adoption policies of Indian Government as of 2025?\"\n",
        "response = rag_chain.invoke({\"input\": question})\n",
        "\n",
        "display(Markdown(response[\"answer\"]))"
      ],
      "metadata": {
        "colab": {
          "base_uri": "https://localhost:8080/",
          "height": 98
        },
        "id": "bITz4yUS-XlH",
        "outputId": "350c3322-b888-4f5a-c67e-be16d7fc54ad"
      },
      "execution_count": 22,
      "outputs": [
        {
          "output_type": "display_data",
          "data": {
            "text/plain": [
              "<IPython.core.display.Markdown object>"
            ],
            "text/markdown": "As per the latest Indian government policies (2025), adoptive parents are entitled to 26 weeks of parental leave, which must be availed within one year of the child's adoption. Insurance benefits include coverage for the adopted child from day one under the group medical plan, provided HR is informed within 15 days of adoption, and the child is added as a dependent. The adoption process and leave/benefit entitlements are aligned with those for biological and surrogacy cases, ensuring equal support for adoptive parents."
          },
          "metadata": {}
        }
      ]
    },
    {
      "cell_type": "code",
      "source": [
        "question = \"Compare the profits of Microsoft & Apple in 2024\"\n",
        "response = rag_chain.invoke({\"input\": question})\n",
        "\n",
        "display(Markdown(response[\"answer\"]))"
      ],
      "metadata": {
        "id": "uIyW7UWu-v1k",
        "colab": {
          "base_uri": "https://localhost:8080/",
          "height": 85
        },
        "outputId": "f225b16e-5929-44b6-eebd-41abc9a49e82"
      },
      "execution_count": 21,
      "outputs": [
        {
          "output_type": "display_data",
          "data": {
            "text/plain": [
              "<IPython.core.display.Markdown object>"
            ],
            "text/markdown": "In 2024, Microsoft reported a net income (profit) of $87.6 billion for the fiscal year ended June 30, 2024. Apple reported a net income of $46.9 billion for the fiscal year ended September 28, 2024, which was significantly reduced by a one-time $10.2 billion tax charge related to the European Commission State Aid Decision. Therefore, Microsoft's profit in 2024 was substantially higher than Apple's."
          },
          "metadata": {}
        }
      ]
    },
    {
      "cell_type": "code",
      "source": [],
      "metadata": {
        "id": "07QQ0TA4IGEL"
      },
      "execution_count": null,
      "outputs": []
    }
  ]
}