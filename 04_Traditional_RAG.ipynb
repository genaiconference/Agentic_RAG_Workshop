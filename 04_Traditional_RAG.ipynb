{
  "nbformat": 4,
  "nbformat_minor": 0,
  "metadata": {
    "colab": {
      "provenance": [],
      "authorship_tag": "ABX9TyN5/I2iEwSF1hnPlsBd/3uK",
      "include_colab_link": true
    },
    "kernelspec": {
      "name": "python3",
      "display_name": "Python 3"
    },
    "language_info": {
      "name": "python"
    }
  },
  "cells": [
    {
      "cell_type": "markdown",
      "metadata": {
        "id": "view-in-github",
        "colab_type": "text"
      },
      "source": [
        "<a href=\"https://colab.research.google.com/github/genaiconference/Agentic_RAG_Workshop/blob/main/04_Traditional_RAG.ipynb\" target=\"_parent\"><img src=\"https://colab.research.google.com/assets/colab-badge.svg\" alt=\"Open In Colab\"/></a>"
      ]
    },
    {
      "cell_type": "markdown",
      "source": [
        "## Traditional RAG"
      ],
      "metadata": {
        "id": "Qkvwji2L2i07"
      }
    },
    {
      "cell_type": "code",
      "execution_count": 1,
      "metadata": {
        "colab": {
          "base_uri": "https://localhost:8080/"
        },
        "id": "G46NbZU72Q0Z",
        "outputId": "7ed9c931-83f1-497e-92a5-54324e2e0f73"
      },
      "outputs": [
        {
          "output_type": "stream",
          "name": "stdout",
          "text": [
            "Cloning into 'Agentic_RAG_Workshop'...\n",
            "remote: Enumerating objects: 71, done.\u001b[K\n",
            "remote: Counting objects: 100% (71/71), done.\u001b[K\n",
            "remote: Compressing objects: 100% (68/68), done.\u001b[K\n",
            "remote: Total 71 (delta 28), reused 0 (delta 0), pack-reused 0 (from 0)\u001b[K\n",
            "Receiving objects: 100% (71/71), 2.24 MiB | 3.18 MiB/s, done.\n",
            "Resolving deltas: 100% (28/28), done.\n"
          ]
        }
      ],
      "source": [
        "!git clone https://github.com/genaiconference/Agentic_RAG_Workshop.git"
      ]
    },
    {
      "cell_type": "markdown",
      "source": [
        "## Setup and Installations\n",
        "Install necessary libraries for document processing, data handling, and interacting with Azure Document Intelligence and OpenAI."
      ],
      "metadata": {
        "id": "8bymfx0hi31o"
      }
    },
    {
      "cell_type": "code",
      "metadata": {
        "colab": {
          "base_uri": "https://localhost:8080/",
          "height": 1000
        },
        "id": "a60f0b0e",
        "outputId": "db081fdd-13c3-40dc-e2ee-110cb2b2f864",
        "collapsed": true
      },
      "source": [
        "!pip install -r /content/Agentic_RAG_Workshop/requirements.txt"
      ],
      "execution_count": 1,
      "outputs": [
        {
          "output_type": "stream",
          "name": "stdout",
          "text": [
            "Collecting azure-ai-documentintelligence==1.0.2 (from -r /content/Agentic_RAG_Workshop/requirements.txt (line 1))\n",
            "  Using cached azure_ai_documentintelligence-1.0.2-py3-none-any.whl.metadata (53 kB)\n",
            "Requirement already satisfied: pandas==2.2.2 in /usr/local/lib/python3.11/dist-packages (from -r /content/Agentic_RAG_Workshop/requirements.txt (line 2)) (2.2.2)\n",
            "Collecting pathlib==1.0.1 (from -r /content/Agentic_RAG_Workshop/requirements.txt (line 3))\n",
            "  Using cached pathlib-1.0.1-py3-none-any.whl.metadata (5.1 kB)\n",
            "Collecting pymupdf==1.26.3 (from -r /content/Agentic_RAG_Workshop/requirements.txt (line 4))\n",
            "  Using cached pymupdf-1.26.3-cp39-abi3-manylinux_2_28_x86_64.whl.metadata (3.4 kB)\n",
            "Collecting tools==1.0.2 (from -r /content/Agentic_RAG_Workshop/requirements.txt (line 5))\n",
            "  Using cached tools-1.0.2-py3-none-any.whl.metadata (1.4 kB)\n",
            "Collecting python-dotenv==1.1.1 (from -r /content/Agentic_RAG_Workshop/requirements.txt (line 6))\n",
            "  Using cached python_dotenv-1.1.1-py3-none-any.whl.metadata (24 kB)\n",
            "Collecting langchain_openai==0.3.28 (from -r /content/Agentic_RAG_Workshop/requirements.txt (line 7))\n",
            "  Using cached langchain_openai-0.3.28-py3-none-any.whl.metadata (2.3 kB)\n",
            "Collecting rapidfuzz (from -r /content/Agentic_RAG_Workshop/requirements.txt (line 8))\n",
            "  Using cached rapidfuzz-3.13.0-cp311-cp311-manylinux_2_17_x86_64.manylinux2014_x86_64.whl.metadata (12 kB)\n",
            "Collecting langchain_community==0.3.27 (from -r /content/Agentic_RAG_Workshop/requirements.txt (line 9))\n",
            "  Using cached langchain_community-0.3.27-py3-none-any.whl.metadata (2.9 kB)\n",
            "Collecting chromadb==1.0.16 (from -r /content/Agentic_RAG_Workshop/requirements.txt (line 10))\n",
            "  Using cached chromadb-1.0.16-cp39-abi3-manylinux_2_17_x86_64.manylinux2014_x86_64.whl.metadata (7.4 kB)\n",
            "Collecting azure-identity==1.24.0 (from -r /content/Agentic_RAG_Workshop/requirements.txt (line 11))\n",
            "  Downloading azure_identity-1.24.0-py3-none-any.whl.metadata (86 kB)\n",
            "\u001b[2K     \u001b[90m━━━━━━━━━━━━━━━━━━━━━━━━━━━━━━━━━━━━━━━━\u001b[0m \u001b[32m86.0/86.0 kB\u001b[0m \u001b[31m2.6 MB/s\u001b[0m eta \u001b[36m0:00:00\u001b[0m\n",
            "\u001b[?25hCollecting azure-search-documents==11.5.3 (from -r /content/Agentic_RAG_Workshop/requirements.txt (line 12))\n",
            "  Downloading azure_search_documents-11.5.3-py3-none-any.whl.metadata (23 kB)\n",
            "Collecting dotenv (from -r /content/Agentic_RAG_Workshop/requirements.txt (line 13))\n",
            "  Downloading dotenv-0.9.9-py2.py3-none-any.whl.metadata (279 bytes)\n",
            "Collecting isodate>=0.6.1 (from azure-ai-documentintelligence==1.0.2->-r /content/Agentic_RAG_Workshop/requirements.txt (line 1))\n",
            "  Downloading isodate-0.7.2-py3-none-any.whl.metadata (11 kB)\n",
            "Collecting azure-core>=1.30.0 (from azure-ai-documentintelligence==1.0.2->-r /content/Agentic_RAG_Workshop/requirements.txt (line 1))\n",
            "  Downloading azure_core-1.35.0-py3-none-any.whl.metadata (44 kB)\n",
            "\u001b[2K     \u001b[90m━━━━━━━━━━━━━━━━━━━━━━━━━━━━━━━━━━━━━━━━\u001b[0m \u001b[32m44.4/44.4 kB\u001b[0m \u001b[31m2.9 MB/s\u001b[0m eta \u001b[36m0:00:00\u001b[0m\n",
            "\u001b[?25hRequirement already satisfied: typing-extensions>=4.6.0 in /usr/local/lib/python3.11/dist-packages (from azure-ai-documentintelligence==1.0.2->-r /content/Agentic_RAG_Workshop/requirements.txt (line 1)) (4.14.1)\n",
            "Requirement already satisfied: numpy>=1.23.2 in /usr/local/lib/python3.11/dist-packages (from pandas==2.2.2->-r /content/Agentic_RAG_Workshop/requirements.txt (line 2)) (2.0.2)\n",
            "Requirement already satisfied: python-dateutil>=2.8.2 in /usr/local/lib/python3.11/dist-packages (from pandas==2.2.2->-r /content/Agentic_RAG_Workshop/requirements.txt (line 2)) (2.9.0.post0)\n",
            "Requirement already satisfied: pytz>=2020.1 in /usr/local/lib/python3.11/dist-packages (from pandas==2.2.2->-r /content/Agentic_RAG_Workshop/requirements.txt (line 2)) (2025.2)\n",
            "Requirement already satisfied: tzdata>=2022.7 in /usr/local/lib/python3.11/dist-packages (from pandas==2.2.2->-r /content/Agentic_RAG_Workshop/requirements.txt (line 2)) (2025.2)\n",
            "Requirement already satisfied: langchain-core<1.0.0,>=0.3.68 in /usr/local/lib/python3.11/dist-packages (from langchain_openai==0.3.28->-r /content/Agentic_RAG_Workshop/requirements.txt (line 7)) (0.3.72)\n",
            "Requirement already satisfied: openai<2.0.0,>=1.86.0 in /usr/local/lib/python3.11/dist-packages (from langchain_openai==0.3.28->-r /content/Agentic_RAG_Workshop/requirements.txt (line 7)) (1.99.1)\n",
            "Requirement already satisfied: tiktoken<1,>=0.7 in /usr/local/lib/python3.11/dist-packages (from langchain_openai==0.3.28->-r /content/Agentic_RAG_Workshop/requirements.txt (line 7)) (0.10.0)\n",
            "Requirement already satisfied: langchain<1.0.0,>=0.3.26 in /usr/local/lib/python3.11/dist-packages (from langchain_community==0.3.27->-r /content/Agentic_RAG_Workshop/requirements.txt (line 9)) (0.3.27)\n",
            "Requirement already satisfied: SQLAlchemy<3,>=1.4 in /usr/local/lib/python3.11/dist-packages (from langchain_community==0.3.27->-r /content/Agentic_RAG_Workshop/requirements.txt (line 9)) (2.0.42)\n",
            "Requirement already satisfied: requests<3,>=2 in /usr/local/lib/python3.11/dist-packages (from langchain_community==0.3.27->-r /content/Agentic_RAG_Workshop/requirements.txt (line 9)) (2.32.3)\n",
            "Requirement already satisfied: PyYAML>=5.3 in /usr/local/lib/python3.11/dist-packages (from langchain_community==0.3.27->-r /content/Agentic_RAG_Workshop/requirements.txt (line 9)) (6.0.2)\n",
            "Requirement already satisfied: aiohttp<4.0.0,>=3.8.3 in /usr/local/lib/python3.11/dist-packages (from langchain_community==0.3.27->-r /content/Agentic_RAG_Workshop/requirements.txt (line 9)) (3.12.15)\n",
            "Requirement already satisfied: tenacity!=8.4.0,<10,>=8.1.0 in /usr/local/lib/python3.11/dist-packages (from langchain_community==0.3.27->-r /content/Agentic_RAG_Workshop/requirements.txt (line 9)) (8.5.0)\n",
            "Collecting dataclasses-json<0.7,>=0.5.7 (from langchain_community==0.3.27->-r /content/Agentic_RAG_Workshop/requirements.txt (line 9))\n",
            "  Downloading dataclasses_json-0.6.7-py3-none-any.whl.metadata (25 kB)\n",
            "Collecting pydantic-settings<3.0.0,>=2.4.0 (from langchain_community==0.3.27->-r /content/Agentic_RAG_Workshop/requirements.txt (line 9))\n",
            "  Downloading pydantic_settings-2.10.1-py3-none-any.whl.metadata (3.4 kB)\n",
            "Requirement already satisfied: langsmith>=0.1.125 in /usr/local/lib/python3.11/dist-packages (from langchain_community==0.3.27->-r /content/Agentic_RAG_Workshop/requirements.txt (line 9)) (0.4.12)\n",
            "Collecting httpx-sse<1.0.0,>=0.4.0 (from langchain_community==0.3.27->-r /content/Agentic_RAG_Workshop/requirements.txt (line 9))\n",
            "  Downloading httpx_sse-0.4.1-py3-none-any.whl.metadata (9.4 kB)\n",
            "Requirement already satisfied: build>=1.0.3 in /usr/local/lib/python3.11/dist-packages (from chromadb==1.0.16->-r /content/Agentic_RAG_Workshop/requirements.txt (line 10)) (1.3.0)\n",
            "Requirement already satisfied: pydantic>=1.9 in /usr/local/lib/python3.11/dist-packages (from chromadb==1.0.16->-r /content/Agentic_RAG_Workshop/requirements.txt (line 10)) (2.11.7)\n",
            "Collecting pybase64>=1.4.1 (from chromadb==1.0.16->-r /content/Agentic_RAG_Workshop/requirements.txt (line 10))\n",
            "  Downloading pybase64-1.4.2-cp311-cp311-manylinux1_x86_64.manylinux2014_x86_64.manylinux_2_17_x86_64.manylinux_2_5_x86_64.whl.metadata (8.7 kB)\n",
            "Requirement already satisfied: uvicorn>=0.18.3 in /usr/local/lib/python3.11/dist-packages (from uvicorn[standard]>=0.18.3->chromadb==1.0.16->-r /content/Agentic_RAG_Workshop/requirements.txt (line 10)) (0.35.0)\n",
            "Collecting posthog<6.0.0,>=2.4.0 (from chromadb==1.0.16->-r /content/Agentic_RAG_Workshop/requirements.txt (line 10))\n",
            "  Downloading posthog-5.4.0-py3-none-any.whl.metadata (5.7 kB)\n",
            "Collecting onnxruntime>=1.14.1 (from chromadb==1.0.16->-r /content/Agentic_RAG_Workshop/requirements.txt (line 10))\n",
            "  Downloading onnxruntime-1.22.1-cp311-cp311-manylinux_2_27_x86_64.manylinux_2_28_x86_64.whl.metadata (4.6 kB)\n",
            "Collecting opentelemetry-api>=1.2.0 (from chromadb==1.0.16->-r /content/Agentic_RAG_Workshop/requirements.txt (line 10))\n",
            "  Downloading opentelemetry_api-1.36.0-py3-none-any.whl.metadata (1.5 kB)\n",
            "Collecting opentelemetry-exporter-otlp-proto-grpc>=1.2.0 (from chromadb==1.0.16->-r /content/Agentic_RAG_Workshop/requirements.txt (line 10))\n",
            "  Downloading opentelemetry_exporter_otlp_proto_grpc-1.36.0-py3-none-any.whl.metadata (2.4 kB)\n",
            "Collecting opentelemetry-sdk>=1.2.0 (from chromadb==1.0.16->-r /content/Agentic_RAG_Workshop/requirements.txt (line 10))\n",
            "  Downloading opentelemetry_sdk-1.36.0-py3-none-any.whl.metadata (1.5 kB)\n",
            "Requirement already satisfied: tokenizers>=0.13.2 in /usr/local/lib/python3.11/dist-packages (from chromadb==1.0.16->-r /content/Agentic_RAG_Workshop/requirements.txt (line 10)) (0.21.4)\n",
            "Collecting pypika>=0.48.9 (from chromadb==1.0.16->-r /content/Agentic_RAG_Workshop/requirements.txt (line 10))\n",
            "  Downloading PyPika-0.48.9.tar.gz (67 kB)\n",
            "\u001b[2K     \u001b[90m━━━━━━━━━━━━━━━━━━━━━━━━━━━━━━━━━━━━━━━━\u001b[0m \u001b[32m67.3/67.3 kB\u001b[0m \u001b[31m5.7 MB/s\u001b[0m eta \u001b[36m0:00:00\u001b[0m\n",
            "\u001b[?25h  Installing build dependencies ... \u001b[?25l\u001b[?25hdone\n",
            "  Getting requirements to build wheel ... \u001b[?25l\u001b[?25hdone\n",
            "  Preparing metadata (pyproject.toml) ... \u001b[?25l\u001b[?25hdone\n",
            "Requirement already satisfied: tqdm>=4.65.0 in /usr/local/lib/python3.11/dist-packages (from chromadb==1.0.16->-r /content/Agentic_RAG_Workshop/requirements.txt (line 10)) (4.67.1)\n",
            "Collecting overrides>=7.3.1 (from chromadb==1.0.16->-r /content/Agentic_RAG_Workshop/requirements.txt (line 10))\n",
            "  Downloading overrides-7.7.0-py3-none-any.whl.metadata (5.8 kB)\n",
            "Requirement already satisfied: importlib-resources in /usr/local/lib/python3.11/dist-packages (from chromadb==1.0.16->-r /content/Agentic_RAG_Workshop/requirements.txt (line 10)) (6.5.2)\n",
            "Requirement already satisfied: grpcio>=1.58.0 in /usr/local/lib/python3.11/dist-packages (from chromadb==1.0.16->-r /content/Agentic_RAG_Workshop/requirements.txt (line 10)) (1.74.0)\n",
            "Collecting bcrypt>=4.0.1 (from chromadb==1.0.16->-r /content/Agentic_RAG_Workshop/requirements.txt (line 10))\n",
            "  Downloading bcrypt-4.3.0-cp39-abi3-manylinux_2_34_x86_64.whl.metadata (10 kB)\n",
            "Requirement already satisfied: typer>=0.9.0 in /usr/local/lib/python3.11/dist-packages (from chromadb==1.0.16->-r /content/Agentic_RAG_Workshop/requirements.txt (line 10)) (0.16.0)\n",
            "Collecting kubernetes>=28.1.0 (from chromadb==1.0.16->-r /content/Agentic_RAG_Workshop/requirements.txt (line 10))\n",
            "  Downloading kubernetes-33.1.0-py2.py3-none-any.whl.metadata (1.7 kB)\n",
            "Collecting mmh3>=4.0.1 (from chromadb==1.0.16->-r /content/Agentic_RAG_Workshop/requirements.txt (line 10))\n",
            "  Downloading mmh3-5.2.0-cp311-cp311-manylinux1_x86_64.manylinux_2_28_x86_64.manylinux_2_5_x86_64.whl.metadata (14 kB)\n",
            "Requirement already satisfied: orjson>=3.9.12 in /usr/local/lib/python3.11/dist-packages (from chromadb==1.0.16->-r /content/Agentic_RAG_Workshop/requirements.txt (line 10)) (3.11.1)\n",
            "Requirement already satisfied: httpx>=0.27.0 in /usr/local/lib/python3.11/dist-packages (from chromadb==1.0.16->-r /content/Agentic_RAG_Workshop/requirements.txt (line 10)) (0.28.1)\n",
            "Requirement already satisfied: rich>=10.11.0 in /usr/local/lib/python3.11/dist-packages (from chromadb==1.0.16->-r /content/Agentic_RAG_Workshop/requirements.txt (line 10)) (13.9.4)\n",
            "Requirement already satisfied: jsonschema>=4.19.0 in /usr/local/lib/python3.11/dist-packages (from chromadb==1.0.16->-r /content/Agentic_RAG_Workshop/requirements.txt (line 10)) (4.25.0)\n",
            "Requirement already satisfied: cryptography>=2.5 in /usr/local/lib/python3.11/dist-packages (from azure-identity==1.24.0->-r /content/Agentic_RAG_Workshop/requirements.txt (line 11)) (43.0.3)\n",
            "Collecting msal>=1.30.0 (from azure-identity==1.24.0->-r /content/Agentic_RAG_Workshop/requirements.txt (line 11))\n",
            "  Downloading msal-1.33.0-py3-none-any.whl.metadata (11 kB)\n",
            "Collecting msal-extensions>=1.2.0 (from azure-identity==1.24.0->-r /content/Agentic_RAG_Workshop/requirements.txt (line 11))\n",
            "  Downloading msal_extensions-1.3.1-py3-none-any.whl.metadata (7.8 kB)\n",
            "Collecting azure-common>=1.1 (from azure-search-documents==11.5.3->-r /content/Agentic_RAG_Workshop/requirements.txt (line 12))\n",
            "  Downloading azure_common-1.1.28-py2.py3-none-any.whl.metadata (5.0 kB)\n",
            "Requirement already satisfied: aiohappyeyeballs>=2.5.0 in /usr/local/lib/python3.11/dist-packages (from aiohttp<4.0.0,>=3.8.3->langchain_community==0.3.27->-r /content/Agentic_RAG_Workshop/requirements.txt (line 9)) (2.6.1)\n",
            "Requirement already satisfied: aiosignal>=1.4.0 in /usr/local/lib/python3.11/dist-packages (from aiohttp<4.0.0,>=3.8.3->langchain_community==0.3.27->-r /content/Agentic_RAG_Workshop/requirements.txt (line 9)) (1.4.0)\n",
            "Requirement already satisfied: attrs>=17.3.0 in /usr/local/lib/python3.11/dist-packages (from aiohttp<4.0.0,>=3.8.3->langchain_community==0.3.27->-r /content/Agentic_RAG_Workshop/requirements.txt (line 9)) (25.3.0)\n",
            "Requirement already satisfied: frozenlist>=1.1.1 in /usr/local/lib/python3.11/dist-packages (from aiohttp<4.0.0,>=3.8.3->langchain_community==0.3.27->-r /content/Agentic_RAG_Workshop/requirements.txt (line 9)) (1.7.0)\n",
            "Requirement already satisfied: multidict<7.0,>=4.5 in /usr/local/lib/python3.11/dist-packages (from aiohttp<4.0.0,>=3.8.3->langchain_community==0.3.27->-r /content/Agentic_RAG_Workshop/requirements.txt (line 9)) (6.6.3)\n",
            "Requirement already satisfied: propcache>=0.2.0 in /usr/local/lib/python3.11/dist-packages (from aiohttp<4.0.0,>=3.8.3->langchain_community==0.3.27->-r /content/Agentic_RAG_Workshop/requirements.txt (line 9)) (0.3.2)\n",
            "Requirement already satisfied: yarl<2.0,>=1.17.0 in /usr/local/lib/python3.11/dist-packages (from aiohttp<4.0.0,>=3.8.3->langchain_community==0.3.27->-r /content/Agentic_RAG_Workshop/requirements.txt (line 9)) (1.20.1)\n",
            "Requirement already satisfied: six>=1.11.0 in /usr/local/lib/python3.11/dist-packages (from azure-core>=1.30.0->azure-ai-documentintelligence==1.0.2->-r /content/Agentic_RAG_Workshop/requirements.txt (line 1)) (1.17.0)\n",
            "Requirement already satisfied: packaging>=19.1 in /usr/local/lib/python3.11/dist-packages (from build>=1.0.3->chromadb==1.0.16->-r /content/Agentic_RAG_Workshop/requirements.txt (line 10)) (25.0)\n",
            "Requirement already satisfied: pyproject_hooks in /usr/local/lib/python3.11/dist-packages (from build>=1.0.3->chromadb==1.0.16->-r /content/Agentic_RAG_Workshop/requirements.txt (line 10)) (1.2.0)\n",
            "Requirement already satisfied: cffi>=1.12 in /usr/local/lib/python3.11/dist-packages (from cryptography>=2.5->azure-identity==1.24.0->-r /content/Agentic_RAG_Workshop/requirements.txt (line 11)) (1.17.1)\n",
            "Collecting marshmallow<4.0.0,>=3.18.0 (from dataclasses-json<0.7,>=0.5.7->langchain_community==0.3.27->-r /content/Agentic_RAG_Workshop/requirements.txt (line 9))\n",
            "  Downloading marshmallow-3.26.1-py3-none-any.whl.metadata (7.3 kB)\n",
            "Collecting typing-inspect<1,>=0.4.0 (from dataclasses-json<0.7,>=0.5.7->langchain_community==0.3.27->-r /content/Agentic_RAG_Workshop/requirements.txt (line 9))\n",
            "  Downloading typing_inspect-0.9.0-py3-none-any.whl.metadata (1.5 kB)\n",
            "Requirement already satisfied: anyio in /usr/local/lib/python3.11/dist-packages (from httpx>=0.27.0->chromadb==1.0.16->-r /content/Agentic_RAG_Workshop/requirements.txt (line 10)) (4.10.0)\n",
            "Requirement already satisfied: certifi in /usr/local/lib/python3.11/dist-packages (from httpx>=0.27.0->chromadb==1.0.16->-r /content/Agentic_RAG_Workshop/requirements.txt (line 10)) (2025.8.3)\n",
            "Requirement already satisfied: httpcore==1.* in /usr/local/lib/python3.11/dist-packages (from httpx>=0.27.0->chromadb==1.0.16->-r /content/Agentic_RAG_Workshop/requirements.txt (line 10)) (1.0.9)\n",
            "Requirement already satisfied: idna in /usr/local/lib/python3.11/dist-packages (from httpx>=0.27.0->chromadb==1.0.16->-r /content/Agentic_RAG_Workshop/requirements.txt (line 10)) (3.10)\n",
            "Requirement already satisfied: h11>=0.16 in /usr/local/lib/python3.11/dist-packages (from httpcore==1.*->httpx>=0.27.0->chromadb==1.0.16->-r /content/Agentic_RAG_Workshop/requirements.txt (line 10)) (0.16.0)\n",
            "Requirement already satisfied: jsonschema-specifications>=2023.03.6 in /usr/local/lib/python3.11/dist-packages (from jsonschema>=4.19.0->chromadb==1.0.16->-r /content/Agentic_RAG_Workshop/requirements.txt (line 10)) (2025.4.1)\n",
            "Requirement already satisfied: referencing>=0.28.4 in /usr/local/lib/python3.11/dist-packages (from jsonschema>=4.19.0->chromadb==1.0.16->-r /content/Agentic_RAG_Workshop/requirements.txt (line 10)) (0.36.2)\n",
            "Requirement already satisfied: rpds-py>=0.7.1 in /usr/local/lib/python3.11/dist-packages (from jsonschema>=4.19.0->chromadb==1.0.16->-r /content/Agentic_RAG_Workshop/requirements.txt (line 10)) (0.26.0)\n",
            "Requirement already satisfied: google-auth>=1.0.1 in /usr/local/lib/python3.11/dist-packages (from kubernetes>=28.1.0->chromadb==1.0.16->-r /content/Agentic_RAG_Workshop/requirements.txt (line 10)) (2.38.0)\n",
            "Requirement already satisfied: websocket-client!=0.40.0,!=0.41.*,!=0.42.*,>=0.32.0 in /usr/local/lib/python3.11/dist-packages (from kubernetes>=28.1.0->chromadb==1.0.16->-r /content/Agentic_RAG_Workshop/requirements.txt (line 10)) (1.8.0)\n",
            "Requirement already satisfied: requests-oauthlib in /usr/local/lib/python3.11/dist-packages (from kubernetes>=28.1.0->chromadb==1.0.16->-r /content/Agentic_RAG_Workshop/requirements.txt (line 10)) (2.0.0)\n",
            "Requirement already satisfied: oauthlib>=3.2.2 in /usr/local/lib/python3.11/dist-packages (from kubernetes>=28.1.0->chromadb==1.0.16->-r /content/Agentic_RAG_Workshop/requirements.txt (line 10)) (3.3.1)\n",
            "Requirement already satisfied: urllib3>=1.24.2 in /usr/local/lib/python3.11/dist-packages (from kubernetes>=28.1.0->chromadb==1.0.16->-r /content/Agentic_RAG_Workshop/requirements.txt (line 10)) (2.5.0)\n",
            "Collecting durationpy>=0.7 (from kubernetes>=28.1.0->chromadb==1.0.16->-r /content/Agentic_RAG_Workshop/requirements.txt (line 10))\n",
            "  Downloading durationpy-0.10-py3-none-any.whl.metadata (340 bytes)\n",
            "Requirement already satisfied: langchain-text-splitters<1.0.0,>=0.3.9 in /usr/local/lib/python3.11/dist-packages (from langchain<1.0.0,>=0.3.26->langchain_community==0.3.27->-r /content/Agentic_RAG_Workshop/requirements.txt (line 9)) (0.3.9)\n",
            "Requirement already satisfied: jsonpatch<2.0,>=1.33 in /usr/local/lib/python3.11/dist-packages (from langchain-core<1.0.0,>=0.3.68->langchain_openai==0.3.28->-r /content/Agentic_RAG_Workshop/requirements.txt (line 7)) (1.33)\n",
            "Requirement already satisfied: requests-toolbelt>=1.0.0 in /usr/local/lib/python3.11/dist-packages (from langsmith>=0.1.125->langchain_community==0.3.27->-r /content/Agentic_RAG_Workshop/requirements.txt (line 9)) (1.0.0)\n",
            "Requirement already satisfied: zstandard>=0.23.0 in /usr/local/lib/python3.11/dist-packages (from langsmith>=0.1.125->langchain_community==0.3.27->-r /content/Agentic_RAG_Workshop/requirements.txt (line 9)) (0.23.0)\n",
            "Requirement already satisfied: PyJWT<3,>=1.0.0 in /usr/local/lib/python3.11/dist-packages (from PyJWT[crypto]<3,>=1.0.0->msal>=1.30.0->azure-identity==1.24.0->-r /content/Agentic_RAG_Workshop/requirements.txt (line 11)) (2.10.1)\n",
            "Collecting coloredlogs (from onnxruntime>=1.14.1->chromadb==1.0.16->-r /content/Agentic_RAG_Workshop/requirements.txt (line 10))\n",
            "  Downloading coloredlogs-15.0.1-py2.py3-none-any.whl.metadata (12 kB)\n",
            "Requirement already satisfied: flatbuffers in /usr/local/lib/python3.11/dist-packages (from onnxruntime>=1.14.1->chromadb==1.0.16->-r /content/Agentic_RAG_Workshop/requirements.txt (line 10)) (25.2.10)\n",
            "Requirement already satisfied: protobuf in /usr/local/lib/python3.11/dist-packages (from onnxruntime>=1.14.1->chromadb==1.0.16->-r /content/Agentic_RAG_Workshop/requirements.txt (line 10)) (5.29.5)\n",
            "Requirement already satisfied: sympy in /usr/local/lib/python3.11/dist-packages (from onnxruntime>=1.14.1->chromadb==1.0.16->-r /content/Agentic_RAG_Workshop/requirements.txt (line 10)) (1.13.1)\n",
            "Requirement already satisfied: distro<2,>=1.7.0 in /usr/local/lib/python3.11/dist-packages (from openai<2.0.0,>=1.86.0->langchain_openai==0.3.28->-r /content/Agentic_RAG_Workshop/requirements.txt (line 7)) (1.9.0)\n",
            "Requirement already satisfied: jiter<1,>=0.4.0 in /usr/local/lib/python3.11/dist-packages (from openai<2.0.0,>=1.86.0->langchain_openai==0.3.28->-r /content/Agentic_RAG_Workshop/requirements.txt (line 7)) (0.10.0)\n",
            "Requirement already satisfied: sniffio in /usr/local/lib/python3.11/dist-packages (from openai<2.0.0,>=1.86.0->langchain_openai==0.3.28->-r /content/Agentic_RAG_Workshop/requirements.txt (line 7)) (1.3.1)\n",
            "Requirement already satisfied: importlib-metadata<8.8.0,>=6.0 in /usr/local/lib/python3.11/dist-packages (from opentelemetry-api>=1.2.0->chromadb==1.0.16->-r /content/Agentic_RAG_Workshop/requirements.txt (line 10)) (8.7.0)\n",
            "Requirement already satisfied: googleapis-common-protos~=1.57 in /usr/local/lib/python3.11/dist-packages (from opentelemetry-exporter-otlp-proto-grpc>=1.2.0->chromadb==1.0.16->-r /content/Agentic_RAG_Workshop/requirements.txt (line 10)) (1.70.0)\n",
            "Collecting opentelemetry-exporter-otlp-proto-common==1.36.0 (from opentelemetry-exporter-otlp-proto-grpc>=1.2.0->chromadb==1.0.16->-r /content/Agentic_RAG_Workshop/requirements.txt (line 10))\n",
            "  Downloading opentelemetry_exporter_otlp_proto_common-1.36.0-py3-none-any.whl.metadata (1.8 kB)\n",
            "Collecting opentelemetry-proto==1.36.0 (from opentelemetry-exporter-otlp-proto-grpc>=1.2.0->chromadb==1.0.16->-r /content/Agentic_RAG_Workshop/requirements.txt (line 10))\n",
            "  Downloading opentelemetry_proto-1.36.0-py3-none-any.whl.metadata (2.3 kB)\n",
            "Collecting opentelemetry-semantic-conventions==0.57b0 (from opentelemetry-sdk>=1.2.0->chromadb==1.0.16->-r /content/Agentic_RAG_Workshop/requirements.txt (line 10))\n",
            "  Downloading opentelemetry_semantic_conventions-0.57b0-py3-none-any.whl.metadata (2.4 kB)\n",
            "Collecting backoff>=1.10.0 (from posthog<6.0.0,>=2.4.0->chromadb==1.0.16->-r /content/Agentic_RAG_Workshop/requirements.txt (line 10))\n",
            "  Downloading backoff-2.2.1-py3-none-any.whl.metadata (14 kB)\n",
            "Requirement already satisfied: annotated-types>=0.6.0 in /usr/local/lib/python3.11/dist-packages (from pydantic>=1.9->chromadb==1.0.16->-r /content/Agentic_RAG_Workshop/requirements.txt (line 10)) (0.7.0)\n",
            "Requirement already satisfied: pydantic-core==2.33.2 in /usr/local/lib/python3.11/dist-packages (from pydantic>=1.9->chromadb==1.0.16->-r /content/Agentic_RAG_Workshop/requirements.txt (line 10)) (2.33.2)\n",
            "Requirement already satisfied: typing-inspection>=0.4.0 in /usr/local/lib/python3.11/dist-packages (from pydantic>=1.9->chromadb==1.0.16->-r /content/Agentic_RAG_Workshop/requirements.txt (line 10)) (0.4.1)\n",
            "Requirement already satisfied: charset-normalizer<4,>=2 in /usr/local/lib/python3.11/dist-packages (from requests<3,>=2->langchain_community==0.3.27->-r /content/Agentic_RAG_Workshop/requirements.txt (line 9)) (3.4.2)\n",
            "Requirement already satisfied: markdown-it-py>=2.2.0 in /usr/local/lib/python3.11/dist-packages (from rich>=10.11.0->chromadb==1.0.16->-r /content/Agentic_RAG_Workshop/requirements.txt (line 10)) (3.0.0)\n",
            "Requirement already satisfied: pygments<3.0.0,>=2.13.0 in /usr/local/lib/python3.11/dist-packages (from rich>=10.11.0->chromadb==1.0.16->-r /content/Agentic_RAG_Workshop/requirements.txt (line 10)) (2.19.2)\n",
            "Requirement already satisfied: greenlet>=1 in /usr/local/lib/python3.11/dist-packages (from SQLAlchemy<3,>=1.4->langchain_community==0.3.27->-r /content/Agentic_RAG_Workshop/requirements.txt (line 9)) (3.2.3)\n",
            "Requirement already satisfied: regex>=2022.1.18 in /usr/local/lib/python3.11/dist-packages (from tiktoken<1,>=0.7->langchain_openai==0.3.28->-r /content/Agentic_RAG_Workshop/requirements.txt (line 7)) (2024.11.6)\n",
            "Requirement already satisfied: huggingface-hub<1.0,>=0.16.4 in /usr/local/lib/python3.11/dist-packages (from tokenizers>=0.13.2->chromadb==1.0.16->-r /content/Agentic_RAG_Workshop/requirements.txt (line 10)) (0.34.3)\n",
            "Requirement already satisfied: click>=8.0.0 in /usr/local/lib/python3.11/dist-packages (from typer>=0.9.0->chromadb==1.0.16->-r /content/Agentic_RAG_Workshop/requirements.txt (line 10)) (8.2.1)\n",
            "Requirement already satisfied: shellingham>=1.3.0 in /usr/local/lib/python3.11/dist-packages (from typer>=0.9.0->chromadb==1.0.16->-r /content/Agentic_RAG_Workshop/requirements.txt (line 10)) (1.5.4)\n",
            "Collecting httptools>=0.6.3 (from uvicorn[standard]>=0.18.3->chromadb==1.0.16->-r /content/Agentic_RAG_Workshop/requirements.txt (line 10))\n",
            "  Downloading httptools-0.6.4-cp311-cp311-manylinux_2_5_x86_64.manylinux1_x86_64.manylinux_2_17_x86_64.manylinux2014_x86_64.whl.metadata (3.6 kB)\n",
            "Collecting uvloop>=0.15.1 (from uvicorn[standard]>=0.18.3->chromadb==1.0.16->-r /content/Agentic_RAG_Workshop/requirements.txt (line 10))\n",
            "  Downloading uvloop-0.21.0-cp311-cp311-manylinux_2_17_x86_64.manylinux2014_x86_64.whl.metadata (4.9 kB)\n",
            "Collecting watchfiles>=0.13 (from uvicorn[standard]>=0.18.3->chromadb==1.0.16->-r /content/Agentic_RAG_Workshop/requirements.txt (line 10))\n",
            "  Downloading watchfiles-1.1.0-cp311-cp311-manylinux_2_17_x86_64.manylinux2014_x86_64.whl.metadata (4.9 kB)\n",
            "Requirement already satisfied: websockets>=10.4 in /usr/local/lib/python3.11/dist-packages (from uvicorn[standard]>=0.18.3->chromadb==1.0.16->-r /content/Agentic_RAG_Workshop/requirements.txt (line 10)) (15.0.1)\n",
            "Requirement already satisfied: pycparser in /usr/local/lib/python3.11/dist-packages (from cffi>=1.12->cryptography>=2.5->azure-identity==1.24.0->-r /content/Agentic_RAG_Workshop/requirements.txt (line 11)) (2.22)\n",
            "Requirement already satisfied: cachetools<6.0,>=2.0.0 in /usr/local/lib/python3.11/dist-packages (from google-auth>=1.0.1->kubernetes>=28.1.0->chromadb==1.0.16->-r /content/Agentic_RAG_Workshop/requirements.txt (line 10)) (5.5.2)\n",
            "Requirement already satisfied: pyasn1-modules>=0.2.1 in /usr/local/lib/python3.11/dist-packages (from google-auth>=1.0.1->kubernetes>=28.1.0->chromadb==1.0.16->-r /content/Agentic_RAG_Workshop/requirements.txt (line 10)) (0.4.2)\n",
            "Requirement already satisfied: rsa<5,>=3.1.4 in /usr/local/lib/python3.11/dist-packages (from google-auth>=1.0.1->kubernetes>=28.1.0->chromadb==1.0.16->-r /content/Agentic_RAG_Workshop/requirements.txt (line 10)) (4.9.1)\n",
            "Requirement already satisfied: filelock in /usr/local/lib/python3.11/dist-packages (from huggingface-hub<1.0,>=0.16.4->tokenizers>=0.13.2->chromadb==1.0.16->-r /content/Agentic_RAG_Workshop/requirements.txt (line 10)) (3.18.0)\n",
            "Requirement already satisfied: fsspec>=2023.5.0 in /usr/local/lib/python3.11/dist-packages (from huggingface-hub<1.0,>=0.16.4->tokenizers>=0.13.2->chromadb==1.0.16->-r /content/Agentic_RAG_Workshop/requirements.txt (line 10)) (2025.3.0)\n",
            "Requirement already satisfied: hf-xet<2.0.0,>=1.1.3 in /usr/local/lib/python3.11/dist-packages (from huggingface-hub<1.0,>=0.16.4->tokenizers>=0.13.2->chromadb==1.0.16->-r /content/Agentic_RAG_Workshop/requirements.txt (line 10)) (1.1.7)\n",
            "Requirement already satisfied: zipp>=3.20 in /usr/local/lib/python3.11/dist-packages (from importlib-metadata<8.8.0,>=6.0->opentelemetry-api>=1.2.0->chromadb==1.0.16->-r /content/Agentic_RAG_Workshop/requirements.txt (line 10)) (3.23.0)\n",
            "Requirement already satisfied: jsonpointer>=1.9 in /usr/local/lib/python3.11/dist-packages (from jsonpatch<2.0,>=1.33->langchain-core<1.0.0,>=0.3.68->langchain_openai==0.3.28->-r /content/Agentic_RAG_Workshop/requirements.txt (line 7)) (3.0.0)\n",
            "Requirement already satisfied: mdurl~=0.1 in /usr/local/lib/python3.11/dist-packages (from markdown-it-py>=2.2.0->rich>=10.11.0->chromadb==1.0.16->-r /content/Agentic_RAG_Workshop/requirements.txt (line 10)) (0.1.2)\n",
            "Collecting mypy-extensions>=0.3.0 (from typing-inspect<1,>=0.4.0->dataclasses-json<0.7,>=0.5.7->langchain_community==0.3.27->-r /content/Agentic_RAG_Workshop/requirements.txt (line 9))\n",
            "  Downloading mypy_extensions-1.1.0-py3-none-any.whl.metadata (1.1 kB)\n",
            "Collecting humanfriendly>=9.1 (from coloredlogs->onnxruntime>=1.14.1->chromadb==1.0.16->-r /content/Agentic_RAG_Workshop/requirements.txt (line 10))\n",
            "  Downloading humanfriendly-10.0-py2.py3-none-any.whl.metadata (9.2 kB)\n",
            "Requirement already satisfied: mpmath<1.4,>=1.1.0 in /usr/local/lib/python3.11/dist-packages (from sympy->onnxruntime>=1.14.1->chromadb==1.0.16->-r /content/Agentic_RAG_Workshop/requirements.txt (line 10)) (1.3.0)\n",
            "Requirement already satisfied: pyasn1<0.7.0,>=0.6.1 in /usr/local/lib/python3.11/dist-packages (from pyasn1-modules>=0.2.1->google-auth>=1.0.1->kubernetes>=28.1.0->chromadb==1.0.16->-r /content/Agentic_RAG_Workshop/requirements.txt (line 10)) (0.6.1)\n",
            "Downloading azure_ai_documentintelligence-1.0.2-py3-none-any.whl (106 kB)\n",
            "\u001b[2K   \u001b[90m━━━━━━━━━━━━━━━━━━━━━━━━━━━━━━━━━━━━━━━━\u001b[0m \u001b[32m106.0/106.0 kB\u001b[0m \u001b[31m8.0 MB/s\u001b[0m eta \u001b[36m0:00:00\u001b[0m\n",
            "\u001b[?25hDownloading pathlib-1.0.1-py3-none-any.whl (14 kB)\n",
            "Downloading pymupdf-1.26.3-cp39-abi3-manylinux_2_28_x86_64.whl (24.1 MB)\n",
            "\u001b[2K   \u001b[90m━━━━━━━━━━━━━━━━━━━━━━━━━━━━━━━━━━━━━━━━\u001b[0m \u001b[32m24.1/24.1 MB\u001b[0m \u001b[31m62.9 MB/s\u001b[0m eta \u001b[36m0:00:00\u001b[0m\n",
            "\u001b[?25hDownloading tools-1.0.2-py3-none-any.whl (37 kB)\n",
            "Downloading python_dotenv-1.1.1-py3-none-any.whl (20 kB)\n",
            "Downloading langchain_openai-0.3.28-py3-none-any.whl (70 kB)\n",
            "\u001b[2K   \u001b[90m━━━━━━━━━━━━━━━━━━━━━━━━━━━━━━━━━━━━━━━━\u001b[0m \u001b[32m70.6/70.6 kB\u001b[0m \u001b[31m6.1 MB/s\u001b[0m eta \u001b[36m0:00:00\u001b[0m\n",
            "\u001b[?25hDownloading langchain_community-0.3.27-py3-none-any.whl (2.5 MB)\n",
            "\u001b[2K   \u001b[90m━━━━━━━━━━━━━━━━━━━━━━━━━━━━━━━━━━━━━━━━\u001b[0m \u001b[32m2.5/2.5 MB\u001b[0m \u001b[31m95.6 MB/s\u001b[0m eta \u001b[36m0:00:00\u001b[0m\n",
            "\u001b[?25hDownloading chromadb-1.0.16-cp39-abi3-manylinux_2_17_x86_64.manylinux2014_x86_64.whl (19.6 MB)\n",
            "\u001b[2K   \u001b[90m━━━━━━━━━━━━━━━━━━━━━━━━━━━━━━━━━━━━━━━━\u001b[0m \u001b[32m19.6/19.6 MB\u001b[0m \u001b[31m100.2 MB/s\u001b[0m eta \u001b[36m0:00:00\u001b[0m\n",
            "\u001b[?25hDownloading azure_identity-1.24.0-py3-none-any.whl (187 kB)\n",
            "\u001b[2K   \u001b[90m━━━━━━━━━━━━━━━━━━━━━━━━━━━━━━━━━━━━━━━━\u001b[0m \u001b[32m187.9/187.9 kB\u001b[0m \u001b[31m15.7 MB/s\u001b[0m eta \u001b[36m0:00:00\u001b[0m\n",
            "\u001b[?25hDownloading azure_search_documents-11.5.3-py3-none-any.whl (298 kB)\n",
            "\u001b[2K   \u001b[90m━━━━━━━━━━━━━━━━━━━━━━━━━━━━━━━━━━━━━━━━\u001b[0m \u001b[32m298.8/298.8 kB\u001b[0m \u001b[31m26.5 MB/s\u001b[0m eta \u001b[36m0:00:00\u001b[0m\n",
            "\u001b[?25hDownloading rapidfuzz-3.13.0-cp311-cp311-manylinux_2_17_x86_64.manylinux2014_x86_64.whl (3.1 MB)\n",
            "\u001b[2K   \u001b[90m━━━━━━━━━━━━━━━━━━━━━━━━━━━━━━━━━━━━━━━━\u001b[0m \u001b[32m3.1/3.1 MB\u001b[0m \u001b[31m105.4 MB/s\u001b[0m eta \u001b[36m0:00:00\u001b[0m\n",
            "\u001b[?25hDownloading dotenv-0.9.9-py2.py3-none-any.whl (1.9 kB)\n",
            "Downloading azure_common-1.1.28-py2.py3-none-any.whl (14 kB)\n",
            "Downloading azure_core-1.35.0-py3-none-any.whl (210 kB)\n",
            "\u001b[2K   \u001b[90m━━━━━━━━━━━━━━━━━━━━━━━━━━━━━━━━━━━━━━━━\u001b[0m \u001b[32m210.7/210.7 kB\u001b[0m \u001b[31m14.5 MB/s\u001b[0m eta \u001b[36m0:00:00\u001b[0m\n",
            "\u001b[?25hDownloading bcrypt-4.3.0-cp39-abi3-manylinux_2_34_x86_64.whl (284 kB)\n",
            "\u001b[2K   \u001b[90m━━━━━━━━━━━━━━━━━━━━━━━━━━━━━━━━━━━━━━━━\u001b[0m \u001b[32m284.2/284.2 kB\u001b[0m \u001b[31m23.4 MB/s\u001b[0m eta \u001b[36m0:00:00\u001b[0m\n",
            "\u001b[?25hDownloading dataclasses_json-0.6.7-py3-none-any.whl (28 kB)\n",
            "Downloading httpx_sse-0.4.1-py3-none-any.whl (8.1 kB)\n",
            "Downloading isodate-0.7.2-py3-none-any.whl (22 kB)\n",
            "Downloading kubernetes-33.1.0-py2.py3-none-any.whl (1.9 MB)\n",
            "\u001b[2K   \u001b[90m━━━━━━━━━━━━━━━━━━━━━━━━━━━━━━━━━━━━━━━━\u001b[0m \u001b[32m1.9/1.9 MB\u001b[0m \u001b[31m90.5 MB/s\u001b[0m eta \u001b[36m0:00:00\u001b[0m\n",
            "\u001b[?25hDownloading mmh3-5.2.0-cp311-cp311-manylinux1_x86_64.manylinux_2_28_x86_64.manylinux_2_5_x86_64.whl (103 kB)\n",
            "\u001b[2K   \u001b[90m━━━━━━━━━━━━━━━━━━━━━━━━━━━━━━━━━━━━━━━━\u001b[0m \u001b[32m103.1/103.1 kB\u001b[0m \u001b[31m8.9 MB/s\u001b[0m eta \u001b[36m0:00:00\u001b[0m\n",
            "\u001b[?25hDownloading msal-1.33.0-py3-none-any.whl (116 kB)\n",
            "\u001b[2K   \u001b[90m━━━━━━━━━━━━━━━━━━━━━━━━━━━━━━━━━━━━━━━━\u001b[0m \u001b[32m116.9/116.9 kB\u001b[0m \u001b[31m8.3 MB/s\u001b[0m eta \u001b[36m0:00:00\u001b[0m\n",
            "\u001b[?25hDownloading msal_extensions-1.3.1-py3-none-any.whl (20 kB)\n",
            "Downloading onnxruntime-1.22.1-cp311-cp311-manylinux_2_27_x86_64.manylinux_2_28_x86_64.whl (16.5 MB)\n",
            "\u001b[2K   \u001b[90m━━━━━━━━━━━━━━━━━━━━━━━━━━━━━━━━━━━━━━━━\u001b[0m \u001b[32m16.5/16.5 MB\u001b[0m \u001b[31m121.3 MB/s\u001b[0m eta \u001b[36m0:00:00\u001b[0m\n",
            "\u001b[?25hDownloading opentelemetry_api-1.36.0-py3-none-any.whl (65 kB)\n",
            "\u001b[2K   \u001b[90m━━━━━━━━━━━━━━━━━━━━━━━━━━━━━━━━━━━━━━━━\u001b[0m \u001b[32m65.6/65.6 kB\u001b[0m \u001b[31m5.4 MB/s\u001b[0m eta \u001b[36m0:00:00\u001b[0m\n",
            "\u001b[?25hDownloading opentelemetry_exporter_otlp_proto_grpc-1.36.0-py3-none-any.whl (18 kB)\n",
            "Downloading opentelemetry_exporter_otlp_proto_common-1.36.0-py3-none-any.whl (18 kB)\n",
            "Downloading opentelemetry_proto-1.36.0-py3-none-any.whl (72 kB)\n",
            "\u001b[2K   \u001b[90m━━━━━━━━━━━━━━━━━━━━━━━━━━━━━━━━━━━━━━━━\u001b[0m \u001b[32m72.5/72.5 kB\u001b[0m \u001b[31m6.3 MB/s\u001b[0m eta \u001b[36m0:00:00\u001b[0m\n",
            "\u001b[?25hDownloading opentelemetry_sdk-1.36.0-py3-none-any.whl (119 kB)\n",
            "\u001b[2K   \u001b[90m━━━━━━━━━━━━━━━━━━━━━━━━━━━━━━━━━━━━━━━━\u001b[0m \u001b[32m120.0/120.0 kB\u001b[0m \u001b[31m10.4 MB/s\u001b[0m eta \u001b[36m0:00:00\u001b[0m\n",
            "\u001b[?25hDownloading opentelemetry_semantic_conventions-0.57b0-py3-none-any.whl (201 kB)\n",
            "\u001b[2K   \u001b[90m━━━━━━━━━━━━━━━━━━━━━━━━━━━━━━━━━━━━━━━━\u001b[0m \u001b[32m201.6/201.6 kB\u001b[0m \u001b[31m18.6 MB/s\u001b[0m eta \u001b[36m0:00:00\u001b[0m\n",
            "\u001b[?25hDownloading overrides-7.7.0-py3-none-any.whl (17 kB)\n",
            "Downloading posthog-5.4.0-py3-none-any.whl (105 kB)\n",
            "\u001b[2K   \u001b[90m━━━━━━━━━━━━━━━━━━━━━━━━━━━━━━━━━━━━━━━━\u001b[0m \u001b[32m105.4/105.4 kB\u001b[0m \u001b[31m8.9 MB/s\u001b[0m eta \u001b[36m0:00:00\u001b[0m\n",
            "\u001b[?25hDownloading pybase64-1.4.2-cp311-cp311-manylinux1_x86_64.manylinux2014_x86_64.manylinux_2_17_x86_64.manylinux_2_5_x86_64.whl (71 kB)\n",
            "\u001b[2K   \u001b[90m━━━━━━━━━━━━━━━━━━━━━━━━━━━━━━━━━━━━━━━━\u001b[0m \u001b[32m71.4/71.4 kB\u001b[0m \u001b[31m6.5 MB/s\u001b[0m eta \u001b[36m0:00:00\u001b[0m\n",
            "\u001b[?25hDownloading pydantic_settings-2.10.1-py3-none-any.whl (45 kB)\n",
            "\u001b[2K   \u001b[90m━━━━━━━━━━━━━━━━━━━━━━━━━━━━━━━━━━━━━━━━\u001b[0m \u001b[32m45.2/45.2 kB\u001b[0m \u001b[31m4.1 MB/s\u001b[0m eta \u001b[36m0:00:00\u001b[0m\n",
            "\u001b[?25hDownloading backoff-2.2.1-py3-none-any.whl (15 kB)\n",
            "Downloading durationpy-0.10-py3-none-any.whl (3.9 kB)\n",
            "Downloading httptools-0.6.4-cp311-cp311-manylinux_2_5_x86_64.manylinux1_x86_64.manylinux_2_17_x86_64.manylinux2014_x86_64.whl (459 kB)\n",
            "\u001b[2K   \u001b[90m━━━━━━━━━━━━━━━━━━━━━━━━━━━━━━━━━━━━━━━━\u001b[0m \u001b[32m459.8/459.8 kB\u001b[0m \u001b[31m38.9 MB/s\u001b[0m eta \u001b[36m0:00:00\u001b[0m\n",
            "\u001b[?25hDownloading marshmallow-3.26.1-py3-none-any.whl (50 kB)\n",
            "\u001b[2K   \u001b[90m━━━━━━━━━━━━━━━━━━━━━━━━━━━━━━━━━━━━━━━━\u001b[0m \u001b[32m50.9/50.9 kB\u001b[0m \u001b[31m4.1 MB/s\u001b[0m eta \u001b[36m0:00:00\u001b[0m\n",
            "\u001b[?25hDownloading typing_inspect-0.9.0-py3-none-any.whl (8.8 kB)\n",
            "Downloading uvloop-0.21.0-cp311-cp311-manylinux_2_17_x86_64.manylinux2014_x86_64.whl (4.0 MB)\n",
            "\u001b[2K   \u001b[90m━━━━━━━━━━━━━━━━━━━━━━━━━━━━━━━━━━━━━━━━\u001b[0m \u001b[32m4.0/4.0 MB\u001b[0m \u001b[31m85.0 MB/s\u001b[0m eta \u001b[36m0:00:00\u001b[0m\n",
            "\u001b[?25hDownloading watchfiles-1.1.0-cp311-cp311-manylinux_2_17_x86_64.manylinux2014_x86_64.whl (453 kB)\n",
            "\u001b[2K   \u001b[90m━━━━━━━━━━━━━━━━━━━━━━━━━━━━━━━━━━━━━━━━\u001b[0m \u001b[32m453.1/453.1 kB\u001b[0m \u001b[31m30.0 MB/s\u001b[0m eta \u001b[36m0:00:00\u001b[0m\n",
            "\u001b[?25hDownloading coloredlogs-15.0.1-py2.py3-none-any.whl (46 kB)\n",
            "\u001b[2K   \u001b[90m━━━━━━━━━━━━━━━━━━━━━━━━━━━━━━━━━━━━━━━━\u001b[0m \u001b[32m46.0/46.0 kB\u001b[0m \u001b[31m3.4 MB/s\u001b[0m eta \u001b[36m0:00:00\u001b[0m\n",
            "\u001b[?25hDownloading humanfriendly-10.0-py2.py3-none-any.whl (86 kB)\n",
            "\u001b[2K   \u001b[90m━━━━━━━━━━━━━━━━━━━━━━━━━━━━━━━━━━━━━━━━\u001b[0m \u001b[32m86.8/86.8 kB\u001b[0m \u001b[31m8.1 MB/s\u001b[0m eta \u001b[36m0:00:00\u001b[0m\n",
            "\u001b[?25hDownloading mypy_extensions-1.1.0-py3-none-any.whl (5.0 kB)\n",
            "Building wheels for collected packages: pypika\n",
            "  Building wheel for pypika (pyproject.toml) ... \u001b[?25l\u001b[?25hdone\n",
            "  Created wheel for pypika: filename=pypika-0.48.9-py2.py3-none-any.whl size=53803 sha256=60da8a1f6b83ded13a94e75e2ef7e28320c675f5954b65c36fea0837d5b3650d\n",
            "  Stored in directory: /root/.cache/pip/wheels/a3/01/bd/4c40ceb9d5354160cb186dcc153360f4ab7eb23e2b24daf96d\n",
            "Successfully built pypika\n",
            "Installing collected packages: pypika, pathlib, durationpy, azure-common, uvloop, tools, rapidfuzz, python-dotenv, pymupdf, pybase64, overrides, opentelemetry-proto, mypy-extensions, mmh3, marshmallow, isodate, humanfriendly, httpx-sse, httptools, bcrypt, backoff, watchfiles, typing-inspect, posthog, opentelemetry-exporter-otlp-proto-common, opentelemetry-api, dotenv, coloredlogs, azure-core, pydantic-settings, opentelemetry-semantic-conventions, onnxruntime, kubernetes, dataclasses-json, azure-search-documents, azure-ai-documentintelligence, opentelemetry-sdk, msal, opentelemetry-exporter-otlp-proto-grpc, msal-extensions, langchain_openai, chromadb, azure-identity, langchain_community\n",
            "Successfully installed azure-ai-documentintelligence-1.0.2 azure-common-1.1.28 azure-core-1.35.0 azure-identity-1.24.0 azure-search-documents-11.5.3 backoff-2.2.1 bcrypt-4.3.0 chromadb-1.0.16 coloredlogs-15.0.1 dataclasses-json-0.6.7 dotenv-0.9.9 durationpy-0.10 httptools-0.6.4 httpx-sse-0.4.1 humanfriendly-10.0 isodate-0.7.2 kubernetes-33.1.0 langchain_community-0.3.27 langchain_openai-0.3.28 marshmallow-3.26.1 mmh3-5.2.0 msal-1.33.0 msal-extensions-1.3.1 mypy-extensions-1.1.0 onnxruntime-1.22.1 opentelemetry-api-1.36.0 opentelemetry-exporter-otlp-proto-common-1.36.0 opentelemetry-exporter-otlp-proto-grpc-1.36.0 opentelemetry-proto-1.36.0 opentelemetry-sdk-1.36.0 opentelemetry-semantic-conventions-0.57b0 overrides-7.7.0 pathlib-1.0.1 posthog-5.4.0 pybase64-1.4.2 pydantic-settings-2.10.1 pymupdf-1.26.3 pypika-0.48.9 python-dotenv-1.1.1 rapidfuzz-3.13.0 tools-1.0.2 typing-inspect-0.9.0 uvloop-0.21.0 watchfiles-1.1.0\n"
          ]
        },
        {
          "output_type": "display_data",
          "data": {
            "application/vnd.colab-display-data+json": {
              "pip_warning": {
                "packages": [
                  "pathlib"
                ]
              },
              "id": "24a91653b3fe4637b4039ac4202f0b7c"
            }
          },
          "metadata": {}
        }
      ]
    },
    {
      "cell_type": "markdown",
      "source": [
        "## Load Environment Variables and Initialize Clients\n",
        "Load environment variables containing API keys and endpoint information, and initialize the Azure Document Intelligence and OpenAI clients."
      ],
      "metadata": {
        "id": "KoDf5tbMan4_"
      }
    },
    {
      "cell_type": "code",
      "source": [
        "import os\n",
        "\n",
        "os.chdir(\"/content/Agentic_RAG_Workshop/\")\n",
        "\n",
        "from dotenv import load_dotenv\n",
        "from langchain_openai import ChatOpenAI, OpenAIEmbeddings\n",
        "\n",
        "load_dotenv()\n",
        "\n",
        "llm = ChatOpenAI(\n",
        "    api_key=os.getenv(\"OPENAI_API_KEY\"),\n",
        "    model=\"gpt-4.1\",\n",
        "    temperature=0,\n",
        ")\n",
        "\n",
        "embeddings = OpenAIEmbeddings(\n",
        "    api_key=os.getenv(\"OPENAI_API_KEY\"),\n",
        "    model=\"text-embedding-3-small\"\n",
        ")"
      ],
      "metadata": {
        "id": "pJjZ9dlCqHql"
      },
      "execution_count": 1,
      "outputs": []
    },
    {
      "cell_type": "markdown",
      "source": [
        "## Load Parent Docs"
      ],
      "metadata": {
        "id": "wRYnfMjgBmq1"
      }
    },
    {
      "cell_type": "code",
      "source": [
        "import pickle\n",
        "\n",
        "with open(\"parent_docs_and_ids.pkl\", \"rb\") as f:\n",
        "    parent_data = pickle.load(f)\n",
        "\n",
        "parent_docs = parent_data[\"parent_docs\"]\n",
        "doc_ids = parent_data[\"doc_ids\"]"
      ],
      "metadata": {
        "id": "l5DfU9h7Bn2w"
      },
      "execution_count": 2,
      "outputs": []
    },
    {
      "cell_type": "markdown",
      "source": [
        "## Load Child docs"
      ],
      "metadata": {
        "id": "bFemYykl7-3u"
      }
    },
    {
      "cell_type": "code",
      "source": [
        "from multivector_utils import create_child_documents, generate_summaries, generate_hypothetical_questions\n",
        "\n",
        "id_key = \"doc_id\"\n",
        "\n",
        "child_docs = create_child_documents(parent_docs, doc_ids, id_key)\n",
        "summaries = generate_summaries(parent_docs, llm, id_key, doc_ids)\n",
        "questions = generate_hypothetical_questions(parent_docs, id_key, doc_ids)"
      ],
      "metadata": {
        "id": "C5A-5MJN8C6T"
      },
      "execution_count": 3,
      "outputs": []
    },
    {
      "cell_type": "markdown",
      "source": [
        "## Define VectorStore\n",
        "\n",
        "**Azure AI Search**"
      ],
      "metadata": {
        "id": "-pV5ltmq5zpl"
      }
    },
    {
      "cell_type": "code",
      "source": [
        "from langchain_community.vectorstores.azuresearch import AzureSearch\n",
        "\n",
        "index_name: str = \"agentic-rag-workshop\"\n",
        "search_type: str = \"semantic_hybrid\"\n",
        "\n",
        "vectorstore: AzureSearch = AzureSearch(azure_search_endpoint=os.getenv(\"AZURE_SEARCH_ENDPOINT\"),\n",
        "                                            azure_search_key=os.getenv(\"AZURE_SEARCH_KEY\"),\n",
        "                                            index_name=index_name,\n",
        "                                            search_type=search_type,\n",
        "                                            semantic_configuration_name=\"agentic-rag-semantic-config\",\n",
        "                                            embedding_function=embeddings.embed_query)"
      ],
      "metadata": {
        "id": "eO0inIrm50Ci"
      },
      "execution_count": 11,
      "outputs": []
    },
    {
      "cell_type": "markdown",
      "source": [
        "**Chroma**"
      ],
      "metadata": {
        "id": "xLCrJ6NN8QA4"
      }
    },
    {
      "cell_type": "code",
      "source": [
        "from langchain.vectorstores import Chroma\n",
        "\n",
        "vectorstore = Chroma(\n",
        "    collection_name=\"full_documents\", embedding_function=embeddings\n",
        ")\n",
        "\n",
        "# Add child_docs, sumamries, questions to the vectorstore\n",
        "vectorstore.add_documents(documents=child_docs)\n",
        "vectorstore.add_documents(documents=summaries)\n",
        "vectorstore.add_documents(documents=questions)"
      ],
      "metadata": {
        "colab": {
          "base_uri": "https://localhost:8080/"
        },
        "id": "G2p4mEuQ7mTT",
        "outputId": "38e8ceab-6852-4448-b289-e291919d7232"
      },
      "execution_count": 4,
      "outputs": [
        {
          "output_type": "stream",
          "name": "stderr",
          "text": [
            "/tmp/ipython-input-383506511.py:3: LangChainDeprecationWarning: The class `Chroma` was deprecated in LangChain 0.2.9 and will be removed in 1.0. An updated version of the class exists in the :class:`~langchain-chroma package and should be used instead. To use it run `pip install -U :class:`~langchain-chroma` and import as `from :class:`~langchain_chroma import Chroma``.\n",
            "  vectorstore = Chroma(\n"
          ]
        },
        {
          "output_type": "execute_result",
          "data": {
            "text/plain": [
              "['1ec7aed4-f414-4a39-a606-79ff30045f95',\n",
              " '7a3f5746-94d0-4291-94d9-dbd6be3b03b1',\n",
              " '372792d4-c5cf-4ef9-b99c-86e7e48b427b',\n",
              " '0b238e73-15f4-43bb-9281-0af337aca364',\n",
              " '2f1e611d-01cf-4510-9fb6-9c7299c9068d',\n",
              " '5edf852f-59ff-45a7-9376-2a6a96b85a72',\n",
              " 'e150870b-88df-40e8-b644-dfa663852754',\n",
              " '96df5ac3-36aa-4510-8870-0e632e281901',\n",
              " 'fc8cc7f3-b033-41f8-834c-9d312ea9b32d',\n",
              " 'a78a4ce1-9f5f-464b-b6de-1b21941f349e',\n",
              " 'ac79bcac-0a55-4b9c-8ff7-5ce425551a23',\n",
              " '7a8350d5-4ff6-4496-a537-c26b597059f7',\n",
              " 'd5c3984d-96ce-4e7c-a735-b01ba901df91',\n",
              " '7998413f-0e2d-4994-8850-0c262862f95e',\n",
              " 'ceef0a7e-fe58-40fb-948c-430ec0e4ad55',\n",
              " 'ecb2871a-6886-4c6d-ba5d-ad7bbbef0287',\n",
              " 'ede8f6bb-2db7-4428-9b29-72ce41e9d451',\n",
              " 'b25322b8-42ab-4579-b686-f1e9d719d915',\n",
              " '103426f9-4fa1-4cf2-8ec9-d2cd54956f1c',\n",
              " '08faf9b4-2cb0-46fb-81b6-27b1abf83973',\n",
              " 'c90687d3-5a32-44c5-9d17-7587256f7e99',\n",
              " '8a7d7a15-a655-4b79-b474-43c2379f8f92',\n",
              " 'b3256393-42a5-48ff-8f3b-9e65d538c248',\n",
              " '9069548f-d3a8-41c8-b9fc-b19edc1bf98b',\n",
              " '56a695c5-66e2-4f9d-887e-6d93a26b29cd',\n",
              " 'abae0f13-e6a9-4dcf-9ed0-59fd00280135',\n",
              " 'def1d800-aeb6-45a0-b0ff-8ae9263a71a9',\n",
              " 'aac19242-2cef-4ee7-add6-cf55959d6a36',\n",
              " '1b82eede-bfce-439c-8c73-ac26c32eb579',\n",
              " 'a5dc0149-d63f-4ebb-a2ca-7fa05c8be852',\n",
              " '3c23e923-6e73-4bd2-b191-4555ab9211c1',\n",
              " '0f88a18a-fff7-4135-a570-b14e9c9be4b7',\n",
              " '9d38f6a6-6f09-47c7-a1e5-9fbcdeecbb6b',\n",
              " 'e46294d0-baff-4fab-a1e9-dde18f2f82de',\n",
              " '942a688f-c4f2-4b78-bd34-91459c925b1f',\n",
              " '3dfd0c5f-a508-4b8c-9eaf-61c93c4477ac',\n",
              " 'f61b6127-93df-4204-879c-c4e94c7e5cff',\n",
              " '88b373ba-fd8d-48d3-9aa4-cf12ad1168b4',\n",
              " 'b152fbcd-3a93-49eb-a144-19b34993afa3',\n",
              " '52c78ae2-1cff-41d0-93b0-49a3f0609783',\n",
              " '4ad4cdfb-f3c1-428f-8795-b0cd23ca4918',\n",
              " 'e05c6a3c-be0c-42cd-897c-b7d77fe916a7',\n",
              " '5e5a2633-a6ed-45e2-be01-0b01ea2abbff',\n",
              " '8af5ce65-07fa-481c-b82e-e44fc5e46944',\n",
              " 'f4bcf4a7-7eb1-4595-a1ec-9ca9fb4e3b90',\n",
              " '80ac11e4-1b40-403d-9ad4-afd2ad8d792a',\n",
              " '661eaea7-5d30-4647-8e60-92b343537214',\n",
              " '9d3c8180-dc76-4be2-9e6d-2b4b1fa2f4f7',\n",
              " '0214a834-cb72-4829-9b23-8440e5ca80dd',\n",
              " '39c3760b-699b-487e-845f-4cadd2b59ee8',\n",
              " '82d29ac0-4ce4-4fe6-a859-84027dbc25de',\n",
              " '13a000e0-e254-4099-bd4d-7351f72a65d5',\n",
              " '1d949e73-c47b-4bcc-80ef-883d3b647ba5',\n",
              " '3e070cac-fa2d-42f9-8746-379c3d29fbde',\n",
              " '9f20f4e1-c8d4-4ddc-bff9-0464e595a3ca',\n",
              " '297fb686-9211-499c-b937-5003ebd4efa8',\n",
              " '31d7add6-d3d5-4940-b131-f3fccfed213e',\n",
              " 'd7724f8c-d679-49ae-8730-0905820908c7',\n",
              " '1b1bb870-9bdd-4049-b02c-ce8572067901',\n",
              " '2ef93cdd-faf6-4ab5-8df8-792410dd2e15',\n",
              " '6413fcf3-8772-4af1-8a34-e0b12eaa09b6',\n",
              " '58be2e32-cf3c-4be1-9639-d5a5c50b7afd',\n",
              " '14f627dd-21e8-4211-bf53-30f837f901b3',\n",
              " 'c9eb71bd-7e64-46b5-af6b-80715e9e493b',\n",
              " '014d9307-eeb7-4214-ac35-c9bf798d3a99',\n",
              " 'd5d7ffae-616a-4fae-a49c-608ffb730347',\n",
              " 'cfe7fa62-55c2-4377-80e8-a0a3666a0726',\n",
              " 'db6a2814-5e2b-4115-ba3f-f9b960df94b5',\n",
              " '4c0a9bbd-c6f5-484f-8375-ea137386e60a',\n",
              " '43a2c50e-c8b5-4a47-919f-bf5993996af2',\n",
              " '3c652755-e7f1-4fa6-b332-67440f4b07e4',\n",
              " 'ee6256f0-9cab-4a09-84c1-9e3ef42431d4',\n",
              " '643fa83f-1e07-4538-8962-49f74a7028ac',\n",
              " '5e2a31a9-03e6-4cdc-9d8a-da0149274c86',\n",
              " 'cc1ba688-8a7a-46b5-b435-003455110329',\n",
              " 'e4823163-ca6b-45f0-aab7-051b1d156269',\n",
              " '9e75c878-52aa-43ce-9a65-027362e1ad9c',\n",
              " 'd292cc3e-b38b-461e-8a04-105fc668fc8d',\n",
              " 'd419837e-eefe-4cd8-98af-b8a0d7811f17',\n",
              " '28c7944e-861b-4dbf-9396-dd1415f27a3c',\n",
              " '9f7d7600-efe7-413c-9bf6-2d5410bf78a1',\n",
              " '32041862-9e39-4c26-8b27-243b9377d08b',\n",
              " 'b011ce01-5c78-40d1-8334-a8d47eb6465c',\n",
              " '5c9631cb-ead1-4e2c-869b-3312914346d7',\n",
              " '42326ca4-97fa-49fa-881b-b9612aac63aa',\n",
              " '3e4a7447-0c49-4db8-a2f0-51e23e2cae1b',\n",
              " 'e6fac235-9c2a-456e-92c0-590257b14eb8',\n",
              " '9240dc88-bf23-46d2-9665-73d2924a764d',\n",
              " 'e2e50f3b-e1b2-4469-802f-5d497daa9526',\n",
              " '46b57adf-8c2e-42fe-901d-5779a28ea510',\n",
              " '2b49ff0b-be79-4d9c-ac55-1042a6016cda',\n",
              " '68292928-ea9e-4366-9729-83cf0e5d0e1c',\n",
              " 'd142821b-a00c-4e85-ae25-6dd3ea13f8b6',\n",
              " '8353d535-1211-447a-9528-07908d5b0d5d',\n",
              " '3d78b36d-b1ba-4da4-a5e0-f676398ba481',\n",
              " '9549dbc2-289d-477e-bfd6-de3aee48e5ae',\n",
              " '1f717744-13bc-4dc8-bf5b-3618c3aefe83',\n",
              " '795fb10c-1faf-45a7-95d9-4233b3e2a8f1',\n",
              " 'd88277f2-afcd-4fdc-8189-ea432f1daf26',\n",
              " 'cb146702-57d4-413a-b50d-a973e56bb5aa',\n",
              " '77caaf09-6b35-4ce9-8a06-69137119f74c',\n",
              " '1f8bd56c-47ea-464f-ba4c-a40d480535a4',\n",
              " '85aff352-886e-41aa-9c22-dd4247300aae',\n",
              " '754a22b4-ebf9-4d48-841b-4ec2601c8607',\n",
              " 'eedb72a1-30ff-414e-989f-1ff35f5608ce',\n",
              " '213508de-57ca-4a66-b171-b80d0652d1a7',\n",
              " '45472040-42a3-4741-abc7-230a614548af',\n",
              " '3bdfb914-fcd8-4163-9da0-f550e2a3381c',\n",
              " 'edd31f97-aaf1-4b32-820a-b150822757a2',\n",
              " '58b11bfb-d616-4bac-847c-35f02eaa3d79',\n",
              " '57a46c61-661b-43ba-aac5-2f9cda530b4f',\n",
              " '902a3651-eca2-47d2-ad35-1257c585fd0a',\n",
              " 'a9198678-b9cc-40f5-914a-241d86b297ac',\n",
              " '0013525c-bc9e-4720-aed3-1654fac03f60',\n",
              " '1fb8fa76-3e97-43a0-b00e-99c04b40acf2',\n",
              " '55209773-59c7-4d51-ba52-ddf23563818e',\n",
              " '561e8792-9d6b-4871-b730-0d89eb602202',\n",
              " '75d37e7b-86cb-47cc-9c1b-be640b04e2ec',\n",
              " 'a0d55ee0-4e81-4618-97ff-f5a12fee7d19',\n",
              " 'f6684072-193d-48ed-ae94-a46564cdb736',\n",
              " '91bbab95-e431-44cc-95ab-5715af9ac77e',\n",
              " '681a90af-c513-4b26-a1ea-05bfd4da036b',\n",
              " '5b5fe337-a04c-4157-9b00-ab9188376f0e',\n",
              " '937261e9-a958-4f50-af47-cc80d745ad4f',\n",
              " '9294aa2f-6895-4499-bf84-b89788e24d18',\n",
              " '64ab30fb-306e-4cf9-b81a-d03139042f23',\n",
              " '0020816a-f895-48c5-8813-8419b22e1e55',\n",
              " '7c6aed47-0c5c-4f25-86f1-0604e189e2cc',\n",
              " '4eff9553-b5c9-4523-886b-1368e7b2c85e',\n",
              " '90bd7efa-e7b4-4c4b-b54d-dc9517598342',\n",
              " '6e3cd87d-2de4-4865-944d-1226e02b58e6',\n",
              " 'a2a79036-2842-4685-886d-2b3dad447563',\n",
              " 'fd032915-5e36-4480-9861-a76c0ac66b49',\n",
              " 'a789b0f5-47c7-4952-8602-818414d06d71',\n",
              " '41050d21-1786-4771-a194-e91d20a5d19f',\n",
              " '7b9062d7-02c5-49c2-9e8a-703db8fdc2f9',\n",
              " '5533ffa7-bf3e-46cf-8a6a-45ca0eac431b',\n",
              " 'cbd15f94-500c-4705-b9db-d0b8f64fa5f0',\n",
              " 'd2cad4f3-c968-4741-a6d7-ca176f4d49b1',\n",
              " '5dd7278d-211a-48fc-8fb7-d53e2b2fccfa',\n",
              " '5cb4067e-17fe-4be5-8dc7-1ecb3cc1e00c',\n",
              " 'cb8a3b1f-49b1-47c0-bf73-ecb38a1e7562',\n",
              " '31d2d93c-94f2-49d0-8ca8-01b7bd07175c',\n",
              " '091ab219-0d1f-413a-b89f-ce0b5a6a4598',\n",
              " '3cff916c-2ca4-478b-afb9-8940873a5895',\n",
              " 'd9ec17d0-f323-4e85-82e7-41ddc2d75f15',\n",
              " '05107f00-c1dc-4585-a44d-c91108467bf6',\n",
              " '089de791-5403-4758-b8f6-ff031b45173f',\n",
              " '6ab46053-528b-466b-aa58-85d393a7b7e7',\n",
              " 'd837f9f1-0e0a-4809-b898-de64ec4a8515',\n",
              " '0088636d-827c-4383-9190-e5e603538d06',\n",
              " 'db0a156f-9e14-4733-abbd-46da02fcf267',\n",
              " '084e0a1b-6ba5-4868-8a15-0dc7c072a940',\n",
              " '3286ca82-b7fe-494b-b115-7cfbc16e1b32',\n",
              " '63076add-a4f0-46e6-b770-295d4a0f3671',\n",
              " '492754d3-0a18-433a-988a-c2488494ac38',\n",
              " '497c7fde-33a1-40a1-bef5-4c1a04bc0682',\n",
              " 'd8157a55-11c2-4b28-a73e-aa28084943f7',\n",
              " '35603ecc-bc74-43cf-b064-7feb84d96bb4',\n",
              " '2833616e-b265-4cc5-be27-92dbfbaab9c2',\n",
              " '5344314d-80be-4eda-bd59-449cffdb3cf2',\n",
              " 'be93fd73-3db5-433b-a599-092106cc6cec',\n",
              " '39f7fc02-8b2b-471f-ba8f-8b7de8509284',\n",
              " 'd053882a-7043-4c7c-bfe2-2c8761574d22',\n",
              " '159857c4-427c-4488-9d9e-60159b688b62',\n",
              " 'bcd8699b-8deb-47e1-bd6c-822870e561cb',\n",
              " '666f1b21-91f4-4bd3-bf35-8494f5c3ff23',\n",
              " 'ee662d44-e2e6-4236-b139-6dffbc33e473',\n",
              " 'e00a3687-8cd0-4d1f-b205-e6087728b8eb',\n",
              " 'e822da86-7c7b-4c3d-92dd-c724d18532e6',\n",
              " 'b35c7deb-df94-440e-91a9-9507998916a5',\n",
              " 'e0bfc6e6-fc8f-4c44-8c3d-5c8cf1b72dcd',\n",
              " '723d9e55-59dd-4ea8-b1af-14e7c545414a',\n",
              " '31b1100b-2b7e-4f05-96f9-fbd603e53d02',\n",
              " '2a8adb23-9dfe-44bb-938f-ead8f6812fdd',\n",
              " 'f26e1d3a-6452-43e2-af57-f37fcb2d91aa',\n",
              " 'f195f553-5d76-4bac-852e-17a04631b38d']"
            ]
          },
          "metadata": {},
          "execution_count": 4
        }
      ]
    },
    {
      "cell_type": "code",
      "source": [
        "vectorstore.similarity_search(\"maternity_benefits\")"
      ],
      "metadata": {
        "colab": {
          "base_uri": "https://localhost:8080/"
        },
        "id": "ktOOVGIU8lOx",
        "outputId": "4da6c8be-ba42-4ee7-eb94-db3fa5a43a08"
      },
      "execution_count": 5,
      "outputs": [
        {
          "output_type": "execute_result",
          "data": {
            "text/plain": [
              "[Document(metadata={'source_type': 'summary', 'doc_id': '25'}, page_content='**Summary of Maternity Benefits:**\\n\\n- **Eligibility:** Maternity benefits are available only for in-patient hospitalizations in India. Employees with more than two living children are not eligible. Expenses for voluntary medical termination within the first 12 weeks, infertility treatment, and sterilization are not covered.\\n- **Coverage Details:**\\n  - Maximum benefit: INR 75,000 for normal delivery; INR 1,00,000 for C-section (within the sum insured limit).\\n  - 9-month waiting period is waived.\\n  - Pre- and post-natal expenses are covered up to INR 5,000, in addition to the maternity limit.\\n  - Newborns are covered from day 1, provided HR is informed within 15 days of birth.\\n- **Important:** Claims must be submitted within 30 days; inform HR immediately about newborn coverage to ensure eligibility and avoid claim denial.'),\n",
              " Document(metadata={'source_type': 'Children', 'parent_id': '25', 'Header_2': 'Your Plan Details Maternity Benefits', 'source': 'Insurance Policy', 'page_number': 11, 'Header_1': 'Employee Benefits Manual 2023-24 Novartis Group', 'doc_id': '25', 'custom_metadata': 'Your Plan Details Maternity Benefits'}, page_content='##Your Plan Details Maternity Benefits  \\n· Maternity benefits are admissible only if the expenses are incurred in Hospital / Nursing Home as in-patients in India.\\n· Those Insured Persons who already have two or more living children will not be eligible for this benefit.\\n· Expenses incurred in connection with voluntary medical termination of pregnancy during the first 12 weeks from the date\\nof conception are not covered. Infertility Treatment and sterilization are excluded from the policy.'),\n",
              " Document(metadata={'Header_1': 'Employee Benefits Manual 2023-24 Novartis Group', 'parent_id': '25', 'doc_id': '25', 'page_number': 11, 'custom_metadata': 'Your Plan Details Maternity Benefits', 'Header_2': 'Your Plan Details Maternity Benefits', 'source': 'Insurance Policy', 'source_type': 'Children', 'Header 3': 'The maternity benefit under your Group Medical Plan'}, page_content='<table>\\n<tr>\\n<td>Maximum Benefit</td>\\n<td>INR 75,000 for Normal &amp; INR 1 Lac (New) for C - Section within Sum Insured Limit</td>\\n</tr>\\n<tr>\\n<td>9-months waiting period</td>\\n<td>Waived off</td>\\n</tr>\\n<tr>\\n<td>Pre-Post Natal expenses</td>\\n<td>Covered up to INR 5,000 over and above the maternity limit</td>\\n</tr>\\n<tr>\\n<td>Newborn baby covered from day 1</td>\\n<td>Covered from day 1, subject to intimation to HR within 15 days from date of birth</td>\\n</tr>\\n</table>\\nIMPORTANT :\\nFor maternity reimbursements and employees on subsequent maternity leave, please do not wait till you have returned\\nback to office to submit a claim as it will cross the claim submission within 30 days to avoid denial of claim. Please also\\nimmediately inform your HR about the new baby coverage as your dependent as A subsequent complication may be A\\npossibility and intimation is mandatory prior to coverage\\n<figure>\\n<!-- PageFooter=\"AON\" -->\\n</figure>\\n<!-- PageFooter=\"Novartis Group-Employee Benefits Manual 2023-24\" -->\\n<!-- PageNumber=\"11\" -->\\n<!-- PageBreak -->'),\n",
              " Document(metadata={'doc_id': '25'}, page_content='What are the limitations and exclusions of the maternity benefits provided in the Group Medical Plan according to the document?')]"
            ]
          },
          "metadata": {},
          "execution_count": 5
        }
      ]
    },
    {
      "cell_type": "markdown",
      "source": [
        "## Create MultiVectorRetriver"
      ],
      "metadata": {
        "id": "bLmnCY-W5i7K"
      }
    },
    {
      "cell_type": "code",
      "source": [
        "from multivector_utils import create_MVR\n",
        "\n",
        "retriever = create_MVR(parent_docs, doc_ids, vectorstore)\n",
        "retriever.invoke(\"maternity_benefits\")"
      ],
      "metadata": {
        "colab": {
          "base_uri": "https://localhost:8080/"
        },
        "id": "V0c143G943OP",
        "outputId": "b3218630-6f9e-49cc-9217-a46dadba7383"
      },
      "execution_count": 7,
      "outputs": [
        {
          "output_type": "execute_result",
          "data": {
            "text/plain": [
              "[Document(metadata={'Header_1': 'Employee Benefits Manual 2023-24 Novartis Group', 'Header_2': 'Your Plan Details Maternity Benefits', 'page_number': 11, 'custom_metadata': 'Your Plan Details Maternity Benefits', 'source': 'Insurance Policy'}, page_content='##Your Plan Details Maternity Benefits\\n\\n · Maternity benefits are admissible only if the expenses are incurred in Hospital / Nursing Home as in-patients in India.  \\n· Those Insured Persons who already have two or more living children will not be eligible for this benefit.  \\n· Expenses incurred in connection with voluntary medical termination of pregnancy during the first 12 weeks from the date\\nof conception are not covered. Infertility Treatment and sterilization are excluded from the policy.  \\n### The maternity benefit under your Group Medical Plan  \\n<table>\\n<tr>\\n<td>Maximum Benefit</td>\\n<td>INR 75,000 for Normal &amp; INR 1 Lac (New) for C - Section within Sum Insured Limit</td>\\n</tr>\\n<tr>\\n<td>9-months waiting period</td>\\n<td>Waived off</td>\\n</tr>\\n<tr>\\n<td>Pre-Post Natal expenses</td>\\n<td>Covered up to INR 5,000 over and above the maternity limit</td>\\n</tr>\\n<tr>\\n<td>Newborn baby covered from day 1</td>\\n<td>Covered from day 1, subject to intimation to HR within 15 days from date of birth</td>\\n</tr>\\n</table>  \\nIMPORTANT :  \\nFor maternity reimbursements and employees on subsequent maternity leave, please do not wait till you have returned\\nback to office to submit a claim as it will cross the claim submission within 30 days to avoid denial of claim. Please also\\nimmediately inform your HR about the new baby coverage as your dependent as A subsequent complication may be A\\npossibility and intimation is mandatory prior to coverage  \\n<figure>  \\n<!-- PageFooter=\"AON\" -->  \\n</figure>  \\n<!-- PageFooter=\"Novartis Group-Employee Benefits Manual 2023-24\" -->\\n<!-- PageNumber=\"11\" -->\\n<!-- PageBreak -->')]"
            ]
          },
          "metadata": {},
          "execution_count": 7
        }
      ]
    },
    {
      "cell_type": "markdown",
      "source": [
        "## Traditional RAG"
      ],
      "metadata": {
        "id": "lwX6L52K-Kno"
      }
    },
    {
      "cell_type": "markdown",
      "source": [
        "### Define Prompt"
      ],
      "metadata": {
        "id": "3yyge56K-Zdr"
      }
    },
    {
      "cell_type": "code",
      "source": [
        "from langchain.prompts import ChatPromptTemplate\n",
        "\n",
        "template = \"\"\"You are an assistant for question-answering tasks.\n",
        "Use the following pieces of retrieved context to answer the question.\n",
        "If you don't know the answer, just say that you don't know.\n",
        "Use three sentences maximum and keep the answer concise.\n",
        "Avoid using generic phrases like \"Provide context\" or \"as per context.\n",
        "\n",
        "Question: {input}\n",
        "\n",
        "Context: {context}\n",
        "\n",
        "Answer:\n",
        "\"\"\"\n",
        "prompt = ChatPromptTemplate.from_template(template)"
      ],
      "metadata": {
        "id": "DmVf3EUu-MXE"
      },
      "execution_count": 8,
      "outputs": []
    },
    {
      "cell_type": "markdown",
      "source": [
        "### Create Simple RAG Chain"
      ],
      "metadata": {
        "id": "yaE415bf-cjq"
      }
    },
    {
      "cell_type": "code",
      "source": [
        "from langchain.chains import create_retrieval_chain\n",
        "from langchain.chains.combine_documents import create_stuff_documents_chain\n",
        "\n",
        "# Create a chain to combine documents\n",
        "combine_docs_chain = create_stuff_documents_chain(llm, prompt)\n",
        "\n",
        "# Create a retrieval chain\n",
        "rag_chain = create_retrieval_chain(retriever, combine_docs_chain)"
      ],
      "metadata": {
        "id": "gITGfuvB-TcY"
      },
      "execution_count": 9,
      "outputs": []
    },
    {
      "cell_type": "markdown",
      "source": [
        "### Test Q&A"
      ],
      "metadata": {
        "id": "-F8KBqgv-gnR"
      }
    },
    {
      "cell_type": "code",
      "source": [
        "from IPython.display import Markdown\n",
        "\n",
        "question = \"I am planning to adopt a kid. How many leaves can I avail and What are the Insurance benefits I can get?\"\n",
        "response = rag_chain.invoke({\"input\": question})\n",
        "\n",
        "Markdown(response[\"answer\"])"
      ],
      "metadata": {
        "colab": {
          "base_uri": "https://localhost:8080/",
          "height": 81
        },
        "id": "bITz4yUS-XlH",
        "outputId": "2ae3c197-6f2b-4b41-fb00-f3e345a9355d"
      },
      "execution_count": 10,
      "outputs": [
        {
          "output_type": "execute_result",
          "data": {
            "text/plain": [
              "<IPython.core.display.Markdown object>"
            ],
            "text/markdown": "You are eligible for 26 weeks of parental leave following the adoption of a child, which must be availed within one year of the adoption. For insurance benefits, you can enroll your adopted child as a dependent within 30 days of adoption, making them eligible for coverage under your group medical plan from day 1. The plan covers hospitalization, pre-existing diseases, and day care procedures, among other benefits."
          },
          "metadata": {},
          "execution_count": 10
        }
      ]
    },
    {
      "cell_type": "code",
      "source": [],
      "metadata": {
        "id": "uIyW7UWu-v1k"
      },
      "execution_count": null,
      "outputs": []
    }
  ]
}