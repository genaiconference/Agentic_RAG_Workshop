{
 "cells": [
  {
   "metadata": {},
   "cell_type": "markdown",
   "source": [
    "## From Tables to Graphs: Data Ingestion into Neo4j with Cypher\n",
    "\n",
    "### A hands-on walkthrough for converting tabular data into a connected graph model using Neo4j and Cypher.\n"
   ]
  },
  {
   "metadata": {},
   "cell_type": "markdown",
   "source": [
    "## Introduction\n",
    "\n",
    "Graphs are everywhere — from social networks and supply chains to biological pathways and knowledge graphs. \n",
    "But real-world datasets often start in tabular form (CSV, Excel), and to unleash the power of graph analytics, \n",
    "we need to model and ingest this data into a graph database.\n",
    "\n",
    "In this notebook, we'll:\n",
    "1. Load tabular data into Dataframe and cleaning\n",
    "2. Neo4J Setup & Environment\n",
    "3. Design a graph schema.\n",
    "4. Ingest data into Neo4j using Cypher queries.\n",
    "5. Run queries to validate our ingestion.\n",
    "6. Create Vector Index on Graph DB\n",
    "\n",
    "**Tools:**\n",
    "- **Neo4j**: A leading graph database\n",
    "- **pandas**: For reading and transforming tabular data\n",
    "- **OpenAI Embeddings**: For creating entity embeddings"
   ]
  },
  {
   "metadata": {},
   "cell_type": "markdown",
   "source": "### 1. Load tabular data into Dataframe and cleaning"
  },
  {
   "metadata": {
    "ExecuteTime": {
     "end_time": "2025-08-13T04:52:47.720191Z",
     "start_time": "2025-08-13T04:52:47.712192Z"
    }
   },
   "cell_type": "code",
   "source": "import pandas as pd",
   "outputs": [],
   "execution_count": 3
  },
  {
   "cell_type": "code",
   "metadata": {
    "ExecuteTime": {
     "end_time": "2025-08-13T04:52:49.928339Z",
     "start_time": "2025-08-13T04:52:48.450518Z"
    }
   },
   "source": [
    "adonis_df = pd.read_excel('data/FINANCE_REPORTING_PROCESS_MAPS.xlsx')\n",
    "adonis_df.shape"
   ],
   "outputs": [
    {
     "data": {
      "text/plain": [
       "(3377, 16)"
      ]
     },
     "execution_count": 4,
     "metadata": {},
     "output_type": "execute_result"
    }
   ],
   "execution_count": 4
  },
  {
   "cell_type": "code",
   "metadata": {
    "ExecuteTime": {
     "end_time": "2025-08-13T04:53:07.969091Z",
     "start_time": "2025-08-13T04:53:07.956015Z"
    }
   },
   "source": "adonis_df.head()",
   "outputs": [
    {
     "data": {
      "text/plain": [
       "           Step Type                                          Step Name  \\\n",
       "0    Cross-reference                Not Allocated Service Charges(NASC)   \n",
       "1               Task  Select internal orders/WBS elements variant to...   \n",
       "2         Subprocess  Balance Sheet Reconciliations (non-Blackline e...   \n",
       "3  Exclusive Gateway                   Is  new service type  requested?   \n",
       "4               Task  Record on FCRS BS31 schedule in accordance wit...   \n",
       "\n",
       "                             Model (Process Diagram)  Step (Order)  \\\n",
       "0                   1.10.1.1 Intercompany Accounting           NaN   \n",
       "1  1.48.16, Settlement of Internal orders/ WBS el...           3.0   \n",
       "2            1.46.11, Intercompany Transfer of Goods          32.0   \n",
       "3                       1.46.12, Manage Service Type           6.0   \n",
       "4  1.48.72, Employees Shares Purchase Program (ap...          19.0   \n",
       "\n",
       "                                         Description Task Type  \\\n",
       "0                                                NaN       NaN   \n",
       "1  All of the settlement requests must be reviewe...    Manual   \n",
       "2                                                NaN       NaN   \n",
       "3                                                NaN       NaN   \n",
       "4  Record on FCRS BS31 schedule in accordance wit...    Manual   \n",
       "\n",
       "  Responsible for execution (Role) Referenced Event  \\\n",
       "0                              NaN              NaN   \n",
       "1                   R2R Specialist              NaN   \n",
       "2                              NaN              NaN   \n",
       "3                              NaN              NaN   \n",
       "4                  R2R Specialist               NaN   \n",
       "\n",
       "                         Cross-reference  \\\n",
       "0  1.46.9, Not Allocated Service Charges   \n",
       "1                                    NaN   \n",
       "2                                    NaN   \n",
       "3                                    NaN   \n",
       "4                                    NaN   \n",
       "\n",
       "                               Referenced Subprocess  \\\n",
       "0                                                NaN   \n",
       "1                                                NaN   \n",
       "2  1.48.13 , Balance Sheet Reconciliations  (non-...   \n",
       "3                                                NaN   \n",
       "4                                                NaN   \n",
       "\n",
       "                Process Area              Sub Process Area  \\\n",
       "0          R2R Landing Pages                           NaN   \n",
       "1  GL Management & Reporting       Manage Period End Close   \n",
       "2    Intercompany Accounting  Process Intercompany Invoice   \n",
       "3    Intercompany Accounting     Manage Intercompany Setup   \n",
       "4              HR Accounting      Share Based Compensation   \n",
       "\n",
       "  Implemented Controls (NFCM Controls) Frequency of control execution  \\\n",
       "0                                  NaN                            NaN   \n",
       "1                                  NaN                            NaN   \n",
       "2                                  NaN                            NaN   \n",
       "3                                  NaN                            NaN   \n",
       "4                                  NaN                            NaN   \n",
       "\n",
       "  Implemented Controls (NFCM Controls) - Description  \\\n",
       "0                                                NaN   \n",
       "1                                                NaN   \n",
       "2                                                NaN   \n",
       "3                                                NaN   \n",
       "4                                                NaN   \n",
       "\n",
       "  Implemented Controls (NFCM Controls) - Default Relevance  \n",
       "0                                                NaN        \n",
       "1                                                NaN        \n",
       "2                                                NaN        \n",
       "3                                                NaN        \n",
       "4                                                NaN        "
      ],
      "text/html": [
       "<div>\n",
       "<style scoped>\n",
       "    .dataframe tbody tr th:only-of-type {\n",
       "        vertical-align: middle;\n",
       "    }\n",
       "\n",
       "    .dataframe tbody tr th {\n",
       "        vertical-align: top;\n",
       "    }\n",
       "\n",
       "    .dataframe thead th {\n",
       "        text-align: right;\n",
       "    }\n",
       "</style>\n",
       "<table border=\"1\" class=\"dataframe\">\n",
       "  <thead>\n",
       "    <tr style=\"text-align: right;\">\n",
       "      <th></th>\n",
       "      <th>Step Type</th>\n",
       "      <th>Step Name</th>\n",
       "      <th>Model (Process Diagram)</th>\n",
       "      <th>Step (Order)</th>\n",
       "      <th>Description</th>\n",
       "      <th>Task Type</th>\n",
       "      <th>Responsible for execution (Role)</th>\n",
       "      <th>Referenced Event</th>\n",
       "      <th>Cross-reference</th>\n",
       "      <th>Referenced Subprocess</th>\n",
       "      <th>Process Area</th>\n",
       "      <th>Sub Process Area</th>\n",
       "      <th>Implemented Controls (NFCM Controls)</th>\n",
       "      <th>Frequency of control execution</th>\n",
       "      <th>Implemented Controls (NFCM Controls) - Description</th>\n",
       "      <th>Implemented Controls (NFCM Controls) - Default Relevance</th>\n",
       "    </tr>\n",
       "  </thead>\n",
       "  <tbody>\n",
       "    <tr>\n",
       "      <th>0</th>\n",
       "      <td>Cross-reference</td>\n",
       "      <td>Not Allocated Service Charges(NASC)</td>\n",
       "      <td>1.10.1.1 Intercompany Accounting</td>\n",
       "      <td>NaN</td>\n",
       "      <td>NaN</td>\n",
       "      <td>NaN</td>\n",
       "      <td>NaN</td>\n",
       "      <td>NaN</td>\n",
       "      <td>1.46.9, Not Allocated Service Charges</td>\n",
       "      <td>NaN</td>\n",
       "      <td>R2R Landing Pages</td>\n",
       "      <td>NaN</td>\n",
       "      <td>NaN</td>\n",
       "      <td>NaN</td>\n",
       "      <td>NaN</td>\n",
       "      <td>NaN</td>\n",
       "    </tr>\n",
       "    <tr>\n",
       "      <th>1</th>\n",
       "      <td>Task</td>\n",
       "      <td>Select internal orders/WBS elements variant to...</td>\n",
       "      <td>1.48.16, Settlement of Internal orders/ WBS el...</td>\n",
       "      <td>3.0</td>\n",
       "      <td>All of the settlement requests must be reviewe...</td>\n",
       "      <td>Manual</td>\n",
       "      <td>R2R Specialist</td>\n",
       "      <td>NaN</td>\n",
       "      <td>NaN</td>\n",
       "      <td>NaN</td>\n",
       "      <td>GL Management &amp; Reporting</td>\n",
       "      <td>Manage Period End Close</td>\n",
       "      <td>NaN</td>\n",
       "      <td>NaN</td>\n",
       "      <td>NaN</td>\n",
       "      <td>NaN</td>\n",
       "    </tr>\n",
       "    <tr>\n",
       "      <th>2</th>\n",
       "      <td>Subprocess</td>\n",
       "      <td>Balance Sheet Reconciliations (non-Blackline e...</td>\n",
       "      <td>1.46.11, Intercompany Transfer of Goods</td>\n",
       "      <td>32.0</td>\n",
       "      <td>NaN</td>\n",
       "      <td>NaN</td>\n",
       "      <td>NaN</td>\n",
       "      <td>NaN</td>\n",
       "      <td>NaN</td>\n",
       "      <td>1.48.13 , Balance Sheet Reconciliations  (non-...</td>\n",
       "      <td>Intercompany Accounting</td>\n",
       "      <td>Process Intercompany Invoice</td>\n",
       "      <td>NaN</td>\n",
       "      <td>NaN</td>\n",
       "      <td>NaN</td>\n",
       "      <td>NaN</td>\n",
       "    </tr>\n",
       "    <tr>\n",
       "      <th>3</th>\n",
       "      <td>Exclusive Gateway</td>\n",
       "      <td>Is  new service type  requested?</td>\n",
       "      <td>1.46.12, Manage Service Type</td>\n",
       "      <td>6.0</td>\n",
       "      <td>NaN</td>\n",
       "      <td>NaN</td>\n",
       "      <td>NaN</td>\n",
       "      <td>NaN</td>\n",
       "      <td>NaN</td>\n",
       "      <td>NaN</td>\n",
       "      <td>Intercompany Accounting</td>\n",
       "      <td>Manage Intercompany Setup</td>\n",
       "      <td>NaN</td>\n",
       "      <td>NaN</td>\n",
       "      <td>NaN</td>\n",
       "      <td>NaN</td>\n",
       "    </tr>\n",
       "    <tr>\n",
       "      <th>4</th>\n",
       "      <td>Task</td>\n",
       "      <td>Record on FCRS BS31 schedule in accordance wit...</td>\n",
       "      <td>1.48.72, Employees Shares Purchase Program (ap...</td>\n",
       "      <td>19.0</td>\n",
       "      <td>Record on FCRS BS31 schedule in accordance wit...</td>\n",
       "      <td>Manual</td>\n",
       "      <td>R2R Specialist</td>\n",
       "      <td>NaN</td>\n",
       "      <td>NaN</td>\n",
       "      <td>NaN</td>\n",
       "      <td>HR Accounting</td>\n",
       "      <td>Share Based Compensation</td>\n",
       "      <td>NaN</td>\n",
       "      <td>NaN</td>\n",
       "      <td>NaN</td>\n",
       "      <td>NaN</td>\n",
       "    </tr>\n",
       "  </tbody>\n",
       "</table>\n",
       "</div>"
      ]
     },
     "execution_count": 6,
     "metadata": {},
     "output_type": "execute_result"
    }
   ],
   "execution_count": 6
  },
  {
   "metadata": {
    "ExecuteTime": {
     "end_time": "2025-08-13T04:53:09.754817Z",
     "start_time": "2025-08-13T04:53:09.743157Z"
    }
   },
   "cell_type": "code",
   "source": "adonis_df.isnull().sum()",
   "outputs": [
    {
     "data": {
      "text/plain": [
       "Step Type                                                      0\n",
       "Step Name                                                      0\n",
       "Model (Process Diagram)                                        0\n",
       "Step (Order)                                                1195\n",
       "Description                                                 2687\n",
       "Task Type                                                   2269\n",
       "Responsible for execution (Role)                            2323\n",
       "Referenced Event                                            3252\n",
       "Cross-reference                                             2681\n",
       "Referenced Subprocess                                       3268\n",
       "Process Area                                                   4\n",
       "Sub Process Area                                            1169\n",
       "Implemented Controls (NFCM Controls)                        3263\n",
       "Frequency of control execution                              3272\n",
       "Implemented Controls (NFCM Controls) - Description          3272\n",
       "Implemented Controls (NFCM Controls) - Default Relevance    3272\n",
       "dtype: int64"
      ]
     },
     "execution_count": 7,
     "metadata": {},
     "output_type": "execute_result"
    }
   ],
   "execution_count": 7
  },
  {
   "metadata": {
    "ExecuteTime": {
     "end_time": "2025-08-13T04:53:11.660783Z",
     "start_time": "2025-08-13T04:53:11.649420Z"
    }
   },
   "cell_type": "code",
   "source": [
    "adonis_df = adonis_df.replace({pd.NA: \"\"})\n",
    "adonis_df[\"Step (Order)\"].fillna(0, inplace=True)"
   ],
   "outputs": [
    {
     "name": "stderr",
     "output_type": "stream",
     "text": [
      "C:\\Users\\NALABSR1\\AppData\\Local\\Temp\\ipykernel_34364\\632813227.py:2: FutureWarning: A value is trying to be set on a copy of a DataFrame or Series through chained assignment using an inplace method.\n",
      "The behavior will change in pandas 3.0. This inplace method will never work because the intermediate object on which we are setting values always behaves as a copy.\n",
      "\n",
      "For example, when doing 'df[col].method(value, inplace=True)', try using 'df.method({col: value}, inplace=True)' or df[col] = df[col].method(value) instead, to perform the operation inplace on the original object.\n",
      "\n",
      "\n",
      "  adonis_df[\"Step (Order)\"].fillna(0, inplace=True)\n"
     ]
    }
   ],
   "execution_count": 8
  },
  {
   "metadata": {
    "ExecuteTime": {
     "end_time": "2025-08-13T04:53:13.541859Z",
     "start_time": "2025-08-13T04:53:13.531079Z"
    }
   },
   "cell_type": "code",
   "source": "adonis_df.isnull().sum()",
   "outputs": [
    {
     "data": {
      "text/plain": [
       "Step Type                                                   0\n",
       "Step Name                                                   0\n",
       "Model (Process Diagram)                                     0\n",
       "Step (Order)                                                0\n",
       "Description                                                 0\n",
       "Task Type                                                   0\n",
       "Responsible for execution (Role)                            0\n",
       "Referenced Event                                            0\n",
       "Cross-reference                                             0\n",
       "Referenced Subprocess                                       0\n",
       "Process Area                                                0\n",
       "Sub Process Area                                            0\n",
       "Implemented Controls (NFCM Controls)                        0\n",
       "Frequency of control execution                              0\n",
       "Implemented Controls (NFCM Controls) - Description          0\n",
       "Implemented Controls (NFCM Controls) - Default Relevance    0\n",
       "dtype: int64"
      ]
     },
     "execution_count": 9,
     "metadata": {},
     "output_type": "execute_result"
    }
   ],
   "execution_count": 9
  },
  {
   "metadata": {
    "ExecuteTime": {
     "end_time": "2025-08-13T04:53:27.764176Z",
     "start_time": "2025-08-13T04:53:27.756863Z"
    }
   },
   "cell_type": "code",
   "source": "adonis_df.columns.to_list()",
   "outputs": [
    {
     "data": {
      "text/plain": [
       "['Step Type',\n",
       " 'Step Name',\n",
       " 'Model (Process Diagram)',\n",
       " 'Step (Order)',\n",
       " 'Description',\n",
       " 'Task Type',\n",
       " 'Responsible for execution (Role)',\n",
       " 'Referenced Event',\n",
       " 'Cross-reference',\n",
       " 'Referenced Subprocess',\n",
       " 'Process Area',\n",
       " 'Sub Process Area',\n",
       " 'Implemented Controls (NFCM Controls)',\n",
       " 'Frequency of control execution',\n",
       " 'Implemented Controls (NFCM Controls) - Description',\n",
       " 'Implemented Controls (NFCM Controls) - Default Relevance']"
      ]
     },
     "execution_count": 10,
     "metadata": {},
     "output_type": "execute_result"
    }
   ],
   "execution_count": 10
  },
  {
   "cell_type": "markdown",
   "metadata": {},
   "source": "### 2. Neo4J Setup & Environment"
  },
  {
   "metadata": {
    "ExecuteTime": {
     "end_time": "2025-08-11T10:52:14.056829Z",
     "start_time": "2025-08-11T10:52:10.044049Z"
    }
   },
   "cell_type": "code",
   "source": [
    "from neo4j import GraphDatabase\n",
    "\n",
    "NEO4J_URI = \"bolt://localhost:7687\" # os.getenv(\"NEO4J_URI\")\n",
    "NEO4J_USER = \"neo4j\" # os.getenv(\"NEO4J_USERNAME\")\n",
    "NEO4J_PASSWORD = \"Neo4j@123\" # os.getenv(\"NEO4J_PASSWORD\")\n",
    "\n",
    "# NEO4J_URI = \"bolt://13.235.135.217:7687\"\n",
    "# NEO4J_USER = \"neo4j\"\n",
    "# NEO4J_PASSWORD = \"\"\n",
    "\n",
    "AUTH = (NEO4J_USER, NEO4J_PASSWORD)\n",
    "with GraphDatabase.driver(NEO4J_URI, auth=AUTH) as driver:\n",
    "    driver.verify_connectivity()"
   ],
   "outputs": [
    {
     "name": "stderr",
     "output_type": "stream",
     "text": [
      "\n",
      "KeyboardInterrupt\n",
      "\n"
     ]
    }
   ],
   "execution_count": 11
  },
  {
   "cell_type": "code",
   "metadata": {
    "jupyter": {
     "is_executing": true
    }
   },
   "source": [
    "import os\n",
    "from dotenv import load_dotenv\n",
    "from langchain_openai import OpenAIEmbeddings\n",
    "    \n",
    "# Load environment variables from .env file\n",
    "load_dotenv()\n",
    "\n",
    "DEPLOYMENT_NAME = \"gpt-4.1\"\n",
    "EMBEDDING_DEPLOYMENT_NAME = \"text-embedding-3-small\"\n",
    "  \n",
    "embedding_model = OpenAIEmbeddings(model=EMBEDDING_DEPLOYMENT_NAME)"
   ],
   "outputs": [],
   "execution_count": null
  },
  {
   "metadata": {},
   "cell_type": "markdown",
   "source": "### 3. Design a graph schema."
  },
  {
   "metadata": {
    "ExecuteTime": {
     "end_time": "2025-06-25T19:04:25.502689Z",
     "start_time": "2025-06-25T19:04:25.425760Z"
    }
   },
   "cell_type": "code",
   "source": [
    "import re\n",
    "\n",
    "# Keep regular embeddings for non-summary text\n",
    "def get_embedding(text: str) -> list:\n",
    "    text = (text or \"\").strip().replace(\"\\n\", \" \")\n",
    "    return embedding_model.embed_query(text)\n",
    "\n",
    "def parse_control_descriptions(desc_block: str):\n",
    "    \"\"\"Parses control descriptions into a dict: {control_name: description_text}\"\"\"\n",
    "    descriptions = {}\n",
    "    pattern = re.compile(r'(?P<name>NFCM\\.[\\w\\.]+) \\(Control\\):\\s*(?P<desc>.*?)(?=\\nNFCM\\.|\\Z)', re.DOTALL)\n",
    "    for match in pattern.finditer((desc_block or \"\").strip()):\n",
    "        name = match.group('name').strip()\n",
    "        desc = match.group('desc').strip().replace('\\n', ' ')\n",
    "        descriptions[name] = desc\n",
    "    return descriptions\n",
    "\n",
    "def insert_step_and_relationships(tx, row):\n",
    "    # Parse responsible roles (Accountable column removed per request)\n",
    "    responsible_roles = [\n",
    "        r.strip()\n",
    "        for r in re.split(r'\\s*(?:&|\\bor\\b)\\s*|,|/', str(row.get(\"Responsible for execution (Role)\", \"\")))\n",
    "        if r.strip()\n",
    "    ]\n",
    "\n",
    "    # Text for embeddings (NO summary embeddings; Function column removed)\n",
    "    process_area_text = row.get(\"Process Area\", \"\")\n",
    "    sub_process_area_text = row.get(\"Sub Process Area\", \"\")\n",
    "    diagram_text = row.get(\"Model (Process Diagram)\", \"\")\n",
    "    step_desc_text = row.get(\"Description\", \"\")\n",
    "    control_desc_text = row.get(\"Control - Description\", \"\")\n",
    "\n",
    "    # Generate embeddings for NON-summary fields only\n",
    "    embeddings = {\n",
    "        \"process_area\": get_embedding(process_area_text),\n",
    "        \"sub_process_area\": get_embedding(sub_process_area_text),\n",
    "        \"diagram\": get_embedding(diagram_text),\n",
    "        \"step\": get_embedding(step_desc_text),\n",
    "        \"control\": get_embedding(control_desc_text),\n",
    "    }\n",
    "\n",
    "    # Insert core nodes & hierarchy (NO summaries anywhere)\n",
    "    tx.run(\"\"\"\n",
    "        MERGE (pa:ProcessArea {name: $processArea})\n",
    "        SET pa.embedding = $process_area_emb\n",
    "\n",
    "        MERGE (spa:SubProcessArea {name: $subProcessArea})\n",
    "        SET spa.embedding = $sub_process_area_emb\n",
    "\n",
    "        MERGE (pd:ProcessDiagram {name: $processDiagram})\n",
    "        SET pd.embedding = $diagram_emb\n",
    "\n",
    "        MERGE (s:Step {\n",
    "            name: $stepName,\n",
    "            diagram: $processDiagram\n",
    "        })\n",
    "        SET s.stepType = $stepType,\n",
    "            s.stepOrder = $stepOrder,\n",
    "            s.description = $description,\n",
    "            s.taskType = $taskType,\n",
    "            s.referencedEvent = $referencedEvent,\n",
    "            s.crossReference = $crossReference,\n",
    "            s.referencedSubprocess = $referencedSubprocess,\n",
    "            s.embedding = $step_emb\n",
    "\n",
    "        MERGE (c:NFCMControl {name: $control})\n",
    "        SET c.description = $controlDescription,\n",
    "            c.frequencyExecution = $frequencyExecution,\n",
    "            c.relevance = $controlRelevance,\n",
    "            c.embedding = $control_description_emb\n",
    "\n",
    "        MERGE (c)-[:INVOLVED_IN]->(s)\n",
    "        MERGE (s)-[:STEP_IN]->(pd)\n",
    "        MERGE (pd)-[:PART_OF]->(spa)\n",
    "        MERGE (spa)-[:PART_OF]->(pa)\n",
    "    \"\"\", {\n",
    "        # Required hierarchy fields (Function removed)\n",
    "        \"processArea\": row.get(\"Process Area\", \"\"),\n",
    "        \"subProcessArea\": row.get(\"Sub Process Area\", \"\"),\n",
    "        \"processDiagram\": row.get(\"Model (Process Diagram)\", \"\"),\n",
    "\n",
    "        # Step core fields (columns removed: page_url, Classification, Referenced Documents, Text)\n",
    "        \"stepName\": row.get(\"Step Name\", \"\"),\n",
    "        \"stepType\": row.get(\"Step Type\", \"\"),\n",
    "        \"stepOrder\": row.get(\"Step (Order)\"),\n",
    "        \"description\": row.get(\"Description\", \"\"),\n",
    "        \"taskType\": row.get(\"Task Type\", \"\"),\n",
    "        \"referencedEvent\": row.get(\"Referenced Event\", \"\"),\n",
    "        \"crossReference\": row.get(\"Cross-reference\", \"\"),\n",
    "        \"referencedSubprocess\": row.get(\"Referenced Subprocess\", \"\"),\n",
    "\n",
    "        # Control (columns removed: Control method, Implemented Controls - Title)\n",
    "        \"control\": row.get(\"Control\", \"\"),\n",
    "        \"controlDescription\": row.get(\"Control - Description\", \"\"),\n",
    "        \"frequencyExecution\": row.get(\"Frequency of control execution\"),\n",
    "        \"controlRelevance\": row.get(\"Control - Default Relevance\", \"\"),\n",
    "\n",
    "        # Embeddings for NON-summary text\n",
    "        \"process_area_emb\": embeddings[\"process_area\"],\n",
    "        \"sub_process_area_emb\": embeddings[\"sub_process_area\"],\n",
    "        \"diagram_emb\": embeddings[\"diagram\"],\n",
    "        \"step_emb\": embeddings[\"step\"],\n",
    "        \"control_description_emb\": embeddings[\"control\"],\n",
    "    })\n",
    "\n",
    "    # Responsible Roles (keep embeddings)\n",
    "    for role in responsible_roles:\n",
    "        tx.run(\"\"\"\n",
    "            MERGE (r:Role {name: $role})\n",
    "            SET r.embedding = $embedding\n",
    "            MERGE (s:Step {name: $stepName, diagram: $processDiagram})\n",
    "            MERGE (r)-[:RESPONSIBLE_FOR]->(s)\n",
    "        \"\"\", {\n",
    "            \"role\": role,\n",
    "            \"embedding\": get_embedding(role),\n",
    "            \"stepName\": row.get(\"Step Name\", \"\"),\n",
    "            \"processDiagram\": row.get(\"Model (Process Diagram)\", \"\")\n",
    "        })\n",
    "\n",
    "    # 🔗 Inter-ProcessDiagram references FROM Step TO ProcessDiagram\n",
    "    step_type = str(row.get(\"Step Type\", \"\")).strip()\n",
    "    source_step = row.get(\"Step Name\", \"\")\n",
    "    source_diagram = row.get(\"Model (Process Diagram)\", \"\")\n",
    "\n",
    "    ref_event = str(row.get(\"Referenced Event\", \"\") or \"\").strip()\n",
    "    cross_ref = str(row.get(\"Cross-reference\", \"\") or \"\").strip()\n",
    "    ref_subproc = str(row.get(\"Referenced Subprocess\", \"\") or \"\").strip()\n",
    "\n",
    "    if step_type == \"Intermediate Event (sequence flow)\" and ref_event:\n",
    "        tx.run(\"\"\"\n",
    "            MERGE (s:Step {name: $stepName, diagram: $sourceDiagram})\n",
    "            MERGE (tgt:ProcessDiagram {name: $targetDiagram})\n",
    "            MERGE (s)-[:REFERENCED_EVENT]->(tgt)\n",
    "        \"\"\", {\n",
    "            \"stepName\": source_step,\n",
    "            \"sourceDiagram\": source_diagram,\n",
    "            \"targetDiagram\": ref_event\n",
    "        })\n",
    "\n",
    "    elif step_type == \"Cross-reference\" and cross_ref:\n",
    "        tx.run(\"\"\"\n",
    "            MERGE (s:Step {name: $stepName, diagram: $sourceDiagram})\n",
    "            MERGE (tgt:ProcessDiagram {name: $targetDiagram})\n",
    "            MERGE (s)-[:CROSS_REFERENCE]->(tgt)\n",
    "        \"\"\", {\n",
    "            \"stepName\": source_step,\n",
    "            \"sourceDiagram\": source_diagram,\n",
    "            \"targetDiagram\": cross_ref\n",
    "        })\n",
    "\n",
    "    elif step_type == \"Subprocess\" and ref_subproc:\n",
    "        tx.run(\"\"\"\n",
    "            MERGE (s:Step {name: $stepName, diagram: $sourceDiagram})\n",
    "            MERGE (tgt:ProcessDiagram {name: $targetDiagram})\n",
    "            MERGE (s)-[:REFERENCED_SUBPROCESS]->(tgt)\n",
    "        \"\"\", {\n",
    "            \"stepName\": source_step,\n",
    "            \"sourceDiagram\": source_diagram,\n",
    "            \"targetDiagram\": ref_subproc\n",
    "        })\n",
    "\n",
    "def insert_adonis_data(df):\n",
    "    with driver.session() as session:\n",
    "        for _, row in df.iterrows():\n",
    "            session.write_transaction(insert_step_and_relationships, row)\n"
   ],
   "outputs": [],
   "execution_count": 16
  },
  {
   "metadata": {},
   "cell_type": "markdown",
   "source": "### 4. Ingest data into Neo4j using Cypher queries."
  },
  {
   "metadata": {
    "ExecuteTime": {
     "end_time": "2025-06-25T21:12:02.188867Z",
     "start_time": "2025-06-25T19:04:26.686789Z"
    }
   },
   "cell_type": "code",
   "source": "insert_adonis_data(adonis_df)",
   "outputs": [
    {
     "name": "stderr",
     "output_type": "stream",
     "text": [
      "C:\\Users\\NALABSR1\\AppData\\Local\\Temp\\ipykernel_25064\\1701601612.py:205: DeprecationWarning: Using a driver after it has been closed is deprecated. Future versions of the driver will raise an error.\n",
      "  with driver.session() as session:\n",
      "C:\\Users\\NALABSR1\\AppData\\Local\\Temp\\ipykernel_25064\\1701601612.py:207: DeprecationWarning: write_transaction has been renamed to execute_write\n",
      "  session.write_transaction(insert_step_and_relationships, row)\n"
     ]
    }
   ],
   "execution_count": 17
  },
  {
   "metadata": {},
   "cell_type": "markdown",
   "source": "### 5. Run queries to validate our ingestion."
  },
  {
   "metadata": {
    "ExecuteTime": {
     "end_time": "2025-08-11T10:52:37.416436Z",
     "start_time": "2025-08-11T10:52:33.196086Z"
    }
   },
   "cell_type": "code",
   "source": [
    "# Example query to fetch all companies and their departments\n",
    "query = \"\"\"\n",
    "MATCH (n:NFCMControl) WHERE n.frequency = 'Quarterly' RETURN n.name, n.method\n",
    "\"\"\"\n",
    "with driver.session() as session:\n",
    "    result = session.run(query)\n",
    "    for record in result:\n",
    "        print(record[\"Company\"], \":\", record[\"Departments\"])"
   ],
   "outputs": [
    {
     "name": "stderr",
     "output_type": "stream",
     "text": [
      "C:\\Users\\NALABSR1\\AppData\\Local\\Temp\\ipykernel_27068\\3709761944.py:5: DeprecationWarning: Using a driver after it has been closed is deprecated. Future versions of the driver will raise an error.\n",
      "  with driver.session() as session:\n"
     ]
    },
    {
     "ename": "ServiceUnavailable",
     "evalue": "Couldn't connect to localhost:7687 (resolved to ('[::1]:7687', '127.0.0.1:7687')):\nFailed to establish connection to ResolvedIPv6Address(('::1', 7687, 0, 0)) (reason [WinError 10061] No connection could be made because the target machine actively refused it)\nFailed to establish connection to ResolvedIPv4Address(('127.0.0.1', 7687)) (reason [WinError 10061] No connection could be made because the target machine actively refused it)",
     "output_type": "error",
     "traceback": [
      "\u001B[1;31m---------------------------------------------------------------------------\u001B[0m",
      "\u001B[1;31mConnectionRefusedError\u001B[0m                    Traceback (most recent call last)",
      "File \u001B[1;32m~\\OneDrive - Novartis Pharma AG\\Hari\\PyCharm_Projects\\gen.ai\\FRAI_GO_LIVE\\akg_venv_311\\Lib\\site-packages\\neo4j\\_async_compat\\network\\_bolt_socket.py:409\u001B[0m, in \u001B[0;36mBoltSocketBase._connect_secure\u001B[1;34m(cls, resolved_address, timeout, keep_alive, ssl_context)\u001B[0m\n\u001B[0;32m    408\u001B[0m log\u001B[38;5;241m.\u001B[39mdebug(\u001B[38;5;124m\"\u001B[39m\u001B[38;5;124m[#0000]  C: <OPEN> \u001B[39m\u001B[38;5;132;01m%s\u001B[39;00m\u001B[38;5;124m\"\u001B[39m, resolved_address)\n\u001B[1;32m--> 409\u001B[0m \u001B[43ms\u001B[49m\u001B[38;5;241;43m.\u001B[39;49m\u001B[43mconnect\u001B[49m\u001B[43m(\u001B[49m\u001B[43mresolved_address\u001B[49m\u001B[43m)\u001B[49m\n\u001B[0;32m    410\u001B[0m s\u001B[38;5;241m.\u001B[39msettimeout(t)\n",
      "\u001B[1;31mConnectionRefusedError\u001B[0m: [WinError 10061] No connection could be made because the target machine actively refused it",
      "\nThe above exception was the direct cause of the following exception:\n",
      "\u001B[1;31mServiceUnavailable\u001B[0m                        Traceback (most recent call last)",
      "File \u001B[1;32m~\\OneDrive - Novartis Pharma AG\\Hari\\PyCharm_Projects\\gen.ai\\FRAI_GO_LIVE\\akg_venv_311\\Lib\\site-packages\\neo4j\\_sync\\io\\_bolt_socket.py:328\u001B[0m, in \u001B[0;36mBoltSocket.connect\u001B[1;34m(cls, address, tcp_timeout, deadline, custom_resolver, ssl_context, keep_alive)\u001B[0m\n\u001B[0;32m    327\u001B[0m \u001B[38;5;28;01mtry\u001B[39;00m:\n\u001B[1;32m--> 328\u001B[0m     s \u001B[38;5;241m=\u001B[39m \u001B[38;5;28;43mcls\u001B[39;49m\u001B[38;5;241;43m.\u001B[39;49m\u001B[43m_connect_secure\u001B[49m\u001B[43m(\u001B[49m\n\u001B[0;32m    329\u001B[0m \u001B[43m        \u001B[49m\u001B[43mresolved_address\u001B[49m\u001B[43m,\u001B[49m\u001B[43m \u001B[49m\u001B[43mtcp_timeout\u001B[49m\u001B[43m,\u001B[49m\u001B[43m \u001B[49m\u001B[43mkeep_alive\u001B[49m\u001B[43m,\u001B[49m\u001B[43m \u001B[49m\u001B[43mssl_context\u001B[49m\n\u001B[0;32m    330\u001B[0m \u001B[43m    \u001B[49m\u001B[43m)\u001B[49m\n\u001B[0;32m    331\u001B[0m     agreed_version, handshake, response \u001B[38;5;241m=\u001B[39m s\u001B[38;5;241m.\u001B[39m_handshake(\n\u001B[0;32m    332\u001B[0m         resolved_address, deadline\n\u001B[0;32m    333\u001B[0m     )\n",
      "File \u001B[1;32m~\\OneDrive - Novartis Pharma AG\\Hari\\PyCharm_Projects\\gen.ai\\FRAI_GO_LIVE\\akg_venv_311\\Lib\\site-packages\\neo4j\\_async_compat\\network\\_bolt_socket.py:426\u001B[0m, in \u001B[0;36mBoltSocketBase._connect_secure\u001B[1;34m(cls, resolved_address, timeout, keep_alive, ssl_context)\u001B[0m\n\u001B[0;32m    425\u001B[0m \u001B[38;5;28;01mif\u001B[39;00m \u001B[38;5;28misinstance\u001B[39m(error, \u001B[38;5;167;01mOSError\u001B[39;00m):\n\u001B[1;32m--> 426\u001B[0m     \u001B[38;5;28;01mraise\u001B[39;00m ServiceUnavailable(\n\u001B[0;32m    427\u001B[0m         \u001B[38;5;124m\"\u001B[39m\u001B[38;5;124mFailed to establish connection to \u001B[39m\u001B[38;5;124m\"\u001B[39m\n\u001B[0;32m    428\u001B[0m         \u001B[38;5;124mf\u001B[39m\u001B[38;5;124m\"\u001B[39m\u001B[38;5;132;01m{\u001B[39;00mresolved_address\u001B[38;5;132;01m!r}\u001B[39;00m\u001B[38;5;124m (reason \u001B[39m\u001B[38;5;132;01m{\u001B[39;00merror\u001B[38;5;132;01m}\u001B[39;00m\u001B[38;5;124m)\u001B[39m\u001B[38;5;124m\"\u001B[39m\n\u001B[0;32m    429\u001B[0m     ) \u001B[38;5;28;01mfrom\u001B[39;00m \u001B[38;5;21;01merror\u001B[39;00m\n\u001B[0;32m    430\u001B[0m \u001B[38;5;28;01mraise\u001B[39;00m\n",
      "\u001B[1;31mServiceUnavailable\u001B[0m: Failed to establish connection to ResolvedIPv6Address(('::1', 7687, 0, 0)) (reason [WinError 10061] No connection could be made because the target machine actively refused it)",
      "\nThe above exception was the direct cause of the following exception:\n",
      "\u001B[1;31mServiceUnavailable\u001B[0m                        Traceback (most recent call last)",
      "Cell \u001B[1;32mIn[13], line 6\u001B[0m\n\u001B[0;32m      2\u001B[0m query \u001B[38;5;241m=\u001B[39m \u001B[38;5;124m\"\"\"\u001B[39m\n\u001B[0;32m      3\u001B[0m \u001B[38;5;124mMATCH (n:NFCMControl) WHERE n.frequency = \u001B[39m\u001B[38;5;124m'\u001B[39m\u001B[38;5;124mQuarterly\u001B[39m\u001B[38;5;124m'\u001B[39m\u001B[38;5;124m RETURN n.name, n.method\u001B[39m\n\u001B[0;32m      4\u001B[0m \u001B[38;5;124m\"\"\"\u001B[39m\n\u001B[0;32m      5\u001B[0m \u001B[38;5;28;01mwith\u001B[39;00m driver\u001B[38;5;241m.\u001B[39msession() \u001B[38;5;28;01mas\u001B[39;00m session:\n\u001B[1;32m----> 6\u001B[0m     result \u001B[38;5;241m=\u001B[39m \u001B[43msession\u001B[49m\u001B[38;5;241;43m.\u001B[39;49m\u001B[43mrun\u001B[49m\u001B[43m(\u001B[49m\u001B[43mquery\u001B[49m\u001B[43m)\u001B[49m\n\u001B[0;32m      7\u001B[0m     \u001B[38;5;28;01mfor\u001B[39;00m record \u001B[38;5;129;01min\u001B[39;00m result:\n\u001B[0;32m      8\u001B[0m         \u001B[38;5;28mprint\u001B[39m(record[\u001B[38;5;124m\"\u001B[39m\u001B[38;5;124mCompany\u001B[39m\u001B[38;5;124m\"\u001B[39m], \u001B[38;5;124m\"\u001B[39m\u001B[38;5;124m:\u001B[39m\u001B[38;5;124m\"\u001B[39m, record[\u001B[38;5;124m\"\u001B[39m\u001B[38;5;124mDepartments\u001B[39m\u001B[38;5;124m\"\u001B[39m])\n",
      "File \u001B[1;32m~\\OneDrive - Novartis Pharma AG\\Hari\\PyCharm_Projects\\gen.ai\\FRAI_GO_LIVE\\akg_venv_311\\Lib\\site-packages\\neo4j\\_sync\\work\\session.py:313\u001B[0m, in \u001B[0;36mSession.run\u001B[1;34m(self, query, parameters, **kwargs)\u001B[0m\n\u001B[0;32m    310\u001B[0m     \u001B[38;5;28mself\u001B[39m\u001B[38;5;241m.\u001B[39m_auto_result\u001B[38;5;241m.\u001B[39m_buffer_all()\n\u001B[0;32m    312\u001B[0m \u001B[38;5;28;01mif\u001B[39;00m \u001B[38;5;129;01mnot\u001B[39;00m \u001B[38;5;28mself\u001B[39m\u001B[38;5;241m.\u001B[39m_connection:\n\u001B[1;32m--> 313\u001B[0m     \u001B[38;5;28;43mself\u001B[39;49m\u001B[38;5;241;43m.\u001B[39;49m\u001B[43m_connect\u001B[49m\u001B[43m(\u001B[49m\u001B[38;5;28;43mself\u001B[39;49m\u001B[38;5;241;43m.\u001B[39;49m\u001B[43m_config\u001B[49m\u001B[38;5;241;43m.\u001B[39;49m\u001B[43mdefault_access_mode\u001B[49m\u001B[43m)\u001B[49m\n\u001B[0;32m    314\u001B[0m     \u001B[38;5;28;01massert\u001B[39;00m \u001B[38;5;28mself\u001B[39m\u001B[38;5;241m.\u001B[39m_connection \u001B[38;5;129;01mis\u001B[39;00m \u001B[38;5;129;01mnot\u001B[39;00m \u001B[38;5;28;01mNone\u001B[39;00m\n\u001B[0;32m    315\u001B[0m cx \u001B[38;5;241m=\u001B[39m \u001B[38;5;28mself\u001B[39m\u001B[38;5;241m.\u001B[39m_connection\n",
      "File \u001B[1;32m~\\OneDrive - Novartis Pharma AG\\Hari\\PyCharm_Projects\\gen.ai\\FRAI_GO_LIVE\\akg_venv_311\\Lib\\site-packages\\neo4j\\_sync\\work\\session.py:136\u001B[0m, in \u001B[0;36mSession._connect\u001B[1;34m(self, access_mode, **acquire_kwargs)\u001B[0m\n\u001B[0;32m    134\u001B[0m     access_mode \u001B[38;5;241m=\u001B[39m \u001B[38;5;28mself\u001B[39m\u001B[38;5;241m.\u001B[39m_config\u001B[38;5;241m.\u001B[39mdefault_access_mode\n\u001B[0;32m    135\u001B[0m \u001B[38;5;28;01mtry\u001B[39;00m:\n\u001B[1;32m--> 136\u001B[0m     \u001B[38;5;28;43msuper\u001B[39;49m\u001B[43m(\u001B[49m\u001B[43m)\u001B[49m\u001B[38;5;241;43m.\u001B[39;49m\u001B[43m_connect\u001B[49m\u001B[43m(\u001B[49m\n\u001B[0;32m    137\u001B[0m \u001B[43m        \u001B[49m\u001B[43maccess_mode\u001B[49m\u001B[43m,\u001B[49m\u001B[43m \u001B[49m\u001B[43mauth\u001B[49m\u001B[38;5;241;43m=\u001B[39;49m\u001B[38;5;28;43mself\u001B[39;49m\u001B[38;5;241;43m.\u001B[39;49m\u001B[43m_config\u001B[49m\u001B[38;5;241;43m.\u001B[39;49m\u001B[43mauth\u001B[49m\u001B[43m,\u001B[49m\u001B[43m \u001B[49m\u001B[38;5;241;43m*\u001B[39;49m\u001B[38;5;241;43m*\u001B[39;49m\u001B[43macquire_kwargs\u001B[49m\n\u001B[0;32m    138\u001B[0m \u001B[43m    \u001B[49m\u001B[43m)\u001B[49m\n\u001B[0;32m    139\u001B[0m \u001B[38;5;28;01mexcept\u001B[39;00m asyncio\u001B[38;5;241m.\u001B[39mCancelledError:\n\u001B[0;32m    140\u001B[0m     \u001B[38;5;28mself\u001B[39m\u001B[38;5;241m.\u001B[39m_handle_cancellation(message\u001B[38;5;241m=\u001B[39m\u001B[38;5;124m\"\u001B[39m\u001B[38;5;124m_connect\u001B[39m\u001B[38;5;124m\"\u001B[39m)\n",
      "File \u001B[1;32m~\\OneDrive - Novartis Pharma AG\\Hari\\PyCharm_Projects\\gen.ai\\FRAI_GO_LIVE\\akg_venv_311\\Lib\\site-packages\\neo4j\\_sync\\work\\workspace.py:199\u001B[0m, in \u001B[0;36mWorkspace._connect\u001B[1;34m(self, access_mode, auth, **acquire_kwargs)\u001B[0m\n\u001B[0;32m    189\u001B[0m acquire_kwargs_ \u001B[38;5;241m=\u001B[39m {\n\u001B[0;32m    190\u001B[0m     \u001B[38;5;124m\"\u001B[39m\u001B[38;5;124maccess_mode\u001B[39m\u001B[38;5;124m\"\u001B[39m: access_mode,\n\u001B[0;32m    191\u001B[0m     \u001B[38;5;124m\"\u001B[39m\u001B[38;5;124mtimeout\u001B[39m\u001B[38;5;124m\"\u001B[39m: acquisition_timeout,\n\u001B[1;32m   (...)\u001B[0m\n\u001B[0;32m    196\u001B[0m     \u001B[38;5;124m\"\u001B[39m\u001B[38;5;124mdatabase_callback\u001B[39m\u001B[38;5;124m\"\u001B[39m: \u001B[38;5;28mself\u001B[39m\u001B[38;5;241m.\u001B[39m_make_db_resolution_callback(),\n\u001B[0;32m    197\u001B[0m }\n\u001B[0;32m    198\u001B[0m acquire_kwargs_\u001B[38;5;241m.\u001B[39mupdate(acquire_kwargs)\n\u001B[1;32m--> 199\u001B[0m \u001B[38;5;28mself\u001B[39m\u001B[38;5;241m.\u001B[39m_connection \u001B[38;5;241m=\u001B[39m \u001B[38;5;28;43mself\u001B[39;49m\u001B[38;5;241;43m.\u001B[39;49m\u001B[43m_pool\u001B[49m\u001B[38;5;241;43m.\u001B[39;49m\u001B[43macquire\u001B[49m\u001B[43m(\u001B[49m\u001B[38;5;241;43m*\u001B[39;49m\u001B[38;5;241;43m*\u001B[39;49m\u001B[43macquire_kwargs_\u001B[49m\u001B[43m)\u001B[49m\n\u001B[0;32m    200\u001B[0m \u001B[38;5;28;01mif\u001B[39;00m (\n\u001B[0;32m    201\u001B[0m     target_db\u001B[38;5;241m.\u001B[39mguessed\n\u001B[0;32m    202\u001B[0m     \u001B[38;5;129;01mand\u001B[39;00m \u001B[38;5;129;01mnot\u001B[39;00m \u001B[38;5;28mself\u001B[39m\u001B[38;5;241m.\u001B[39m_pinned_database\n\u001B[1;32m   (...)\u001B[0m\n\u001B[0;32m    206\u001B[0m     \u001B[38;5;66;03m# support SSR.\u001B[39;00m\n\u001B[0;32m    207\u001B[0m     \u001B[38;5;66;03m# => we need to fall back to explicit home database resolution\u001B[39;00m\n\u001B[0;32m    208\u001B[0m     log\u001B[38;5;241m.\u001B[39mdebug(\n\u001B[0;32m    209\u001B[0m         \u001B[38;5;124m\"\u001B[39m\u001B[38;5;124m[#0000]  _: <WORKSPACE> detected ssr support race; \u001B[39m\u001B[38;5;124m\"\u001B[39m\n\u001B[0;32m    210\u001B[0m         \u001B[38;5;124m\"\u001B[39m\u001B[38;5;124mfalling back to explicit home database resolution\u001B[39m\u001B[38;5;124m\"\u001B[39m,\n\u001B[0;32m    211\u001B[0m     )\n",
      "File \u001B[1;32m~\\OneDrive - Novartis Pharma AG\\Hari\\PyCharm_Projects\\gen.ai\\FRAI_GO_LIVE\\akg_venv_311\\Lib\\site-packages\\neo4j\\_sync\\io\\_pool.py:662\u001B[0m, in \u001B[0;36mBoltPool.acquire\u001B[1;34m(self, access_mode, timeout, database, bookmarks, auth, liveness_check_timeout, database_callback)\u001B[0m\n\u001B[0;32m    655\u001B[0m log\u001B[38;5;241m.\u001B[39mdebug(\n\u001B[0;32m    656\u001B[0m     \u001B[38;5;124m\"\u001B[39m\u001B[38;5;124m[#0000]  _: <POOL> acquire direct connection, \u001B[39m\u001B[38;5;124m\"\u001B[39m\n\u001B[0;32m    657\u001B[0m     \u001B[38;5;124m\"\u001B[39m\u001B[38;5;124maccess_mode=\u001B[39m\u001B[38;5;132;01m%r\u001B[39;00m\u001B[38;5;124m, database=\u001B[39m\u001B[38;5;132;01m%r\u001B[39;00m\u001B[38;5;124m\"\u001B[39m,\n\u001B[0;32m    658\u001B[0m     access_mode,\n\u001B[0;32m    659\u001B[0m     database,\n\u001B[0;32m    660\u001B[0m )\n\u001B[0;32m    661\u001B[0m deadline \u001B[38;5;241m=\u001B[39m Deadline\u001B[38;5;241m.\u001B[39mfrom_timeout_or_deadline(timeout)\n\u001B[1;32m--> 662\u001B[0m \u001B[38;5;28;01mreturn\u001B[39;00m \u001B[38;5;28;43mself\u001B[39;49m\u001B[38;5;241;43m.\u001B[39;49m\u001B[43m_acquire\u001B[49m\u001B[43m(\u001B[49m\n\u001B[0;32m    663\u001B[0m \u001B[43m    \u001B[49m\u001B[38;5;28;43mself\u001B[39;49m\u001B[38;5;241;43m.\u001B[39;49m\u001B[43maddress\u001B[49m\u001B[43m,\u001B[49m\u001B[43m \u001B[49m\u001B[43mauth\u001B[49m\u001B[43m,\u001B[49m\u001B[43m \u001B[49m\u001B[43mdeadline\u001B[49m\u001B[43m,\u001B[49m\u001B[43m \u001B[49m\u001B[43mliveness_check_timeout\u001B[49m\n\u001B[0;32m    664\u001B[0m \u001B[43m\u001B[49m\u001B[43m)\u001B[49m\n",
      "File \u001B[1;32m~\\OneDrive - Novartis Pharma AG\\Hari\\PyCharm_Projects\\gen.ai\\FRAI_GO_LIVE\\akg_venv_311\\Lib\\site-packages\\neo4j\\_sync\\io\\_pool.py:408\u001B[0m, in \u001B[0;36mIOPool._acquire\u001B[1;34m(self, address, auth, deadline, liveness_check_timeout)\u001B[0m\n\u001B[0;32m    403\u001B[0m             \u001B[38;5;28;01mraise\u001B[39;00m ClientError(\n\u001B[0;32m    404\u001B[0m                 \u001B[38;5;124m\"\u001B[39m\u001B[38;5;124mfailed to obtain a connection from the pool within \u001B[39m\u001B[38;5;124m\"\u001B[39m\n\u001B[0;32m    405\u001B[0m                 \u001B[38;5;124mf\u001B[39m\u001B[38;5;124m\"\u001B[39m\u001B[38;5;132;01m{\u001B[39;00mdeadline\u001B[38;5;241m.\u001B[39moriginal_timeout\u001B[38;5;132;01m!r}\u001B[39;00m\u001B[38;5;124ms (timeout)\u001B[39m\u001B[38;5;124m\"\u001B[39m\n\u001B[0;32m    406\u001B[0m             )\n\u001B[0;32m    407\u001B[0m log\u001B[38;5;241m.\u001B[39mdebug(\u001B[38;5;124m\"\u001B[39m\u001B[38;5;124m[#0000]  _: <POOL> trying to hand out new connection\u001B[39m\u001B[38;5;124m\"\u001B[39m)\n\u001B[1;32m--> 408\u001B[0m \u001B[38;5;28;01mreturn\u001B[39;00m \u001B[43mconnection_creator\u001B[49m\u001B[43m(\u001B[49m\u001B[43m)\u001B[49m\n",
      "File \u001B[1;32m~\\OneDrive - Novartis Pharma AG\\Hari\\PyCharm_Projects\\gen.ai\\FRAI_GO_LIVE\\akg_venv_311\\Lib\\site-packages\\neo4j\\_sync\\io\\_pool.py:230\u001B[0m, in \u001B[0;36mIOPool._acquire_new_later.<locals>.connection_creator\u001B[1;34m()\u001B[0m\n\u001B[0;32m    228\u001B[0m \u001B[38;5;28;01mtry\u001B[39;00m:\n\u001B[0;32m    229\u001B[0m     \u001B[38;5;28;01mtry\u001B[39;00m:\n\u001B[1;32m--> 230\u001B[0m         connection \u001B[38;5;241m=\u001B[39m \u001B[38;5;28;43mself\u001B[39;49m\u001B[38;5;241;43m.\u001B[39;49m\u001B[43mopener\u001B[49m\u001B[43m(\u001B[49m\n\u001B[0;32m    231\u001B[0m \u001B[43m            \u001B[49m\u001B[43maddress\u001B[49m\u001B[43m,\u001B[49m\u001B[43m \u001B[49m\u001B[43mauth\u001B[49m\u001B[43m \u001B[49m\u001B[38;5;129;43;01mor\u001B[39;49;00m\u001B[43m \u001B[49m\u001B[38;5;28;43mself\u001B[39;49m\u001B[38;5;241;43m.\u001B[39;49m\u001B[43mpool_config\u001B[49m\u001B[38;5;241;43m.\u001B[39;49m\u001B[43mauth\u001B[49m\u001B[43m,\u001B[49m\u001B[43m \u001B[49m\u001B[43mdeadline\u001B[49m\n\u001B[0;32m    232\u001B[0m \u001B[43m        \u001B[49m\u001B[43m)\u001B[49m\n\u001B[0;32m    233\u001B[0m     \u001B[38;5;28;01mexcept\u001B[39;00m ServiceUnavailable:\n\u001B[0;32m    234\u001B[0m         \u001B[38;5;28mself\u001B[39m\u001B[38;5;241m.\u001B[39mdeactivate(address)\n",
      "File \u001B[1;32m~\\OneDrive - Novartis Pharma AG\\Hari\\PyCharm_Projects\\gen.ai\\FRAI_GO_LIVE\\akg_venv_311\\Lib\\site-packages\\neo4j\\_sync\\io\\_pool.py:624\u001B[0m, in \u001B[0;36mBoltPool.open.<locals>.opener\u001B[1;34m(addr, auth_manager, deadline)\u001B[0m\n\u001B[0;32m    623\u001B[0m \u001B[38;5;28;01mdef\u001B[39;00m \u001B[38;5;21mopener\u001B[39m(addr, auth_manager, deadline):\n\u001B[1;32m--> 624\u001B[0m     \u001B[38;5;28;01mreturn\u001B[39;00m \u001B[43mBolt\u001B[49m\u001B[38;5;241;43m.\u001B[39;49m\u001B[43mopen\u001B[49m\u001B[43m(\u001B[49m\n\u001B[0;32m    625\u001B[0m \u001B[43m        \u001B[49m\u001B[43maddr\u001B[49m\u001B[43m,\u001B[49m\n\u001B[0;32m    626\u001B[0m \u001B[43m        \u001B[49m\u001B[43mauth_manager\u001B[49m\u001B[38;5;241;43m=\u001B[39;49m\u001B[43mauth_manager\u001B[49m\u001B[43m,\u001B[49m\n\u001B[0;32m    627\u001B[0m \u001B[43m        \u001B[49m\u001B[43mdeadline\u001B[49m\u001B[38;5;241;43m=\u001B[39;49m\u001B[43mdeadline\u001B[49m\u001B[43m,\u001B[49m\n\u001B[0;32m    628\u001B[0m \u001B[43m        \u001B[49m\u001B[43mrouting_context\u001B[49m\u001B[38;5;241;43m=\u001B[39;49m\u001B[38;5;28;43;01mNone\u001B[39;49;00m\u001B[43m,\u001B[49m\n\u001B[0;32m    629\u001B[0m \u001B[43m        \u001B[49m\u001B[43mpool_config\u001B[49m\u001B[38;5;241;43m=\u001B[39;49m\u001B[43mpool_config\u001B[49m\u001B[43m,\u001B[49m\n\u001B[0;32m    630\u001B[0m \u001B[43m    \u001B[49m\u001B[43m)\u001B[49m\n",
      "File \u001B[1;32m~\\OneDrive - Novartis Pharma AG\\Hari\\PyCharm_Projects\\gen.ai\\FRAI_GO_LIVE\\akg_venv_311\\Lib\\site-packages\\neo4j\\_sync\\io\\_bolt.py:369\u001B[0m, in \u001B[0;36mBolt.open\u001B[1;34m(cls, address, auth_manager, deadline, routing_context, pool_config)\u001B[0m\n\u001B[0;32m    366\u001B[0m \u001B[38;5;28;01mif\u001B[39;00m deadline \u001B[38;5;129;01mis\u001B[39;00m \u001B[38;5;28;01mNone\u001B[39;00m:\n\u001B[0;32m    367\u001B[0m     deadline \u001B[38;5;241m=\u001B[39m Deadline(\u001B[38;5;28;01mNone\u001B[39;00m)\n\u001B[1;32m--> 369\u001B[0m s, protocol_version, handshake, data \u001B[38;5;241m=\u001B[39m \u001B[43mBoltSocket\u001B[49m\u001B[38;5;241;43m.\u001B[39;49m\u001B[43mconnect\u001B[49m\u001B[43m(\u001B[49m\n\u001B[0;32m    370\u001B[0m \u001B[43m    \u001B[49m\u001B[43maddress\u001B[49m\u001B[43m,\u001B[49m\n\u001B[0;32m    371\u001B[0m \u001B[43m    \u001B[49m\u001B[43mtcp_timeout\u001B[49m\u001B[38;5;241;43m=\u001B[39;49m\u001B[43mpool_config\u001B[49m\u001B[38;5;241;43m.\u001B[39;49m\u001B[43mconnection_timeout\u001B[49m\u001B[43m,\u001B[49m\n\u001B[0;32m    372\u001B[0m \u001B[43m    \u001B[49m\u001B[43mdeadline\u001B[49m\u001B[38;5;241;43m=\u001B[39;49m\u001B[43mdeadline\u001B[49m\u001B[43m,\u001B[49m\n\u001B[0;32m    373\u001B[0m \u001B[43m    \u001B[49m\u001B[43mcustom_resolver\u001B[49m\u001B[38;5;241;43m=\u001B[39;49m\u001B[43mpool_config\u001B[49m\u001B[38;5;241;43m.\u001B[39;49m\u001B[43mresolver\u001B[49m\u001B[43m,\u001B[49m\n\u001B[0;32m    374\u001B[0m \u001B[43m    \u001B[49m\u001B[43mssl_context\u001B[49m\u001B[38;5;241;43m=\u001B[39;49m\u001B[43mpool_config\u001B[49m\u001B[38;5;241;43m.\u001B[39;49m\u001B[43mget_ssl_context\u001B[49m\u001B[43m(\u001B[49m\u001B[43m)\u001B[49m\u001B[43m,\u001B[49m\n\u001B[0;32m    375\u001B[0m \u001B[43m    \u001B[49m\u001B[43mkeep_alive\u001B[49m\u001B[38;5;241;43m=\u001B[39;49m\u001B[43mpool_config\u001B[49m\u001B[38;5;241;43m.\u001B[39;49m\u001B[43mkeep_alive\u001B[49m\u001B[43m,\u001B[49m\n\u001B[0;32m    376\u001B[0m \u001B[43m\u001B[49m\u001B[43m)\u001B[49m\n\u001B[0;32m    378\u001B[0m pool_config\u001B[38;5;241m.\u001B[39mprotocol_version \u001B[38;5;241m=\u001B[39m protocol_version\n\u001B[0;32m    379\u001B[0m protocol_handlers \u001B[38;5;241m=\u001B[39m Bolt\u001B[38;5;241m.\u001B[39mprotocol_handlers\n",
      "File \u001B[1;32m~\\OneDrive - Novartis Pharma AG\\Hari\\PyCharm_Projects\\gen.ai\\FRAI_GO_LIVE\\akg_venv_311\\Lib\\site-packages\\neo4j\\_sync\\io\\_bolt_socket.py:376\u001B[0m, in \u001B[0;36mBoltSocket.connect\u001B[1;34m(cls, address, tcp_timeout, deadline, custom_resolver, ssl_context, keep_alive)\u001B[0m\n\u001B[0;32m    374\u001B[0m \u001B[38;5;28;01melse\u001B[39;00m:\n\u001B[0;32m    375\u001B[0m     error_strs \u001B[38;5;241m=\u001B[39m \u001B[38;5;124m\"\u001B[39m\u001B[38;5;130;01m\\n\u001B[39;00m\u001B[38;5;124m\"\u001B[39m\u001B[38;5;241m.\u001B[39mjoin(\u001B[38;5;28mmap\u001B[39m(\u001B[38;5;28mstr\u001B[39m, errors))\n\u001B[1;32m--> 376\u001B[0m     \u001B[38;5;28;01mraise\u001B[39;00m ServiceUnavailable(\n\u001B[0;32m    377\u001B[0m         \u001B[38;5;124mf\u001B[39m\u001B[38;5;124m\"\u001B[39m\u001B[38;5;124mCouldn\u001B[39m\u001B[38;5;124m'\u001B[39m\u001B[38;5;124mt connect to \u001B[39m\u001B[38;5;132;01m{\u001B[39;00maddress\u001B[38;5;132;01m}\u001B[39;00m\u001B[38;5;124m (resolved to \u001B[39m\u001B[38;5;132;01m{\u001B[39;00maddress_strs\u001B[38;5;132;01m}\u001B[39;00m\u001B[38;5;124m):\u001B[39m\u001B[38;5;124m\"\u001B[39m\n\u001B[0;32m    378\u001B[0m         \u001B[38;5;124mf\u001B[39m\u001B[38;5;124m\"\u001B[39m\u001B[38;5;130;01m\\n\u001B[39;00m\u001B[38;5;132;01m{\u001B[39;00merror_strs\u001B[38;5;132;01m}\u001B[39;00m\u001B[38;5;124m\"\u001B[39m\n\u001B[0;32m    379\u001B[0m     ) \u001B[38;5;28;01mfrom\u001B[39;00m \u001B[38;5;21;01merrors\u001B[39;00m[\u001B[38;5;241m0\u001B[39m]\n",
      "\u001B[1;31mServiceUnavailable\u001B[0m: Couldn't connect to localhost:7687 (resolved to ('[::1]:7687', '127.0.0.1:7687')):\nFailed to establish connection to ResolvedIPv6Address(('::1', 7687, 0, 0)) (reason [WinError 10061] No connection could be made because the target machine actively refused it)\nFailed to establish connection to ResolvedIPv4Address(('127.0.0.1', 7687)) (reason [WinError 10061] No connection could be made because the target machine actively refused it)"
     ]
    }
   ],
   "execution_count": 13
  },
  {
   "metadata": {},
   "cell_type": "markdown",
   "source": "### 6. Create Vector Index"
  },
  {
   "metadata": {
    "ExecuteTime": {
     "end_time": "2025-07-04T10:01:43.715947Z",
     "start_time": "2025-07-04T10:01:43.704244Z"
    }
   },
   "cell_type": "code",
   "source": [
    "with driver.session() as session:\n",
    "    session.run(\"\"\"\n",
    "    MATCH (n:Step) WHERE n.embedding IS NOT NULL SET n:Searchable;\n",
    "    MATCH (n:ProcessDiagram) WHERE n.embedding IS NOT NULL SET n:Searchable;\n",
    "    MATCH (n:Role) WHERE n.embedding IS NOT NULL SET n:Searchable;\n",
    "    MATCH (n:NFCMControl) WHERE n.embedding IS NOT NULL SET n:Searchable;\n",
    "    MATCH (n:Function) WHERE n.embedding IS NOT NULL SET n:Searchable;\n",
    "    MATCH (n:ProcessArea) WHERE n.embedding IS NOT NULL SET n:Searchable;\n",
    "    MATCH (n:SubProcessArea) WHERE n.embedding IS NOT NULL SET n:Searchable;\n",
    "\"\"\")"
   ],
   "outputs": [],
   "execution_count": 3
  },
  {
   "metadata": {},
   "cell_type": "code",
   "outputs": [],
   "execution_count": null,
   "source": [
    "with driver.session() as session:\n",
    "    session.run(\"\"\"\n",
    "    CREATE VECTOR INDEX adonis_graph_embedding_index IF NOT EXISTS\n",
    "    FOR (n:Searchable) ON (n.embedding)\n",
    "    OPTIONS {\n",
    "      indexConfig: {\n",
    "        `vector.dimensions`: 1536,\n",
    "        `vector.similarity_function`: 'cosine'\n",
    "      }\n",
    "    };\"\"\"\n",
    "    )"
   ]
  },
  {
   "metadata": {},
   "cell_type": "code",
   "outputs": [],
   "execution_count": null,
   "source": ""
  }
 ],
 "metadata": {
  "kernelspec": {
   "display_name": "venv",
   "language": "python",
   "name": "python3"
  },
  "language_info": {
   "codemirror_mode": {
    "name": "ipython",
    "version": 3
   },
   "file_extension": ".py",
   "mimetype": "text/x-python",
   "name": "python",
   "nbconvert_exporter": "python",
   "pygments_lexer": "ipython3",
   "version": "3.10.12"
  }
 },
 "nbformat": 4,
 "nbformat_minor": 2
}
