{
  "nbformat": 4,
  "nbformat_minor": 0,
  "metadata": {
    "colab": {
      "provenance": [],
      "authorship_tag": "ABX9TyP42jBR58ZseJa17sa1LndP",
      "include_colab_link": true
    },
    "kernelspec": {
      "name": "python3",
      "display_name": "Python 3"
    },
    "language_info": {
      "name": "python"
    }
  },
  "cells": [
    {
      "cell_type": "markdown",
      "metadata": {
        "id": "view-in-github",
        "colab_type": "text"
      },
      "source": [
        "<a href=\"https://colab.research.google.com/github/genaiconference/Agentic_RAG_Workshop/blob/main/09_build_kg_from_unstructured_data.ipynb\" target=\"_parent\"><img src=\"https://colab.research.google.com/assets/colab-badge.svg\" alt=\"Open In Colab\"/></a>"
      ]
    },
    {
      "cell_type": "markdown",
      "source": [
        "# Neo4J GraphRAG Python Package: Accelerating GenAI With Knowledge Graphs"
      ],
      "metadata": {
        "id": "hj-N77lgiTJJ"
      }
    },
    {
      "cell_type": "markdown",
      "source": [
        "## Intro to Neo4J GraphRAG\n",
        "\n",
        "The **GraphRAG Python package** from **Neo4j** provides end-to-end workflows that take you from unstructured data to knowledge graph creation, knowledge graph retrieval, and full GraphRAG pipelines in one place. Whether you’re using Python to build knowledge assistants, search APIs, chatbots, or report generators, this package makes it easy to incorporate knowledge graphs to improve your retrieval-augmented generation (RAG) relevance, accuracy, and explainability."
      ],
      "metadata": {
        "id": "IjzFzIMTkURX"
      }
    },
    {
      "cell_type": "markdown",
      "source": [
        "## Goal of this Notebook\n",
        "\n",
        "In this notebook, you can learn how to go from **zero to GraphRAG** using the GraphRAG Python package\n",
        "\n",
        "This notebook contains an **end-to-end worked example** using the GraphRAG Python package for Neo4j.\n",
        "- It starts with\n",
        "  - unstructured documents (in this case pdf - Leave Policy Document),\n",
        "  - progresses through knowledge graph construction,\n",
        "  - knowledge graph retriever design, and\n",
        "  - complete GraphRAG pipelines."
      ],
      "metadata": {
        "id": "UxneqF4MlS0L"
      }
    },
    {
      "cell_type": "markdown",
      "source": [
        "# GraphRAG: Adding Knowledge to GenAI"
      ],
      "metadata": {
        "id": "zIwpN5K3jFHu"
      }
    },
    {
      "cell_type": "markdown",
      "source": [
        "Combining knowledge graphs and RAG, GraphRAG helps solve common issues with large language models (LLMs), like hallucinations\n",
        "\n",
        "## GraphRAG Overview\n",
        "\n",
        "- **Problem with LLMs:** They hallucinate and often lack reliable, domain-specific context\n",
        "\n",
        "- **Traditional RAG:** Retrieves only fragments of unstructured text → limited context.\n",
        "\n",
        "- **GraphRAG Advantages**  \n",
        "  - Leverages **knowledge graphs** for structured + semi-structured data  \n",
        "  - Provides richer context → reduces hallucinations  \n",
        "  - Enables more reliable answers  \n",
        "  - Acts as a **trusted agent** in complex workflows  \n",
        "\n",
        "- **GraphRAG Python Package Features**  \n",
        "  - Easy creation and querying of knowledge graphs  \n",
        "  - Retrieval via:  \n",
        "    - Graph traversals  \n",
        "    - Text2Cypher query generation  \n",
        "    - Vector search  \n",
        "    - Full-text search  \n",
        "  - Tooling for **full RAG pipelines**  \n",
        "  - Seamless integration into GenAI applications & workflows\n"
      ],
      "metadata": {
        "id": "W3eNjmcqjbH5"
      }
    },
    {
      "cell_type": "markdown",
      "source": [
        "## Setup & Installations"
      ],
      "metadata": {
        "id": "NNyijHDBjHh3"
      }
    },
    {
      "cell_type": "code",
      "execution_count": null,
      "metadata": {
        "id": "rWOERdpdbL3g"
      },
      "outputs": [],
      "source": [
        "!git clone https://github.com/genaiconference/Agentic_RAG_Workshop.git"
      ]
    },
    {
      "cell_type": "code",
      "source": [
        "!pip install -r /content/Agentic_RAG_Workshop/requirements.txt"
      ],
      "metadata": {
        "id": "YNmMFUeziQTP"
      },
      "execution_count": null,
      "outputs": []
    },
    {
      "cell_type": "markdown",
      "source": [
        "## Pre-Requisites\n",
        "\n",
        "**1. Create a Neo4j Database:** To work through this RAG example, you need a database for storing and retrieving data. There are many options for this. You can quickly start a free Neo4j Graph Database using [Neo4j AuraDB](https://neo4j.com/product/auradb/?ref=neo4j-home-hero). You can use **AuraDB Free ** or start an **AuraDB Professional (Pro) free trial** for higher ingestion and retrieval performance. The Pro instances have a bit more RAM.\n",
        "\n",
        "**2. Get Credentials:** You will need:\n",
        "The Neo4j URI, username, and password variables from when you created the database. If you created your database on AuraDB, they are in the file you downloaded."
      ],
      "metadata": {
        "id": "Np6zy9j5pKUv"
      }
    },
    {
      "cell_type": "markdown",
      "source": [
        "## 0. Create a Neo4j Database"
      ],
      "metadata": {
        "id": "HJ2RJTBQsWQf"
      }
    },
    {
      "cell_type": "markdown",
      "source": [
        "Use **AuraDB Free**\n",
        "\n",
        "- Start a free Neo4j Graph Database using [Neo4j AuraDB](https://neo4j.com/product/auradb/?ref=neo4j-home-hero).\n",
        "\n",
        "- Once you create an instance, you can download and save the credentials to use in the following code."
      ],
      "metadata": {
        "id": "LsHBpB7-ssbf"
      }
    },
    {
      "cell_type": "code",
      "source": [
        "# Load Environment Variables\n",
        "import os\n",
        "os.chdir(\"/content/Agentic_RAG_Workshop/\")\n",
        "\n",
        "from dotenv import load_dotenv\n",
        "load_dotenv()\n",
        "\n",
        "# Load neo4j credentials (and openai api key in background).\n",
        "NEO4J_URI = os.getenv('NEO4J_URI')\n",
        "NEO4J_USERNAME = os.getenv('NEO4J_USERNAME')\n",
        "NEO4J_PASSWORD = os.getenv('NEO4J_PASSWORD')"
      ],
      "metadata": {
        "id": "vNCQP0bZqlk1"
      },
      "execution_count": null,
      "outputs": []
    },
    {
      "cell_type": "markdown",
      "source": [
        "## 1. Knowledge Graph Building\n",
        "\n",
        "Let's transform 'Leave Policy Document' into a knowledge graph and store it in our Neo4j database"
      ],
      "metadata": {
        "id": "Kdt4pVjIkHr1"
      }
    },
    {
      "cell_type": "markdown",
      "source": [
        "The `SimpleKGPipeline` class allows you to automatically build a knowledge graph with a few key inputs, including\n",
        "\n",
        " - a driver to connect to Neo4j,\n",
        " - an LLM for entity extraction, and\n",
        " - an embedding model to create vectors on text chunks for similarity search."
      ],
      "metadata": {
        "id": "0T-xqpGqtYWA"
      }
    },
    {
      "cell_type": "markdown",
      "source": [
        "### Neo4j Driver\n",
        "\n",
        "The Neo4j driver allows you to connect and perform read and write transactions with the database."
      ],
      "metadata": {
        "id": "KnXrj3FatjdM"
      }
    },
    {
      "cell_type": "code",
      "source": [
        "import neo4j\n",
        "\n",
        "# Neo4J Graph Driver\n",
        "neo4j_driver = neo4j.GraphDatabase.driver(NEO4J_URI,\n",
        "                                         auth=(NEO4J_USERNAME, NEO4J_PASSWORD))"
      ],
      "metadata": {
        "id": "lEFjdilptlay"
      },
      "execution_count": null,
      "outputs": []
    },
    {
      "cell_type": "markdown",
      "source": [
        "### LLM & Embedding Model\n",
        "\n",
        "In this case, we will use OpenAI **GPT-4o-mini** for convenience. It is a fast and low-cost model.\n",
        "\n",
        "Likewise, we will use OpenAI’s **text-embedding-3-small** for the embedding model"
      ],
      "metadata": {
        "id": "XDw60ycgtpoB"
      }
    },
    {
      "cell_type": "code",
      "source": [
        "from neo4j_graphrag.llm import OpenAILLM\n",
        "from neo4j_graphrag.embeddings.openai import OpenAIEmbeddings\n",
        "\n",
        "\n",
        "# Neo4J way of defining LLM & embedder\n",
        "llm=OpenAILLM(\n",
        "    model_name=\"gpt-4o-mini\",\n",
        "    model_params={\n",
        "        \"response_format\": {\"type\": \"json_object\"}, # use json_object formatting for best results\n",
        "        \"temperature\": 0 # turning temperature down for more deterministic results\n",
        "    }\n",
        ")\n",
        "\n",
        "# Create text embedder\n",
        "embedder = OpenAIEmbeddings(\n",
        "    model=\"text-embedding-3-small\"\n",
        ")"
      ],
      "metadata": {
        "id": "rFx0bxL9kJT_"
      },
      "execution_count": null,
      "outputs": []
    },
    {
      "cell_type": "code",
      "source": [],
      "metadata": {
        "id": "TE7U6Izwr8Sb"
      },
      "execution_count": null,
      "outputs": []
    }
  ]
}