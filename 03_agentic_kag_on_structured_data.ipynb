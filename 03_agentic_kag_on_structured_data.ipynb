{
 "cells": [
  {
   "cell_type": "markdown",
   "metadata": {},
   "source": [
    "## From Knowledge Graph to AI Agent\n",
    "\n",
    "### A hands-on walkthrough for demonstrating Agentic KG\n"
   ]
  },
  {
   "metadata": {},
   "cell_type": "markdown",
   "source": [
    "## Introduction\n",
    "\n",
    "Raw data is like a pile of LEGO bricks — useful, but static.\n",
    "A knowledge graph transforms that pile into a well-designed LEGO city — everything connected, everything meaningful.\n",
    "Now, imagine adding an AI agent to that city — not just someone who can describe it, but someone who can explore its streets, navigate its neighborhoods, and answer your questions in real time… even uncovering answers you didn’t think to ask for.\n",
    "\n",
    "Today, we’re going from **Knowledge Graph** → **AI Agent** — a step-by-step journey where data becomes intelligence, and intelligence becomes interactive.\n",
    "\n",
    "In this notebook, we'll:\n",
    "1. Create semantic embeddings + a vector store for retrieval\n",
    "2. Build a retriever from the vector store\n",
    "3. Wrap the retriever into a tool\n",
    "4. Create a tool for Text-to-Cypher query generation\n",
    "5. Combine both tools into an AI agent\n",
    "6. Interact with the agent to query and explore the knowledge graph\n",
    "\n",
    "**Tools:**\n",
    "- **Neo4j**: A leading graph database\n",
    "- **OpenAI LLM & Embeddings**: for natural language understanding and vector representation\n",
    "- **LangChain Eco System**: for orchestrating the end-to-end Generative AI pipeline\n"
   ]
  },
  {
   "metadata": {},
   "cell_type": "markdown",
   "source": "### Define LLM and Embeddings"
  },
  {
   "cell_type": "code",
   "metadata": {
    "ExecuteTime": {
     "end_time": "2025-08-13T11:34:51.545096Z",
     "start_time": "2025-08-13T11:34:47.811752Z"
    }
   },
   "source": [
    "from langchain_openai import ChatOpenAI\n",
    "from langchain_openai import OpenAIEmbeddings\n",
    "\n",
    "DEPLOYMENT_NAME = \"gpt-4.1\"\n",
    "EMBEDDING_DEPLOYMENT_NAME = \"text-embedding-3-small\"\n",
    "\n",
    "embedding_model = OpenAIEmbeddings(\n",
    "    model=EMBEDDING_DEPLOYMENT_NAME\n",
    ")\n",
    "\n",
    "llm = ChatOpenAI(model=DEPLOYMENT_NAME)\n",
    "\n",
    "llm.invoke(\"What is 2+2?\")"
   ],
   "outputs": [
    {
     "ename": "APIConnectionError",
     "evalue": "Connection error.",
     "output_type": "error",
     "traceback": [
      "\u001B[1;31m---------------------------------------------------------------------------\u001B[0m",
      "\u001B[1;31mConnectError\u001B[0m                              Traceback (most recent call last)",
      "File \u001B[1;32m~\\OneDrive - Novartis Pharma AG\\Hari\\PyCharm_Projects\\gen.ai\\FRAI_GO_LIVE\\akg_venv_311\\Lib\\site-packages\\httpx\\_transports\\default.py:101\u001B[0m, in \u001B[0;36mmap_httpcore_exceptions\u001B[1;34m()\u001B[0m\n\u001B[0;32m    100\u001B[0m \u001B[38;5;28;01mtry\u001B[39;00m:\n\u001B[1;32m--> 101\u001B[0m     \u001B[38;5;28;01myield\u001B[39;00m\n\u001B[0;32m    102\u001B[0m \u001B[38;5;28;01mexcept\u001B[39;00m \u001B[38;5;167;01mException\u001B[39;00m \u001B[38;5;28;01mas\u001B[39;00m exc:\n",
      "File \u001B[1;32m~\\OneDrive - Novartis Pharma AG\\Hari\\PyCharm_Projects\\gen.ai\\FRAI_GO_LIVE\\akg_venv_311\\Lib\\site-packages\\httpx\\_transports\\default.py:250\u001B[0m, in \u001B[0;36mHTTPTransport.handle_request\u001B[1;34m(self, request)\u001B[0m\n\u001B[0;32m    249\u001B[0m \u001B[38;5;28;01mwith\u001B[39;00m map_httpcore_exceptions():\n\u001B[1;32m--> 250\u001B[0m     resp \u001B[38;5;241m=\u001B[39m \u001B[38;5;28;43mself\u001B[39;49m\u001B[38;5;241;43m.\u001B[39;49m\u001B[43m_pool\u001B[49m\u001B[38;5;241;43m.\u001B[39;49m\u001B[43mhandle_request\u001B[49m\u001B[43m(\u001B[49m\u001B[43mreq\u001B[49m\u001B[43m)\u001B[49m\n\u001B[0;32m    252\u001B[0m \u001B[38;5;28;01massert\u001B[39;00m \u001B[38;5;28misinstance\u001B[39m(resp\u001B[38;5;241m.\u001B[39mstream, typing\u001B[38;5;241m.\u001B[39mIterable)\n",
      "File \u001B[1;32m~\\OneDrive - Novartis Pharma AG\\Hari\\PyCharm_Projects\\gen.ai\\FRAI_GO_LIVE\\akg_venv_311\\Lib\\site-packages\\httpcore\\_sync\\connection_pool.py:256\u001B[0m, in \u001B[0;36mConnectionPool.handle_request\u001B[1;34m(self, request)\u001B[0m\n\u001B[0;32m    255\u001B[0m     \u001B[38;5;28mself\u001B[39m\u001B[38;5;241m.\u001B[39m_close_connections(closing)\n\u001B[1;32m--> 256\u001B[0m     \u001B[38;5;28;01mraise\u001B[39;00m exc \u001B[38;5;28;01mfrom\u001B[39;00m \u001B[38;5;28;01mNone\u001B[39;00m\n\u001B[0;32m    258\u001B[0m \u001B[38;5;66;03m# Return the response. Note that in this case we still have to manage\u001B[39;00m\n\u001B[0;32m    259\u001B[0m \u001B[38;5;66;03m# the point at which the response is closed.\u001B[39;00m\n",
      "File \u001B[1;32m~\\OneDrive - Novartis Pharma AG\\Hari\\PyCharm_Projects\\gen.ai\\FRAI_GO_LIVE\\akg_venv_311\\Lib\\site-packages\\httpcore\\_sync\\connection_pool.py:236\u001B[0m, in \u001B[0;36mConnectionPool.handle_request\u001B[1;34m(self, request)\u001B[0m\n\u001B[0;32m    234\u001B[0m \u001B[38;5;28;01mtry\u001B[39;00m:\n\u001B[0;32m    235\u001B[0m     \u001B[38;5;66;03m# Send the request on the assigned connection.\u001B[39;00m\n\u001B[1;32m--> 236\u001B[0m     response \u001B[38;5;241m=\u001B[39m \u001B[43mconnection\u001B[49m\u001B[38;5;241;43m.\u001B[39;49m\u001B[43mhandle_request\u001B[49m\u001B[43m(\u001B[49m\n\u001B[0;32m    237\u001B[0m \u001B[43m        \u001B[49m\u001B[43mpool_request\u001B[49m\u001B[38;5;241;43m.\u001B[39;49m\u001B[43mrequest\u001B[49m\n\u001B[0;32m    238\u001B[0m \u001B[43m    \u001B[49m\u001B[43m)\u001B[49m\n\u001B[0;32m    239\u001B[0m \u001B[38;5;28;01mexcept\u001B[39;00m ConnectionNotAvailable:\n\u001B[0;32m    240\u001B[0m     \u001B[38;5;66;03m# In some cases a connection may initially be available to\u001B[39;00m\n\u001B[0;32m    241\u001B[0m     \u001B[38;5;66;03m# handle a request, but then become unavailable.\u001B[39;00m\n\u001B[0;32m    242\u001B[0m     \u001B[38;5;66;03m#\u001B[39;00m\n\u001B[0;32m    243\u001B[0m     \u001B[38;5;66;03m# In this case we clear the connection and try again.\u001B[39;00m\n",
      "File \u001B[1;32m~\\OneDrive - Novartis Pharma AG\\Hari\\PyCharm_Projects\\gen.ai\\FRAI_GO_LIVE\\akg_venv_311\\Lib\\site-packages\\httpcore\\_sync\\connection.py:101\u001B[0m, in \u001B[0;36mHTTPConnection.handle_request\u001B[1;34m(self, request)\u001B[0m\n\u001B[0;32m    100\u001B[0m     \u001B[38;5;28mself\u001B[39m\u001B[38;5;241m.\u001B[39m_connect_failed \u001B[38;5;241m=\u001B[39m \u001B[38;5;28;01mTrue\u001B[39;00m\n\u001B[1;32m--> 101\u001B[0m     \u001B[38;5;28;01mraise\u001B[39;00m exc\n\u001B[0;32m    103\u001B[0m \u001B[38;5;28;01mreturn\u001B[39;00m \u001B[38;5;28mself\u001B[39m\u001B[38;5;241m.\u001B[39m_connection\u001B[38;5;241m.\u001B[39mhandle_request(request)\n",
      "File \u001B[1;32m~\\OneDrive - Novartis Pharma AG\\Hari\\PyCharm_Projects\\gen.ai\\FRAI_GO_LIVE\\akg_venv_311\\Lib\\site-packages\\httpcore\\_sync\\connection.py:78\u001B[0m, in \u001B[0;36mHTTPConnection.handle_request\u001B[1;34m(self, request)\u001B[0m\n\u001B[0;32m     77\u001B[0m \u001B[38;5;28;01mif\u001B[39;00m \u001B[38;5;28mself\u001B[39m\u001B[38;5;241m.\u001B[39m_connection \u001B[38;5;129;01mis\u001B[39;00m \u001B[38;5;28;01mNone\u001B[39;00m:\n\u001B[1;32m---> 78\u001B[0m     stream \u001B[38;5;241m=\u001B[39m \u001B[38;5;28;43mself\u001B[39;49m\u001B[38;5;241;43m.\u001B[39;49m\u001B[43m_connect\u001B[49m\u001B[43m(\u001B[49m\u001B[43mrequest\u001B[49m\u001B[43m)\u001B[49m\n\u001B[0;32m     80\u001B[0m     ssl_object \u001B[38;5;241m=\u001B[39m stream\u001B[38;5;241m.\u001B[39mget_extra_info(\u001B[38;5;124m\"\u001B[39m\u001B[38;5;124mssl_object\u001B[39m\u001B[38;5;124m\"\u001B[39m)\n",
      "File \u001B[1;32m~\\OneDrive - Novartis Pharma AG\\Hari\\PyCharm_Projects\\gen.ai\\FRAI_GO_LIVE\\akg_venv_311\\Lib\\site-packages\\httpcore\\_sync\\connection.py:156\u001B[0m, in \u001B[0;36mHTTPConnection._connect\u001B[1;34m(self, request)\u001B[0m\n\u001B[0;32m    155\u001B[0m \u001B[38;5;28;01mwith\u001B[39;00m Trace(\u001B[38;5;124m\"\u001B[39m\u001B[38;5;124mstart_tls\u001B[39m\u001B[38;5;124m\"\u001B[39m, logger, request, kwargs) \u001B[38;5;28;01mas\u001B[39;00m trace:\n\u001B[1;32m--> 156\u001B[0m     stream \u001B[38;5;241m=\u001B[39m \u001B[43mstream\u001B[49m\u001B[38;5;241;43m.\u001B[39;49m\u001B[43mstart_tls\u001B[49m\u001B[43m(\u001B[49m\u001B[38;5;241;43m*\u001B[39;49m\u001B[38;5;241;43m*\u001B[39;49m\u001B[43mkwargs\u001B[49m\u001B[43m)\u001B[49m\n\u001B[0;32m    157\u001B[0m     trace\u001B[38;5;241m.\u001B[39mreturn_value \u001B[38;5;241m=\u001B[39m stream\n",
      "File \u001B[1;32m~\\OneDrive - Novartis Pharma AG\\Hari\\PyCharm_Projects\\gen.ai\\FRAI_GO_LIVE\\akg_venv_311\\Lib\\site-packages\\httpcore\\_backends\\sync.py:154\u001B[0m, in \u001B[0;36mSyncStream.start_tls\u001B[1;34m(self, ssl_context, server_hostname, timeout)\u001B[0m\n\u001B[0;32m    150\u001B[0m exc_map: ExceptionMapping \u001B[38;5;241m=\u001B[39m {\n\u001B[0;32m    151\u001B[0m     socket\u001B[38;5;241m.\u001B[39mtimeout: ConnectTimeout,\n\u001B[0;32m    152\u001B[0m     \u001B[38;5;167;01mOSError\u001B[39;00m: ConnectError,\n\u001B[0;32m    153\u001B[0m }\n\u001B[1;32m--> 154\u001B[0m \u001B[43m\u001B[49m\u001B[38;5;28;43;01mwith\u001B[39;49;00m\u001B[43m \u001B[49m\u001B[43mmap_exceptions\u001B[49m\u001B[43m(\u001B[49m\u001B[43mexc_map\u001B[49m\u001B[43m)\u001B[49m\u001B[43m:\u001B[49m\n\u001B[0;32m    155\u001B[0m \u001B[43m    \u001B[49m\u001B[38;5;28;43;01mtry\u001B[39;49;00m\u001B[43m:\u001B[49m\n",
      "File \u001B[1;32mC:\\Program Files\\WindowsApps\\PythonSoftwareFoundation.Python.3.11_3.11.2544.0_x64__qbz5n2kfra8p0\\Lib\\contextlib.py:158\u001B[0m, in \u001B[0;36m_GeneratorContextManager.__exit__\u001B[1;34m(self, typ, value, traceback)\u001B[0m\n\u001B[0;32m    157\u001B[0m \u001B[38;5;28;01mtry\u001B[39;00m:\n\u001B[1;32m--> 158\u001B[0m     \u001B[38;5;28mself\u001B[39m\u001B[38;5;241m.\u001B[39mgen\u001B[38;5;241m.\u001B[39mthrow(typ, value, traceback)\n\u001B[0;32m    159\u001B[0m \u001B[38;5;28;01mexcept\u001B[39;00m \u001B[38;5;167;01mStopIteration\u001B[39;00m \u001B[38;5;28;01mas\u001B[39;00m exc:\n\u001B[0;32m    160\u001B[0m     \u001B[38;5;66;03m# Suppress StopIteration *unless* it's the same exception that\u001B[39;00m\n\u001B[0;32m    161\u001B[0m     \u001B[38;5;66;03m# was passed to throw().  This prevents a StopIteration\u001B[39;00m\n\u001B[0;32m    162\u001B[0m     \u001B[38;5;66;03m# raised inside the \"with\" statement from being suppressed.\u001B[39;00m\n",
      "File \u001B[1;32m~\\OneDrive - Novartis Pharma AG\\Hari\\PyCharm_Projects\\gen.ai\\FRAI_GO_LIVE\\akg_venv_311\\Lib\\site-packages\\httpcore\\_exceptions.py:14\u001B[0m, in \u001B[0;36mmap_exceptions\u001B[1;34m(map)\u001B[0m\n\u001B[0;32m     13\u001B[0m     \u001B[38;5;28;01mif\u001B[39;00m \u001B[38;5;28misinstance\u001B[39m(exc, from_exc):\n\u001B[1;32m---> 14\u001B[0m         \u001B[38;5;28;01mraise\u001B[39;00m to_exc(exc) \u001B[38;5;28;01mfrom\u001B[39;00m \u001B[38;5;21;01mexc\u001B[39;00m\n\u001B[0;32m     15\u001B[0m \u001B[38;5;28;01mraise\u001B[39;00m\n",
      "\u001B[1;31mConnectError\u001B[0m: [SSL: CERTIFICATE_VERIFY_FAILED] certificate verify failed: self-signed certificate in certificate chain (_ssl.c:1006)",
      "\nThe above exception was the direct cause of the following exception:\n",
      "\u001B[1;31mConnectError\u001B[0m                              Traceback (most recent call last)",
      "File \u001B[1;32m~\\OneDrive - Novartis Pharma AG\\Hari\\PyCharm_Projects\\gen.ai\\FRAI_GO_LIVE\\akg_venv_311\\Lib\\site-packages\\openai\\_base_client.py:979\u001B[0m, in \u001B[0;36mSyncAPIClient.request\u001B[1;34m(self, cast_to, options, stream, stream_cls)\u001B[0m\n\u001B[0;32m    978\u001B[0m \u001B[38;5;28;01mtry\u001B[39;00m:\n\u001B[1;32m--> 979\u001B[0m     response \u001B[38;5;241m=\u001B[39m \u001B[38;5;28;43mself\u001B[39;49m\u001B[38;5;241;43m.\u001B[39;49m\u001B[43m_client\u001B[49m\u001B[38;5;241;43m.\u001B[39;49m\u001B[43msend\u001B[49m\u001B[43m(\u001B[49m\n\u001B[0;32m    980\u001B[0m \u001B[43m        \u001B[49m\u001B[43mrequest\u001B[49m\u001B[43m,\u001B[49m\n\u001B[0;32m    981\u001B[0m \u001B[43m        \u001B[49m\u001B[43mstream\u001B[49m\u001B[38;5;241;43m=\u001B[39;49m\u001B[43mstream\u001B[49m\u001B[43m \u001B[49m\u001B[38;5;129;43;01mor\u001B[39;49;00m\u001B[43m \u001B[49m\u001B[38;5;28;43mself\u001B[39;49m\u001B[38;5;241;43m.\u001B[39;49m\u001B[43m_should_stream_response_body\u001B[49m\u001B[43m(\u001B[49m\u001B[43mrequest\u001B[49m\u001B[38;5;241;43m=\u001B[39;49m\u001B[43mrequest\u001B[49m\u001B[43m)\u001B[49m\u001B[43m,\u001B[49m\n\u001B[0;32m    982\u001B[0m \u001B[43m        \u001B[49m\u001B[38;5;241;43m*\u001B[39;49m\u001B[38;5;241;43m*\u001B[39;49m\u001B[43mkwargs\u001B[49m\u001B[43m,\u001B[49m\n\u001B[0;32m    983\u001B[0m \u001B[43m    \u001B[49m\u001B[43m)\u001B[49m\n\u001B[0;32m    984\u001B[0m \u001B[38;5;28;01mexcept\u001B[39;00m httpx\u001B[38;5;241m.\u001B[39mTimeoutException \u001B[38;5;28;01mas\u001B[39;00m err:\n",
      "File \u001B[1;32m~\\OneDrive - Novartis Pharma AG\\Hari\\PyCharm_Projects\\gen.ai\\FRAI_GO_LIVE\\akg_venv_311\\Lib\\site-packages\\httpx\\_client.py:914\u001B[0m, in \u001B[0;36mClient.send\u001B[1;34m(self, request, stream, auth, follow_redirects)\u001B[0m\n\u001B[0;32m    912\u001B[0m auth \u001B[38;5;241m=\u001B[39m \u001B[38;5;28mself\u001B[39m\u001B[38;5;241m.\u001B[39m_build_request_auth(request, auth)\n\u001B[1;32m--> 914\u001B[0m response \u001B[38;5;241m=\u001B[39m \u001B[38;5;28;43mself\u001B[39;49m\u001B[38;5;241;43m.\u001B[39;49m\u001B[43m_send_handling_auth\u001B[49m\u001B[43m(\u001B[49m\n\u001B[0;32m    915\u001B[0m \u001B[43m    \u001B[49m\u001B[43mrequest\u001B[49m\u001B[43m,\u001B[49m\n\u001B[0;32m    916\u001B[0m \u001B[43m    \u001B[49m\u001B[43mauth\u001B[49m\u001B[38;5;241;43m=\u001B[39;49m\u001B[43mauth\u001B[49m\u001B[43m,\u001B[49m\n\u001B[0;32m    917\u001B[0m \u001B[43m    \u001B[49m\u001B[43mfollow_redirects\u001B[49m\u001B[38;5;241;43m=\u001B[39;49m\u001B[43mfollow_redirects\u001B[49m\u001B[43m,\u001B[49m\n\u001B[0;32m    918\u001B[0m \u001B[43m    \u001B[49m\u001B[43mhistory\u001B[49m\u001B[38;5;241;43m=\u001B[39;49m\u001B[43m[\u001B[49m\u001B[43m]\u001B[49m\u001B[43m,\u001B[49m\n\u001B[0;32m    919\u001B[0m \u001B[43m\u001B[49m\u001B[43m)\u001B[49m\n\u001B[0;32m    920\u001B[0m \u001B[38;5;28;01mtry\u001B[39;00m:\n",
      "File \u001B[1;32m~\\OneDrive - Novartis Pharma AG\\Hari\\PyCharm_Projects\\gen.ai\\FRAI_GO_LIVE\\akg_venv_311\\Lib\\site-packages\\httpx\\_client.py:942\u001B[0m, in \u001B[0;36mClient._send_handling_auth\u001B[1;34m(self, request, auth, follow_redirects, history)\u001B[0m\n\u001B[0;32m    941\u001B[0m \u001B[38;5;28;01mwhile\u001B[39;00m \u001B[38;5;28;01mTrue\u001B[39;00m:\n\u001B[1;32m--> 942\u001B[0m     response \u001B[38;5;241m=\u001B[39m \u001B[38;5;28;43mself\u001B[39;49m\u001B[38;5;241;43m.\u001B[39;49m\u001B[43m_send_handling_redirects\u001B[49m\u001B[43m(\u001B[49m\n\u001B[0;32m    943\u001B[0m \u001B[43m        \u001B[49m\u001B[43mrequest\u001B[49m\u001B[43m,\u001B[49m\n\u001B[0;32m    944\u001B[0m \u001B[43m        \u001B[49m\u001B[43mfollow_redirects\u001B[49m\u001B[38;5;241;43m=\u001B[39;49m\u001B[43mfollow_redirects\u001B[49m\u001B[43m,\u001B[49m\n\u001B[0;32m    945\u001B[0m \u001B[43m        \u001B[49m\u001B[43mhistory\u001B[49m\u001B[38;5;241;43m=\u001B[39;49m\u001B[43mhistory\u001B[49m\u001B[43m,\u001B[49m\n\u001B[0;32m    946\u001B[0m \u001B[43m    \u001B[49m\u001B[43m)\u001B[49m\n\u001B[0;32m    947\u001B[0m     \u001B[38;5;28;01mtry\u001B[39;00m:\n",
      "File \u001B[1;32m~\\OneDrive - Novartis Pharma AG\\Hari\\PyCharm_Projects\\gen.ai\\FRAI_GO_LIVE\\akg_venv_311\\Lib\\site-packages\\httpx\\_client.py:979\u001B[0m, in \u001B[0;36mClient._send_handling_redirects\u001B[1;34m(self, request, follow_redirects, history)\u001B[0m\n\u001B[0;32m    977\u001B[0m     hook(request)\n\u001B[1;32m--> 979\u001B[0m response \u001B[38;5;241m=\u001B[39m \u001B[38;5;28;43mself\u001B[39;49m\u001B[38;5;241;43m.\u001B[39;49m\u001B[43m_send_single_request\u001B[49m\u001B[43m(\u001B[49m\u001B[43mrequest\u001B[49m\u001B[43m)\u001B[49m\n\u001B[0;32m    980\u001B[0m \u001B[38;5;28;01mtry\u001B[39;00m:\n",
      "File \u001B[1;32m~\\OneDrive - Novartis Pharma AG\\Hari\\PyCharm_Projects\\gen.ai\\FRAI_GO_LIVE\\akg_venv_311\\Lib\\site-packages\\httpx\\_client.py:1014\u001B[0m, in \u001B[0;36mClient._send_single_request\u001B[1;34m(self, request)\u001B[0m\n\u001B[0;32m   1013\u001B[0m \u001B[38;5;28;01mwith\u001B[39;00m request_context(request\u001B[38;5;241m=\u001B[39mrequest):\n\u001B[1;32m-> 1014\u001B[0m     response \u001B[38;5;241m=\u001B[39m \u001B[43mtransport\u001B[49m\u001B[38;5;241;43m.\u001B[39;49m\u001B[43mhandle_request\u001B[49m\u001B[43m(\u001B[49m\u001B[43mrequest\u001B[49m\u001B[43m)\u001B[49m\n\u001B[0;32m   1016\u001B[0m \u001B[38;5;28;01massert\u001B[39;00m \u001B[38;5;28misinstance\u001B[39m(response\u001B[38;5;241m.\u001B[39mstream, SyncByteStream)\n",
      "File \u001B[1;32m~\\OneDrive - Novartis Pharma AG\\Hari\\PyCharm_Projects\\gen.ai\\FRAI_GO_LIVE\\akg_venv_311\\Lib\\site-packages\\httpx\\_transports\\default.py:249\u001B[0m, in \u001B[0;36mHTTPTransport.handle_request\u001B[1;34m(self, request)\u001B[0m\n\u001B[0;32m    237\u001B[0m req \u001B[38;5;241m=\u001B[39m httpcore\u001B[38;5;241m.\u001B[39mRequest(\n\u001B[0;32m    238\u001B[0m     method\u001B[38;5;241m=\u001B[39mrequest\u001B[38;5;241m.\u001B[39mmethod,\n\u001B[0;32m    239\u001B[0m     url\u001B[38;5;241m=\u001B[39mhttpcore\u001B[38;5;241m.\u001B[39mURL(\n\u001B[1;32m   (...)\u001B[0m\n\u001B[0;32m    247\u001B[0m     extensions\u001B[38;5;241m=\u001B[39mrequest\u001B[38;5;241m.\u001B[39mextensions,\n\u001B[0;32m    248\u001B[0m )\n\u001B[1;32m--> 249\u001B[0m \u001B[43m\u001B[49m\u001B[38;5;28;43;01mwith\u001B[39;49;00m\u001B[43m \u001B[49m\u001B[43mmap_httpcore_exceptions\u001B[49m\u001B[43m(\u001B[49m\u001B[43m)\u001B[49m\u001B[43m:\u001B[49m\n\u001B[0;32m    250\u001B[0m \u001B[43m    \u001B[49m\u001B[43mresp\u001B[49m\u001B[43m \u001B[49m\u001B[38;5;241;43m=\u001B[39;49m\u001B[43m \u001B[49m\u001B[38;5;28;43mself\u001B[39;49m\u001B[38;5;241;43m.\u001B[39;49m\u001B[43m_pool\u001B[49m\u001B[38;5;241;43m.\u001B[39;49m\u001B[43mhandle_request\u001B[49m\u001B[43m(\u001B[49m\u001B[43mreq\u001B[49m\u001B[43m)\u001B[49m\n",
      "File \u001B[1;32mC:\\Program Files\\WindowsApps\\PythonSoftwareFoundation.Python.3.11_3.11.2544.0_x64__qbz5n2kfra8p0\\Lib\\contextlib.py:158\u001B[0m, in \u001B[0;36m_GeneratorContextManager.__exit__\u001B[1;34m(self, typ, value, traceback)\u001B[0m\n\u001B[0;32m    157\u001B[0m \u001B[38;5;28;01mtry\u001B[39;00m:\n\u001B[1;32m--> 158\u001B[0m     \u001B[38;5;28mself\u001B[39m\u001B[38;5;241m.\u001B[39mgen\u001B[38;5;241m.\u001B[39mthrow(typ, value, traceback)\n\u001B[0;32m    159\u001B[0m \u001B[38;5;28;01mexcept\u001B[39;00m \u001B[38;5;167;01mStopIteration\u001B[39;00m \u001B[38;5;28;01mas\u001B[39;00m exc:\n\u001B[0;32m    160\u001B[0m     \u001B[38;5;66;03m# Suppress StopIteration *unless* it's the same exception that\u001B[39;00m\n\u001B[0;32m    161\u001B[0m     \u001B[38;5;66;03m# was passed to throw().  This prevents a StopIteration\u001B[39;00m\n\u001B[0;32m    162\u001B[0m     \u001B[38;5;66;03m# raised inside the \"with\" statement from being suppressed.\u001B[39;00m\n",
      "File \u001B[1;32m~\\OneDrive - Novartis Pharma AG\\Hari\\PyCharm_Projects\\gen.ai\\FRAI_GO_LIVE\\akg_venv_311\\Lib\\site-packages\\httpx\\_transports\\default.py:118\u001B[0m, in \u001B[0;36mmap_httpcore_exceptions\u001B[1;34m()\u001B[0m\n\u001B[0;32m    117\u001B[0m message \u001B[38;5;241m=\u001B[39m \u001B[38;5;28mstr\u001B[39m(exc)\n\u001B[1;32m--> 118\u001B[0m \u001B[38;5;28;01mraise\u001B[39;00m mapped_exc(message) \u001B[38;5;28;01mfrom\u001B[39;00m \u001B[38;5;21;01mexc\u001B[39;00m\n",
      "\u001B[1;31mConnectError\u001B[0m: [SSL: CERTIFICATE_VERIFY_FAILED] certificate verify failed: self-signed certificate in certificate chain (_ssl.c:1006)",
      "\nThe above exception was the direct cause of the following exception:\n",
      "\u001B[1;31mAPIConnectionError\u001B[0m                        Traceback (most recent call last)",
      "Cell \u001B[1;32mIn[12], line 20\u001B[0m\n\u001B[0;32m     14\u001B[0m embedding_model \u001B[38;5;241m=\u001B[39m OpenAIEmbeddings(\n\u001B[0;32m     15\u001B[0m     model\u001B[38;5;241m=\u001B[39mEMBEDDING_DEPLOYMENT_NAME\n\u001B[0;32m     16\u001B[0m )\n\u001B[0;32m     18\u001B[0m llm \u001B[38;5;241m=\u001B[39m ChatOpenAI(openai_api_key\u001B[38;5;241m=\u001B[39mOPENAI_API_KEY)\n\u001B[1;32m---> 20\u001B[0m \u001B[43mllm\u001B[49m\u001B[38;5;241;43m.\u001B[39;49m\u001B[43minvoke\u001B[49m\u001B[43m(\u001B[49m\u001B[38;5;124;43m\"\u001B[39;49m\u001B[38;5;124;43mWhat is 2+2?\u001B[39;49m\u001B[38;5;124;43m\"\u001B[39;49m\u001B[43m)\u001B[49m\n",
      "File \u001B[1;32m~\\OneDrive - Novartis Pharma AG\\Hari\\PyCharm_Projects\\gen.ai\\FRAI_GO_LIVE\\akg_venv_311\\Lib\\site-packages\\langchain_core\\language_models\\chat_models.py:378\u001B[0m, in \u001B[0;36mBaseChatModel.invoke\u001B[1;34m(self, input, config, stop, **kwargs)\u001B[0m\n\u001B[0;32m    366\u001B[0m \u001B[38;5;129m@override\u001B[39m\n\u001B[0;32m    367\u001B[0m \u001B[38;5;28;01mdef\u001B[39;00m \u001B[38;5;21minvoke\u001B[39m(\n\u001B[0;32m    368\u001B[0m     \u001B[38;5;28mself\u001B[39m,\n\u001B[1;32m   (...)\u001B[0m\n\u001B[0;32m    373\u001B[0m     \u001B[38;5;241m*\u001B[39m\u001B[38;5;241m*\u001B[39mkwargs: Any,\n\u001B[0;32m    374\u001B[0m ) \u001B[38;5;241m-\u001B[39m\u001B[38;5;241m>\u001B[39m BaseMessage:\n\u001B[0;32m    375\u001B[0m     config \u001B[38;5;241m=\u001B[39m ensure_config(config)\n\u001B[0;32m    376\u001B[0m     \u001B[38;5;28;01mreturn\u001B[39;00m cast(\n\u001B[0;32m    377\u001B[0m         \u001B[38;5;124m\"\u001B[39m\u001B[38;5;124mChatGeneration\u001B[39m\u001B[38;5;124m\"\u001B[39m,\n\u001B[1;32m--> 378\u001B[0m         \u001B[38;5;28;43mself\u001B[39;49m\u001B[38;5;241;43m.\u001B[39;49m\u001B[43mgenerate_prompt\u001B[49m\u001B[43m(\u001B[49m\n\u001B[0;32m    379\u001B[0m \u001B[43m            \u001B[49m\u001B[43m[\u001B[49m\u001B[38;5;28;43mself\u001B[39;49m\u001B[38;5;241;43m.\u001B[39;49m\u001B[43m_convert_input\u001B[49m\u001B[43m(\u001B[49m\u001B[38;5;28;43minput\u001B[39;49m\u001B[43m)\u001B[49m\u001B[43m]\u001B[49m\u001B[43m,\u001B[49m\n\u001B[0;32m    380\u001B[0m \u001B[43m            \u001B[49m\u001B[43mstop\u001B[49m\u001B[38;5;241;43m=\u001B[39;49m\u001B[43mstop\u001B[49m\u001B[43m,\u001B[49m\n\u001B[0;32m    381\u001B[0m \u001B[43m            \u001B[49m\u001B[43mcallbacks\u001B[49m\u001B[38;5;241;43m=\u001B[39;49m\u001B[43mconfig\u001B[49m\u001B[38;5;241;43m.\u001B[39;49m\u001B[43mget\u001B[49m\u001B[43m(\u001B[49m\u001B[38;5;124;43m\"\u001B[39;49m\u001B[38;5;124;43mcallbacks\u001B[39;49m\u001B[38;5;124;43m\"\u001B[39;49m\u001B[43m)\u001B[49m\u001B[43m,\u001B[49m\n\u001B[0;32m    382\u001B[0m \u001B[43m            \u001B[49m\u001B[43mtags\u001B[49m\u001B[38;5;241;43m=\u001B[39;49m\u001B[43mconfig\u001B[49m\u001B[38;5;241;43m.\u001B[39;49m\u001B[43mget\u001B[49m\u001B[43m(\u001B[49m\u001B[38;5;124;43m\"\u001B[39;49m\u001B[38;5;124;43mtags\u001B[39;49m\u001B[38;5;124;43m\"\u001B[39;49m\u001B[43m)\u001B[49m\u001B[43m,\u001B[49m\n\u001B[0;32m    383\u001B[0m \u001B[43m            \u001B[49m\u001B[43mmetadata\u001B[49m\u001B[38;5;241;43m=\u001B[39;49m\u001B[43mconfig\u001B[49m\u001B[38;5;241;43m.\u001B[39;49m\u001B[43mget\u001B[49m\u001B[43m(\u001B[49m\u001B[38;5;124;43m\"\u001B[39;49m\u001B[38;5;124;43mmetadata\u001B[39;49m\u001B[38;5;124;43m\"\u001B[39;49m\u001B[43m)\u001B[49m\u001B[43m,\u001B[49m\n\u001B[0;32m    384\u001B[0m \u001B[43m            \u001B[49m\u001B[43mrun_name\u001B[49m\u001B[38;5;241;43m=\u001B[39;49m\u001B[43mconfig\u001B[49m\u001B[38;5;241;43m.\u001B[39;49m\u001B[43mget\u001B[49m\u001B[43m(\u001B[49m\u001B[38;5;124;43m\"\u001B[39;49m\u001B[38;5;124;43mrun_name\u001B[39;49m\u001B[38;5;124;43m\"\u001B[39;49m\u001B[43m)\u001B[49m\u001B[43m,\u001B[49m\n\u001B[0;32m    385\u001B[0m \u001B[43m            \u001B[49m\u001B[43mrun_id\u001B[49m\u001B[38;5;241;43m=\u001B[39;49m\u001B[43mconfig\u001B[49m\u001B[38;5;241;43m.\u001B[39;49m\u001B[43mpop\u001B[49m\u001B[43m(\u001B[49m\u001B[38;5;124;43m\"\u001B[39;49m\u001B[38;5;124;43mrun_id\u001B[39;49m\u001B[38;5;124;43m\"\u001B[39;49m\u001B[43m,\u001B[49m\u001B[43m \u001B[49m\u001B[38;5;28;43;01mNone\u001B[39;49;00m\u001B[43m)\u001B[49m\u001B[43m,\u001B[49m\n\u001B[0;32m    386\u001B[0m \u001B[43m            \u001B[49m\u001B[38;5;241;43m*\u001B[39;49m\u001B[38;5;241;43m*\u001B[39;49m\u001B[43mkwargs\u001B[49m\u001B[43m,\u001B[49m\n\u001B[0;32m    387\u001B[0m \u001B[43m        \u001B[49m\u001B[43m)\u001B[49m\u001B[38;5;241m.\u001B[39mgenerations[\u001B[38;5;241m0\u001B[39m][\u001B[38;5;241m0\u001B[39m],\n\u001B[0;32m    388\u001B[0m     )\u001B[38;5;241m.\u001B[39mmessage\n",
      "File \u001B[1;32m~\\OneDrive - Novartis Pharma AG\\Hari\\PyCharm_Projects\\gen.ai\\FRAI_GO_LIVE\\akg_venv_311\\Lib\\site-packages\\langchain_core\\language_models\\chat_models.py:963\u001B[0m, in \u001B[0;36mBaseChatModel.generate_prompt\u001B[1;34m(self, prompts, stop, callbacks, **kwargs)\u001B[0m\n\u001B[0;32m    954\u001B[0m \u001B[38;5;129m@override\u001B[39m\n\u001B[0;32m    955\u001B[0m \u001B[38;5;28;01mdef\u001B[39;00m \u001B[38;5;21mgenerate_prompt\u001B[39m(\n\u001B[0;32m    956\u001B[0m     \u001B[38;5;28mself\u001B[39m,\n\u001B[1;32m   (...)\u001B[0m\n\u001B[0;32m    960\u001B[0m     \u001B[38;5;241m*\u001B[39m\u001B[38;5;241m*\u001B[39mkwargs: Any,\n\u001B[0;32m    961\u001B[0m ) \u001B[38;5;241m-\u001B[39m\u001B[38;5;241m>\u001B[39m LLMResult:\n\u001B[0;32m    962\u001B[0m     prompt_messages \u001B[38;5;241m=\u001B[39m [p\u001B[38;5;241m.\u001B[39mto_messages() \u001B[38;5;28;01mfor\u001B[39;00m p \u001B[38;5;129;01min\u001B[39;00m prompts]\n\u001B[1;32m--> 963\u001B[0m     \u001B[38;5;28;01mreturn\u001B[39;00m \u001B[38;5;28;43mself\u001B[39;49m\u001B[38;5;241;43m.\u001B[39;49m\u001B[43mgenerate\u001B[49m\u001B[43m(\u001B[49m\u001B[43mprompt_messages\u001B[49m\u001B[43m,\u001B[49m\u001B[43m \u001B[49m\u001B[43mstop\u001B[49m\u001B[38;5;241;43m=\u001B[39;49m\u001B[43mstop\u001B[49m\u001B[43m,\u001B[49m\u001B[43m \u001B[49m\u001B[43mcallbacks\u001B[49m\u001B[38;5;241;43m=\u001B[39;49m\u001B[43mcallbacks\u001B[49m\u001B[43m,\u001B[49m\u001B[43m \u001B[49m\u001B[38;5;241;43m*\u001B[39;49m\u001B[38;5;241;43m*\u001B[39;49m\u001B[43mkwargs\u001B[49m\u001B[43m)\u001B[49m\n",
      "File \u001B[1;32m~\\OneDrive - Novartis Pharma AG\\Hari\\PyCharm_Projects\\gen.ai\\FRAI_GO_LIVE\\akg_venv_311\\Lib\\site-packages\\langchain_core\\language_models\\chat_models.py:782\u001B[0m, in \u001B[0;36mBaseChatModel.generate\u001B[1;34m(self, messages, stop, callbacks, tags, metadata, run_name, run_id, **kwargs)\u001B[0m\n\u001B[0;32m    779\u001B[0m \u001B[38;5;28;01mfor\u001B[39;00m i, m \u001B[38;5;129;01min\u001B[39;00m \u001B[38;5;28menumerate\u001B[39m(input_messages):\n\u001B[0;32m    780\u001B[0m     \u001B[38;5;28;01mtry\u001B[39;00m:\n\u001B[0;32m    781\u001B[0m         results\u001B[38;5;241m.\u001B[39mappend(\n\u001B[1;32m--> 782\u001B[0m             \u001B[38;5;28;43mself\u001B[39;49m\u001B[38;5;241;43m.\u001B[39;49m\u001B[43m_generate_with_cache\u001B[49m\u001B[43m(\u001B[49m\n\u001B[0;32m    783\u001B[0m \u001B[43m                \u001B[49m\u001B[43mm\u001B[49m\u001B[43m,\u001B[49m\n\u001B[0;32m    784\u001B[0m \u001B[43m                \u001B[49m\u001B[43mstop\u001B[49m\u001B[38;5;241;43m=\u001B[39;49m\u001B[43mstop\u001B[49m\u001B[43m,\u001B[49m\n\u001B[0;32m    785\u001B[0m \u001B[43m                \u001B[49m\u001B[43mrun_manager\u001B[49m\u001B[38;5;241;43m=\u001B[39;49m\u001B[43mrun_managers\u001B[49m\u001B[43m[\u001B[49m\u001B[43mi\u001B[49m\u001B[43m]\u001B[49m\u001B[43m \u001B[49m\u001B[38;5;28;43;01mif\u001B[39;49;00m\u001B[43m \u001B[49m\u001B[43mrun_managers\u001B[49m\u001B[43m \u001B[49m\u001B[38;5;28;43;01melse\u001B[39;49;00m\u001B[43m \u001B[49m\u001B[38;5;28;43;01mNone\u001B[39;49;00m\u001B[43m,\u001B[49m\n\u001B[0;32m    786\u001B[0m \u001B[43m                \u001B[49m\u001B[38;5;241;43m*\u001B[39;49m\u001B[38;5;241;43m*\u001B[39;49m\u001B[43mkwargs\u001B[49m\u001B[43m,\u001B[49m\n\u001B[0;32m    787\u001B[0m \u001B[43m            \u001B[49m\u001B[43m)\u001B[49m\n\u001B[0;32m    788\u001B[0m         )\n\u001B[0;32m    789\u001B[0m     \u001B[38;5;28;01mexcept\u001B[39;00m \u001B[38;5;167;01mBaseException\u001B[39;00m \u001B[38;5;28;01mas\u001B[39;00m e:\n\u001B[0;32m    790\u001B[0m         \u001B[38;5;28;01mif\u001B[39;00m run_managers:\n",
      "File \u001B[1;32m~\\OneDrive - Novartis Pharma AG\\Hari\\PyCharm_Projects\\gen.ai\\FRAI_GO_LIVE\\akg_venv_311\\Lib\\site-packages\\langchain_core\\language_models\\chat_models.py:1028\u001B[0m, in \u001B[0;36mBaseChatModel._generate_with_cache\u001B[1;34m(self, messages, stop, run_manager, **kwargs)\u001B[0m\n\u001B[0;32m   1026\u001B[0m     result \u001B[38;5;241m=\u001B[39m generate_from_stream(\u001B[38;5;28miter\u001B[39m(chunks))\n\u001B[0;32m   1027\u001B[0m \u001B[38;5;28;01melif\u001B[39;00m inspect\u001B[38;5;241m.\u001B[39msignature(\u001B[38;5;28mself\u001B[39m\u001B[38;5;241m.\u001B[39m_generate)\u001B[38;5;241m.\u001B[39mparameters\u001B[38;5;241m.\u001B[39mget(\u001B[38;5;124m\"\u001B[39m\u001B[38;5;124mrun_manager\u001B[39m\u001B[38;5;124m\"\u001B[39m):\n\u001B[1;32m-> 1028\u001B[0m     result \u001B[38;5;241m=\u001B[39m \u001B[38;5;28;43mself\u001B[39;49m\u001B[38;5;241;43m.\u001B[39;49m\u001B[43m_generate\u001B[49m\u001B[43m(\u001B[49m\n\u001B[0;32m   1029\u001B[0m \u001B[43m        \u001B[49m\u001B[43mmessages\u001B[49m\u001B[43m,\u001B[49m\u001B[43m \u001B[49m\u001B[43mstop\u001B[49m\u001B[38;5;241;43m=\u001B[39;49m\u001B[43mstop\u001B[49m\u001B[43m,\u001B[49m\u001B[43m \u001B[49m\u001B[43mrun_manager\u001B[49m\u001B[38;5;241;43m=\u001B[39;49m\u001B[43mrun_manager\u001B[49m\u001B[43m,\u001B[49m\u001B[43m \u001B[49m\u001B[38;5;241;43m*\u001B[39;49m\u001B[38;5;241;43m*\u001B[39;49m\u001B[43mkwargs\u001B[49m\n\u001B[0;32m   1030\u001B[0m \u001B[43m    \u001B[49m\u001B[43m)\u001B[49m\n\u001B[0;32m   1031\u001B[0m \u001B[38;5;28;01melse\u001B[39;00m:\n\u001B[0;32m   1032\u001B[0m     result \u001B[38;5;241m=\u001B[39m \u001B[38;5;28mself\u001B[39m\u001B[38;5;241m.\u001B[39m_generate(messages, stop\u001B[38;5;241m=\u001B[39mstop, \u001B[38;5;241m*\u001B[39m\u001B[38;5;241m*\u001B[39mkwargs)\n",
      "File \u001B[1;32m~\\OneDrive - Novartis Pharma AG\\Hari\\PyCharm_Projects\\gen.ai\\FRAI_GO_LIVE\\akg_venv_311\\Lib\\site-packages\\langchain_openai\\chat_models\\base.py:790\u001B[0m, in \u001B[0;36mBaseChatOpenAI._generate\u001B[1;34m(self, messages, stop, run_manager, **kwargs)\u001B[0m\n\u001B[0;32m    788\u001B[0m     generation_info \u001B[38;5;241m=\u001B[39m {\u001B[38;5;124m\"\u001B[39m\u001B[38;5;124mheaders\u001B[39m\u001B[38;5;124m\"\u001B[39m: \u001B[38;5;28mdict\u001B[39m(raw_response\u001B[38;5;241m.\u001B[39mheaders)}\n\u001B[0;32m    789\u001B[0m \u001B[38;5;28;01melse\u001B[39;00m:\n\u001B[1;32m--> 790\u001B[0m     response \u001B[38;5;241m=\u001B[39m \u001B[38;5;28;43mself\u001B[39;49m\u001B[38;5;241;43m.\u001B[39;49m\u001B[43mclient\u001B[49m\u001B[38;5;241;43m.\u001B[39;49m\u001B[43mcreate\u001B[49m\u001B[43m(\u001B[49m\u001B[38;5;241;43m*\u001B[39;49m\u001B[38;5;241;43m*\u001B[39;49m\u001B[43mpayload\u001B[49m\u001B[43m)\u001B[49m\n\u001B[0;32m    791\u001B[0m \u001B[38;5;28;01mreturn\u001B[39;00m \u001B[38;5;28mself\u001B[39m\u001B[38;5;241m.\u001B[39m_create_chat_result(response, generation_info)\n",
      "File \u001B[1;32m~\\OneDrive - Novartis Pharma AG\\Hari\\PyCharm_Projects\\gen.ai\\FRAI_GO_LIVE\\akg_venv_311\\Lib\\site-packages\\openai\\_utils\\_utils.py:287\u001B[0m, in \u001B[0;36mrequired_args.<locals>.inner.<locals>.wrapper\u001B[1;34m(*args, **kwargs)\u001B[0m\n\u001B[0;32m    285\u001B[0m             msg \u001B[38;5;241m=\u001B[39m \u001B[38;5;124mf\u001B[39m\u001B[38;5;124m\"\u001B[39m\u001B[38;5;124mMissing required argument: \u001B[39m\u001B[38;5;132;01m{\u001B[39;00mquote(missing[\u001B[38;5;241m0\u001B[39m])\u001B[38;5;132;01m}\u001B[39;00m\u001B[38;5;124m\"\u001B[39m\n\u001B[0;32m    286\u001B[0m     \u001B[38;5;28;01mraise\u001B[39;00m \u001B[38;5;167;01mTypeError\u001B[39;00m(msg)\n\u001B[1;32m--> 287\u001B[0m \u001B[38;5;28;01mreturn\u001B[39;00m \u001B[43mfunc\u001B[49m\u001B[43m(\u001B[49m\u001B[38;5;241;43m*\u001B[39;49m\u001B[43margs\u001B[49m\u001B[43m,\u001B[49m\u001B[43m \u001B[49m\u001B[38;5;241;43m*\u001B[39;49m\u001B[38;5;241;43m*\u001B[39;49m\u001B[43mkwargs\u001B[49m\u001B[43m)\u001B[49m\n",
      "File \u001B[1;32m~\\OneDrive - Novartis Pharma AG\\Hari\\PyCharm_Projects\\gen.ai\\FRAI_GO_LIVE\\akg_venv_311\\Lib\\site-packages\\openai\\resources\\chat\\completions\\completions.py:1131\u001B[0m, in \u001B[0;36mCompletions.create\u001B[1;34m(self, messages, model, audio, frequency_penalty, function_call, functions, logit_bias, logprobs, max_completion_tokens, max_tokens, metadata, modalities, n, parallel_tool_calls, prediction, presence_penalty, prompt_cache_key, reasoning_effort, response_format, safety_identifier, seed, service_tier, stop, store, stream, stream_options, temperature, tool_choice, tools, top_logprobs, top_p, user, web_search_options, extra_headers, extra_query, extra_body, timeout)\u001B[0m\n\u001B[0;32m   1086\u001B[0m \u001B[38;5;129m@required_args\u001B[39m([\u001B[38;5;124m\"\u001B[39m\u001B[38;5;124mmessages\u001B[39m\u001B[38;5;124m\"\u001B[39m, \u001B[38;5;124m\"\u001B[39m\u001B[38;5;124mmodel\u001B[39m\u001B[38;5;124m\"\u001B[39m], [\u001B[38;5;124m\"\u001B[39m\u001B[38;5;124mmessages\u001B[39m\u001B[38;5;124m\"\u001B[39m, \u001B[38;5;124m\"\u001B[39m\u001B[38;5;124mmodel\u001B[39m\u001B[38;5;124m\"\u001B[39m, \u001B[38;5;124m\"\u001B[39m\u001B[38;5;124mstream\u001B[39m\u001B[38;5;124m\"\u001B[39m])\n\u001B[0;32m   1087\u001B[0m \u001B[38;5;28;01mdef\u001B[39;00m \u001B[38;5;21mcreate\u001B[39m(\n\u001B[0;32m   1088\u001B[0m     \u001B[38;5;28mself\u001B[39m,\n\u001B[1;32m   (...)\u001B[0m\n\u001B[0;32m   1128\u001B[0m     timeout: \u001B[38;5;28mfloat\u001B[39m \u001B[38;5;241m|\u001B[39m httpx\u001B[38;5;241m.\u001B[39mTimeout \u001B[38;5;241m|\u001B[39m \u001B[38;5;28;01mNone\u001B[39;00m \u001B[38;5;241m|\u001B[39m NotGiven \u001B[38;5;241m=\u001B[39m NOT_GIVEN,\n\u001B[0;32m   1129\u001B[0m ) \u001B[38;5;241m-\u001B[39m\u001B[38;5;241m>\u001B[39m ChatCompletion \u001B[38;5;241m|\u001B[39m Stream[ChatCompletionChunk]:\n\u001B[0;32m   1130\u001B[0m     validate_response_format(response_format)\n\u001B[1;32m-> 1131\u001B[0m     \u001B[38;5;28;01mreturn\u001B[39;00m \u001B[38;5;28;43mself\u001B[39;49m\u001B[38;5;241;43m.\u001B[39;49m\u001B[43m_post\u001B[49m\u001B[43m(\u001B[49m\n\u001B[0;32m   1132\u001B[0m \u001B[43m        \u001B[49m\u001B[38;5;124;43m\"\u001B[39;49m\u001B[38;5;124;43m/chat/completions\u001B[39;49m\u001B[38;5;124;43m\"\u001B[39;49m\u001B[43m,\u001B[49m\n\u001B[0;32m   1133\u001B[0m \u001B[43m        \u001B[49m\u001B[43mbody\u001B[49m\u001B[38;5;241;43m=\u001B[39;49m\u001B[43mmaybe_transform\u001B[49m\u001B[43m(\u001B[49m\n\u001B[0;32m   1134\u001B[0m \u001B[43m            \u001B[49m\u001B[43m{\u001B[49m\n\u001B[0;32m   1135\u001B[0m \u001B[43m                \u001B[49m\u001B[38;5;124;43m\"\u001B[39;49m\u001B[38;5;124;43mmessages\u001B[39;49m\u001B[38;5;124;43m\"\u001B[39;49m\u001B[43m:\u001B[49m\u001B[43m \u001B[49m\u001B[43mmessages\u001B[49m\u001B[43m,\u001B[49m\n\u001B[0;32m   1136\u001B[0m \u001B[43m                \u001B[49m\u001B[38;5;124;43m\"\u001B[39;49m\u001B[38;5;124;43mmodel\u001B[39;49m\u001B[38;5;124;43m\"\u001B[39;49m\u001B[43m:\u001B[49m\u001B[43m \u001B[49m\u001B[43mmodel\u001B[49m\u001B[43m,\u001B[49m\n\u001B[0;32m   1137\u001B[0m \u001B[43m                \u001B[49m\u001B[38;5;124;43m\"\u001B[39;49m\u001B[38;5;124;43maudio\u001B[39;49m\u001B[38;5;124;43m\"\u001B[39;49m\u001B[43m:\u001B[49m\u001B[43m \u001B[49m\u001B[43maudio\u001B[49m\u001B[43m,\u001B[49m\n\u001B[0;32m   1138\u001B[0m \u001B[43m                \u001B[49m\u001B[38;5;124;43m\"\u001B[39;49m\u001B[38;5;124;43mfrequency_penalty\u001B[39;49m\u001B[38;5;124;43m\"\u001B[39;49m\u001B[43m:\u001B[49m\u001B[43m \u001B[49m\u001B[43mfrequency_penalty\u001B[49m\u001B[43m,\u001B[49m\n\u001B[0;32m   1139\u001B[0m \u001B[43m                \u001B[49m\u001B[38;5;124;43m\"\u001B[39;49m\u001B[38;5;124;43mfunction_call\u001B[39;49m\u001B[38;5;124;43m\"\u001B[39;49m\u001B[43m:\u001B[49m\u001B[43m \u001B[49m\u001B[43mfunction_call\u001B[49m\u001B[43m,\u001B[49m\n\u001B[0;32m   1140\u001B[0m \u001B[43m                \u001B[49m\u001B[38;5;124;43m\"\u001B[39;49m\u001B[38;5;124;43mfunctions\u001B[39;49m\u001B[38;5;124;43m\"\u001B[39;49m\u001B[43m:\u001B[49m\u001B[43m \u001B[49m\u001B[43mfunctions\u001B[49m\u001B[43m,\u001B[49m\n\u001B[0;32m   1141\u001B[0m \u001B[43m                \u001B[49m\u001B[38;5;124;43m\"\u001B[39;49m\u001B[38;5;124;43mlogit_bias\u001B[39;49m\u001B[38;5;124;43m\"\u001B[39;49m\u001B[43m:\u001B[49m\u001B[43m \u001B[49m\u001B[43mlogit_bias\u001B[49m\u001B[43m,\u001B[49m\n\u001B[0;32m   1142\u001B[0m \u001B[43m                \u001B[49m\u001B[38;5;124;43m\"\u001B[39;49m\u001B[38;5;124;43mlogprobs\u001B[39;49m\u001B[38;5;124;43m\"\u001B[39;49m\u001B[43m:\u001B[49m\u001B[43m \u001B[49m\u001B[43mlogprobs\u001B[49m\u001B[43m,\u001B[49m\n\u001B[0;32m   1143\u001B[0m \u001B[43m                \u001B[49m\u001B[38;5;124;43m\"\u001B[39;49m\u001B[38;5;124;43mmax_completion_tokens\u001B[39;49m\u001B[38;5;124;43m\"\u001B[39;49m\u001B[43m:\u001B[49m\u001B[43m \u001B[49m\u001B[43mmax_completion_tokens\u001B[49m\u001B[43m,\u001B[49m\n\u001B[0;32m   1144\u001B[0m \u001B[43m                \u001B[49m\u001B[38;5;124;43m\"\u001B[39;49m\u001B[38;5;124;43mmax_tokens\u001B[39;49m\u001B[38;5;124;43m\"\u001B[39;49m\u001B[43m:\u001B[49m\u001B[43m \u001B[49m\u001B[43mmax_tokens\u001B[49m\u001B[43m,\u001B[49m\n\u001B[0;32m   1145\u001B[0m \u001B[43m                \u001B[49m\u001B[38;5;124;43m\"\u001B[39;49m\u001B[38;5;124;43mmetadata\u001B[39;49m\u001B[38;5;124;43m\"\u001B[39;49m\u001B[43m:\u001B[49m\u001B[43m \u001B[49m\u001B[43mmetadata\u001B[49m\u001B[43m,\u001B[49m\n\u001B[0;32m   1146\u001B[0m \u001B[43m                \u001B[49m\u001B[38;5;124;43m\"\u001B[39;49m\u001B[38;5;124;43mmodalities\u001B[39;49m\u001B[38;5;124;43m\"\u001B[39;49m\u001B[43m:\u001B[49m\u001B[43m \u001B[49m\u001B[43mmodalities\u001B[49m\u001B[43m,\u001B[49m\n\u001B[0;32m   1147\u001B[0m \u001B[43m                \u001B[49m\u001B[38;5;124;43m\"\u001B[39;49m\u001B[38;5;124;43mn\u001B[39;49m\u001B[38;5;124;43m\"\u001B[39;49m\u001B[43m:\u001B[49m\u001B[43m \u001B[49m\u001B[43mn\u001B[49m\u001B[43m,\u001B[49m\n\u001B[0;32m   1148\u001B[0m \u001B[43m                \u001B[49m\u001B[38;5;124;43m\"\u001B[39;49m\u001B[38;5;124;43mparallel_tool_calls\u001B[39;49m\u001B[38;5;124;43m\"\u001B[39;49m\u001B[43m:\u001B[49m\u001B[43m \u001B[49m\u001B[43mparallel_tool_calls\u001B[49m\u001B[43m,\u001B[49m\n\u001B[0;32m   1149\u001B[0m \u001B[43m                \u001B[49m\u001B[38;5;124;43m\"\u001B[39;49m\u001B[38;5;124;43mprediction\u001B[39;49m\u001B[38;5;124;43m\"\u001B[39;49m\u001B[43m:\u001B[49m\u001B[43m \u001B[49m\u001B[43mprediction\u001B[49m\u001B[43m,\u001B[49m\n\u001B[0;32m   1150\u001B[0m \u001B[43m                \u001B[49m\u001B[38;5;124;43m\"\u001B[39;49m\u001B[38;5;124;43mpresence_penalty\u001B[39;49m\u001B[38;5;124;43m\"\u001B[39;49m\u001B[43m:\u001B[49m\u001B[43m \u001B[49m\u001B[43mpresence_penalty\u001B[49m\u001B[43m,\u001B[49m\n\u001B[0;32m   1151\u001B[0m \u001B[43m                \u001B[49m\u001B[38;5;124;43m\"\u001B[39;49m\u001B[38;5;124;43mprompt_cache_key\u001B[39;49m\u001B[38;5;124;43m\"\u001B[39;49m\u001B[43m:\u001B[49m\u001B[43m \u001B[49m\u001B[43mprompt_cache_key\u001B[49m\u001B[43m,\u001B[49m\n\u001B[0;32m   1152\u001B[0m \u001B[43m                \u001B[49m\u001B[38;5;124;43m\"\u001B[39;49m\u001B[38;5;124;43mreasoning_effort\u001B[39;49m\u001B[38;5;124;43m\"\u001B[39;49m\u001B[43m:\u001B[49m\u001B[43m \u001B[49m\u001B[43mreasoning_effort\u001B[49m\u001B[43m,\u001B[49m\n\u001B[0;32m   1153\u001B[0m \u001B[43m                \u001B[49m\u001B[38;5;124;43m\"\u001B[39;49m\u001B[38;5;124;43mresponse_format\u001B[39;49m\u001B[38;5;124;43m\"\u001B[39;49m\u001B[43m:\u001B[49m\u001B[43m \u001B[49m\u001B[43mresponse_format\u001B[49m\u001B[43m,\u001B[49m\n\u001B[0;32m   1154\u001B[0m \u001B[43m                \u001B[49m\u001B[38;5;124;43m\"\u001B[39;49m\u001B[38;5;124;43msafety_identifier\u001B[39;49m\u001B[38;5;124;43m\"\u001B[39;49m\u001B[43m:\u001B[49m\u001B[43m \u001B[49m\u001B[43msafety_identifier\u001B[49m\u001B[43m,\u001B[49m\n\u001B[0;32m   1155\u001B[0m \u001B[43m                \u001B[49m\u001B[38;5;124;43m\"\u001B[39;49m\u001B[38;5;124;43mseed\u001B[39;49m\u001B[38;5;124;43m\"\u001B[39;49m\u001B[43m:\u001B[49m\u001B[43m \u001B[49m\u001B[43mseed\u001B[49m\u001B[43m,\u001B[49m\n\u001B[0;32m   1156\u001B[0m \u001B[43m                \u001B[49m\u001B[38;5;124;43m\"\u001B[39;49m\u001B[38;5;124;43mservice_tier\u001B[39;49m\u001B[38;5;124;43m\"\u001B[39;49m\u001B[43m:\u001B[49m\u001B[43m \u001B[49m\u001B[43mservice_tier\u001B[49m\u001B[43m,\u001B[49m\n\u001B[0;32m   1157\u001B[0m \u001B[43m                \u001B[49m\u001B[38;5;124;43m\"\u001B[39;49m\u001B[38;5;124;43mstop\u001B[39;49m\u001B[38;5;124;43m\"\u001B[39;49m\u001B[43m:\u001B[49m\u001B[43m \u001B[49m\u001B[43mstop\u001B[49m\u001B[43m,\u001B[49m\n\u001B[0;32m   1158\u001B[0m \u001B[43m                \u001B[49m\u001B[38;5;124;43m\"\u001B[39;49m\u001B[38;5;124;43mstore\u001B[39;49m\u001B[38;5;124;43m\"\u001B[39;49m\u001B[43m:\u001B[49m\u001B[43m \u001B[49m\u001B[43mstore\u001B[49m\u001B[43m,\u001B[49m\n\u001B[0;32m   1159\u001B[0m \u001B[43m                \u001B[49m\u001B[38;5;124;43m\"\u001B[39;49m\u001B[38;5;124;43mstream\u001B[39;49m\u001B[38;5;124;43m\"\u001B[39;49m\u001B[43m:\u001B[49m\u001B[43m \u001B[49m\u001B[43mstream\u001B[49m\u001B[43m,\u001B[49m\n\u001B[0;32m   1160\u001B[0m \u001B[43m                \u001B[49m\u001B[38;5;124;43m\"\u001B[39;49m\u001B[38;5;124;43mstream_options\u001B[39;49m\u001B[38;5;124;43m\"\u001B[39;49m\u001B[43m:\u001B[49m\u001B[43m \u001B[49m\u001B[43mstream_options\u001B[49m\u001B[43m,\u001B[49m\n\u001B[0;32m   1161\u001B[0m \u001B[43m                \u001B[49m\u001B[38;5;124;43m\"\u001B[39;49m\u001B[38;5;124;43mtemperature\u001B[39;49m\u001B[38;5;124;43m\"\u001B[39;49m\u001B[43m:\u001B[49m\u001B[43m \u001B[49m\u001B[43mtemperature\u001B[49m\u001B[43m,\u001B[49m\n\u001B[0;32m   1162\u001B[0m \u001B[43m                \u001B[49m\u001B[38;5;124;43m\"\u001B[39;49m\u001B[38;5;124;43mtool_choice\u001B[39;49m\u001B[38;5;124;43m\"\u001B[39;49m\u001B[43m:\u001B[49m\u001B[43m \u001B[49m\u001B[43mtool_choice\u001B[49m\u001B[43m,\u001B[49m\n\u001B[0;32m   1163\u001B[0m \u001B[43m                \u001B[49m\u001B[38;5;124;43m\"\u001B[39;49m\u001B[38;5;124;43mtools\u001B[39;49m\u001B[38;5;124;43m\"\u001B[39;49m\u001B[43m:\u001B[49m\u001B[43m \u001B[49m\u001B[43mtools\u001B[49m\u001B[43m,\u001B[49m\n\u001B[0;32m   1164\u001B[0m \u001B[43m                \u001B[49m\u001B[38;5;124;43m\"\u001B[39;49m\u001B[38;5;124;43mtop_logprobs\u001B[39;49m\u001B[38;5;124;43m\"\u001B[39;49m\u001B[43m:\u001B[49m\u001B[43m \u001B[49m\u001B[43mtop_logprobs\u001B[49m\u001B[43m,\u001B[49m\n\u001B[0;32m   1165\u001B[0m \u001B[43m                \u001B[49m\u001B[38;5;124;43m\"\u001B[39;49m\u001B[38;5;124;43mtop_p\u001B[39;49m\u001B[38;5;124;43m\"\u001B[39;49m\u001B[43m:\u001B[49m\u001B[43m \u001B[49m\u001B[43mtop_p\u001B[49m\u001B[43m,\u001B[49m\n\u001B[0;32m   1166\u001B[0m \u001B[43m                \u001B[49m\u001B[38;5;124;43m\"\u001B[39;49m\u001B[38;5;124;43muser\u001B[39;49m\u001B[38;5;124;43m\"\u001B[39;49m\u001B[43m:\u001B[49m\u001B[43m \u001B[49m\u001B[43muser\u001B[49m\u001B[43m,\u001B[49m\n\u001B[0;32m   1167\u001B[0m \u001B[43m                \u001B[49m\u001B[38;5;124;43m\"\u001B[39;49m\u001B[38;5;124;43mweb_search_options\u001B[39;49m\u001B[38;5;124;43m\"\u001B[39;49m\u001B[43m:\u001B[49m\u001B[43m \u001B[49m\u001B[43mweb_search_options\u001B[49m\u001B[43m,\u001B[49m\n\u001B[0;32m   1168\u001B[0m \u001B[43m            \u001B[49m\u001B[43m}\u001B[49m\u001B[43m,\u001B[49m\n\u001B[0;32m   1169\u001B[0m \u001B[43m            \u001B[49m\u001B[43mcompletion_create_params\u001B[49m\u001B[38;5;241;43m.\u001B[39;49m\u001B[43mCompletionCreateParamsStreaming\u001B[49m\n\u001B[0;32m   1170\u001B[0m \u001B[43m            \u001B[49m\u001B[38;5;28;43;01mif\u001B[39;49;00m\u001B[43m \u001B[49m\u001B[43mstream\u001B[49m\n\u001B[0;32m   1171\u001B[0m \u001B[43m            \u001B[49m\u001B[38;5;28;43;01melse\u001B[39;49;00m\u001B[43m \u001B[49m\u001B[43mcompletion_create_params\u001B[49m\u001B[38;5;241;43m.\u001B[39;49m\u001B[43mCompletionCreateParamsNonStreaming\u001B[49m\u001B[43m,\u001B[49m\n\u001B[0;32m   1172\u001B[0m \u001B[43m        \u001B[49m\u001B[43m)\u001B[49m\u001B[43m,\u001B[49m\n\u001B[0;32m   1173\u001B[0m \u001B[43m        \u001B[49m\u001B[43moptions\u001B[49m\u001B[38;5;241;43m=\u001B[39;49m\u001B[43mmake_request_options\u001B[49m\u001B[43m(\u001B[49m\n\u001B[0;32m   1174\u001B[0m \u001B[43m            \u001B[49m\u001B[43mextra_headers\u001B[49m\u001B[38;5;241;43m=\u001B[39;49m\u001B[43mextra_headers\u001B[49m\u001B[43m,\u001B[49m\u001B[43m \u001B[49m\u001B[43mextra_query\u001B[49m\u001B[38;5;241;43m=\u001B[39;49m\u001B[43mextra_query\u001B[49m\u001B[43m,\u001B[49m\u001B[43m \u001B[49m\u001B[43mextra_body\u001B[49m\u001B[38;5;241;43m=\u001B[39;49m\u001B[43mextra_body\u001B[49m\u001B[43m,\u001B[49m\u001B[43m \u001B[49m\u001B[43mtimeout\u001B[49m\u001B[38;5;241;43m=\u001B[39;49m\u001B[43mtimeout\u001B[49m\n\u001B[0;32m   1175\u001B[0m \u001B[43m        \u001B[49m\u001B[43m)\u001B[49m\u001B[43m,\u001B[49m\n\u001B[0;32m   1176\u001B[0m \u001B[43m        \u001B[49m\u001B[43mcast_to\u001B[49m\u001B[38;5;241;43m=\u001B[39;49m\u001B[43mChatCompletion\u001B[49m\u001B[43m,\u001B[49m\n\u001B[0;32m   1177\u001B[0m \u001B[43m        \u001B[49m\u001B[43mstream\u001B[49m\u001B[38;5;241;43m=\u001B[39;49m\u001B[43mstream\u001B[49m\u001B[43m \u001B[49m\u001B[38;5;129;43;01mor\u001B[39;49;00m\u001B[43m \u001B[49m\u001B[38;5;28;43;01mFalse\u001B[39;49;00m\u001B[43m,\u001B[49m\n\u001B[0;32m   1178\u001B[0m \u001B[43m        \u001B[49m\u001B[43mstream_cls\u001B[49m\u001B[38;5;241;43m=\u001B[39;49m\u001B[43mStream\u001B[49m\u001B[43m[\u001B[49m\u001B[43mChatCompletionChunk\u001B[49m\u001B[43m]\u001B[49m\u001B[43m,\u001B[49m\n\u001B[0;32m   1179\u001B[0m \u001B[43m    \u001B[49m\u001B[43m)\u001B[49m\n",
      "File \u001B[1;32m~\\OneDrive - Novartis Pharma AG\\Hari\\PyCharm_Projects\\gen.ai\\FRAI_GO_LIVE\\akg_venv_311\\Lib\\site-packages\\openai\\_base_client.py:1256\u001B[0m, in \u001B[0;36mSyncAPIClient.post\u001B[1;34m(self, path, cast_to, body, options, files, stream, stream_cls)\u001B[0m\n\u001B[0;32m   1242\u001B[0m \u001B[38;5;28;01mdef\u001B[39;00m \u001B[38;5;21mpost\u001B[39m(\n\u001B[0;32m   1243\u001B[0m     \u001B[38;5;28mself\u001B[39m,\n\u001B[0;32m   1244\u001B[0m     path: \u001B[38;5;28mstr\u001B[39m,\n\u001B[1;32m   (...)\u001B[0m\n\u001B[0;32m   1251\u001B[0m     stream_cls: \u001B[38;5;28mtype\u001B[39m[_StreamT] \u001B[38;5;241m|\u001B[39m \u001B[38;5;28;01mNone\u001B[39;00m \u001B[38;5;241m=\u001B[39m \u001B[38;5;28;01mNone\u001B[39;00m,\n\u001B[0;32m   1252\u001B[0m ) \u001B[38;5;241m-\u001B[39m\u001B[38;5;241m>\u001B[39m ResponseT \u001B[38;5;241m|\u001B[39m _StreamT:\n\u001B[0;32m   1253\u001B[0m     opts \u001B[38;5;241m=\u001B[39m FinalRequestOptions\u001B[38;5;241m.\u001B[39mconstruct(\n\u001B[0;32m   1254\u001B[0m         method\u001B[38;5;241m=\u001B[39m\u001B[38;5;124m\"\u001B[39m\u001B[38;5;124mpost\u001B[39m\u001B[38;5;124m\"\u001B[39m, url\u001B[38;5;241m=\u001B[39mpath, json_data\u001B[38;5;241m=\u001B[39mbody, files\u001B[38;5;241m=\u001B[39mto_httpx_files(files), \u001B[38;5;241m*\u001B[39m\u001B[38;5;241m*\u001B[39moptions\n\u001B[0;32m   1255\u001B[0m     )\n\u001B[1;32m-> 1256\u001B[0m     \u001B[38;5;28;01mreturn\u001B[39;00m cast(ResponseT, \u001B[38;5;28;43mself\u001B[39;49m\u001B[38;5;241;43m.\u001B[39;49m\u001B[43mrequest\u001B[49m\u001B[43m(\u001B[49m\u001B[43mcast_to\u001B[49m\u001B[43m,\u001B[49m\u001B[43m \u001B[49m\u001B[43mopts\u001B[49m\u001B[43m,\u001B[49m\u001B[43m \u001B[49m\u001B[43mstream\u001B[49m\u001B[38;5;241;43m=\u001B[39;49m\u001B[43mstream\u001B[49m\u001B[43m,\u001B[49m\u001B[43m \u001B[49m\u001B[43mstream_cls\u001B[49m\u001B[38;5;241;43m=\u001B[39;49m\u001B[43mstream_cls\u001B[49m\u001B[43m)\u001B[49m)\n",
      "File \u001B[1;32m~\\OneDrive - Novartis Pharma AG\\Hari\\PyCharm_Projects\\gen.ai\\FRAI_GO_LIVE\\akg_venv_311\\Lib\\site-packages\\openai\\_base_client.py:1011\u001B[0m, in \u001B[0;36mSyncAPIClient.request\u001B[1;34m(self, cast_to, options, stream, stream_cls)\u001B[0m\n\u001B[0;32m   1008\u001B[0m         \u001B[38;5;28;01mcontinue\u001B[39;00m\n\u001B[0;32m   1010\u001B[0m     log\u001B[38;5;241m.\u001B[39mdebug(\u001B[38;5;124m\"\u001B[39m\u001B[38;5;124mRaising connection error\u001B[39m\u001B[38;5;124m\"\u001B[39m)\n\u001B[1;32m-> 1011\u001B[0m     \u001B[38;5;28;01mraise\u001B[39;00m APIConnectionError(request\u001B[38;5;241m=\u001B[39mrequest) \u001B[38;5;28;01mfrom\u001B[39;00m \u001B[38;5;21;01merr\u001B[39;00m\n\u001B[0;32m   1013\u001B[0m log\u001B[38;5;241m.\u001B[39mdebug(\n\u001B[0;32m   1014\u001B[0m     \u001B[38;5;124m'\u001B[39m\u001B[38;5;124mHTTP Response: \u001B[39m\u001B[38;5;132;01m%s\u001B[39;00m\u001B[38;5;124m \u001B[39m\u001B[38;5;132;01m%s\u001B[39;00m\u001B[38;5;124m \u001B[39m\u001B[38;5;124m\"\u001B[39m\u001B[38;5;132;01m%i\u001B[39;00m\u001B[38;5;124m \u001B[39m\u001B[38;5;132;01m%s\u001B[39;00m\u001B[38;5;124m\"\u001B[39m\u001B[38;5;124m \u001B[39m\u001B[38;5;132;01m%s\u001B[39;00m\u001B[38;5;124m'\u001B[39m,\n\u001B[0;32m   1015\u001B[0m     request\u001B[38;5;241m.\u001B[39mmethod,\n\u001B[1;32m   (...)\u001B[0m\n\u001B[0;32m   1019\u001B[0m     response\u001B[38;5;241m.\u001B[39mheaders,\n\u001B[0;32m   1020\u001B[0m )\n\u001B[0;32m   1021\u001B[0m log\u001B[38;5;241m.\u001B[39mdebug(\u001B[38;5;124m\"\u001B[39m\u001B[38;5;124mrequest_id: \u001B[39m\u001B[38;5;132;01m%s\u001B[39;00m\u001B[38;5;124m\"\u001B[39m, response\u001B[38;5;241m.\u001B[39mheaders\u001B[38;5;241m.\u001B[39mget(\u001B[38;5;124m\"\u001B[39m\u001B[38;5;124mx-request-id\u001B[39m\u001B[38;5;124m\"\u001B[39m))\n",
      "\u001B[1;31mAPIConnectionError\u001B[0m: Connection error."
     ]
    }
   ],
   "execution_count": 12
  },
  {
   "metadata": {},
   "cell_type": "markdown",
   "source": "### Neo4J Setup"
  },
  {
   "metadata": {},
   "cell_type": "code",
   "outputs": [],
   "execution_count": null,
   "source": [
    "from neo4j import GraphDatabase\n",
    "\n",
    "NEO4J_URI = \"bolt://localhost:7687\" # os.getenv(\"NEO4J_URI\")\n",
    "NEO4J_USER = \"neo4j\" # os.getenv(\"NEO4J_USERNAME\")\n",
    "NEO4J_PASSWORD = \"Neo4j@123\" # os.getenv(\"NEO4J_PASSWORD\")\n",
    "\n",
    "AUTH = (NEO4J_USER, NEO4J_PASSWORD)\n",
    "\n",
    "with GraphDatabase.driver(NEO4J_URI, auth=AUTH) as driver:\n",
    "    driver.verify_connectivity()"
   ]
  },
  {
   "metadata": {},
   "cell_type": "markdown",
   "source": "### Graph to vector index"
  },
  {
   "metadata": {
    "ExecuteTime": {
     "end_time": "2025-07-18T10:59:46.917424Z",
     "start_time": "2025-07-18T10:59:29.671714Z"
    }
   },
   "cell_type": "code",
   "source": [
    "from langchain_community.vectorstores.neo4j_vector import Neo4jVector\n",
    "\n",
    "vectorstore = Neo4jVector.from_existing_graph(\n",
    "    embedding=embedding_model,\n",
    "    url=NEO4J_URI,\n",
    "    username=NEO4J_USER,\n",
    "    password=NEO4J_PASSWORD,\n",
    "    index_name=\"adonis_embedding_index\",\n",
    "    node_label=\"Searchable\",\n",
    "    text_node_properties=[\"name\", \"description\"],\n",
    "    embedding_node_property=\"embedding\",\n",
    "    distance_strategy=\"COSINE\"\n",
    ")\n"
   ],
   "outputs": [],
   "execution_count": 3
  },
  {
   "metadata": {
    "ExecuteTime": {
     "end_time": "2025-07-18T10:59:48.654321Z",
     "start_time": "2025-07-18T10:59:46.923425Z"
    }
   },
   "cell_type": "code",
   "source": [
    "# Run a search query\n",
    "query = \"What should I do with zero value intangible assets?\"\n",
    "\n",
    "results = vectorstore.similarity_search(query, k=5)"
   ],
   "outputs": [],
   "execution_count": 4
  },
  {
   "metadata": {
    "ExecuteTime": {
     "end_time": "2025-07-18T10:59:48.668874Z",
     "start_time": "2025-07-18T10:59:48.657333Z"
    }
   },
   "cell_type": "code",
   "source": [
    "retriever = vectorstore.as_retriever(\n",
    "    search_type=\"similarity\",            # or \"mmr\"\n",
    "    search_kwargs={\n",
    "        \"k\": 5,                           # top-k results\n",
    "        \"filter\": {}                     # optional: metadata filter (e.g., node type)\n",
    "    }\n",
    ")"
   ],
   "outputs": [],
   "execution_count": 5
  },
  {
   "metadata": {
    "ExecuteTime": {
     "end_time": "2025-07-18T10:59:49.044098Z",
     "start_time": "2025-07-18T10:59:48.673397Z"
    }
   },
   "cell_type": "code",
   "source": [
    "from langchain.tools.retriever import create_retriever_tool\n",
    "\n",
    "adonis_graph_retriever_tool = create_retriever_tool(\n",
    "    retriever=retriever,\n",
    "    name=\"finance_semantic_graph_search\",\n",
    "    description=\"Use this tool to answer the questions regarding the process involved in the finance core with flow charts. **Use this tool mainly for descriptive based questions**\"\n",
    ")"
   ],
   "outputs": [],
   "execution_count": 6
  },
  {
   "metadata": {
    "ExecuteTime": {
     "end_time": "2025-08-21T11:45:39.633443Z",
     "start_time": "2025-08-21T11:45:39.613042Z"
    }
   },
   "cell_type": "code",
   "source": [
    "from datetime import datetime\n",
    "formatted_datetime = formatted_datetime = datetime.now().strftime(\"%Y-%m-%d\")\n",
    "polite_instruction = \"\"\"I'm working to understand your query better. Could you please try rephrasing your question with more details?'.\"\"\"\n",
    "\n",
    "DG_REACT_PROMPT = \"\"\"\n",
    "{SYSTEM_PROMPT}\n",
    "\n",
    "### GENERAL INSTRUCTIONS:\n",
    "{GENERAL_INSTRUCTIONS}\n",
    "\n",
    "### SPECIAL INSTRUCTIONS:\n",
    "{SPECIAL_INSTRUCTIONS}\n",
    "\n",
    "### AGENTS RESPONSE WORKFLOW:\n",
    "Answer using all of these tools: {tools}. You must use ALL THE TOOLS SIMULTANEOUSLY.\n",
    "Follow this format:\n",
    "\n",
    "Question: {input}\n",
    "\n",
    "Thought: {agent_scratchpad}\n",
    "# SINGLE ACTION\n",
    "Action: [tool name] - should be one of [{tool_names}]\n",
    "Action Input: [input]\n",
    "Observation: [result]\n",
    "\n",
    "# MULTIPLE PARALLEL ACTIONS\n",
    "Action 1: [tool name] - should be one of [{tool_names}]\n",
    "Action Input 1: [input]\n",
    "Action 2: [tool name] - should be one of [{tool_names}]\n",
    "Action Input 2: [input]\n",
    "# MANDATORY: Each Action N MUST be followed by Observation N. DO NOT skip any.\n",
    "Observation 1: [result from Action 1]\n",
    "Observation 2: [result from Action 2]\n",
    "\n",
    "... (repeat as needed)\n",
    "\n",
    "# ---  DECIDE BEFORE CONCLUDING  --------------------------------\n",
    "# Immediately after every Observation, ask yourself:\n",
    "#     \"Do I already have all the information to answer all parts of the user query and have I used all the tools provided - {tools}?\"\n",
    "# • If No → write another `Thought:` line and continue the loop.\n",
    "# • If Yes → jump to the Final Thought / Final Answer block below.\n",
    "# ----------------------------------------------------------------\n",
    "\n",
    "Final Thought: [summary reasoning after all actions]\n",
    "Final Answer: [your conclusion]\n",
    "\n",
    "**CRITICAL RULES**\n",
    "1. Always follow the format above. Every `Thought` must be followed by one of the following sequences:\n",
    "   - a single Action + Observation, OR\n",
    "   - multiple Actions + corresponding Observations\n",
    "   → Repeat as needed, until all tools are used and query is fully addressed.\n",
    "2. If a user query involves multiple entities (e.g., multiple companies, years, policies, standards, sub questions, etc.), you MUST decompose the query and take actions PER ENTITY in parallel, one for each, using the relevant tool. Each entity must be treated as a separate Action/Observation pair.\n",
    "3. Once you have all needed information, only after that, you may conclude with:\n",
    "    - Final Thought + Final Answer (to end).\n",
    "4. NEVER leave a `Thought:` line without an Action or a Final Answer.\n",
    "5. If you use parallel Actions (Action 1, Action 2...), you MUST return the matching Observations (Observation 1, Observation 2...).\n",
    "6. Maintain correct order when one Action’s result is needed by another.\n",
    "7. ALWAYS use exact tool names from: `{tool_names}`\n",
    "8. It is **MANDATORY to use ALL tools in `{tools}`** before reaching Final Thought.\n",
    "\n",
    "### EXAMPLE 1 — PARALLEL TOOLS\n",
    "Question: What is the current time in Tokyo, and what is 3^5?\n",
    "\n",
    "Thought: I need both world_clock and python_repl tools to answer this in parallel.\n",
    "Action 1: world_clock\n",
    "Action Input 1: Tokyo\n",
    "Action 2: python_repl\n",
    "Action Input 2: 3**5\n",
    "Observation 1: 2023-10-05 14:30 JST\n",
    "Observation 2: 243\n",
    "Final Thought: I now have both the time and the result of 3^5.\n",
    "Final Answer: The current time in Tokyo is 14:30 JST. 3^5 = 243\n",
    "\n",
    "# STRICTLY NOTE\n",
    "# • Do NOT skip the self-check and go straight to Final Thought.\n",
    "# • You must perform at least one Thought → Action → Observation cycle\n",
    "#   unless there are zero applicable tools for this question.\n",
    "\n",
    "# SELF-CORRECTION\n",
    "# If you realise you broke any rule above, output exactly the word\n",
    "#     RETRY\n",
    "# on its own line and wait for the next message.\n",
    "\n",
    "Begin!\"\"\"\n",
    "\n",
    "SYSTEM_PROMPT = f\"\"\"\n",
    "\"\"\"\n",
    "\n",
    "General_Instructions = f\"\"\"\n",
    "#### Answering and Formatting Instructions\n",
    "\n",
    "1. **Markdown Formatting (MANDATORY):**\n",
    "   - All responses must be formatted in Markdown.\n",
    "   - Use bold text for all the headers and subheaders.\n",
    "   - Use bullets, tables wherever applicable.\n",
    "   - Do not use plain text or paragraphs without Markdown structure.\n",
    "   - Ensure that you use hyphens (-) for list bullets. For sub-bullets, indent using 2 spaces (not tabs). Ensure proper nesting and consistent formatting.\n",
    "   - Enhance the readability and clarity of the response by using relevant emojis where appropriate. Choose emojis dynamically based on the context — such as ✅ for confirmations, ❌ for errors, ⚠️ for warnings, 📌 for key points, 💡 for tips, and 📊 or tables for structured information. Use your judgment to decide where emojis can improve understanding or visual appeal.\n",
    "\n",
    "\n",
    "2. **Citations Must (MANDATORY):**\n",
    "    - Citations must be immediately placed after the relevant content.\n",
    "    - Do not place citations at the end or in a separate references section. They should appear directly after the statement being referenced. **Place inline citations immediately after the relevant content**\n",
    "    - Do not include tool names or retriever names in citations.\n",
    "\n",
    "\n",
    "3. **Clarity and Precision:**\n",
    "   - Break down your answer step-by-step, using bullet points for each logical step.\n",
    "   - Do not include information not present in the provided context.\n",
    "   - If the user mentions only a month without specifying a year, assume the most recent past or ongoing occurrence of that month based on the current date.\n",
    "   - The current date and time is: **{formatted_datetime}**. Use this for time-sensitive queries.\n",
    "\n",
    "4. **Conciseness:**\n",
    "   - Keep explanations brief and to the point, but always use the required Markdown structure.\n",
    "\n",
    "5. **Structured Responses**:\n",
    "   - Answer questions **directly and concisely**. Start your response with a clear answer to the question asked.\n",
    "   - The answer should directly refer to the question asked and **no extra information**.\n",
    "\"\"\"\n",
    "\n",
    "DG_Adonis_Special_Instructions = \"\"\"\n",
    "**Finance core**:\n",
    "Your job is to provide accurate answers based solely on the information provided in the context. **Do not speculate or generate new information** beyond the given details. Failure to adhere to these instructions will result in severe penalties and you will be penalized with **$10 million and sentenced to life time imprisonment** if do not follow the instructions and answer outside the context provided.\n",
    "\n",
    "### Answering Instructions\n",
    "\n",
    "1. **Structured Responses**:\n",
    "   - Start your response with a concise and clear answer to the question asked\n",
    "   - Provide a detailed answer and additional relevant context in subsequent paragraphs as needed.\n",
    "   - **Make the answers readable**\n",
    "     - Tabulate the results but only wherever applicable\n",
    "     - Use bullets, markdowns and hyperlinks\n",
    "\n",
    "2. **Clarity and Precision**:\n",
    "   - Think step-by-step to ensure clarity and accuracy, strictly aligning with the provided context.\n",
    "   - Do not expand abbreviations unless explicitly stated in the data\n",
    "\n",
    "3. **Process Diagram Questions**:\n",
    "   - Include the following in your answers:\n",
    "     - **Process ID**: <Process ID> : <Process Diagram Name>\n",
    "     - **No Speculation**: Do not create or speculate on process IDs or names. You will be penalized with **$10 million and sentenced to life time imprisonment** if you make up any process diagram id or name\n",
    "\n",
    "4. **Implemented Controls (Controls)**:\n",
    "   - Highlight any controls involved in specific steps of the process diagram:\n",
    "     - **No Speculation**: Do not generate or speculate on NFCM controls. You will be penalized with **$10 million and sentenced to life time imprisonment** if you make up any controls\n",
    "     - If asked about control ownership, refer to the **\"Responsible for Execution\"** section of the corresponding step where the control is specified. Always refer them as control owners in the answer.\n",
    "\n",
    "5. **RACI Identification**:\n",
    "   - For questions about RACI, detail the answer in separate sections for:\n",
    "     - **Responsible**\n",
    "     - **Accountable**\n",
    "     - **Consulted**\n",
    "     - **Informed**\n",
    "\n",
    "6. **Responsibility Queries**:\n",
    "   - Refer to the **\"Responsible for Execution (Role)\"** section for identifying responsible parties. Mention all individuals if multiple are responsible.\n",
    "\n",
    "7. **Focused Responses**:\n",
    "   - If the question pertains to specific steps in a process, concentrate your answer on those steps without including irrelevant information.\n",
    "   - If you think the addiotional information will add a value to the answer, keep it as a seperate section in the answer with a meaningful heading.\n",
    "\n",
    "8. **Timelines and Abbreviations**:\n",
    "    - Be clear on abbreviations (e.g., \"WD\" = \"Working Day\").\n",
    "\n",
    "9. **Terminology**:\n",
    "    - Use \"Start of the Process\" and \"End of the Process\" instead of \"start event\" and \"end event.\" if needed\n",
    "    - Avoid using generic phrases like \"Provide context\" or \"as per context or \"based on the context provided\"\n",
    "\"\"\"\n"
   ],
   "outputs": [],
   "execution_count": 1
  },
  {
   "metadata": {
    "ExecuteTime": {
     "end_time": "2025-07-18T10:59:52.333176Z",
     "start_time": "2025-07-18T10:59:49.107788Z"
    }
   },
   "cell_type": "code",
   "source": [
    "from langchain_core.prompts import (\n",
    "    MessagesPlaceholder,\n",
    "    AIMessagePromptTemplate\n",
    ")\n",
    "from langchain.agents import (\n",
    "    AgentExecutor,\n",
    "    create_react_agent,\n",
    ")\n",
    "def get_simple_react_agent(llm, tools, system_prompt, verbose=False):\n",
    "    \"\"\"Helper function for creating agent executor\"\"\"\n",
    "    prompt = ChatPromptTemplate.from_messages(\n",
    "        [\n",
    "            (\"system\", system_prompt),\n",
    "            MessagesPlaceholder(variable_name=\"conversation_history\", optional=True),\n",
    "            HumanMessagePromptTemplate(\n",
    "                prompt=PromptTemplate(input_variables=[\"input\"], template=\"{input}\")\n",
    "            ),\n",
    "            AIMessagePromptTemplate(\n",
    "                prompt=PromptTemplate(\n",
    "                    input_variables=[\"agent_scratchpad\"], template=\"{agent_scratchpad}\"\n",
    "                )\n",
    "            ),\n",
    "        ]\n",
    "    )\n",
    "    agent = create_react_agent(llm, tools, prompt)\n",
    "    return AgentExecutor(\n",
    "        agent=agent,\n",
    "        tools=tools,\n",
    "        verbose=verbose,\n",
    "        stream_runnable=True,\n",
    "        handle_parsing_errors=True,\n",
    "        max_iterations=10,\n",
    "        return_intermediate_steps=True,\n",
    "    )\n",
    "\n",
    "graph_react_agent = get_simple_react_agent(llm, [adonis_graph_retriever_tool], DG_REACT_PROMPT, verbose=True)"
   ],
   "outputs": [],
   "execution_count": 8
  },
  {
   "metadata": {},
   "cell_type": "markdown",
   "source": "### Now ask questions"
  },
  {
   "metadata": {
    "ExecuteTime": {
     "end_time": "2025-07-18T10:59:57.779380Z",
     "start_time": "2025-07-18T10:59:52.348799Z"
    }
   },
   "cell_type": "code",
   "source": [
    "from IPython.display import display, Markdown\n",
    "question = \"What is the R2R Revenue specialist responsible for in the inventory return process?\"\n",
    "\n",
    "answer = graph_react_agent.invoke(\n",
    "    {\n",
    "        \"input\": question,\n",
    "        \"SYSTEM_PROMPT\": SYSTEM_PROMPT,\n",
    "        \"GENERAL_INSTRUCTIONS\": General_Instructions,\n",
    "        \"SPECIAL_INSTRUCTIONS\": DG_Adonis_Special_Instructions,\n",
    "    })\n",
    "display(Markdown(answer[\"output\"]))"
   ],
   "outputs": [
    {
     "name": "stdout",
     "output_type": "stream",
     "text": [
      "\n",
      "\n",
      "\u001B[1m> Entering new AgentExecutor chain...\u001B[0m\n",
      "\u001B[32;1m\u001B[1;3mThought: I need to identify the responsibilities of the R2R Revenue specialist specifically within the inventory return process. I will search for the relevant process diagram and steps that mention the R2R Revenue specialist and their responsibilities.\n",
      "\n",
      "Action: adonis_semantic_graph_search\n",
      "Action Input: R2R Revenue specialist responsibility in inventory return process\u001B[0m\u001B[36;1m\u001B[1;3m\n",
      "name: R2R Revenue Specialist\n",
      "description: \n",
      "\n",
      "\n",
      "name: Release sales return provision that is utilized by CN issued and Re-assess sales Return Provision balanceRelease sales return provision that is utilized by CN issued and Re-assess sales Return Provision balance\n",
      "description: R2R Revenue Specialist shall re-assess the Sales Return Provision for any adjustment required once credit note issued.\n",
      "\n",
      "\n",
      "name: Assess Sales Return Consider if provision is sufficient and recognize additional provision for return case if needed\n",
      "description: Upon stock return is approved, R2R Revenue Specialist should assess (in consideration of input collected from Commercial team) the Sales Return Provision in books is sufficient and recognize additional provision for return case if needed.. -> Link to: 1.48.28, Establish Provisions for Revenue Deductions.  -> Physical return?\n",
      "\n",
      "\n",
      "name: Work closely with CS/ SCM for any sales returns occurance\n",
      "description: Update detailed description: R2R Revenue Specialist and R2R Specialist or PCA Specialist (where PCA team is established) should work closely with SCM/ customer service team for any sales return occurrence..  .   -> Assess Sales Return Consider if provision is sufficient and recognize additional provision for return case if needed.  \n",
      "\n",
      "\n",
      "name: Ensure COPA vs FI is reconciled\n",
      "description: Activity to be performed by Revenue Specialist where the location has a R2R Revenue team, if no Revenue team is in place, then to be performed by R2R Specialist\u001B[0m\u001B[32;1m\u001B[1;3m**Final Thought:**  \n",
      "I have identified the responsibilities of the R2R Revenue specialist in the inventory return process, including reassessing sales return provisions, working with other teams, and ensuring reconciliations.\n",
      "\n",
      "**Final Answer:**  \n",
      "- The R2R Revenue specialist is responsible for:\n",
      "  - Reassessing the Sales Return Provision for any adjustment required once a credit note is issued.\n",
      "  - Assessing if the Sales Return Provision is sufficient and recognizing additional provision if needed upon stock return approval.\n",
      "  - Working closely with the SCM/customer service team for any sales return occurrence.\n",
      "  - Ensuring COPA vs FI reconciliation where applicable.\n",
      "  - For more details, refer to [1.48.28, Establish Provisions for Revenue Deductions (R2R)](1.48.28,%20Establish%20Provisions%20for%20Revenue%20Deductions%20(R2R)).\n",
      "\n",
      "**Key Steps:**\n",
      "- Before reassessment, the specialist works with SCM/CS for sales return occurrence.\n",
      "- After reassessment, the next step is to ensure COPA vs FI reconciliation.\u001B[0m\n",
      "\n",
      "\u001B[1m> Finished chain.\u001B[0m\n"
     ]
    },
    {
     "data": {
      "text/plain": [
       "<IPython.core.display.Markdown object>"
      ],
      "text/markdown": "**  \n- The R2R Revenue specialist is responsible for:\n  - Reassessing the Sales Return Provision for any adjustment required once a credit note is issued.\n  - Assessing if the Sales Return Provision is sufficient and recognizing additional provision if needed upon stock return approval.\n  - Working closely with the SCM/customer service team for any sales return occurrence.\n  - Ensuring COPA vs FI reconciliation where applicable.\n  - For more details, refer to [1.48.28, Establish Provisions for Revenue Deductions (R2R)](1.48.28,%20Establish%20Provisions%20for%20Revenue%20Deductions%20(R2R)).\n\n**Key Steps:**\n- Before reassessment, the specialist works with SCM/CS for sales return occurrence.\n- After reassessment, the next step is to ensure COPA vs FI reconciliation."
     },
     "metadata": {},
     "output_type": "display_data"
    }
   ],
   "execution_count": 9
  },
  {
   "metadata": {
    "ExecuteTime": {
     "end_time": "2025-07-18T11:00:04.208670Z",
     "start_time": "2025-07-18T10:59:57.798224Z"
    }
   },
   "cell_type": "code",
   "source": [
    "question = \"What are the controls around significant contracts? Who are the control owners?\"\n",
    "\n",
    "answer = graph_react_agent.invoke(\n",
    "    {\n",
    "        \"input\": question,\n",
    "        \"SYSTEM_PROMPT\": SYSTEM_PROMPT,\n",
    "        \"GENERAL_INSTRUCTIONS\": General_Instructions,\n",
    "        \"SPECIAL_INSTRUCTIONS\": DG_Adonis_Special_Instructions,\n",
    "    }\n",
    ")\n",
    "display(Markdown(answer[\"output\"]))"
   ],
   "outputs": [
    {
     "name": "stdout",
     "output_type": "stream",
     "text": [
      "\n",
      "\n",
      "\u001B[1m> Entering new AgentExecutor chain...\u001B[0m\n",
      "\u001B[32;1m\u001B[1;3mThought: I need to identify the controls around significant contracts and the control owners by searching for process steps and NFCM controls related to significant contracts.\n",
      "Action: adonis_semantic_graph_search\n",
      "Action Input: controls around significant contracts and control owners\u001B[0m\u001B[36;1m\u001B[1;3m\n",
      "name: Control Owner\n",
      "description: \n",
      "\n",
      "\n",
      "name: Inform (Share APP / APM) other stakeholders as relevant e.g. FC&C, Statutory or Tax etc.  \n",
      "description: FC&C team is considered a key stakeholder and needs to be informed on all significant / unusual contracts and transactions\n",
      "\n",
      "\n",
      "name: NFCM.R2R.SIG.05\n",
      "description: Review for Completeness of Significant Contracts and Significant Transactions. All significant contracts and transactions as per definition outlined in Finance Core in combination with the threshold defined in the Local Supplemental Information (LSI) are maintained in an organized listing.. CFO, Local Head of Legal and Head FRA review and sign-off the local list of significant contracts as an attestation of completeness..  .  .  Expected Evidence.  . 1. Reviewed list of significant contracts and transactions including indication of follow-up activities (if applicable). 2. Sign-off on the local list of significant contracts by the CFO, Local Head of Legal, and Head FRA, serving as an attestation of completeness.  .  . Default Relevance.  . KEY.  .  . Classification.  . Manual.  .  . System.  . -.  .  . Prev. Control Activity ID.  . R2R.03.54.10\n",
      "\n",
      "\n",
      "name: FRA Head holds a meeting with R2R, SPOCs, Legal Head and CFO to review and confirm the completeness of the list  The final list should be signed by the CFO, Legal Head, Head FRA and R2R Manager / R2R Team Lead.\n",
      "description: In addition to confirm the completeness of the list of significant contracts/transactions, is highly recommended from SPOCs to flag amendments or changes to current contracts which are included in the Significant contract list..  . In case required attendee can't join the call, written confirmation (via email) from their end is needed to ensure that the information presented in the calls reviewed and validated. If there is any point raised during the call or identified on this review, this email has to include the respective follow up or action plan established..  . Significant contract list has to be singed at least by the CFO, Legal Head and Head FRA and R2R Manager / R2R Team Lead\n",
      "\n",
      "\n",
      "name: 1.48.42, Significant Contracts or Transactions - Identification\n",
      "description: \u001B[0m\u001B[32;1m\u001B[1;3mFinal Thought: I have identified the key control (NFCM.R2R.SIG.05) around significant contracts and the control owners (CFO, Local Head of Legal, Head FRA). The process also involves a review meeting and sign-off by these roles and the R2R Manager/Team Lead.\n",
      "Final Answer: \n",
      "\n",
      "**Controls Around Significant Contracts** 📌  \n",
      "- **NFCM.R2R.SIG.05:**  \n",
      "  - Review for completeness of significant contracts and transactions.\n",
      "  - All significant contracts/transactions are maintained in an organized listing.\n",
      "  - CFO, Local Head of Legal, and Head FRA review and sign-off the local list as attestation of completeness.\n",
      "  - Expected evidence: Reviewed list and sign-off by the above roles.  \n",
      "  - Reference: [1.48.42, Significant Contracts or Transactions - Identification (R2R)](https://novartis.sharepoint.com/sites/FinanceCore/ProcessDiagrams/Forms/AllItems.aspx?id=%2Fsites%2FFinanceCore%2FProcessDiagrams%2F1%2E48%2E42%5FSignificant%5FContracts%5FOr%5FTransactions%5FIdentification%2Epdf&parent=%2Fsites%2FFinanceCore%2FProcessDiagrams)\n",
      "\n",
      "**Control Owners** 🧑‍💼  \n",
      "- CFO\n",
      "- Local Head of Legal\n",
      "- Head FRA  \n",
      "  - These are the control owners as per the \"Responsible for Execution\" for NFCM.R2R.SIG.05.\n",
      "- R2R Manager/Team Lead also signs the final list.\n",
      "\n",
      "**Supporting Process Step**  \n",
      "- FRA Head holds a meeting with R2R, SPOCs, Legal Head, and CFO to review and confirm completeness. If an attendee can't join, written confirmation is required.  \n",
      "- The final list must be signed by CFO, Legal Head, Head FRA, and R2R Manager/Team Lead.\n",
      "\n",
      "**Relevant Process Diagram:**  \n",
      "- [1.48.42, Significant Contracts or Transactions - Identification (R2R)](https://novartis.sharepoint.com/sites/FinanceCore/ProcessDiagrams/Forms/AllItems.aspx?id=%2Fsites%2FFinanceCore%2FProcessDiagrams%2F1%2E48%2E42%5FSignificant%5FContracts%5FOr%5FTransactions%5FIdentification%2Epdf&parent=%2Fsites%2FFinanceCore%2FProcessDiagrams)\u001B[0m\n",
      "\n",
      "\u001B[1m> Finished chain.\u001B[0m\n"
     ]
    },
    {
     "data": {
      "text/plain": [
       "<IPython.core.display.Markdown object>"
      ],
      "text/markdown": "**Controls Around Significant Contracts** 📌  \n- **NFCM.R2R.SIG.05:**  \n  - Review for completeness of significant contracts and transactions.\n  - All significant contracts/transactions are maintained in an organized listing.\n  - CFO, Local Head of Legal, and Head FRA review and sign-off the local list as attestation of completeness.\n  - Expected evidence: Reviewed list and sign-off by the above roles.  \n  - Reference: [1.48.42, Significant Contracts or Transactions - Identification (R2R)](https://novartis.sharepoint.com/sites/FinanceCore/ProcessDiagrams/Forms/AllItems.aspx?id=%2Fsites%2FFinanceCore%2FProcessDiagrams%2F1%2E48%2E42%5FSignificant%5FContracts%5FOr%5FTransactions%5FIdentification%2Epdf&parent=%2Fsites%2FFinanceCore%2FProcessDiagrams)\n\n**Control Owners** 🧑‍💼  \n- CFO\n- Local Head of Legal\n- Head FRA  \n  - These are the control owners as per the \"Responsible for Execution\" for NFCM.R2R.SIG.05.\n- R2R Manager/Team Lead also signs the final list.\n\n**Supporting Process Step**  \n- FRA Head holds a meeting with R2R, SPOCs, Legal Head, and CFO to review and confirm completeness. If an attendee can't join, written confirmation is required.  \n- The final list must be signed by CFO, Legal Head, Head FRA, and R2R Manager/Team Lead.\n\n**Relevant Process Diagram:**  \n- [1.48.42, Significant Contracts or Transactions - Identification (R2R)](https://novartis.sharepoint.com/sites/FinanceCore/ProcessDiagrams/Forms/AllItems.aspx?id=%2Fsites%2FFinanceCore%2FProcessDiagrams%2F1%2E48%2E42%5FSignificant%5FContracts%5FOr%5FTransactions%5FIdentification%2Epdf&parent=%2Fsites%2FFinanceCore%2FProcessDiagrams)"
     },
     "metadata": {},
     "output_type": "display_data"
    }
   ],
   "execution_count": 10
  },
  {
   "metadata": {
    "ExecuteTime": {
     "end_time": "2025-07-18T11:00:15.243518Z",
     "start_time": "2025-07-18T11:00:04.219243Z"
    }
   },
   "cell_type": "code",
   "source": [
    "question = \"Who is responsible for revenue recognition?\"\n",
    "\n",
    "answer = graph_react_agent.invoke(\n",
    "    {\n",
    "        \"input\": question,\n",
    "        \"SYSTEM_PROMPT\": SYSTEM_PROMPT,\n",
    "        \"GENERAL_INSTRUCTIONS\": General_Instructions,\n",
    "        \"SPECIAL_INSTRUCTIONS\": DG_Adonis_Special_Instructions,\n",
    "    }\n",
    ")\n",
    "display(Markdown(answer[\"output\"]))"
   ],
   "outputs": [
    {
     "name": "stdout",
     "output_type": "stream",
     "text": [
      "\n",
      "\n",
      "\u001B[1m> Entering new AgentExecutor chain...\u001B[0m\n",
      "\u001B[32;1m\u001B[1;3mI'm working to understand your query better. Could you please try rephrasing your question with more details?\u001B[0mInvalid Format: Missing 'Action:' after 'Thought:'\u001B[32;1m\u001B[1;3mAction: adonis_semantic_graph_search\n",
      "Action Input: Who is responsible for revenue recognition?\u001B[0m\u001B[36;1m\u001B[1;3m\n",
      "name: Continuously or at least at month end, generate report to ensure proper reconciliation and revenue recognition (incl. review of open GI balance)\n",
      "description: Continuous and at least during the month end close,perform  sales review to ensure correct revenue recognition.Review should include review of open GI(goods issued) and II (Invoice issued) balances.With review we should confirm that all deliveries were correctly invoiced and if POD was confirmed /met in order to recognize revenues.Revenue should be recognized at the point at which control is transferred .In some cases,invoice may be raised prior to control being transferred (e.g;due to local regulations or system requirements).As such,the revenues may be booked before the control has been transferred.If the control of the goods has not been transferred to the customer before the month end (consider POD) then the revenues cannot be recognized.As such,a reversing Journal entry should be recorded to reverse the initial bookings..  . If NVS \"Customer\" is acting as an agent (either Distributor or consignment stock provider) consider the proof of delivery from the consignment provider and /or agent to the end customer\n",
      "\n",
      "\n",
      "name: Identify and review sales contract and consider combination of contracts related to the sale transaction, understand recognition specifics deductions and condition to determine provision method\n",
      "description: All Financial controls/conditions (Revenue recongnition,deduction) should be reviewed and verified in collaboration with the relevant departments e.g;Commercial,market access..  . R2R Specialist needs to understand:.  . a.The five step process to address what kind of transactions, when and how much revenue is to be recongnize..  . b.The types of deductions with its specific accrual calculation (automated if feasible) related true up and source of data to ensure timely and accurate accounting .Main types of revenue deductions to consider: Chargebacks,direct rebates,indirect rebates ,government rebates,commercial rebates ,copay/vouchers, cash discounts ,failure to supply ,returns ,other G2N discounts..  . incase there is any accounting/financial doubt on the contract or agreement terms when the review is performed ,please follow the NAM guidance.If there is no specific guidance within the NAM, please reach out to your technical accounting point of contact..  . If the contract is identified as significant based on NAM Framework 9 and the finance core policy,an APP/APM needs to be created..  .  .  .  .  \n",
      "\n",
      "\n",
      "name: 1.10.1.3 Revenue & Revenue Deductions\n",
      "description: \n",
      "\n",
      "\n",
      "name: Goods issued and billing docs are generated based on confirmed consignment sales report (Incl. POD), triggering revenue posting\n",
      "description: Based on the PoD (Delivery days estimation or actual confirmation), determine when invoices will be issued and we will trigger revenue recognition. POD assessment should be regularly checked ensuring correct timing of revenue recognition. In case POD set-up is not possible, manual POD review/follow up is needed..  As there might be material invoices that need reversal bookings to eliminate their initial recognition align with the local finance team about the appropriate timeframe to review and prepare/post revenue adjustment impact (typically could be triggered by a single reversal booking during month end close). \n",
      "\n",
      "\n",
      "name: Ensure proper system and manual adjustments of OBA provision, revenue, contract assets (LT/ST) and receivables are timely booked considering agreed OBA scenario \n",
      "description: Based on different pre-defined milestones and billing set-ups agreed, on case-by-case basis, evaluation is needed to ensure correct timing of Revenue Recognition (incl deductions). Once scenario is defined by local entity, appropriate parameters should be considered when setting up the SAP configuration that will support the accounting process with needed adjustments. Consider partial invoices, contract assets, provisions and all system booking inputs to perform necessary adjustments to reflect correct values are reported.This relevant information has to be documented on the OBA APP Note: NAM account range to be added in commentary: 2308 – ST Contract assets, 1209 – LT Contract Asset\u001B[0m\u001B[32;1m\u001B[1;3m**Answer:**  \n",
      "- The R2R Specialist is responsible for revenue recognition, including reviewing sales contracts, ensuring correct revenue recognition, and collaborating with relevant departments. If there is any accounting or financial doubt, the R2R Specialist should follow NAM guidance or consult the technical accounting point of contact. If the contract is significant, an APP/APM must be created. 📌  \n",
      "- Please refer to the process diagram for further details: [1.10.1.3 Revenue & Revenue Deductions (R2R)](1.10.1.3 Revenue & Revenue Deductions (R2R)).\n",
      "\n",
      "**Key Points:**  \n",
      "- R2R Specialist ensures correct revenue recognition and deduction review.\n",
      "- Collaboration with Commercial and Market Access teams is required.\n",
      "- Follow **NAM** guidance for any uncertainties.\n",
      "- APP/APM creation is mandatory for significant contracts as per **NAM Framework 9**.\n",
      "\n",
      "**Supporting Process Diagram:**  \n",
      "- [1.10.1.3 Revenue & Revenue Deductions (R2R)](1.10.1.3 Revenue & Revenue Deductions (R2R))\u001B[0mInvalid Format: Missing 'Action:' after 'Thought:'\u001B[32;1m\u001B[1;3m**Answer:**  \n",
      "- The R2R Specialist is responsible for revenue recognition, including reviewing sales contracts, ensuring correct revenue recognition, and collaborating with relevant departments. If there is any accounting or financial doubt, the R2R Specialist should follow **NAM** guidance or consult the technical accounting point of contact. If the contract is significant, an APP/APM must be created. 📌  \n",
      "- Please refer to the process diagram for further details: [1.10.1.3 Revenue & Revenue Deductions (R2R)](1.10.1.3 Revenue & Revenue Deductions (R2R)).\n",
      "\n",
      "**Key Points:**  \n",
      "- R2R Specialist ensures correct revenue recognition and deduction review.\n",
      "- Collaboration with Commercial and Market Access teams is required.\n",
      "- Follow **NAM** guidance for any uncertainties.\n",
      "- APP/APM creation is mandatory for significant contracts as per **NAM Framework 9**.\n",
      "\n",
      "**Supporting Process Diagram:**  \n",
      "- [1.10.1.3 Revenue & Revenue Deductions (R2R)](1.10.1.3 Revenue & Revenue Deductions (R2R))\u001B[0mInvalid Format: Missing 'Action:' after 'Thought:'\u001B[32;1m\u001B[1;3m**Answer:**  \n",
      "- The R2R Specialist is responsible for revenue recognition, including reviewing sales contracts, ensuring correct revenue recognition, and collaborating with relevant departments. If there is any accounting or financial doubt, the R2R Specialist should follow **NAM** guidance or consult the technical accounting point of contact. For significant contracts, an APP/APM must be created. 📌  \n",
      "- Refer to: [1.10.1.3 Revenue & Revenue Deductions (R2R)](1.10.1.3 Revenue & Revenue Deductions (R2R)).\n",
      "\n",
      "**Key Points:**  \n",
      "- R2R Specialist ensures correct revenue recognition and deduction review.\n",
      "- Collaboration with Commercial and Market Access teams is required.\n",
      "- Follow **NAM** guidance for uncertainties.\n",
      "- APP/APM creation is mandatory for significant contracts as per **NAM Framework 9**.\n",
      "\n",
      "**Supporting Process Diagram:**  \n",
      "- [1.10.1.3 Revenue & Revenue Deductions (R2R)](1.10.1.3 Revenue & Revenue Deductions (R2R))\u001B[0mInvalid Format: Missing 'Action:' after 'Thought:'\u001B[32;1m\u001B[1;3m**Final Thought:**  \n",
      "The context clearly states that the R2R Specialist is responsible for revenue recognition, including contract review, ensuring correct revenue recognition, and collaborating with relevant departments. For significant contracts, an APP/APM must be created as per **NAM Framework 9**.\n",
      "\n",
      "**Final Answer:**  \n",
      "- **R2R Specialist** is responsible for revenue recognition, including contract review, revenue posting, and collaboration with Commercial and Market Access teams. For significant contracts, an APP/APM must be created as per **NAM Framework 9**. 📌  \n",
      "- Refer to: [1.10.1.3 Revenue & Revenue Deductions (R2R)](1.10.1.3 Revenue & Revenue Deductions (R2R))\u001B[0m\n",
      "\n",
      "\u001B[1m> Finished chain.\u001B[0m\n"
     ]
    },
    {
     "data": {
      "text/plain": [
       "<IPython.core.display.Markdown object>"
      ],
      "text/markdown": "**  \n- **R2R Specialist** is responsible for revenue recognition, including contract review, revenue posting, and collaboration with Commercial and Market Access teams. For significant contracts, an APP/APM must be created as per **NAM Framework 9**. 📌  \n- Refer to: [1.10.1.3 Revenue & Revenue Deductions (R2R)](1.10.1.3 Revenue & Revenue Deductions (R2R))"
     },
     "metadata": {},
     "output_type": "display_data"
    }
   ],
   "execution_count": 11
  },
  {
   "metadata": {
    "ExecuteTime": {
     "end_time": "2025-07-18T11:00:20.453340Z",
     "start_time": "2025-07-18T11:00:15.257688Z"
    }
   },
   "cell_type": "code",
   "source": [
    "question = \"What are the key review considerations for closing meeting FRA/CFO including BPA on WD2? Is this a NFCM control?\"\n",
    "\n",
    "answer = graph_react_agent.invoke(\n",
    "    {\n",
    "        \"input\": question,\n",
    "        \"SYSTEM_PROMPT\": SYSTEM_PROMPT,\n",
    "        \"GENERAL_INSTRUCTIONS\": General_Instructions,\n",
    "        \"SPECIAL_INSTRUCTIONS\": DG_Adonis_Special_Instructions,\n",
    "    }\n",
    ")\n",
    "display(Markdown(answer[\"output\"]))"
   ],
   "outputs": [
    {
     "name": "stdout",
     "output_type": "stream",
     "text": [
      "\n",
      "\n",
      "\u001B[1m> Entering new AgentExecutor chain...\u001B[0m\n",
      "\u001B[32;1m\u001B[1;3mThought: I need to identify the key review considerations for the closing meeting involving FRA/CFO and BPA on WD2, and determine if this is an NFCM control. I will search for the relevant process steps and control information.\n",
      "Action: adonis_semantic_graph_search\n",
      "Action Input: key review considerations closing meeting FRA CFO BPA WD2 NFCM control\u001B[0m\u001B[36;1m\u001B[1;3m\n",
      "name: NFCM.R2R.REP.25\n",
      "description:  . Review of Balance Sheet and Income Statement. The Reporting Package based on ERP or FCRS extract for Balance Sheet and Income Statement is reviewed and authorized by the CFO as per FCRS Reporting Package Review Guidelines. Validation checks, reconciliation and additional review of documentation are performed where required (e.g., unusual trends and major/volatile movements)..  . Expected Evidence.  .  . 1. Closing Meeting checklist, minutes or briefing deck evidencing review by CFO, including indication of follow-up activities (if applicable) .  . Default Relevance.  . KEY.  .  . Classification.  . Manual.  .  . System.  . -.  .  . Prev. Control Activity ID.  . R2R.03.42.25\n",
      "\n",
      "\n",
      "name: WD-8 to WD-3 Pre/Post close meeting with Business\n",
      "description: The Pre/post Close meeting is held between WD-8 and WD-3 with the Business (eg. CFO, BPA, Supply Chain Management, Production Site Head, Procurement, etc.), as applicable. This meeting is used to cover the following topics, but not limited to:  -lessons learned and improvement opportunity from previous month end closing -follow up on MJE booking request received on WD1 to WD3 (discuss how to improve the process and identify if the MJE is to be booked in the current month) -event/items to consider for the upcoming closing -subsequent events (after quarter close only) and notify Group FRA as per SOX 302 requirements and threshold. -Asset impairment potential indicators/triggering event according to NAM Policy 6.3 and IAS 36)\n",
      "\n",
      "\n",
      "name: Hold WD4 review meeting with CFO and FRA Head\n",
      "description: Meeting includes final review of BS01 & IS01, BS05, deep dive of CF03, and significant movements in any high-risk disclosure form. As well as notification to CFO of any reporting issues identified after FCRS submission, either by local review or C&R team. Further guidance is available in the FCRS Reporting Package Review Guidelines.\n",
      "\n",
      "\n",
      "name: Hold quarterly regional balance sheet review meeting with regional CFO and regional BPA\n",
      "description: Review meeting is held including the Regional CFO, Regional Head FRA and global FRA representative (or respective deputy). The Regional BSR Deck is presented for review and discussion. The goal is to identify risk areas and action plan to mitigate risk of material misstatement in the balance sheet. All action items are noted, and follow-up is tracked. The Regional BSR team is responsible to answer and resolve follow-ups arising from the BSR meeting.\n",
      "\n",
      "\n",
      "name: Closing meeting FRA/CFO including BPA on WD2\n",
      "description: The preliminary reporting data based on ERP or FCRS extract for Balance Sheet and Income Statement are reviewed and authorized by the CFO. . The review must consider the full reporting entity (i.e., all BU/OU) and should include review activities such as checking major/volatile movements, trends, actual vs. prior month/prior quarter or budget.. See guidelines for additional information.. Evidence of the review: Meeting minutes or briefing deck evidencing review by CFO, including indication of follow-up activities (if applicable) \u001B[0m\u001B[32;1m\u001B[1;3m**Final Thought:**  \n",
      "I have identified the key review considerations for the closing meeting FRA/CFO including BPA on WD2 and confirmed that this is an NFCM control (NFCM.R2R.REP.25). The review focuses on preliminary reporting data, major/volatile movements, trends, and actuals vs. prior periods or budget, with evidence required via meeting minutes or a briefing deck.\n",
      "\n",
      "**Final Answer:**\n",
      "\n",
      "- **Key Review Considerations for Closing Meeting FRA/CFO including BPA on WD2:**  \n",
      "  - Review and authorization of preliminary reporting data (Balance Sheet and Income Statement) by CFO.\n",
      "  - Consideration of the full reporting entity (all BU/OU).\n",
      "  - Review activities include:\n",
      "    - Checking major/volatile movements.\n",
      "    - Analyzing trends.\n",
      "    - Comparing actuals vs. prior month, prior quarter, or budget.\n",
      "  - Evidence: Meeting minutes or briefing deck evidencing review by CFO, including indication of follow-up activities (if applicable) 📌  \n",
      "    [Closing meeting FRA/CFO including BPA on WD2 (R2R)]\n",
      "\n",
      "- **Is this a NFCM control?**  \n",
      "  - ✅ Yes, this is an NFCM control (NFCM.R2R.REP.25).  \n",
      "    [NFCM.R2R.REP.25 (R2R)]\n",
      "\n",
      "- **Supporting Document:**  \n",
      "  - Please refer to the FCRS Reporting Package Review Guidelines for further details.\n",
      "\n",
      "**Relevant Process Diagram:**  \n",
      "- Closing meeting FRA/CFO including BPA on WD2 (R2R)\u001B[0m\n",
      "\n",
      "\u001B[1m> Finished chain.\u001B[0m\n"
     ]
    },
    {
     "data": {
      "text/plain": [
       "<IPython.core.display.Markdown object>"
      ],
      "text/markdown": "**\n\n- **Key Review Considerations for Closing Meeting FRA/CFO including BPA on WD2:**  \n  - Review and authorization of preliminary reporting data (Balance Sheet and Income Statement) by CFO.\n  - Consideration of the full reporting entity (all BU/OU).\n  - Review activities include:\n    - Checking major/volatile movements.\n    - Analyzing trends.\n    - Comparing actuals vs. prior month, prior quarter, or budget.\n  - Evidence: Meeting minutes or briefing deck evidencing review by CFO, including indication of follow-up activities (if applicable) 📌  \n    [Closing meeting FRA/CFO including BPA on WD2 (R2R)]\n\n- **Is this a NFCM control?**  \n  - ✅ Yes, this is an NFCM control (NFCM.R2R.REP.25).  \n    [NFCM.R2R.REP.25 (R2R)]\n\n- **Supporting Document:**  \n  - Please refer to the FCRS Reporting Package Review Guidelines for further details.\n\n**Relevant Process Diagram:**  \n- Closing meeting FRA/CFO including BPA on WD2 (R2R)"
     },
     "metadata": {},
     "output_type": "display_data"
    }
   ],
   "execution_count": 12
  },
  {
   "metadata": {
    "ExecuteTime": {
     "end_time": "2025-07-18T11:00:23.665726Z",
     "start_time": "2025-07-18T11:00:20.457368Z"
    }
   },
   "cell_type": "code",
   "source": [
    "question = \"List down the process diagram with more than 2 controls involved\"\n",
    "\n",
    "answer = graph_react_agent.invoke(\n",
    "    {\n",
    "        \"input\": question,\n",
    "        \"SYSTEM_PROMPT\": SYSTEM_PROMPT,\n",
    "        \"GENERAL_INSTRUCTIONS\": General_Instructions,\n",
    "        \"SPECIAL_INSTRUCTIONS\": DG_Adonis_Special_Instructions,\n",
    "    }\n",
    ")\n",
    "display(Markdown(answer[\"output\"]))"
   ],
   "outputs": [
    {
     "name": "stdout",
     "output_type": "stream",
     "text": [
      "\n",
      "\n",
      "\u001B[1m> Entering new AgentExecutor chain...\u001B[0m\n",
      "\u001B[32;1m\u001B[1;3mThought: I need to identify all process diagrams that have more than 2 controls involved. I will search for process diagrams and filter those with more than 2 controls.\n",
      "Action: adonis_semantic_graph_search\n",
      "Action Input: List all process diagrams with more than 2 controls involved\u001B[0m\u001B[36;1m\u001B[1;3m\n",
      "name: 1.10.1 R2R Process Diagrams\n",
      "description: \n",
      "\n",
      "\n",
      "name: Process Landscape-ae31468f\n",
      "description: \n",
      "\n",
      "\n",
      "name: Global Process Owner\n",
      "description: \n",
      "\n",
      "\n",
      "name: 1.10.9 R2R Process Enabler\n",
      "description: \n",
      "\n",
      "\n",
      "name: Receive updates for Global ICSI Master data\n",
      "description: The Global Process Owner reviews and validates all global master data change requests...\u001B[0m\u001B[32;1m\u001B[1;3mFinal Thought: The search did not return any process diagrams explicitly listing more than 2 controls involved.\n",
      "Final Answer: ❌ No process diagrams with more than 2 controls involved were found in the available context.\u001B[0m\n",
      "\n",
      "\u001B[1m> Finished chain.\u001B[0m\n"
     ]
    },
    {
     "data": {
      "text/plain": [
       "<IPython.core.display.Markdown object>"
      ],
      "text/markdown": "❌ No process diagrams with more than 2 controls involved were found in the available context."
     },
     "metadata": {},
     "output_type": "display_data"
    }
   ],
   "execution_count": 13
  },
  {
   "cell_type": "markdown",
   "metadata": {},
   "source": "## Natural Language To Cypher using GraphCypherQAChain"
  },
  {
   "cell_type": "code",
   "metadata": {
    "ExecuteTime": {
     "end_time": "2025-07-18T11:00:23.804347Z",
     "start_time": "2025-07-18T11:00:23.719454Z"
    }
   },
   "source": [
    "from langchain.chains import RetrievalQA\n",
    "from langchain.prompts import (\n",
    "    PromptTemplate,\n",
    "    HumanMessagePromptTemplate,\n",
    "    ChatPromptTemplate\n",
    ")"
   ],
   "outputs": [],
   "execution_count": 14
  },
  {
   "cell_type": "code",
   "metadata": {
    "ExecuteTime": {
     "end_time": "2025-07-18T11:00:23.864150Z",
     "start_time": "2025-07-18T11:00:23.809294Z"
    }
   },
   "source": [
    "from langchain_community.graphs import Neo4jGraph\n",
    "from langchain.chains import GraphCypherQAChain"
   ],
   "outputs": [],
   "execution_count": 15
  },
  {
   "cell_type": "code",
   "metadata": {
    "ExecuteTime": {
     "end_time": "2025-07-18T11:00:27.128463Z",
     "start_time": "2025-07-18T11:00:23.875291Z"
    }
   },
   "source": [
    "graph = Neo4jGraph(\n",
    "    url=NEO4J_URI,\n",
    "    username=NEO4J_USER,\n",
    "    password=NEO4J_PASSWORD,\n",
    ")"
   ],
   "outputs": [
    {
     "name": "stderr",
     "output_type": "stream",
     "text": [
      "C:\\Users\\NALABSR1\\AppData\\Local\\Temp\\ipykernel_28632\\3799452167.py:1: LangChainDeprecationWarning: The class `Neo4jGraph` was deprecated in LangChain 0.3.8 and will be removed in 1.0. An updated version of the class exists in the :class:`~langchain-neo4j package and should be used instead. To use it run `pip install -U :class:`~langchain-neo4j` and import as `from :class:`~langchain_neo4j import Neo4jGraph``.\n",
      "  graph = Neo4jGraph(\n"
     ]
    }
   ],
   "execution_count": 16
  },
  {
   "cell_type": "code",
   "metadata": {
    "ExecuteTime": {
     "end_time": "2025-07-18T11:00:27.141763Z",
     "start_time": "2025-07-18T11:00:27.131056Z"
    }
   },
   "source": "# graph.refresh_schema()",
   "outputs": [],
   "execution_count": 17
  },
  {
   "cell_type": "code",
   "metadata": {
    "ExecuteTime": {
     "end_time": "2025-07-18T11:00:27.173129Z",
     "start_time": "2025-07-18T11:00:27.145435Z"
    }
   },
   "source": [
    "cypher_generation_template = \"\"\"\n",
    "Task:\n",
    "Generate Cypher query for a Neo4j graph database.\n",
    "\n",
    "Instructions:\n",
    "Use only the provided relationship types and properties in the schema.\n",
    "Do not use any other relationship types or properties that are not provided.\n",
    "\n",
    "Schema:\n",
    "{schema}\n",
    "\n",
    "Note:\n",
    "Do not include any explanations or apologies in your responses.\n",
    "Do not respond to any questions that might ask anything other than\n",
    "for you to construct a Cypher statement. Do not include any text except\n",
    "the generated Cypher statement. Make sure the direction of the relationship is\n",
    "correct in your queries. Make sure you alias both entities and relationships\n",
    "properly. Do not run any queries that would add to or delete from\n",
    "the database. Make sure to alias all statements that follow as with\n",
    "statement (e.g. WITH c as customer, o.orderID as order_id).\n",
    "If you need to divide numbers, make sure to\n",
    "filter the denominator to be non-zero.\n",
    "\n",
    "Examples:\n",
    "# Retrieve the total number of orders placed by each customer.\n",
    "MATCH (c:Customer)-[o:ORDERED_BY]->(order:Order)\n",
    "RETURN c.customerID AS customer_id, COUNT(o) AS total_orders\n",
    "# List the top 5 products with the highest unit price.\n",
    "MATCH (p:Product)\n",
    "RETURN p.productName AS product_name, p.unitPrice AS unit_price\n",
    "ORDER BY unit_price DESC\n",
    "LIMIT 5\n",
    "# Find all employees who have processed orders.\n",
    "MATCH (e:Employee)-[r:PROCESSED_BY]->(o:Order)\n",
    "RETURN e.employeeID AS employee_id, COUNT(o) AS orders_processed\n",
    "String category values:\n",
    "Use existing strings and values from the schema provided. \n",
    "\n",
    "The question is:\n",
    "{question}\n",
    "\"\"\""
   ],
   "outputs": [],
   "execution_count": 18
  },
  {
   "cell_type": "code",
   "metadata": {
    "ExecuteTime": {
     "end_time": "2025-07-18T11:00:27.190531Z",
     "start_time": "2025-07-18T11:00:27.177096Z"
    }
   },
   "source": [
    "cypher_generation_prompt = PromptTemplate(\n",
    "    input_variables=[\"schema\", \"question\"],\n",
    "    template=cypher_generation_template\n",
    ")"
   ],
   "outputs": [],
   "execution_count": 19
  },
  {
   "cell_type": "code",
   "metadata": {
    "ExecuteTime": {
     "end_time": "2025-07-18T11:00:27.208958Z",
     "start_time": "2025-07-18T11:00:27.194471Z"
    }
   },
   "source": [
    "qa_generation_template_str = \"\"\"\n",
    "You are an assistant that takes the results from a Neo4j Cypher query and forms a human-readable response. The query results section contains the results of a Cypher query that was generated based on a user's natural language question. The provided information is authoritative; you must never question it or use your internal knowledge to alter it. Make the answer sound like a response to the question.\n",
    "\n",
    "Query Results:\n",
    "{context}\n",
    "Question:\n",
    "{question}\n",
    "If the provided information is empty, respond by stating that you don't know the answer. Empty information is indicated by: []\n",
    "If the information is not empty, you must provide an answer using the results. If the question involves a time duration, assume the query results are in units of days unless specified otherwise.\n",
    "When names are provided in the query results, such as hospital names, be cautious of any names containing commas or other punctuation. For example, 'Jones, Brown and Murray' is a single hospital name, not multiple hospitals. Ensure that any list of names is presented clearly to avoid ambiguity and make the full names easily identifiable.\n",
    "Never state that you lack sufficient information if data is present in the query results. Always utilize the data provided.\n",
    "Helpful Answer:\n",
    "\"\"\""
   ],
   "outputs": [],
   "execution_count": 20
  },
  {
   "cell_type": "code",
   "metadata": {
    "ExecuteTime": {
     "end_time": "2025-07-18T11:00:27.226051Z",
     "start_time": "2025-07-18T11:00:27.213005Z"
    }
   },
   "source": [
    "qa_generation_prompt = PromptTemplate(\n",
    "    input_variables=[\"context\", \"question\"], template=qa_generation_template_str\n",
    ")"
   ],
   "outputs": [],
   "execution_count": 21
  },
  {
   "cell_type": "code",
   "metadata": {
    "ExecuteTime": {
     "end_time": "2025-07-18T11:00:27.251713Z",
     "start_time": "2025-07-18T11:00:27.231581Z"
    }
   },
   "source": [
    "cypher_chain = GraphCypherQAChain.from_llm(\n",
    "    top_k=10,\n",
    "    graph=graph,\n",
    "    verbose=True,\n",
    "    validate_cypher=True,\n",
    "    qa_prompt=qa_generation_prompt,\n",
    "    cypher_prompt=cypher_generation_prompt,\n",
    "    qa_llm=llm,\n",
    "    cypher_llm=llm,\n",
    "    allow_dangerous_requests=True\n",
    ")"
   ],
   "outputs": [],
   "execution_count": 22
  },
  {
   "cell_type": "code",
   "metadata": {
    "ExecuteTime": {
     "end_time": "2025-07-18T11:00:27.274144Z",
     "start_time": "2025-07-18T11:00:27.255745Z"
    }
   },
   "source": [
    "from langchain.tools import tool\n",
    "@tool(\"graph_tool\", return_direct=False)\n",
    "def graph_tool(query: str) -> str:\n",
    "    \"\"\"Use this tool when the user asks a question that requires querying structured information \n",
    "    from a Neo4j graph database. Ideal for answering questions related to relationships, \n",
    "    hierarchies, dependencies, connections between entities, or insights stored in the graph.\n",
    "\t\n",
    "    The graph contains entities such as:\n",
    "    - Steps (which belong to process diagrams)\n",
    "    - Process Diagrams (which are grouped under Subprocess Areas → Process Areas → Functions)\n",
    "    - Roles (responsible or accountable for executing specific steps)\n",
    "    - NFCM Controls (linked to steps via 'INVOLVED_IN' relationships)\n",
    "    - Inter-diagram references (e.g., 'REFERENCED_EVENT', 'CROSS_REFERENCE', 'REFERENCED_SUBPROCESS')\n",
    "\n",
    "    Use this tool when:\n",
    "    - The user asks about who is responsible or accountable for a particular step or process\n",
    "    - The question involves business process hierarchies, functional areas, or diagram structure\n",
    "    - The user wants to find controls implemented in a process or step\n",
    "    - The query relates to semantic or relational search across roles, functions, controls, or process flows\n",
    "    - You need to traverse relationships or analyze dependencies (e.g., which diagrams a step connects to)\n",
    "\n",
    "    Avoid using this tool for:\n",
    "    - General or factual knowledge unrelated to business processes or the graph\n",
    "    - Questions that don't require traversing or querying the graph database\n",
    "\n",
    "    Always prefer this tool if the user query involves understanding structured workflows, responsibilities or control frameworks within a business process.\n",
    "\t\"\"\"\n",
    "    response = cypher_chain.invoke(query)\n",
    "    \n",
    "    return response.get(\"result\")"
   ],
   "outputs": [],
   "execution_count": 23
  },
  {
   "metadata": {
    "ExecuteTime": {
     "end_time": "2025-07-18T11:00:27.290818Z",
     "start_time": "2025-07-18T11:00:27.276155Z"
    }
   },
   "cell_type": "code",
   "source": [
    "REACT_PROMPT = \"\"\"\n",
    "### AGENTS RESPONSE WORKFLOW:\n",
    "Answer using all of these tools: {tools}. You must use ALL THE TOOLS SIMULTANEOUSLY.\n",
    "Follow this format:\n",
    "\n",
    "Question: {input}\n",
    "\n",
    "Thought: {agent_scratchpad}\n",
    "# SINGLE ACTION\n",
    "Action: [tool name] - should be one of [{tool_names}]\n",
    "Action Input: [input]\n",
    "Observation: [result]\n",
    "\n",
    "# MULTIPLE PARALLEL ACTIONS\n",
    "Action 1: [tool name] - should be one of [{tool_names}]\n",
    "Action Input 1: [input]\n",
    "Action 2: [tool name] - should be one of [{tool_names}]\n",
    "Action Input 2: [input]\n",
    "# MANDATORY: Each Action N MUST be followed by Observation N. DO NOT skip any.\n",
    "Observation 1: [result from Action 1]\n",
    "Observation 2: [result from Action 2]\n",
    "\n",
    "... (repeat as needed)\n",
    "\n",
    "# ---  DECIDE BEFORE CONCLUDING  --------------------------------\n",
    "# Immediately after every Observation, ask yourself:\n",
    "#     \"Do I already have all the information to answer all parts of the user query and have I used all the tools provided - {tools}?\"\n",
    "# • If No → write another `Thought:` line and continue the loop.\n",
    "# • If Yes → jump to the Final Thought / Final Answer block below.\n",
    "# ----------------------------------------------------------------\n",
    "\n",
    "Final Thought: [summary reasoning after all actions]\n",
    "Final Answer: [your complete final response to the question]\n",
    "\n",
    "**CRITICAL RULES**\n",
    "1. Always follow the format above. Every `Thought` must be followed by one of the following sequences:\n",
    "   - a single Action + Observation, OR\n",
    "   - multiple Actions + corresponding Observations\n",
    "   → Repeat as needed, until all tools are used and query is fully addressed.\n",
    "2. If a user query involves multiple entities (e.g., multiple companies, years, policies, standards, sub questions, etc.), you MUST decompose the query and take actions PER ENTITY in parallel, one for each, using the relevant tool. Each entity must be treated as a separate Action/Observation pair.\n",
    "3. Once you have all needed information, only after that, you may conclude with:\n",
    "    - Final Thought + Final Answer (to end).\n",
    "4. NEVER leave a `Thought:` line without an Action or a Final Answer.\n",
    "5. If you use parallel Actions (Action 1, Action 2...), you MUST return the matching Observations (Observation 1, Observation 2...).\n",
    "6. Maintain correct order when one Action’s result is needed by another.\n",
    "7. ALWAYS use exact tool names from: `{tool_names}`\n",
    "8. It is **MANDATORY to use ALL tools in `{tools}`** before reaching Intermediate Thought.\n",
    "\n",
    "### EXAMPLE 1 — PARALLEL TOOLS\n",
    "Question: What is the current time in Tokyo, and what is 3^5?\n",
    "\n",
    "Thought: I need both world_clock and python_repl tools to answer this in parallel.\n",
    "Action 1: world_clock\n",
    "Action Input 1: Tokyo\n",
    "Action 2: python_repl\n",
    "Action Input 2: 3**5\n",
    "Observation 1: 2023-10-05 14:30 JST\n",
    "Observation 2: 243\n",
    "Final Thought: I now have both the time and the result of 3^5.\n",
    "Final Answer: The current time in Tokyo is 14:30 JST. 3^5 = 243\n",
    "\n",
    "# STRICTLY NOTE\n",
    "# • Do NOT skip the self-check and go straight to Final Thought.\n",
    "# • You must perform at least one Thought → Action → Observation cycle\n",
    "#   unless there are zero applicable tools for this question.\n",
    "\n",
    "# SELF-CORRECTION\n",
    "# If you realise you broke any rule above, output exactly the word\n",
    "#     RETRY\n",
    "# on its own line and wait for the next message.\n",
    "\n",
    "Begin!\"\"\"\n"
   ],
   "outputs": [],
   "execution_count": 24
  },
  {
   "cell_type": "code",
   "metadata": {
    "ExecuteTime": {
     "end_time": "2025-07-18T11:00:27.310237Z",
     "start_time": "2025-07-18T11:00:27.300382Z"
    }
   },
   "source": "cypher_react_agent = get_simple_react_agent(llm, [graph_tool], DG_REACT_PROMPT, verbose=True)",
   "outputs": [],
   "execution_count": 25
  },
  {
   "metadata": {
    "ExecuteTime": {
     "end_time": "2025-07-18T11:00:39.537694Z",
     "start_time": "2025-07-18T11:00:27.312814Z"
    }
   },
   "cell_type": "code",
   "source": [
    "question = \"List down the process diagram with more than 2 controls involved\"\n",
    "answer = cypher_react_agent.invoke(\n",
    "    {\n",
    "        \"input\": question,\n",
    "        \"SYSTEM_PROMPT\": SYSTEM_PROMPT,\n",
    "        \"GENERAL_INSTRUCTIONS\": General_Instructions,\n",
    "        \"SPECIAL_INSTRUCTIONS\": DG_Adonis_Special_Instructions,\n",
    "    }\n",
    ")\n",
    "display(Markdown(answer[\"output\"]))"
   ],
   "outputs": [
    {
     "name": "stdout",
     "output_type": "stream",
     "text": [
      "\n",
      "\n",
      "\u001B[1m> Entering new AgentExecutor chain...\u001B[0m\n",
      "\u001B[32;1m\u001B[1;3mThought: I need to query the graph database to identify all process diagrams that have more than 2 NFCM controls involved.\n",
      "Action: graph_tool\n",
      "Action Input: List all process diagrams that have more than 2 NFCM controls involved.\u001B[0m\n",
      "\n",
      "\u001B[1m> Entering new GraphCypherQAChain chain...\u001B[0m\n",
      "Generated Cypher:\n",
      "\u001B[32;1m\u001B[1;3mMATCH (d:ProcessDiagram)<-[:STEP_IN]-(s:Step)<-[:INVOLVED_IN]-(n:NFCMControl)\n",
      "WITH d AS process_diagram, COUNT(DISTINCT n) AS nfcm_control_count\n",
      "WHERE nfcm_control_count > 2\n",
      "RETURN process_diagram.name AS process_diagram_name, nfcm_control_count\n",
      "ORDER BY nfcm_control_count DESC\u001B[0m\n",
      "Full Context:\n",
      "\u001B[32;1m\u001B[1;3m[{'process_diagram_name': '1.48.76, FCRS review', 'nfcm_control_count': 9}, {'process_diagram_name': '1.48.6, Posting Accruals / Provisions', 'nfcm_control_count': 5}, {'process_diagram_name': '1.48.79, Maintain and Review Blackline set up', 'nfcm_control_count': 5}, {'process_diagram_name': '1.48.17,Period End Closing - Pre close', 'nfcm_control_count': 5}, {'process_diagram_name': '1.48.5, Journal Entries', 'nfcm_control_count': 4}, {'process_diagram_name': '1.48.68 , OBA 3rd party Revenue sales', 'nfcm_control_count': 4}, {'process_diagram_name': '1.48.9, Entity Legal Provision', 'nfcm_control_count': 4}, {'process_diagram_name': '1.47.34 Addition of all new leases including embedded lease & sales & leaseback (except global fleet) ', 'nfcm_control_count': 3}, {'process_diagram_name': '1.47.14, Manage Period End Closing', 'nfcm_control_count': 3}, {'process_diagram_name': '1.47.13, Intangible Asset impairment', 'nfcm_control_count': 3}]\u001B[0m\n",
      "\n",
      "\u001B[1m> Finished chain.\u001B[0m\n",
      "\u001B[36;1m\u001B[1;3mThe following process diagrams each have more than 2 NFCM controls involved:\n",
      "\n",
      "- 1.48.76, FCRS review (9 controls)\n",
      "- 1.48.6, Posting Accruals / Provisions (5 controls)\n",
      "- 1.48.79, Maintain and Review Blackline set up (5 controls)\n",
      "- 1.48.17,Period End Closing - Pre close (5 controls)\n",
      "- 1.48.5, Journal Entries (4 controls)\n",
      "- 1.48.68 , OBA 3rd party Revenue sales (4 controls)\n",
      "- 1.48.9, Entity Legal Provision (4 controls)\n",
      "- 1.47.34 Addition of all new leases including embedded lease & sales & leaseback (except global fleet) (3 controls)\n",
      "- 1.47.14, Manage Period End Closing (3 controls)\n",
      "- 1.47.13, Intangible Asset impairment (3 controls)\n",
      "\n",
      "Each name listed above represents a single process diagram, even if it contains commas or other punctuation.\u001B[0m\u001B[32;1m\u001B[1;3m**Process diagrams with more than 2 controls involved are:**\n",
      "\n",
      "- **1.48.76, FCRS review** (9 controls) 📊\n",
      "- **1.48.6, Posting Accruals / Provisions** (5 controls) 📊\n",
      "- **1.48.79, Maintain and Review Blackline set up** (5 controls) 📊\n",
      "- **1.48.17, Period End Closing - Pre close** (5 controls) 📊\n",
      "- **1.48.5, Journal Entries** (4 controls) 📊\n",
      "- **1.48.68, OBA 3rd party Revenue sales** (4 controls) 📊\n",
      "- **1.48.9, Entity Legal Provision** (4 controls) 📊\n",
      "- **1.47.34, Addition of all new leases including embedded lease & sales & leaseback (except global fleet)** (3 controls) 📊\n",
      "- **1.47.14, Manage Period End Closing** (3 controls) 📊\n",
      "- **1.47.13, Intangible Asset impairment** (3 controls) 📊\n",
      "\n",
      "Please refer to the respective process diagrams for further details.\u001B[0mInvalid Format: Missing 'Action:' after 'Thought:'\u001B[32;1m\u001B[1;3mFinal Thought: I have identified all process diagrams with more than 2 NFCM controls involved from the graph database.\n",
      "Final Answer: \n",
      "\n",
      "**Process diagrams with more than 2 controls involved are:** 📊\n",
      "\n",
      "- **1.48.76, FCRS review** (9 controls)\n",
      "- **1.48.6, Posting Accruals / Provisions** (5 controls)\n",
      "- **1.48.79, Maintain and Review Blackline set up** (5 controls)\n",
      "- **1.48.17, Period End Closing - Pre close** (5 controls)\n",
      "- **1.48.5, Journal Entries** (4 controls)\n",
      "- **1.48.68, OBA 3rd party Revenue sales** (4 controls)\n",
      "- **1.48.9, Entity Legal Provision** (4 controls)\n",
      "- **1.47.34, Addition of all new leases including embedded lease & sales & leaseback (except global fleet)** (3 controls)\n",
      "- **1.47.14, Manage Period End Closing** (3 controls)\n",
      "- **1.47.13, Intangible Asset impairment** (3 controls)\n",
      "\n",
      "Please refer to the respective process diagrams for further details.\u001B[0m\n",
      "\n",
      "\u001B[1m> Finished chain.\u001B[0m\n"
     ]
    },
    {
     "data": {
      "text/plain": [
       "<IPython.core.display.Markdown object>"
      ],
      "text/markdown": "**Process diagrams with more than 2 controls involved are:** 📊\n\n- **1.48.76, FCRS review** (9 controls)\n- **1.48.6, Posting Accruals / Provisions** (5 controls)\n- **1.48.79, Maintain and Review Blackline set up** (5 controls)\n- **1.48.17, Period End Closing - Pre close** (5 controls)\n- **1.48.5, Journal Entries** (4 controls)\n- **1.48.68, OBA 3rd party Revenue sales** (4 controls)\n- **1.48.9, Entity Legal Provision** (4 controls)\n- **1.47.34, Addition of all new leases including embedded lease & sales & leaseback (except global fleet)** (3 controls)\n- **1.47.14, Manage Period End Closing** (3 controls)\n- **1.47.13, Intangible Asset impairment** (3 controls)\n\nPlease refer to the respective process diagrams for further details."
     },
     "metadata": {},
     "output_type": "display_data"
    }
   ],
   "execution_count": 26
  },
  {
   "metadata": {
    "ExecuteTime": {
     "end_time": "2025-07-18T11:00:44.935893Z",
     "start_time": "2025-07-18T11:00:39.542715Z"
    }
   },
   "cell_type": "code",
   "source": [
    "question = \"Which role does most of the work in Asset Management?\"\n",
    "answer = cypher_react_agent.invoke(\n",
    "    {\n",
    "        \"input\": question,\n",
    "        \"SYSTEM_PROMPT\": SYSTEM_PROMPT,\n",
    "        \"GENERAL_INSTRUCTIONS\": General_Instructions,\n",
    "        \"SPECIAL_INSTRUCTIONS\": DG_Adonis_Special_Instructions,\n",
    "    }\n",
    ")\n",
    "display(Markdown(answer[\"output\"]))"
   ],
   "outputs": [
    {
     "name": "stdout",
     "output_type": "stream",
     "text": [
      "\n",
      "\n",
      "\u001B[1m> Entering new AgentExecutor chain...\u001B[0m\n",
      "\u001B[32;1m\u001B[1;3mThought: I need to identify which role is most frequently responsible for steps in the Asset Management process area. I will query the graph for roles and their frequency of responsibility within Asset Management.\n",
      "Action: graph_tool\n",
      "Action Input: Which role is responsible for the most steps in the Asset Management process area?\u001B[0m\n",
      "\n",
      "\u001B[1m> Entering new GraphCypherQAChain chain...\u001B[0m\n",
      "Generated Cypher:\n",
      "\u001B[32;1m\u001B[1;3mMATCH (pa:ProcessArea {name: \"Asset Management\"})<-[:PART_OF]-(spa:SubProcessArea)<-[:PART_OF]-(pd:ProcessDiagram)<-[:STEP_IN]-(s:Step)<-[:RESPONSIBLE_FOR]-(r:Role)\n",
      "WITH r.name AS role_name, COUNT(s) AS steps_count\n",
      "ORDER BY steps_count DESC\n",
      "LIMIT 1\n",
      "RETURN role_name, steps_count\u001B[0m\n",
      "Full Context:\n",
      "\u001B[32;1m\u001B[1;3m[{'role_name': 'Asset Specialist', 'steps_count': 124}]\u001B[0m\n",
      "\n",
      "\u001B[1m> Finished chain.\u001B[0m\n",
      "\u001B[36;1m\u001B[1;3mThe role responsible for the most steps in the Asset Management process area is the Asset Specialist, with 124 steps.\u001B[0m\u001B[32;1m\u001B[1;3mFinal Thought: I have identified the role with the highest responsibility in Asset Management.\n",
      "Final Answer: \n",
      "- **The Asset Specialist is responsible for most of the work in Asset Management, handling 124 steps.** ✅\u001B[0m\n",
      "\n",
      "\u001B[1m> Finished chain.\u001B[0m\n"
     ]
    },
    {
     "data": {
      "text/plain": [
       "<IPython.core.display.Markdown object>"
      ],
      "text/markdown": "- **The Asset Specialist is responsible for most of the work in Asset Management, handling 124 steps.** ✅"
     },
     "metadata": {},
     "output_type": "display_data"
    }
   ],
   "execution_count": 27
  },
  {
   "metadata": {
    "ExecuteTime": {
     "end_time": "2025-07-18T11:01:02.138473Z",
     "start_time": "2025-07-18T11:00:44.947267Z"
    }
   },
   "cell_type": "code",
   "source": [
    "question = \"What are the key controls around balance sheet reconciliation?\"\n",
    "answer = cypher_react_agent.invoke(\n",
    "    {\n",
    "        \"input\": question,\n",
    "        \"SYSTEM_PROMPT\": SYSTEM_PROMPT,\n",
    "        \"GENERAL_INSTRUCTIONS\": General_Instructions,\n",
    "        \"SPECIAL_INSTRUCTIONS\": DG_Adonis_Special_Instructions,\n",
    "    }\n",
    ")\n",
    "display(Markdown(answer[\"output\"]))"
   ],
   "outputs": [
    {
     "name": "stdout",
     "output_type": "stream",
     "text": [
      "\n",
      "\n",
      "\u001B[1m> Entering new AgentExecutor chain...\u001B[0m\n",
      "\u001B[32;1m\u001B[1;3mThought: I need to identify the key controls implemented around balance sheet reconciliation by querying the process diagrams and NFCM controls related to this process.\n",
      "Action: graph_tool\n",
      "Action Input: What are the NFCM controls implemented for balance sheet reconciliation steps and which process diagrams do they belong to?\u001B[0m\n",
      "\n",
      "\u001B[1m> Entering new GraphCypherQAChain chain...\u001B[0m\n",
      "Generated Cypher:\n",
      "\u001B[32;1m\u001B[1;3mMATCH (n:NFCMControl)-[inv:INVOLVED_IN]->(s:Step)\n",
      "WHERE s.name = \"balance sheet reconciliation\"\n",
      "MATCH (s)-[si:STEP_IN]->(pd:ProcessDiagram)\n",
      "RETURN n.name AS nfcm_control_name, n.description AS nfcm_control_description, pd.name AS process_diagram_name, pd.summary AS process_diagram_summary\n",
      "WITH n AS nfcm_control, pd AS process_diagram\u001B[0m\n"
     ]
    },
    {
     "ename": "CypherSyntaxError",
     "evalue": "{code: Neo.ClientError.Statement.SyntaxError} {message: Variable `n` not defined (line 5, column 6 (offset: 295))\r\n\"WITH n AS nfcm_control, pd AS process_diagram\"\r\n      ^}",
     "output_type": "error",
     "traceback": [
      "\u001B[31m---------------------------------------------------------------------------\u001B[39m",
      "\u001B[31mCypherSyntaxError\u001B[39m                         Traceback (most recent call last)",
      "\u001B[36mCell\u001B[39m\u001B[36m \u001B[39m\u001B[32mIn[28]\u001B[39m\u001B[32m, line 3\u001B[39m\n\u001B[32m      1\u001B[39m question = \u001B[33m\"\u001B[39m\u001B[33mWhat are the key controls around balance sheet reconciliation?\u001B[39m\u001B[33m\"\u001B[39m\n\u001B[32m      2\u001B[39m \u001B[38;5;28;01mwith\u001B[39;00m get_openai_callback() \u001B[38;5;28;01mas\u001B[39;00m cb:\n\u001B[32m----> \u001B[39m\u001B[32m3\u001B[39m     answer = \u001B[43mcypher_react_agent\u001B[49m\u001B[43m.\u001B[49m\u001B[43minvoke\u001B[49m\u001B[43m(\u001B[49m\n\u001B[32m      4\u001B[39m \u001B[43m        \u001B[49m\u001B[43m{\u001B[49m\n\u001B[32m      5\u001B[39m \u001B[43m            \u001B[49m\u001B[33;43m\"\u001B[39;49m\u001B[33;43minput\u001B[39;49m\u001B[33;43m\"\u001B[39;49m\u001B[43m:\u001B[49m\u001B[43m \u001B[49m\u001B[43mquestion\u001B[49m\u001B[43m,\u001B[49m\n\u001B[32m      6\u001B[39m \u001B[43m            \u001B[49m\u001B[33;43m\"\u001B[39;49m\u001B[33;43mSYSTEM_PROMPT\u001B[39;49m\u001B[33;43m\"\u001B[39;49m\u001B[43m:\u001B[49m\u001B[43m \u001B[49m\u001B[43mSYSTEM_PROMPT\u001B[49m\u001B[43m,\u001B[49m\n\u001B[32m      7\u001B[39m \u001B[43m            \u001B[49m\u001B[33;43m\"\u001B[39;49m\u001B[33;43mGENERAL_INSTRUCTIONS\u001B[39;49m\u001B[33;43m\"\u001B[39;49m\u001B[43m:\u001B[49m\u001B[43m \u001B[49m\u001B[43mGeneral_Instructions\u001B[49m\u001B[43m,\u001B[49m\n\u001B[32m      8\u001B[39m \u001B[43m            \u001B[49m\u001B[33;43m\"\u001B[39;49m\u001B[33;43mSPECIAL_INSTRUCTIONS\u001B[39;49m\u001B[33;43m\"\u001B[39;49m\u001B[43m:\u001B[49m\u001B[43m \u001B[49m\u001B[43mDG_Adonis_Special_Instructions\u001B[49m\u001B[43m,\u001B[49m\n\u001B[32m      9\u001B[39m \u001B[43m        \u001B[49m\u001B[43m}\u001B[49m\n\u001B[32m     10\u001B[39m \u001B[43m    \u001B[49m\u001B[43m)\u001B[49m\n\u001B[32m     11\u001B[39m display(Markdown(answer[\u001B[33m\"\u001B[39m\u001B[33moutput\u001B[39m\u001B[33m\"\u001B[39m]))\n",
      "\u001B[36mFile \u001B[39m\u001B[32m~\\OneDrive - Novartis Pharma AG\\Hari\\PyCharm_Projects\\gen.ai\\FRAI_GO_LIVE\\live_venv_311\\Lib\\site-packages\\langchain\\chains\\base.py:170\u001B[39m, in \u001B[36mChain.invoke\u001B[39m\u001B[34m(self, input, config, **kwargs)\u001B[39m\n\u001B[32m    168\u001B[39m \u001B[38;5;28;01mexcept\u001B[39;00m \u001B[38;5;167;01mBaseException\u001B[39;00m \u001B[38;5;28;01mas\u001B[39;00m e:\n\u001B[32m    169\u001B[39m     run_manager.on_chain_error(e)\n\u001B[32m--> \u001B[39m\u001B[32m170\u001B[39m     \u001B[38;5;28;01mraise\u001B[39;00m e\n\u001B[32m    171\u001B[39m run_manager.on_chain_end(outputs)\n\u001B[32m    173\u001B[39m \u001B[38;5;28;01mif\u001B[39;00m include_run_info:\n",
      "\u001B[36mFile \u001B[39m\u001B[32m~\\OneDrive - Novartis Pharma AG\\Hari\\PyCharm_Projects\\gen.ai\\FRAI_GO_LIVE\\live_venv_311\\Lib\\site-packages\\langchain\\chains\\base.py:160\u001B[39m, in \u001B[36mChain.invoke\u001B[39m\u001B[34m(self, input, config, **kwargs)\u001B[39m\n\u001B[32m    157\u001B[39m \u001B[38;5;28;01mtry\u001B[39;00m:\n\u001B[32m    158\u001B[39m     \u001B[38;5;28mself\u001B[39m._validate_inputs(inputs)\n\u001B[32m    159\u001B[39m     outputs = (\n\u001B[32m--> \u001B[39m\u001B[32m160\u001B[39m         \u001B[38;5;28;43mself\u001B[39;49m\u001B[43m.\u001B[49m\u001B[43m_call\u001B[49m\u001B[43m(\u001B[49m\u001B[43minputs\u001B[49m\u001B[43m,\u001B[49m\u001B[43m \u001B[49m\u001B[43mrun_manager\u001B[49m\u001B[43m=\u001B[49m\u001B[43mrun_manager\u001B[49m\u001B[43m)\u001B[49m\n\u001B[32m    161\u001B[39m         \u001B[38;5;28;01mif\u001B[39;00m new_arg_supported\n\u001B[32m    162\u001B[39m         \u001B[38;5;28;01melse\u001B[39;00m \u001B[38;5;28mself\u001B[39m._call(inputs)\n\u001B[32m    163\u001B[39m     )\n\u001B[32m    165\u001B[39m     final_outputs: Dict[\u001B[38;5;28mstr\u001B[39m, Any] = \u001B[38;5;28mself\u001B[39m.prep_outputs(\n\u001B[32m    166\u001B[39m         inputs, outputs, return_only_outputs\n\u001B[32m    167\u001B[39m     )\n\u001B[32m    168\u001B[39m \u001B[38;5;28;01mexcept\u001B[39;00m \u001B[38;5;167;01mBaseException\u001B[39;00m \u001B[38;5;28;01mas\u001B[39;00m e:\n",
      "\u001B[36mFile \u001B[39m\u001B[32m~\\OneDrive - Novartis Pharma AG\\Hari\\PyCharm_Projects\\gen.ai\\FRAI_GO_LIVE\\live_venv_311\\Lib\\site-packages\\langchain\\agents\\agent.py:1624\u001B[39m, in \u001B[36mAgentExecutor._call\u001B[39m\u001B[34m(self, inputs, run_manager)\u001B[39m\n\u001B[32m   1622\u001B[39m \u001B[38;5;66;03m# We now enter the agent loop (until it returns something).\u001B[39;00m\n\u001B[32m   1623\u001B[39m \u001B[38;5;28;01mwhile\u001B[39;00m \u001B[38;5;28mself\u001B[39m._should_continue(iterations, time_elapsed):\n\u001B[32m-> \u001B[39m\u001B[32m1624\u001B[39m     next_step_output = \u001B[38;5;28;43mself\u001B[39;49m\u001B[43m.\u001B[49m\u001B[43m_take_next_step\u001B[49m\u001B[43m(\u001B[49m\n\u001B[32m   1625\u001B[39m \u001B[43m        \u001B[49m\u001B[43mname_to_tool_map\u001B[49m\u001B[43m,\u001B[49m\n\u001B[32m   1626\u001B[39m \u001B[43m        \u001B[49m\u001B[43mcolor_mapping\u001B[49m\u001B[43m,\u001B[49m\n\u001B[32m   1627\u001B[39m \u001B[43m        \u001B[49m\u001B[43minputs\u001B[49m\u001B[43m,\u001B[49m\n\u001B[32m   1628\u001B[39m \u001B[43m        \u001B[49m\u001B[43mintermediate_steps\u001B[49m\u001B[43m,\u001B[49m\n\u001B[32m   1629\u001B[39m \u001B[43m        \u001B[49m\u001B[43mrun_manager\u001B[49m\u001B[43m=\u001B[49m\u001B[43mrun_manager\u001B[49m\u001B[43m,\u001B[49m\n\u001B[32m   1630\u001B[39m \u001B[43m    \u001B[49m\u001B[43m)\u001B[49m\n\u001B[32m   1631\u001B[39m     \u001B[38;5;28;01mif\u001B[39;00m \u001B[38;5;28misinstance\u001B[39m(next_step_output, AgentFinish):\n\u001B[32m   1632\u001B[39m         \u001B[38;5;28;01mreturn\u001B[39;00m \u001B[38;5;28mself\u001B[39m._return(\n\u001B[32m   1633\u001B[39m             next_step_output, intermediate_steps, run_manager=run_manager\n\u001B[32m   1634\u001B[39m         )\n",
      "\u001B[36mFile \u001B[39m\u001B[32m~\\OneDrive - Novartis Pharma AG\\Hari\\PyCharm_Projects\\gen.ai\\FRAI_GO_LIVE\\live_venv_311\\Lib\\site-packages\\langchain\\agents\\agent.py:1330\u001B[39m, in \u001B[36mAgentExecutor._take_next_step\u001B[39m\u001B[34m(self, name_to_tool_map, color_mapping, inputs, intermediate_steps, run_manager)\u001B[39m\n\u001B[32m   1321\u001B[39m \u001B[38;5;28;01mdef\u001B[39;00m\u001B[38;5;250m \u001B[39m\u001B[34m_take_next_step\u001B[39m(\n\u001B[32m   1322\u001B[39m     \u001B[38;5;28mself\u001B[39m,\n\u001B[32m   1323\u001B[39m     name_to_tool_map: Dict[\u001B[38;5;28mstr\u001B[39m, BaseTool],\n\u001B[32m   (...)\u001B[39m\u001B[32m   1327\u001B[39m     run_manager: Optional[CallbackManagerForChainRun] = \u001B[38;5;28;01mNone\u001B[39;00m,\n\u001B[32m   1328\u001B[39m ) -> Union[AgentFinish, List[Tuple[AgentAction, \u001B[38;5;28mstr\u001B[39m]]]:\n\u001B[32m   1329\u001B[39m     \u001B[38;5;28;01mreturn\u001B[39;00m \u001B[38;5;28mself\u001B[39m._consume_next_step(\n\u001B[32m-> \u001B[39m\u001B[32m1330\u001B[39m         \u001B[43m[\u001B[49m\n\u001B[32m   1331\u001B[39m \u001B[43m            \u001B[49m\u001B[43ma\u001B[49m\n\u001B[32m   1332\u001B[39m \u001B[43m            \u001B[49m\u001B[38;5;28;43;01mfor\u001B[39;49;00m\u001B[43m \u001B[49m\u001B[43ma\u001B[49m\u001B[43m \u001B[49m\u001B[38;5;129;43;01min\u001B[39;49;00m\u001B[43m \u001B[49m\u001B[38;5;28;43mself\u001B[39;49m\u001B[43m.\u001B[49m\u001B[43m_iter_next_step\u001B[49m\u001B[43m(\u001B[49m\n\u001B[32m   1333\u001B[39m \u001B[43m                \u001B[49m\u001B[43mname_to_tool_map\u001B[49m\u001B[43m,\u001B[49m\n\u001B[32m   1334\u001B[39m \u001B[43m                \u001B[49m\u001B[43mcolor_mapping\u001B[49m\u001B[43m,\u001B[49m\n\u001B[32m   1335\u001B[39m \u001B[43m                \u001B[49m\u001B[43minputs\u001B[49m\u001B[43m,\u001B[49m\n\u001B[32m   1336\u001B[39m \u001B[43m                \u001B[49m\u001B[43mintermediate_steps\u001B[49m\u001B[43m,\u001B[49m\n\u001B[32m   1337\u001B[39m \u001B[43m                \u001B[49m\u001B[43mrun_manager\u001B[49m\u001B[43m,\u001B[49m\n\u001B[32m   1338\u001B[39m \u001B[43m            \u001B[49m\u001B[43m)\u001B[49m\n\u001B[32m   1339\u001B[39m \u001B[43m        \u001B[49m\u001B[43m]\u001B[49m\n\u001B[32m   1340\u001B[39m     )\n",
      "\u001B[36mFile \u001B[39m\u001B[32m~\\OneDrive - Novartis Pharma AG\\Hari\\PyCharm_Projects\\gen.ai\\FRAI_GO_LIVE\\live_venv_311\\Lib\\site-packages\\langchain\\agents\\agent.py:1330\u001B[39m, in \u001B[36m<listcomp>\u001B[39m\u001B[34m(.0)\u001B[39m\n\u001B[32m   1321\u001B[39m \u001B[38;5;28;01mdef\u001B[39;00m\u001B[38;5;250m \u001B[39m\u001B[34m_take_next_step\u001B[39m(\n\u001B[32m   1322\u001B[39m     \u001B[38;5;28mself\u001B[39m,\n\u001B[32m   1323\u001B[39m     name_to_tool_map: Dict[\u001B[38;5;28mstr\u001B[39m, BaseTool],\n\u001B[32m   (...)\u001B[39m\u001B[32m   1327\u001B[39m     run_manager: Optional[CallbackManagerForChainRun] = \u001B[38;5;28;01mNone\u001B[39;00m,\n\u001B[32m   1328\u001B[39m ) -> Union[AgentFinish, List[Tuple[AgentAction, \u001B[38;5;28mstr\u001B[39m]]]:\n\u001B[32m   1329\u001B[39m     \u001B[38;5;28;01mreturn\u001B[39;00m \u001B[38;5;28mself\u001B[39m._consume_next_step(\n\u001B[32m-> \u001B[39m\u001B[32m1330\u001B[39m         \u001B[43m[\u001B[49m\n\u001B[32m   1331\u001B[39m \u001B[43m            \u001B[49m\u001B[43ma\u001B[49m\n\u001B[32m   1332\u001B[39m \u001B[43m            \u001B[49m\u001B[38;5;28;43;01mfor\u001B[39;49;00m\u001B[43m \u001B[49m\u001B[43ma\u001B[49m\u001B[43m \u001B[49m\u001B[38;5;129;43;01min\u001B[39;49;00m\u001B[43m \u001B[49m\u001B[38;5;28;43mself\u001B[39;49m\u001B[43m.\u001B[49m\u001B[43m_iter_next_step\u001B[49m\u001B[43m(\u001B[49m\n\u001B[32m   1333\u001B[39m \u001B[43m                \u001B[49m\u001B[43mname_to_tool_map\u001B[49m\u001B[43m,\u001B[49m\n\u001B[32m   1334\u001B[39m \u001B[43m                \u001B[49m\u001B[43mcolor_mapping\u001B[49m\u001B[43m,\u001B[49m\n\u001B[32m   1335\u001B[39m \u001B[43m                \u001B[49m\u001B[43minputs\u001B[49m\u001B[43m,\u001B[49m\n\u001B[32m   1336\u001B[39m \u001B[43m                \u001B[49m\u001B[43mintermediate_steps\u001B[49m\u001B[43m,\u001B[49m\n\u001B[32m   1337\u001B[39m \u001B[43m                \u001B[49m\u001B[43mrun_manager\u001B[49m\u001B[43m,\u001B[49m\n\u001B[32m   1338\u001B[39m \u001B[43m            \u001B[49m\u001B[43m)\u001B[49m\n\u001B[32m   1339\u001B[39m \u001B[43m        \u001B[49m\u001B[43m]\u001B[49m\n\u001B[32m   1340\u001B[39m     )\n",
      "\u001B[36mFile \u001B[39m\u001B[32m~\\OneDrive - Novartis Pharma AG\\Hari\\PyCharm_Projects\\gen.ai\\FRAI_GO_LIVE\\live_venv_311\\Lib\\site-packages\\langchain\\agents\\agent.py:1415\u001B[39m, in \u001B[36mAgentExecutor._iter_next_step\u001B[39m\u001B[34m(self, name_to_tool_map, color_mapping, inputs, intermediate_steps, run_manager)\u001B[39m\n\u001B[32m   1413\u001B[39m     \u001B[38;5;28;01myield\u001B[39;00m agent_action\n\u001B[32m   1414\u001B[39m \u001B[38;5;28;01mfor\u001B[39;00m agent_action \u001B[38;5;129;01min\u001B[39;00m actions:\n\u001B[32m-> \u001B[39m\u001B[32m1415\u001B[39m     \u001B[38;5;28;01myield\u001B[39;00m \u001B[38;5;28;43mself\u001B[39;49m\u001B[43m.\u001B[49m\u001B[43m_perform_agent_action\u001B[49m\u001B[43m(\u001B[49m\n\u001B[32m   1416\u001B[39m \u001B[43m        \u001B[49m\u001B[43mname_to_tool_map\u001B[49m\u001B[43m,\u001B[49m\u001B[43m \u001B[49m\u001B[43mcolor_mapping\u001B[49m\u001B[43m,\u001B[49m\u001B[43m \u001B[49m\u001B[43magent_action\u001B[49m\u001B[43m,\u001B[49m\u001B[43m \u001B[49m\u001B[43mrun_manager\u001B[49m\n\u001B[32m   1417\u001B[39m \u001B[43m    \u001B[49m\u001B[43m)\u001B[49m\n",
      "\u001B[36mFile \u001B[39m\u001B[32m~\\OneDrive - Novartis Pharma AG\\Hari\\PyCharm_Projects\\gen.ai\\FRAI_GO_LIVE\\live_venv_311\\Lib\\site-packages\\langchain\\agents\\agent.py:1437\u001B[39m, in \u001B[36mAgentExecutor._perform_agent_action\u001B[39m\u001B[34m(self, name_to_tool_map, color_mapping, agent_action, run_manager)\u001B[39m\n\u001B[32m   1435\u001B[39m         tool_run_kwargs[\u001B[33m\"\u001B[39m\u001B[33mllm_prefix\u001B[39m\u001B[33m\"\u001B[39m] = \u001B[33m\"\u001B[39m\u001B[33m\"\u001B[39m\n\u001B[32m   1436\u001B[39m     \u001B[38;5;66;03m# We then call the tool on the tool input to get an observation\u001B[39;00m\n\u001B[32m-> \u001B[39m\u001B[32m1437\u001B[39m     observation = \u001B[43mtool\u001B[49m\u001B[43m.\u001B[49m\u001B[43mrun\u001B[49m\u001B[43m(\u001B[49m\n\u001B[32m   1438\u001B[39m \u001B[43m        \u001B[49m\u001B[43magent_action\u001B[49m\u001B[43m.\u001B[49m\u001B[43mtool_input\u001B[49m\u001B[43m,\u001B[49m\n\u001B[32m   1439\u001B[39m \u001B[43m        \u001B[49m\u001B[43mverbose\u001B[49m\u001B[43m=\u001B[49m\u001B[38;5;28;43mself\u001B[39;49m\u001B[43m.\u001B[49m\u001B[43mverbose\u001B[49m\u001B[43m,\u001B[49m\n\u001B[32m   1440\u001B[39m \u001B[43m        \u001B[49m\u001B[43mcolor\u001B[49m\u001B[43m=\u001B[49m\u001B[43mcolor\u001B[49m\u001B[43m,\u001B[49m\n\u001B[32m   1441\u001B[39m \u001B[43m        \u001B[49m\u001B[43mcallbacks\u001B[49m\u001B[43m=\u001B[49m\u001B[43mrun_manager\u001B[49m\u001B[43m.\u001B[49m\u001B[43mget_child\u001B[49m\u001B[43m(\u001B[49m\u001B[43m)\u001B[49m\u001B[43m \u001B[49m\u001B[38;5;28;43;01mif\u001B[39;49;00m\u001B[43m \u001B[49m\u001B[43mrun_manager\u001B[49m\u001B[43m \u001B[49m\u001B[38;5;28;43;01melse\u001B[39;49;00m\u001B[43m \u001B[49m\u001B[38;5;28;43;01mNone\u001B[39;49;00m\u001B[43m,\u001B[49m\n\u001B[32m   1442\u001B[39m \u001B[43m        \u001B[49m\u001B[43m*\u001B[49m\u001B[43m*\u001B[49m\u001B[43mtool_run_kwargs\u001B[49m\u001B[43m,\u001B[49m\n\u001B[32m   1443\u001B[39m \u001B[43m    \u001B[49m\u001B[43m)\u001B[49m\n\u001B[32m   1444\u001B[39m \u001B[38;5;28;01melse\u001B[39;00m:\n\u001B[32m   1445\u001B[39m     tool_run_kwargs = \u001B[38;5;28mself\u001B[39m._action_agent.tool_run_logging_kwargs()\n",
      "\u001B[36mFile \u001B[39m\u001B[32m~\\OneDrive - Novartis Pharma AG\\Hari\\PyCharm_Projects\\gen.ai\\FRAI_GO_LIVE\\live_venv_311\\Lib\\site-packages\\langchain_core\\tools\\base.py:771\u001B[39m, in \u001B[36mBaseTool.run\u001B[39m\u001B[34m(self, tool_input, verbose, start_color, color, callbacks, tags, metadata, run_name, run_id, config, tool_call_id, **kwargs)\u001B[39m\n\u001B[32m    769\u001B[39m \u001B[38;5;28;01mif\u001B[39;00m error_to_raise:\n\u001B[32m    770\u001B[39m     run_manager.on_tool_error(error_to_raise)\n\u001B[32m--> \u001B[39m\u001B[32m771\u001B[39m     \u001B[38;5;28;01mraise\u001B[39;00m error_to_raise\n\u001B[32m    772\u001B[39m output = _format_output(content, artifact, tool_call_id, \u001B[38;5;28mself\u001B[39m.name, status)\n\u001B[32m    773\u001B[39m run_manager.on_tool_end(output, color=color, name=\u001B[38;5;28mself\u001B[39m.name, **kwargs)\n",
      "\u001B[36mFile \u001B[39m\u001B[32m~\\OneDrive - Novartis Pharma AG\\Hari\\PyCharm_Projects\\gen.ai\\FRAI_GO_LIVE\\live_venv_311\\Lib\\site-packages\\langchain_core\\tools\\base.py:740\u001B[39m, in \u001B[36mBaseTool.run\u001B[39m\u001B[34m(self, tool_input, verbose, start_color, color, callbacks, tags, metadata, run_name, run_id, config, tool_call_id, **kwargs)\u001B[39m\n\u001B[32m    738\u001B[39m     \u001B[38;5;28;01mif\u001B[39;00m config_param := _get_runnable_config_param(\u001B[38;5;28mself\u001B[39m._run):\n\u001B[32m    739\u001B[39m         tool_kwargs = tool_kwargs | {config_param: config}\n\u001B[32m--> \u001B[39m\u001B[32m740\u001B[39m     response = \u001B[43mcontext\u001B[49m\u001B[43m.\u001B[49m\u001B[43mrun\u001B[49m\u001B[43m(\u001B[49m\u001B[38;5;28;43mself\u001B[39;49m\u001B[43m.\u001B[49m\u001B[43m_run\u001B[49m\u001B[43m,\u001B[49m\u001B[43m \u001B[49m\u001B[43m*\u001B[49m\u001B[43mtool_args\u001B[49m\u001B[43m,\u001B[49m\u001B[43m \u001B[49m\u001B[43m*\u001B[49m\u001B[43m*\u001B[49m\u001B[43mtool_kwargs\u001B[49m\u001B[43m)\u001B[49m\n\u001B[32m    741\u001B[39m \u001B[38;5;28;01mif\u001B[39;00m \u001B[38;5;28mself\u001B[39m.response_format == \u001B[33m\"\u001B[39m\u001B[33mcontent_and_artifact\u001B[39m\u001B[33m\"\u001B[39m:\n\u001B[32m    742\u001B[39m     \u001B[38;5;28;01mif\u001B[39;00m \u001B[38;5;129;01mnot\u001B[39;00m \u001B[38;5;28misinstance\u001B[39m(response, \u001B[38;5;28mtuple\u001B[39m) \u001B[38;5;129;01mor\u001B[39;00m \u001B[38;5;28mlen\u001B[39m(response) != \u001B[32m2\u001B[39m:\n",
      "\u001B[36mFile \u001B[39m\u001B[32m~\\OneDrive - Novartis Pharma AG\\Hari\\PyCharm_Projects\\gen.ai\\FRAI_GO_LIVE\\live_venv_311\\Lib\\site-packages\\langchain_core\\tools\\structured.py:93\u001B[39m, in \u001B[36mStructuredTool._run\u001B[39m\u001B[34m(self, config, run_manager, *args, **kwargs)\u001B[39m\n\u001B[32m     91\u001B[39m     \u001B[38;5;28;01mif\u001B[39;00m config_param := _get_runnable_config_param(\u001B[38;5;28mself\u001B[39m.func):\n\u001B[32m     92\u001B[39m         kwargs[config_param] = config\n\u001B[32m---> \u001B[39m\u001B[32m93\u001B[39m     \u001B[38;5;28;01mreturn\u001B[39;00m \u001B[38;5;28;43mself\u001B[39;49m\u001B[43m.\u001B[49m\u001B[43mfunc\u001B[49m\u001B[43m(\u001B[49m\u001B[43m*\u001B[49m\u001B[43margs\u001B[49m\u001B[43m,\u001B[49m\u001B[43m \u001B[49m\u001B[43m*\u001B[49m\u001B[43m*\u001B[49m\u001B[43mkwargs\u001B[49m\u001B[43m)\u001B[49m\n\u001B[32m     94\u001B[39m msg = \u001B[33m\"\u001B[39m\u001B[33mStructuredTool does not support sync invocation.\u001B[39m\u001B[33m\"\u001B[39m\n\u001B[32m     95\u001B[39m \u001B[38;5;28;01mraise\u001B[39;00m \u001B[38;5;167;01mNotImplementedError\u001B[39;00m(msg)\n",
      "\u001B[36mCell\u001B[39m\u001B[36m \u001B[39m\u001B[32mIn[23]\u001B[39m\u001B[32m, line 28\u001B[39m, in \u001B[36mgraph_tool\u001B[39m\u001B[34m(query)\u001B[39m\n\u001B[32m      2\u001B[39m \u001B[38;5;129m@tool\u001B[39m(\u001B[33m\"\u001B[39m\u001B[33mgraph_tool\u001B[39m\u001B[33m\"\u001B[39m, return_direct=\u001B[38;5;28;01mFalse\u001B[39;00m)\n\u001B[32m      3\u001B[39m \u001B[38;5;28;01mdef\u001B[39;00m\u001B[38;5;250m \u001B[39m\u001B[34mgraph_tool\u001B[39m(query: \u001B[38;5;28mstr\u001B[39m) -> \u001B[38;5;28mstr\u001B[39m:\n\u001B[32m      4\u001B[39m \u001B[38;5;250m    \u001B[39m\u001B[33;03m\"\"\"Use this tool when the user asks a question that requires querying structured information \u001B[39;00m\n\u001B[32m      5\u001B[39m \u001B[33;03m    from a Neo4j graph database. Ideal for answering questions related to relationships, \u001B[39;00m\n\u001B[32m      6\u001B[39m \u001B[33;03m    hierarchies, dependencies, connections between entities, or insights stored in the graph.\u001B[39;00m\n\u001B[32m   (...)\u001B[39m\u001B[32m     26\u001B[39m \u001B[33;03m    Always prefer this tool if the user query involves understanding structured workflows, responsibilities or control frameworks within a business process.\u001B[39;00m\n\u001B[32m     27\u001B[39m \u001B[33;03m\t\"\"\"\u001B[39;00m\n\u001B[32m---> \u001B[39m\u001B[32m28\u001B[39m     response = \u001B[43mcypher_chain\u001B[49m\u001B[43m.\u001B[49m\u001B[43minvoke\u001B[49m\u001B[43m(\u001B[49m\u001B[43mquery\u001B[49m\u001B[43m)\u001B[49m\n\u001B[32m     30\u001B[39m     \u001B[38;5;28;01mreturn\u001B[39;00m response.get(\u001B[33m\"\u001B[39m\u001B[33mresult\u001B[39m\u001B[33m\"\u001B[39m)\n",
      "\u001B[36mFile \u001B[39m\u001B[32m~\\OneDrive - Novartis Pharma AG\\Hari\\PyCharm_Projects\\gen.ai\\FRAI_GO_LIVE\\live_venv_311\\Lib\\site-packages\\langchain\\chains\\base.py:170\u001B[39m, in \u001B[36mChain.invoke\u001B[39m\u001B[34m(self, input, config, **kwargs)\u001B[39m\n\u001B[32m    168\u001B[39m \u001B[38;5;28;01mexcept\u001B[39;00m \u001B[38;5;167;01mBaseException\u001B[39;00m \u001B[38;5;28;01mas\u001B[39;00m e:\n\u001B[32m    169\u001B[39m     run_manager.on_chain_error(e)\n\u001B[32m--> \u001B[39m\u001B[32m170\u001B[39m     \u001B[38;5;28;01mraise\u001B[39;00m e\n\u001B[32m    171\u001B[39m run_manager.on_chain_end(outputs)\n\u001B[32m    173\u001B[39m \u001B[38;5;28;01mif\u001B[39;00m include_run_info:\n",
      "\u001B[36mFile \u001B[39m\u001B[32m~\\OneDrive - Novartis Pharma AG\\Hari\\PyCharm_Projects\\gen.ai\\FRAI_GO_LIVE\\live_venv_311\\Lib\\site-packages\\langchain\\chains\\base.py:160\u001B[39m, in \u001B[36mChain.invoke\u001B[39m\u001B[34m(self, input, config, **kwargs)\u001B[39m\n\u001B[32m    157\u001B[39m \u001B[38;5;28;01mtry\u001B[39;00m:\n\u001B[32m    158\u001B[39m     \u001B[38;5;28mself\u001B[39m._validate_inputs(inputs)\n\u001B[32m    159\u001B[39m     outputs = (\n\u001B[32m--> \u001B[39m\u001B[32m160\u001B[39m         \u001B[38;5;28;43mself\u001B[39;49m\u001B[43m.\u001B[49m\u001B[43m_call\u001B[49m\u001B[43m(\u001B[49m\u001B[43minputs\u001B[49m\u001B[43m,\u001B[49m\u001B[43m \u001B[49m\u001B[43mrun_manager\u001B[49m\u001B[43m=\u001B[49m\u001B[43mrun_manager\u001B[49m\u001B[43m)\u001B[49m\n\u001B[32m    161\u001B[39m         \u001B[38;5;28;01mif\u001B[39;00m new_arg_supported\n\u001B[32m    162\u001B[39m         \u001B[38;5;28;01melse\u001B[39;00m \u001B[38;5;28mself\u001B[39m._call(inputs)\n\u001B[32m    163\u001B[39m     )\n\u001B[32m    165\u001B[39m     final_outputs: Dict[\u001B[38;5;28mstr\u001B[39m, Any] = \u001B[38;5;28mself\u001B[39m.prep_outputs(\n\u001B[32m    166\u001B[39m         inputs, outputs, return_only_outputs\n\u001B[32m    167\u001B[39m     )\n\u001B[32m    168\u001B[39m \u001B[38;5;28;01mexcept\u001B[39;00m \u001B[38;5;167;01mBaseException\u001B[39;00m \u001B[38;5;28;01mas\u001B[39;00m e:\n",
      "\u001B[36mFile \u001B[39m\u001B[32m~\\OneDrive - Novartis Pharma AG\\Hari\\PyCharm_Projects\\gen.ai\\FRAI_GO_LIVE\\live_venv_311\\Lib\\site-packages\\langchain_community\\chains\\graph_qa\\cypher.py:392\u001B[39m, in \u001B[36mGraphCypherQAChain._call\u001B[39m\u001B[34m(self, inputs, run_manager)\u001B[39m\n\u001B[32m    389\u001B[39m \u001B[38;5;66;03m# Retrieve and limit the number of results\u001B[39;00m\n\u001B[32m    390\u001B[39m \u001B[38;5;66;03m# Generated Cypher be null if query corrector identifies invalid schema\u001B[39;00m\n\u001B[32m    391\u001B[39m \u001B[38;5;28;01mif\u001B[39;00m generated_cypher:\n\u001B[32m--> \u001B[39m\u001B[32m392\u001B[39m     context = \u001B[38;5;28;43mself\u001B[39;49m\u001B[43m.\u001B[49m\u001B[43mgraph\u001B[49m\u001B[43m.\u001B[49m\u001B[43mquery\u001B[49m\u001B[43m(\u001B[49m\u001B[43mgenerated_cypher\u001B[49m\u001B[43m)\u001B[49m[: \u001B[38;5;28mself\u001B[39m.top_k]\n\u001B[32m    393\u001B[39m \u001B[38;5;28;01melse\u001B[39;00m:\n\u001B[32m    394\u001B[39m     context = []\n",
      "\u001B[36mFile \u001B[39m\u001B[32m~\\OneDrive - Novartis Pharma AG\\Hari\\PyCharm_Projects\\gen.ai\\FRAI_GO_LIVE\\live_venv_311\\Lib\\site-packages\\langchain_community\\graphs\\neo4j_graph.py:467\u001B[39m, in \u001B[36mNeo4jGraph.query\u001B[39m\u001B[34m(self, query, params)\u001B[39m\n\u001B[32m    464\u001B[39m \u001B[38;5;28;01mfrom\u001B[39;00m\u001B[38;5;250m \u001B[39m\u001B[34;01mneo4j\u001B[39;00m\u001B[34;01m.\u001B[39;00m\u001B[34;01mexceptions\u001B[39;00m\u001B[38;5;250m \u001B[39m\u001B[38;5;28;01mimport\u001B[39;00m Neo4jError\n\u001B[32m    466\u001B[39m \u001B[38;5;28;01mtry\u001B[39;00m:\n\u001B[32m--> \u001B[39m\u001B[32m467\u001B[39m     data, _, _ = \u001B[38;5;28;43mself\u001B[39;49m\u001B[43m.\u001B[49m\u001B[43m_driver\u001B[49m\u001B[43m.\u001B[49m\u001B[43mexecute_query\u001B[49m\u001B[43m(\u001B[49m\n\u001B[32m    468\u001B[39m \u001B[43m        \u001B[49m\u001B[43mQuery\u001B[49m\u001B[43m(\u001B[49m\u001B[43mtext\u001B[49m\u001B[43m=\u001B[49m\u001B[43mquery\u001B[49m\u001B[43m,\u001B[49m\u001B[43m \u001B[49m\u001B[43mtimeout\u001B[49m\u001B[43m=\u001B[49m\u001B[38;5;28;43mself\u001B[39;49m\u001B[43m.\u001B[49m\u001B[43mtimeout\u001B[49m\u001B[43m)\u001B[49m\u001B[43m,\u001B[49m\n\u001B[32m    469\u001B[39m \u001B[43m        \u001B[49m\u001B[43mdatabase_\u001B[49m\u001B[43m=\u001B[49m\u001B[38;5;28;43mself\u001B[39;49m\u001B[43m.\u001B[49m\u001B[43m_database\u001B[49m\u001B[43m,\u001B[49m\n\u001B[32m    470\u001B[39m \u001B[43m        \u001B[49m\u001B[43mparameters_\u001B[49m\u001B[43m=\u001B[49m\u001B[43mparams\u001B[49m\u001B[43m,\u001B[49m\n\u001B[32m    471\u001B[39m \u001B[43m    \u001B[49m\u001B[43m)\u001B[49m\n\u001B[32m    472\u001B[39m     json_data = [r.data() \u001B[38;5;28;01mfor\u001B[39;00m r \u001B[38;5;129;01min\u001B[39;00m data]\n\u001B[32m    473\u001B[39m     \u001B[38;5;28;01mif\u001B[39;00m \u001B[38;5;28mself\u001B[39m.sanitize:\n",
      "\u001B[36mFile \u001B[39m\u001B[32m~\\OneDrive - Novartis Pharma AG\\Hari\\PyCharm_Projects\\gen.ai\\FRAI_GO_LIVE\\live_venv_311\\Lib\\site-packages\\neo4j\\_sync\\driver.py:970\u001B[39m, in \u001B[36mDriver.execute_query\u001B[39m\u001B[34m(self, query_, parameters_, routing_, database_, impersonated_user_, bookmark_manager_, auth_, result_transformer_, **kwargs)\u001B[39m\n\u001B[32m    966\u001B[39m     \u001B[38;5;28;01mraise\u001B[39;00m \u001B[38;5;167;01mValueError\u001B[39;00m(\n\u001B[32m    967\u001B[39m         \u001B[33mf\u001B[39m\u001B[33m\"\u001B[39m\u001B[33mInvalid routing control value: \u001B[39m\u001B[38;5;132;01m{\u001B[39;00mrouting_\u001B[38;5;132;01m!r}\u001B[39;00m\u001B[33m\"\u001B[39m\n\u001B[32m    968\u001B[39m     )\n\u001B[32m    969\u001B[39m \u001B[38;5;28;01mwith\u001B[39;00m session._pipelined_begin:\n\u001B[32m--> \u001B[39m\u001B[32m970\u001B[39m     \u001B[38;5;28;01mreturn\u001B[39;00m \u001B[43msession\u001B[49m\u001B[43m.\u001B[49m\u001B[43m_run_transaction\u001B[49m\u001B[43m(\u001B[49m\n\u001B[32m    971\u001B[39m \u001B[43m        \u001B[49m\u001B[43maccess_mode\u001B[49m\u001B[43m,\u001B[49m\n\u001B[32m    972\u001B[39m \u001B[43m        \u001B[49m\u001B[43mTelemetryAPI\u001B[49m\u001B[43m.\u001B[49m\u001B[43mDRIVER\u001B[49m\u001B[43m,\u001B[49m\n\u001B[32m    973\u001B[39m \u001B[43m        \u001B[49m\u001B[43mwork\u001B[49m\u001B[43m,\u001B[49m\n\u001B[32m    974\u001B[39m \u001B[43m        \u001B[49m\u001B[43m(\u001B[49m\u001B[43mquery_str\u001B[49m\u001B[43m,\u001B[49m\u001B[43m \u001B[49m\u001B[43mparameters\u001B[49m\u001B[43m,\u001B[49m\u001B[43m \u001B[49m\u001B[43mresult_transformer_\u001B[49m\u001B[43m)\u001B[49m\u001B[43m,\u001B[49m\n\u001B[32m    975\u001B[39m \u001B[43m        \u001B[49m\u001B[43m{\u001B[49m\u001B[43m}\u001B[49m\u001B[43m,\u001B[49m\n\u001B[32m    976\u001B[39m \u001B[43m    \u001B[49m\u001B[43m)\u001B[49m\n",
      "\u001B[36mFile \u001B[39m\u001B[32m~\\OneDrive - Novartis Pharma AG\\Hari\\PyCharm_Projects\\gen.ai\\FRAI_GO_LIVE\\live_venv_311\\Lib\\site-packages\\neo4j\\_sync\\work\\session.py:583\u001B[39m, in \u001B[36mSession._run_transaction\u001B[39m\u001B[34m(self, access_mode, api, transaction_function, args, kwargs)\u001B[39m\n\u001B[32m    581\u001B[39m tx = \u001B[38;5;28mself\u001B[39m._transaction\n\u001B[32m    582\u001B[39m \u001B[38;5;28;01mtry\u001B[39;00m:\n\u001B[32m--> \u001B[39m\u001B[32m583\u001B[39m     result = \u001B[43mtransaction_function\u001B[49m\u001B[43m(\u001B[49m\u001B[43mtx\u001B[49m\u001B[43m,\u001B[49m\u001B[43m \u001B[49m\u001B[43m*\u001B[49m\u001B[43margs\u001B[49m\u001B[43m,\u001B[49m\u001B[43m \u001B[49m\u001B[43m*\u001B[49m\u001B[43m*\u001B[49m\u001B[43mkwargs\u001B[49m\u001B[43m)\u001B[49m\n\u001B[32m    584\u001B[39m \u001B[38;5;28;01mexcept\u001B[39;00m asyncio.CancelledError:\n\u001B[32m    585\u001B[39m     \u001B[38;5;66;03m# if cancellation callback has not been called yet:\u001B[39;00m\n\u001B[32m    586\u001B[39m     \u001B[38;5;28;01mif\u001B[39;00m \u001B[38;5;28mself\u001B[39m._transaction \u001B[38;5;129;01mis\u001B[39;00m \u001B[38;5;129;01mnot\u001B[39;00m \u001B[38;5;28;01mNone\u001B[39;00m:\n",
      "\u001B[36mFile \u001B[39m\u001B[32m~\\OneDrive - Novartis Pharma AG\\Hari\\PyCharm_Projects\\gen.ai\\FRAI_GO_LIVE\\live_venv_311\\Lib\\site-packages\\neo4j\\_work\\query.py:144\u001B[39m, in \u001B[36munit_of_work.<locals>.wrapper.<locals>.wrapped\u001B[39m\u001B[34m(*args, **kwargs)\u001B[39m\n\u001B[32m    143\u001B[39m \u001B[38;5;28;01mdef\u001B[39;00m\u001B[38;5;250m \u001B[39m\u001B[34mwrapped\u001B[39m(*args, **kwargs):\n\u001B[32m--> \u001B[39m\u001B[32m144\u001B[39m     \u001B[38;5;28;01mreturn\u001B[39;00m \u001B[43mf\u001B[49m\u001B[43m(\u001B[49m\u001B[43m*\u001B[49m\u001B[43margs\u001B[49m\u001B[43m,\u001B[49m\u001B[43m \u001B[49m\u001B[43m*\u001B[49m\u001B[43m*\u001B[49m\u001B[43mkwargs\u001B[49m\u001B[43m)\u001B[49m\n",
      "\u001B[36mFile \u001B[39m\u001B[32m~\\OneDrive - Novartis Pharma AG\\Hari\\PyCharm_Projects\\gen.ai\\FRAI_GO_LIVE\\live_venv_311\\Lib\\site-packages\\neo4j\\_sync\\driver.py:1306\u001B[39m, in \u001B[36m_work\u001B[39m\u001B[34m(tx, query, parameters, transformer)\u001B[39m\n\u001B[32m   1300\u001B[39m \u001B[38;5;28;01mdef\u001B[39;00m\u001B[38;5;250m \u001B[39m\u001B[34m_work\u001B[39m(\n\u001B[32m   1301\u001B[39m     tx: ManagedTransaction,\n\u001B[32m   1302\u001B[39m     query: te.LiteralString,\n\u001B[32m   1303\u001B[39m     parameters: \u001B[38;5;28mdict\u001B[39m[\u001B[38;5;28mstr\u001B[39m, t.Any],\n\u001B[32m   1304\u001B[39m     transformer: t.Callable[[Result], t.Union[_T]],\n\u001B[32m   1305\u001B[39m ) -> _T:\n\u001B[32m-> \u001B[39m\u001B[32m1306\u001B[39m     res = \u001B[43mtx\u001B[49m\u001B[43m.\u001B[49m\u001B[43mrun\u001B[49m\u001B[43m(\u001B[49m\u001B[43mquery\u001B[49m\u001B[43m,\u001B[49m\u001B[43m \u001B[49m\u001B[43mparameters\u001B[49m\u001B[43m)\u001B[49m\n\u001B[32m   1307\u001B[39m     \u001B[38;5;28;01mreturn\u001B[39;00m transformer(res)\n",
      "\u001B[36mFile \u001B[39m\u001B[32m~\\OneDrive - Novartis Pharma AG\\Hari\\PyCharm_Projects\\gen.ai\\FRAI_GO_LIVE\\live_venv_311\\Lib\\site-packages\\neo4j\\_sync\\work\\transaction.py:206\u001B[39m, in \u001B[36mTransactionBase.run\u001B[39m\u001B[34m(self, query, parameters, **kwparameters)\u001B[39m\n\u001B[32m    203\u001B[39m \u001B[38;5;28mself\u001B[39m._results.append(result)\n\u001B[32m    205\u001B[39m parameters = \u001B[38;5;28mdict\u001B[39m(parameters \u001B[38;5;129;01mor\u001B[39;00m {}, **kwparameters)\n\u001B[32m--> \u001B[39m\u001B[32m206\u001B[39m \u001B[43mresult\u001B[49m\u001B[43m.\u001B[49m\u001B[43m_tx_ready_run\u001B[49m\u001B[43m(\u001B[49m\u001B[43mquery\u001B[49m\u001B[43m,\u001B[49m\u001B[43m \u001B[49m\u001B[43mparameters\u001B[49m\u001B[43m)\u001B[49m\n\u001B[32m    208\u001B[39m \u001B[38;5;28;01mreturn\u001B[39;00m result\n",
      "\u001B[36mFile \u001B[39m\u001B[32m~\\OneDrive - Novartis Pharma AG\\Hari\\PyCharm_Projects\\gen.ai\\FRAI_GO_LIVE\\live_venv_311\\Lib\\site-packages\\neo4j\\_sync\\work\\result.py:177\u001B[39m, in \u001B[36mResult._tx_ready_run\u001B[39m\u001B[34m(self, query, parameters)\u001B[39m\n\u001B[32m    173\u001B[39m \u001B[38;5;28;01mdef\u001B[39;00m\u001B[38;5;250m \u001B[39m\u001B[34m_tx_ready_run\u001B[39m(\u001B[38;5;28mself\u001B[39m, query, parameters):\n\u001B[32m    174\u001B[39m     \u001B[38;5;66;03m# BEGIN+RUN does not carry any extra on the RUN message.\u001B[39;00m\n\u001B[32m    175\u001B[39m     \u001B[38;5;66;03m# BEGIN {extra}\u001B[39;00m\n\u001B[32m    176\u001B[39m     \u001B[38;5;66;03m# RUN \"query\" {parameters} {extra}\u001B[39;00m\n\u001B[32m--> \u001B[39m\u001B[32m177\u001B[39m     \u001B[38;5;28;43mself\u001B[39;49m\u001B[43m.\u001B[49m\u001B[43m_run\u001B[49m\u001B[43m(\u001B[49m\u001B[43mquery\u001B[49m\u001B[43m,\u001B[49m\u001B[43m \u001B[49m\u001B[43mparameters\u001B[49m\u001B[43m,\u001B[49m\u001B[43m \u001B[49m\u001B[38;5;28;43;01mNone\u001B[39;49;00m\u001B[43m,\u001B[49m\u001B[43m \u001B[49m\u001B[38;5;28;43;01mNone\u001B[39;49;00m\u001B[43m,\u001B[49m\u001B[43m \u001B[49m\u001B[38;5;28;43;01mNone\u001B[39;49;00m\u001B[43m,\u001B[49m\u001B[43m \u001B[49m\u001B[38;5;28;43;01mNone\u001B[39;49;00m\u001B[43m,\u001B[49m\u001B[43m \u001B[49m\u001B[38;5;28;43;01mNone\u001B[39;49;00m\u001B[43m,\u001B[49m\u001B[43m \u001B[49m\u001B[38;5;28;43;01mNone\u001B[39;49;00m\u001B[43m)\u001B[49m\n",
      "\u001B[36mFile \u001B[39m\u001B[32m~\\OneDrive - Novartis Pharma AG\\Hari\\PyCharm_Projects\\gen.ai\\FRAI_GO_LIVE\\live_venv_311\\Lib\\site-packages\\neo4j\\_sync\\work\\result.py:236\u001B[39m, in \u001B[36mResult._run\u001B[39m\u001B[34m(self, query, parameters, db, imp_user, access_mode, bookmarks, notifications_min_severity, notifications_disabled_classifications)\u001B[39m\n\u001B[32m    234\u001B[39m \u001B[38;5;28mself\u001B[39m._pull()\n\u001B[32m    235\u001B[39m \u001B[38;5;28mself\u001B[39m._connection.send_all()\n\u001B[32m--> \u001B[39m\u001B[32m236\u001B[39m \u001B[38;5;28;43mself\u001B[39;49m\u001B[43m.\u001B[49m\u001B[43m_attach\u001B[49m\u001B[43m(\u001B[49m\u001B[43m)\u001B[49m\n",
      "\u001B[36mFile \u001B[39m\u001B[32m~\\OneDrive - Novartis Pharma AG\\Hari\\PyCharm_Projects\\gen.ai\\FRAI_GO_LIVE\\live_venv_311\\Lib\\site-packages\\neo4j\\_sync\\work\\result.py:430\u001B[39m, in \u001B[36mResult._attach\u001B[39m\u001B[34m(self)\u001B[39m\n\u001B[32m    428\u001B[39m \u001B[38;5;28;01mif\u001B[39;00m \u001B[38;5;28mself\u001B[39m._exhausted \u001B[38;5;129;01mis\u001B[39;00m \u001B[38;5;28;01mFalse\u001B[39;00m:\n\u001B[32m    429\u001B[39m     \u001B[38;5;28;01mwhile\u001B[39;00m \u001B[38;5;28mself\u001B[39m._attached \u001B[38;5;129;01mis\u001B[39;00m \u001B[38;5;28;01mFalse\u001B[39;00m:\n\u001B[32m--> \u001B[39m\u001B[32m430\u001B[39m         \u001B[38;5;28;43mself\u001B[39;49m\u001B[43m.\u001B[49m\u001B[43m_connection\u001B[49m\u001B[43m.\u001B[49m\u001B[43mfetch_message\u001B[49m\u001B[43m(\u001B[49m\u001B[43m)\u001B[49m\n",
      "\u001B[36mFile \u001B[39m\u001B[32m~\\OneDrive - Novartis Pharma AG\\Hari\\PyCharm_Projects\\gen.ai\\FRAI_GO_LIVE\\live_venv_311\\Lib\\site-packages\\neo4j\\_sync\\io\\_common.py:184\u001B[39m, in \u001B[36mConnectionErrorHandler.__getattr__.<locals>.outer.<locals>.inner\u001B[39m\u001B[34m(*args, **kwargs)\u001B[39m\n\u001B[32m    182\u001B[39m \u001B[38;5;28;01mdef\u001B[39;00m\u001B[38;5;250m \u001B[39m\u001B[34minner\u001B[39m(*args, **kwargs):\n\u001B[32m    183\u001B[39m     \u001B[38;5;28;01mtry\u001B[39;00m:\n\u001B[32m--> \u001B[39m\u001B[32m184\u001B[39m         \u001B[43mfunc\u001B[49m\u001B[43m(\u001B[49m\u001B[43m*\u001B[49m\u001B[43margs\u001B[49m\u001B[43m,\u001B[49m\u001B[43m \u001B[49m\u001B[43m*\u001B[49m\u001B[43m*\u001B[49m\u001B[43mkwargs\u001B[49m\u001B[43m)\u001B[49m\n\u001B[32m    185\u001B[39m     \u001B[38;5;28;01mexcept\u001B[39;00m (Neo4jError, ServiceUnavailable, SessionExpired) \u001B[38;5;28;01mas\u001B[39;00m exc:\n\u001B[32m    186\u001B[39m         \u001B[38;5;28;01massert\u001B[39;00m \u001B[38;5;129;01mnot\u001B[39;00m asyncio.iscoroutinefunction(\u001B[38;5;28mself\u001B[39m.__on_error)\n",
      "\u001B[36mFile \u001B[39m\u001B[32m~\\OneDrive - Novartis Pharma AG\\Hari\\PyCharm_Projects\\gen.ai\\FRAI_GO_LIVE\\live_venv_311\\Lib\\site-packages\\neo4j\\_sync\\io\\_bolt.py:864\u001B[39m, in \u001B[36mBolt.fetch_message\u001B[39m\u001B[34m(self)\u001B[39m\n\u001B[32m    860\u001B[39m \u001B[38;5;66;03m# Receive exactly one message\u001B[39;00m\n\u001B[32m    861\u001B[39m tag, fields = \u001B[38;5;28mself\u001B[39m.inbox.pop(\n\u001B[32m    862\u001B[39m     hydration_hooks=\u001B[38;5;28mself\u001B[39m.responses[\u001B[32m0\u001B[39m].hydration_hooks\n\u001B[32m    863\u001B[39m )\n\u001B[32m--> \u001B[39m\u001B[32m864\u001B[39m res = \u001B[38;5;28;43mself\u001B[39;49m\u001B[43m.\u001B[49m\u001B[43m_process_message\u001B[49m\u001B[43m(\u001B[49m\u001B[43mtag\u001B[49m\u001B[43m,\u001B[49m\u001B[43m \u001B[49m\u001B[43mfields\u001B[49m\u001B[43m)\u001B[49m\n\u001B[32m    865\u001B[39m \u001B[38;5;28mself\u001B[39m.idle_since = monotonic()\n\u001B[32m    866\u001B[39m \u001B[38;5;28;01mreturn\u001B[39;00m res\n",
      "\u001B[36mFile \u001B[39m\u001B[32m~\\OneDrive - Novartis Pharma AG\\Hari\\PyCharm_Projects\\gen.ai\\FRAI_GO_LIVE\\live_venv_311\\Lib\\site-packages\\neo4j\\_sync\\io\\_bolt5.py:1208\u001B[39m, in \u001B[36mBolt5x7._process_message\u001B[39m\u001B[34m(self, tag, fields)\u001B[39m\n\u001B[32m   1206\u001B[39m \u001B[38;5;28mself\u001B[39m._enrich_error_diagnostic_record(summary_metadata)\n\u001B[32m   1207\u001B[39m \u001B[38;5;28;01mtry\u001B[39;00m:\n\u001B[32m-> \u001B[39m\u001B[32m1208\u001B[39m     \u001B[43mresponse\u001B[49m\u001B[43m.\u001B[49m\u001B[43mon_failure\u001B[49m\u001B[43m(\u001B[49m\u001B[43msummary_metadata\u001B[49m\u001B[43m \u001B[49m\u001B[38;5;129;43;01mor\u001B[39;49;00m\u001B[43m \u001B[49m\u001B[43m{\u001B[49m\u001B[43m}\u001B[49m\u001B[43m)\u001B[49m\n\u001B[32m   1209\u001B[39m \u001B[38;5;28;01mexcept\u001B[39;00m (ServiceUnavailable, DatabaseUnavailable):\n\u001B[32m   1210\u001B[39m     \u001B[38;5;28;01mif\u001B[39;00m \u001B[38;5;28mself\u001B[39m.pool:\n",
      "\u001B[36mFile \u001B[39m\u001B[32m~\\OneDrive - Novartis Pharma AG\\Hari\\PyCharm_Projects\\gen.ai\\FRAI_GO_LIVE\\live_venv_311\\Lib\\site-packages\\neo4j\\_sync\\io\\_common.py:254\u001B[39m, in \u001B[36mResponse.on_failure\u001B[39m\u001B[34m(self, metadata)\u001B[39m\n\u001B[32m    252\u001B[39m handler = \u001B[38;5;28mself\u001B[39m.handlers.get(\u001B[33m\"\u001B[39m\u001B[33mon_summary\u001B[39m\u001B[33m\"\u001B[39m)\n\u001B[32m    253\u001B[39m Util.callback(handler)\n\u001B[32m--> \u001B[39m\u001B[32m254\u001B[39m \u001B[38;5;28;01mraise\u001B[39;00m \u001B[38;5;28mself\u001B[39m._hydrate_error(metadata)\n",
      "\u001B[31mCypherSyntaxError\u001B[39m: {code: Neo.ClientError.Statement.SyntaxError} {message: Variable `n` not defined (line 5, column 6 (offset: 295))\r\n\"WITH n AS nfcm_control, pd AS process_diagram\"\r\n      ^}"
     ]
    }
   ],
   "execution_count": 28
  },
  {
   "metadata": {
    "ExecuteTime": {
     "end_time": "2025-07-18T11:01:02.153144Z",
     "start_time": "2025-07-18T11:01:02.151577Z"
    }
   },
   "cell_type": "code",
   "source": "",
   "outputs": [],
   "execution_count": null
  },
  {
   "metadata": {},
   "cell_type": "markdown",
   "source": "## Hybrid Agent"
  },
  {
   "metadata": {
    "ExecuteTime": {
     "end_time": "2025-07-18T11:01:02.164082Z",
     "start_time": "2025-07-18T11:01:02.159939Z"
    }
   },
   "cell_type": "code",
   "source": "hybrid_agent = get_simple_react_agent(llm, [graph_tool, adonis_graph_retriever_tool], DG_REACT_PROMPT, verbose=True)",
   "outputs": [],
   "execution_count": null
  },
  {
   "metadata": {
    "ExecuteTime": {
     "end_time": "2025-07-18T11:01:02.173235Z",
     "start_time": "2025-07-18T11:01:02.169669Z"
    }
   },
   "cell_type": "code",
   "source": [
    "question = \"List down the process diagram with more than 2 controls involved\"\n",
    "answer = hybrid_agent.invoke(\n",
    "    {\n",
    "        \"input\": question,\n",
    "        \"SYSTEM_PROMPT\": SYSTEM_PROMPT,\n",
    "        \"GENERAL_INSTRUCTIONS\": General_Instructions,\n",
    "        \"SPECIAL_INSTRUCTIONS\": DG_Adonis_Special_Instructions,\n",
    "    }\n",
    ")\n",
    "display(Markdown(answer[\"output\"]))"
   ],
   "outputs": [],
   "execution_count": null
  },
  {
   "metadata": {
    "ExecuteTime": {
     "end_time": "2025-07-18T11:01:02.181324Z",
     "start_time": "2025-07-18T11:01:02.178321Z"
    }
   },
   "cell_type": "code",
   "source": [
    "question = \"What are the controls around significant contracts? Who are the control owners?\"\n",
    "answer = hybrid_agent.invoke(\n",
    "    {\n",
    "        \"input\": question,\n",
    "        \"SYSTEM_PROMPT\": SYSTEM_PROMPT,\n",
    "        \"GENERAL_INSTRUCTIONS\": General_Instructions,\n",
    "        \"SPECIAL_INSTRUCTIONS\": DG_Adonis_Special_Instructions,\n",
    "    }\n",
    ")\n",
    "display(Markdown(answer[\"output\"]))"
   ],
   "outputs": [],
   "execution_count": null
  }
 ],
 "metadata": {
  "kernelspec": {
   "display_name": "venv",
   "language": "python",
   "name": "python3"
  },
  "language_info": {
   "codemirror_mode": {
    "name": "ipython",
    "version": 3
   },
   "file_extension": ".py",
   "mimetype": "text/x-python",
   "name": "python",
   "nbconvert_exporter": "python",
   "pygments_lexer": "ipython3",
   "version": "3.10.12"
  }
 },
 "nbformat": 4,
 "nbformat_minor": 2
}
