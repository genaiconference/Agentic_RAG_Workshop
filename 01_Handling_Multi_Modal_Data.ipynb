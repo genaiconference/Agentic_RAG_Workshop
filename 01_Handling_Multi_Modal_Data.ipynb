{
  "nbformat": 4,
  "nbformat_minor": 0,
  "metadata": {
    "colab": {
      "provenance": [],
      "authorship_tag": "ABX9TyMJYewKP3dvp5TVZcDeErOU",
      "include_colab_link": true
    },
    "kernelspec": {
      "name": "python3",
      "display_name": "Python 3"
    },
    "language_info": {
      "name": "python"
    }
  },
  "cells": [
    {
      "cell_type": "markdown",
      "metadata": {
        "id": "view-in-github",
        "colab_type": "text"
      },
      "source": [
        "<a href=\"https://colab.research.google.com/github/genaiconference/Agentic_RAG_Workshop/blob/main/01_Handling_Multi_Modal_Data.ipynb\" target=\"_parent\"><img src=\"https://colab.research.google.com/assets/colab-badge.svg\" alt=\"Open In Colab\"/></a>"
      ]
    },
    {
      "cell_type": "markdown",
      "source": [
        "# Document Processing and Analysis using Azure Document Intelligence"
      ],
      "metadata": {
        "id": "zd3QjZ5OZ-gm"
      }
    },
    {
      "cell_type": "markdown",
      "source": [
        "This notebook demonstrates how to:\n",
        "- process a document using Azure Document Intelligence,\n",
        "- extract information\n",
        "- process images within the document\n",
        "- create text chunks, and\n",
        "- add custom metadata to the chunks.\n"
      ],
      "metadata": {
        "id": "fjXpoQypZxoM"
      }
    },
    {
      "cell_type": "markdown",
      "source": [
        "## Setup and Installations\n",
        "Install necessary libraries for document processing, data handling, and interacting with Azure Document Intelligence and OpenAI."
      ],
      "metadata": {
        "id": "uBI_qgxdZ6W-"
      }
    },
    {
      "cell_type": "code",
      "metadata": {
        "colab": {
          "base_uri": "https://localhost:8080/"
        },
        "id": "a60f0b0e",
        "outputId": "6460d8d7-d2f2-4848-9c93-737e7be2c2ca"
      },
      "source": [
        "!pip install -r requirements.txt"
      ],
      "execution_count": 5,
      "outputs": [
        {
          "output_type": "stream",
          "name": "stdout",
          "text": [
            "Requirement already satisfied: azure-ai-documentintelligence==1.0.2 in /usr/local/lib/python3.11/dist-packages (1.0.2)\n",
            "Requirement already satisfied: pandas==2.2.2 in /usr/local/lib/python3.11/dist-packages (2.2.2)\n",
            "Requirement already satisfied: pathlib==1.0.1 in /usr/local/lib/python3.11/dist-packages (1.0.1)\n",
            "Requirement already satisfied: fitz==0.0.1.dev2 in /usr/local/lib/python3.11/dist-packages (0.0.1.dev2)\n",
            "Requirement already satisfied: tools==1.0.2 in /usr/local/lib/python3.11/dist-packages (1.0.2)\n",
            "Requirement already satisfied: python-dotenv==1.1.1 in /usr/local/lib/python3.11/dist-packages (1.1.1)\n",
            "Requirement already satisfied: langchain_openai==0.3.28 in /usr/local/lib/python3.11/dist-packages (0.3.28)\n",
            "Requirement already satisfied: rapidfuzz in /usr/local/lib/python3.11/dist-packages (3.13.0)\n",
            "Requirement already satisfied: isodate>=0.6.1 in /usr/local/lib/python3.11/dist-packages (from azure-ai-documentintelligence==1.0.2) (0.7.2)\n",
            "Requirement already satisfied: azure-core>=1.30.0 in /usr/local/lib/python3.11/dist-packages (from azure-ai-documentintelligence==1.0.2) (1.35.0)\n",
            "Requirement already satisfied: typing-extensions>=4.6.0 in /usr/local/lib/python3.11/dist-packages (from azure-ai-documentintelligence==1.0.2) (4.14.1)\n",
            "Requirement already satisfied: numpy>=1.23.2 in /usr/local/lib/python3.11/dist-packages (from pandas==2.2.2) (2.0.2)\n",
            "Requirement already satisfied: python-dateutil>=2.8.2 in /usr/local/lib/python3.11/dist-packages (from pandas==2.2.2) (2.9.0.post0)\n",
            "Requirement already satisfied: pytz>=2020.1 in /usr/local/lib/python3.11/dist-packages (from pandas==2.2.2) (2025.2)\n",
            "Requirement already satisfied: tzdata>=2022.7 in /usr/local/lib/python3.11/dist-packages (from pandas==2.2.2) (2025.2)\n",
            "Requirement already satisfied: configobj in /usr/local/lib/python3.11/dist-packages (from fitz==0.0.1.dev2) (5.0.9)\n",
            "Requirement already satisfied: configparser in /usr/local/lib/python3.11/dist-packages (from fitz==0.0.1.dev2) (7.2.0)\n",
            "Requirement already satisfied: httplib2 in /usr/local/lib/python3.11/dist-packages (from fitz==0.0.1.dev2) (0.22.0)\n",
            "Requirement already satisfied: nibabel in /usr/local/lib/python3.11/dist-packages (from fitz==0.0.1.dev2) (5.3.2)\n",
            "Requirement already satisfied: nipype in /usr/local/lib/python3.11/dist-packages (from fitz==0.0.1.dev2) (1.10.0)\n",
            "Requirement already satisfied: pyxnat in /usr/local/lib/python3.11/dist-packages (from fitz==0.0.1.dev2) (1.6.3)\n",
            "Requirement already satisfied: scipy in /usr/local/lib/python3.11/dist-packages (from fitz==0.0.1.dev2) (1.16.1)\n",
            "Requirement already satisfied: langchain-core<1.0.0,>=0.3.68 in /usr/local/lib/python3.11/dist-packages (from langchain_openai==0.3.28) (0.3.72)\n",
            "Requirement already satisfied: openai<2.0.0,>=1.86.0 in /usr/local/lib/python3.11/dist-packages (from langchain_openai==0.3.28) (1.98.0)\n",
            "Requirement already satisfied: tiktoken<1,>=0.7 in /usr/local/lib/python3.11/dist-packages (from langchain_openai==0.3.28) (0.9.0)\n",
            "Requirement already satisfied: requests>=2.21.0 in /usr/local/lib/python3.11/dist-packages (from azure-core>=1.30.0->azure-ai-documentintelligence==1.0.2) (2.32.3)\n",
            "Requirement already satisfied: six>=1.11.0 in /usr/local/lib/python3.11/dist-packages (from azure-core>=1.30.0->azure-ai-documentintelligence==1.0.2) (1.17.0)\n",
            "Requirement already satisfied: langsmith>=0.3.45 in /usr/local/lib/python3.11/dist-packages (from langchain-core<1.0.0,>=0.3.68->langchain_openai==0.3.28) (0.4.10)\n",
            "Requirement already satisfied: tenacity!=8.4.0,<10.0.0,>=8.1.0 in /usr/local/lib/python3.11/dist-packages (from langchain-core<1.0.0,>=0.3.68->langchain_openai==0.3.28) (8.5.0)\n",
            "Requirement already satisfied: jsonpatch<2.0,>=1.33 in /usr/local/lib/python3.11/dist-packages (from langchain-core<1.0.0,>=0.3.68->langchain_openai==0.3.28) (1.33)\n",
            "Requirement already satisfied: PyYAML>=5.3 in /usr/local/lib/python3.11/dist-packages (from langchain-core<1.0.0,>=0.3.68->langchain_openai==0.3.28) (6.0.2)\n",
            "Requirement already satisfied: packaging>=23.2 in /usr/local/lib/python3.11/dist-packages (from langchain-core<1.0.0,>=0.3.68->langchain_openai==0.3.28) (25.0)\n",
            "Requirement already satisfied: pydantic>=2.7.4 in /usr/local/lib/python3.11/dist-packages (from langchain-core<1.0.0,>=0.3.68->langchain_openai==0.3.28) (2.11.7)\n",
            "Requirement already satisfied: anyio<5,>=3.5.0 in /usr/local/lib/python3.11/dist-packages (from openai<2.0.0,>=1.86.0->langchain_openai==0.3.28) (4.10.0)\n",
            "Requirement already satisfied: distro<2,>=1.7.0 in /usr/local/lib/python3.11/dist-packages (from openai<2.0.0,>=1.86.0->langchain_openai==0.3.28) (1.9.0)\n",
            "Requirement already satisfied: httpx<1,>=0.23.0 in /usr/local/lib/python3.11/dist-packages (from openai<2.0.0,>=1.86.0->langchain_openai==0.3.28) (0.28.1)\n",
            "Requirement already satisfied: jiter<1,>=0.4.0 in /usr/local/lib/python3.11/dist-packages (from openai<2.0.0,>=1.86.0->langchain_openai==0.3.28) (0.10.0)\n",
            "Requirement already satisfied: sniffio in /usr/local/lib/python3.11/dist-packages (from openai<2.0.0,>=1.86.0->langchain_openai==0.3.28) (1.3.1)\n",
            "Requirement already satisfied: tqdm>4 in /usr/local/lib/python3.11/dist-packages (from openai<2.0.0,>=1.86.0->langchain_openai==0.3.28) (4.67.1)\n",
            "Requirement already satisfied: regex>=2022.1.18 in /usr/local/lib/python3.11/dist-packages (from tiktoken<1,>=0.7->langchain_openai==0.3.28) (2024.11.6)\n",
            "Requirement already satisfied: pyparsing!=3.0.0,!=3.0.1,!=3.0.2,!=3.0.3,<4,>=2.4.2 in /usr/local/lib/python3.11/dist-packages (from httplib2->fitz==0.0.1.dev2) (3.2.3)\n",
            "Requirement already satisfied: importlib-resources>=5.12 in /usr/local/lib/python3.11/dist-packages (from nibabel->fitz==0.0.1.dev2) (6.5.2)\n",
            "Requirement already satisfied: click>=6.6.0 in /usr/local/lib/python3.11/dist-packages (from nipype->fitz==0.0.1.dev2) (8.2.1)\n",
            "Requirement already satisfied: networkx>=2.5 in /usr/local/lib/python3.11/dist-packages (from nipype->fitz==0.0.1.dev2) (3.5)\n",
            "Requirement already satisfied: prov>=1.5.2 in /usr/local/lib/python3.11/dist-packages (from nipype->fitz==0.0.1.dev2) (2.1.1)\n",
            "Requirement already satisfied: pydot>=1.2.3 in /usr/local/lib/python3.11/dist-packages (from nipype->fitz==0.0.1.dev2) (3.0.4)\n",
            "Requirement already satisfied: rdflib>=5.0.0 in /usr/local/lib/python3.11/dist-packages (from nipype->fitz==0.0.1.dev2) (7.1.4)\n",
            "Requirement already satisfied: simplejson>=3.8.0 in /usr/local/lib/python3.11/dist-packages (from nipype->fitz==0.0.1.dev2) (3.20.1)\n",
            "Requirement already satisfied: traits>=6.2 in /usr/local/lib/python3.11/dist-packages (from nipype->fitz==0.0.1.dev2) (7.0.2)\n",
            "Requirement already satisfied: filelock>=3.0.0 in /usr/local/lib/python3.11/dist-packages (from nipype->fitz==0.0.1.dev2) (3.18.0)\n",
            "Requirement already satisfied: acres in /usr/local/lib/python3.11/dist-packages (from nipype->fitz==0.0.1.dev2) (0.5.0)\n",
            "Requirement already satisfied: etelemetry>=0.3.1 in /usr/local/lib/python3.11/dist-packages (from nipype->fitz==0.0.1.dev2) (0.3.1)\n",
            "Requirement already satisfied: looseversion!=1.2 in /usr/local/lib/python3.11/dist-packages (from nipype->fitz==0.0.1.dev2) (1.3.0)\n",
            "Requirement already satisfied: puremagic in /usr/local/lib/python3.11/dist-packages (from nipype->fitz==0.0.1.dev2) (1.30)\n",
            "Requirement already satisfied: lxml>=4.3 in /usr/local/lib/python3.11/dist-packages (from pyxnat->fitz==0.0.1.dev2) (5.4.0)\n",
            "Requirement already satisfied: idna>=2.8 in /usr/local/lib/python3.11/dist-packages (from anyio<5,>=3.5.0->openai<2.0.0,>=1.86.0->langchain_openai==0.3.28) (3.10)\n",
            "Requirement already satisfied: ci-info>=0.2 in /usr/local/lib/python3.11/dist-packages (from etelemetry>=0.3.1->nipype->fitz==0.0.1.dev2) (0.3.0)\n",
            "Requirement already satisfied: certifi in /usr/local/lib/python3.11/dist-packages (from httpx<1,>=0.23.0->openai<2.0.0,>=1.86.0->langchain_openai==0.3.28) (2025.8.3)\n",
            "Requirement already satisfied: httpcore==1.* in /usr/local/lib/python3.11/dist-packages (from httpx<1,>=0.23.0->openai<2.0.0,>=1.86.0->langchain_openai==0.3.28) (1.0.9)\n",
            "Requirement already satisfied: h11>=0.16 in /usr/local/lib/python3.11/dist-packages (from httpcore==1.*->httpx<1,>=0.23.0->openai<2.0.0,>=1.86.0->langchain_openai==0.3.28) (0.16.0)\n",
            "Requirement already satisfied: jsonpointer>=1.9 in /usr/local/lib/python3.11/dist-packages (from jsonpatch<2.0,>=1.33->langchain-core<1.0.0,>=0.3.68->langchain_openai==0.3.28) (3.0.0)\n",
            "Requirement already satisfied: orjson>=3.9.14 in /usr/local/lib/python3.11/dist-packages (from langsmith>=0.3.45->langchain-core<1.0.0,>=0.3.68->langchain_openai==0.3.28) (3.11.1)\n",
            "Requirement already satisfied: requests-toolbelt>=1.0.0 in /usr/local/lib/python3.11/dist-packages (from langsmith>=0.3.45->langchain-core<1.0.0,>=0.3.68->langchain_openai==0.3.28) (1.0.0)\n",
            "Requirement already satisfied: zstandard>=0.23.0 in /usr/local/lib/python3.11/dist-packages (from langsmith>=0.3.45->langchain-core<1.0.0,>=0.3.68->langchain_openai==0.3.28) (0.23.0)\n",
            "Requirement already satisfied: annotated-types>=0.6.0 in /usr/local/lib/python3.11/dist-packages (from pydantic>=2.7.4->langchain-core<1.0.0,>=0.3.68->langchain_openai==0.3.28) (0.7.0)\n",
            "Requirement already satisfied: pydantic-core==2.33.2 in /usr/local/lib/python3.11/dist-packages (from pydantic>=2.7.4->langchain-core<1.0.0,>=0.3.68->langchain_openai==0.3.28) (2.33.2)\n",
            "Requirement already satisfied: typing-inspection>=0.4.0 in /usr/local/lib/python3.11/dist-packages (from pydantic>=2.7.4->langchain-core<1.0.0,>=0.3.68->langchain_openai==0.3.28) (0.4.1)\n",
            "Requirement already satisfied: charset-normalizer<4,>=2 in /usr/local/lib/python3.11/dist-packages (from requests>=2.21.0->azure-core>=1.30.0->azure-ai-documentintelligence==1.0.2) (3.4.2)\n",
            "Requirement already satisfied: urllib3<3,>=1.21.1 in /usr/local/lib/python3.11/dist-packages (from requests>=2.21.0->azure-core>=1.30.0->azure-ai-documentintelligence==1.0.2) (2.5.0)\n"
          ]
        }
      ]
    },
    {
      "cell_type": "markdown",
      "source": [
        "## Load Environment Variables and Initialize Clients\n",
        "Load environment variables containing API keys and endpoint information, and initialize the Azure Document Intelligence and OpenAI clients."
      ],
      "metadata": {
        "id": "KoDf5tbMan4_"
      }
    },
    {
      "cell_type": "code",
      "source": [
        "from dotenv import load_dotenv\n",
        "from langchain_openai import ChatOpenAI\n",
        "import os\n",
        "\n",
        "load_dotenv()\n",
        "\n",
        "doc_intelligence_endpoint=os.getenv(\"doc_intelligence_endpoint\")\n",
        "doc_intelligence_key=os.getenv(\"doc_intelligence_key\")\n",
        "\n",
        "\n",
        "llm = ChatOpenAI(\n",
        "    api_key=os.getenv(\"OPENAI_API_KEY\"),\n",
        "    temperature=0\n",
        ")"
      ],
      "metadata": {
        "id": "pJjZ9dlCqHql"
      },
      "execution_count": 2,
      "outputs": []
    },
    {
      "cell_type": "markdown",
      "source": [
        "## Define Paths and Load Document"
      ],
      "metadata": {
        "id": "AvMdPDZbawFi"
      }
    },
    {
      "cell_type": "code",
      "execution_count": 6,
      "metadata": {
        "id": "xn2PgO6MXbq5"
      },
      "outputs": [],
      "source": [
        "import os\n",
        "import pickle\n",
        "from IPython.display import Markdown\n",
        "\n",
        "import di_utils\n",
        "\n",
        "# --- Configuration ---\n",
        "INPUT_FILE_PATH = \"LEAVE POLICY v9.pdf\"\n",
        "PICKLE_FILENAME = \"leave_policy.pkl\"\n",
        "IMG_SAVE_DIR = os.path.join(os.getcwd(), \"images\")\n",
        "PICKLE_DIR = os.path.join(os.getcwd(), \"DI_output\")\n",
        "PICKLE_FILE_PATH = os.path.join(PICKLE_DIR, PICKLE_FILENAME)\n",
        "\n",
        "\n",
        "# --- Ensure output directories exist ---\n",
        "os.makedirs(IMG_SAVE_DIR, exist_ok=True)\n",
        "os.makedirs(PICKLE_DIR, exist_ok=True)"
      ]
    },
    {
      "cell_type": "markdown",
      "source": [
        "## Run Document Intelligence"
      ],
      "metadata": {
        "id": "v_e3muPTeBF-"
      }
    },
    {
      "cell_type": "code",
      "source": [
        "# Step 1: Analyze Document Layout\n",
        "md_result = di_utils.analyze_document(INPUT_FILE_PATH, doc_intelligence_key, doc_intelligence_endpoint)\n",
        "\n",
        "# Step 2: Build Span Map\n",
        "span_map = di_utils.extract_span_map(md_result)\n",
        "\n",
        "# Step 3: Process Images and Integrate with Text\n",
        "image_chunks = di_utils.process_images(INPUT_FILE_PATH, IMG_SAVE_DIR, md_result, llm)\n",
        "result_with_image_descp = di_utils.insert_figures_into_full_text(span_map, md_result, image_chunks)\n",
        "\n",
        "# Step 4: Save Intermediate Output\n",
        "di_utils.save_pickle(result_with_image_descp, PICKLE_FILE_PATH)\n",
        "\n",
        "# Step 5: Chunk Document into Parent Docs and Add Metadata\n",
        "final_parents = di_utils.generate_parents(md_result, result_with_image_descp, llm)"
      ],
      "metadata": {
        "colab": {
          "base_uri": "https://localhost:8080/"
        },
        "id": "CYVVFEGXeBc0",
        "outputId": "de569426-7989-4ce0-8c0b-b4492ca276c2"
      },
      "execution_count": 7,
      "outputs": [
        {
          "output_type": "stream",
          "name": "stdout",
          "text": [
            "[INFO] Pickle saved to /content/DI_output/leave_policy.pkl\n",
            "[INFO] Creating parent documents...\n",
            "\n",
            "\n",
            "\n",
            "\n",
            "\n",
            "\n",
            "\n",
            "\n",
            "\n",
            "\n",
            "\n",
            "\n",
            "\n",
            "\n",
            "[INFO] Created 14 parent documents.\n"
          ]
        }
      ]
    },
    {
      "cell_type": "code",
      "source": [
        "display(Markdown(final_parents[6].page_content))\n",
        "\n",
        "print(final_parents[6].metadata)"
      ],
      "metadata": {
        "colab": {
          "base_uri": "https://localhost:8080/",
          "height": 402
        },
        "id": "1td1PuXdcUvG",
        "outputId": "6984f541-2edd-400d-f8d2-3d2dc17b22df"
      },
      "execution_count": 4,
      "outputs": [
        {
          "output_type": "display_data",
          "data": {
            "text/plain": [
              "<IPython.core.display.Markdown object>"
            ],
            "text/markdown": "##1.2 Sick Leave\n\n Objective & Eligibility  \nTo give associates time off to recover and recuperate in the event of illness or accidents.\nAll internal associates are eligible for this policy.  \n### Procedures and Conditions  \n☐\nThe company may, at its discretion, grant sick leave to an associate, based on the\nnature of sickness.\n☐  \n[ In case of absence beyond 3 days, the associate is required to submit a medical\ncertificate.  \n[ In case where absence is likely to be prolonged beyond 3 days, the likely duration of\n☐  \nabsence along with the doctor's certificate certifying the same should be submitted.  \n[ Any sick leave in excess of 30 continuous days will require the approval of the division\n☐  \nmanagement team. The management team will review the case and may at its\ndiscretion approve additional sick leave with pay or without pay (Loss of Pay - LOP).  \n[ The company may request the associate to undergo a medical examination by a\n☐  \nnominated medical practitioner if felt necessary.\n☐\nSick leaves can neither be accumulated nor encashed nor carried forward to the next\nyear.  \n<!-- PageFooter=\"Novartis Hyderabad Business use only\" -->\n<!-- PageFooter=\"Back to Contents\" -->\n<!-- PageNumber=\"Page 3 of 7\" -->\n<!-- PageBreak -->  \n### 1.3 Parental Leave  \nBoth Birthing mother and Non-birthing parent are eligible for Parental Leave of 26 weeks\nfollowing the birth, surrogacy or adoption of a child.  \nAssociates must avail the Parental Leave within one year of child's birth/surrogacy/adoption.\nAny Parental Leave that is not used within one year of a covered life event will be forfeited\nand will not be financially compensated, or carried forward. For details, refer to the policy\ndocument - Parental Leave Policy - India"
          },
          "metadata": {}
        },
        {
          "output_type": "stream",
          "name": "stdout",
          "text": [
            "{'Header 1': 'Encashment', 'Header 2': '1.2 Sick Leave', 'page_number': 3, 'custom_metadata': '1.2 Sick Leave'}\n"
          ]
        }
      ]
    }
  ]
}